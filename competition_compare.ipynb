{
  "cells": [
    {
      "cell_type": "markdown",
      "metadata": {
        "id": "view-in-github",
        "colab_type": "text"
      },
      "source": [
        "<a href=\"https://colab.research.google.com/github/BuddGao/DL-Competition/blob/main/competition_compare.ipynb\" target=\"_parent\"><img src=\"https://colab.research.google.com/assets/colab-badge.svg\" alt=\"Open In Colab\"/></a>"
      ]
    },
    {
      "cell_type": "markdown",
      "metadata": {
        "id": "ihsR_ew8QNCr"
      },
      "source": [
        "#COVID-19 Prediction"
      ]
    },
    {
      "cell_type": "code",
      "execution_count": 1,
      "metadata": {
        "colab": {
          "base_uri": "https://localhost:8080/"
        },
        "id": "_Ycwr5g60RUs",
        "outputId": "c8f8aa7b-d387-46da-96e0-d3fa605849da"
      },
      "outputs": [
        {
          "output_type": "stream",
          "name": "stdout",
          "text": [
            "Drive already mounted at /content/drive; to attempt to forcibly remount, call drive.mount(\"/content/drive\", force_remount=True).\n"
          ]
        }
      ],
      "source": [
        "## mount google drive\n",
        "from google.colab import drive\n",
        "drive.mount('/content/drive')"
      ]
    },
    {
      "cell_type": "code",
      "execution_count": 2,
      "metadata": {
        "id": "KOZCN2EusO5_"
      },
      "outputs": [],
      "source": [
        "## if you haven't unzipped training data\n",
        "#!unzip \"drive/MyDrive/DL_Project/Train.zip\" -d  \"drive/MyDrive/DL_Project/\"\n",
        "\n",
        "## if you haven't unzipped val data\n",
        "#!unzip \"drive/MyDrive/DL_Project/Val Blind.zip\" -d  \"drive/MyDrive/DL_Project/\""
      ]
    },
    {
      "cell_type": "markdown",
      "metadata": {
        "id": "gFBUy1lBQIM5"
      },
      "source": [
        "## Custom Dataset Class"
      ]
    },
    {
      "cell_type": "code",
      "execution_count": 3,
      "metadata": {
        "id": "TckWJ9O4sVJT"
      },
      "outputs": [],
      "source": [
        "## preprocess data\n",
        "## create custom data class\n",
        "\n",
        "import os\n",
        "import torch\n",
        "import pandas as pd\n",
        "from skimage import io, transform\n",
        "\n",
        "import numpy as np\n",
        "import matplotlib.pyplot as plt\n",
        "from torch.utils.data import Dataset, DataLoader\n",
        "from torchvision import transforms, utils\n",
        "import cv2\n",
        "from PIL import Image\n",
        "import glob\n",
        "\n",
        "class CovidDataset(Dataset):\n",
        "    \"\"\"Covid CT dataset.\"\"\"\n",
        "\n",
        "    def __init__(self, csv_file, root_dir, transform=None):\n",
        "        \"\"\"\n",
        "        Args:\n",
        "            csv_file (string): Path to the csv file with annotations.\n",
        "            root_dir (string): Directory with all the images.\n",
        "            transform (callable, optional): Optional transform to be applied\n",
        "                on a sample.\n",
        "        \"\"\"\n",
        "        self.label_data = pd.read_csv(csv_file)\n",
        "        self.root_dir = root_dir\n",
        "        ## you can apply custom transformation on the image for data augmentation\n",
        "        self.transform = transform\n",
        "\n",
        "    def __len__(self):\n",
        "        return len(self.label_data)\n",
        "\n",
        "    def __getitem__(self, idx):\n",
        "        if torch.is_tensor(idx):\n",
        "            idx = idx.tolist()\n",
        "\n",
        "        img_name = os.path.join(self.root_dir, self.label_data.iloc[idx, 0])\n",
        "        image = io.imread(img_name)\n",
        "        image = cv2.cvtColor(image, cv2.COLOR_BGRA2BGR)\n",
        "        image = torchvision.transforms.functional.to_tensor(image)\n",
        "        p = self.label_data.iloc[idx, 1]\n",
        "        subject_num = self.label_data.iloc[idx, 2]\n",
        "        sample = {'image': image, 'percentage': p, 'subject': subject_num, 'img_name':img_name}\n",
        "\n",
        "        # should be only applied on image, not percentage or subject #\n",
        "        if self.transform:\n",
        "            sample = self.transform(sample)\n",
        "\n",
        "        return sample"
      ]
    },
    {
      "cell_type": "code",
      "execution_count": 4,
      "metadata": {
        "id": "Z0hPdBQZ3DLE"
      },
      "outputs": [],
      "source": [
        "class CovidTestDataset(Dataset):\n",
        "    \"\"\"Covid CT TEST dataset.\"\"\"\n",
        "\n",
        "    def __init__(self, root_dir, transform=None):\n",
        "        \"\"\"\n",
        "        Args:\n",
        "            root_dir (string): Directory with all the images.\n",
        "            transform (callable, optional): Optional transform to be applied\n",
        "                on a sample.\n",
        "        \"\"\"\n",
        "        self.root_dir = root_dir\n",
        "        self.image_list = []\n",
        "        for filename in glob.glob(self.root_dir+\"/*.png\"): #assuming png\n",
        "          self.image_list.append(filename)\n",
        "\n",
        "    def __len__(self):\n",
        "        return len(self.image_list)\n",
        "\n",
        "    def __getitem__(self, idx):\n",
        "        if torch.is_tensor(idx):\n",
        "            idx = idx.tolist()\n",
        "\n",
        "        img_name = self.image_list[idx]\n",
        "        image = io.imread(img_name)\n",
        "        image = cv2.cvtColor(image, cv2.COLOR_BGRA2BGR)\n",
        "        image = torchvision.transforms.functional.to_tensor(image)\n",
        "        sample = {'image': image, 'img_name':img_name}\n",
        "\n",
        "        return sample"
      ]
    },
    {
      "cell_type": "code",
      "execution_count": 5,
      "metadata": {
        "id": "DmV47ZBJy1Nv"
      },
      "outputs": [],
      "source": [
        "import torchvision\n",
        "covid_dataset_train_val = CovidDataset(csv_file='drive/MyDrive/DL_Project/Train.csv',\n",
        "                                    root_dir='drive/MyDrive/DL_Project/Train'\n",
        "                                    #, transform = transforms.Compose([\n",
        "                                    #           Rescale(256),\n",
        "                                    #           RandomCrop(224),\n",
        "                                    #           ToTensor()\n",
        "                                    #       ])\n",
        "                                    )\n",
        "\n",
        "covid_dataset_test = CovidTestDataset(root_dir='drive/MyDrive/DL_Project/Val')"
      ]
    },
    {
      "cell_type": "code",
      "execution_count": 6,
      "metadata": {
        "colab": {
          "base_uri": "https://localhost:8080/",
          "height": 191
        },
        "id": "rJg-KZXP1AcI",
        "outputId": "c8a7e7c3-e1ed-4142-969e-424e1f23401a"
      },
      "outputs": [
        {
          "output_type": "stream",
          "name": "stdout",
          "text": [
            "0 torch.Size([3, 512, 512]) 0.0 0\n",
            "1 torch.Size([3, 512, 512]) 0.0 0\n",
            "2 torch.Size([3, 512, 512]) 0.0 0\n",
            "3 torch.Size([3, 512, 512]) 0.0 0\n"
          ]
        },
        {
          "output_type": "display_data",
          "data": {
            "text/plain": [
              "<Figure size 432x288 with 4 Axes>"
            ],
            "image/png": "[encoded data removed]"
          },
          "metadata": {
            "needs_background": "light"
          }
        }
      ],
      "source": [
        "## plot training example\n",
        "for i in range(len(covid_dataset_train_val)):\n",
        "    sample = covid_dataset_train_val[i]\n",
        "    print(i, sample['image'].shape, sample['percentage'], sample['subject'])\n",
        "    ax = plt.subplot(1, 4, i + 1)\n",
        "    plt.tight_layout()\n",
        "    ax.set_title('Sample #{}'.format(i))\n",
        "    ax.axis('off')\n",
        "    plt.imshow(sample['image'].numpy().transpose(1,2,0))\n",
        "    if i == 3:\n",
        "        plt.show()\n",
        "        break"
      ]
    },
    {
      "cell_type": "code",
      "execution_count": 7,
      "metadata": {
        "colab": {
          "base_uri": "https://localhost:8080/",
          "height": 191
        },
        "id": "YuAZNhAB1BXs",
        "outputId": "5db927b1-158d-4369-e836-18d5472ae45f"
      },
      "outputs": [
        {
          "output_type": "stream",
          "name": "stdout",
          "text": [
            "0 torch.Size([3, 512, 512]) drive/MyDrive/DL_Project/Val/Image_0304.png\n",
            "1 torch.Size([3, 512, 512]) drive/MyDrive/DL_Project/Val/Image_0301.png\n",
            "2 torch.Size([3, 512, 512]) drive/MyDrive/DL_Project/Val/Image_0302.png\n",
            "3 torch.Size([3, 512, 512]) drive/MyDrive/DL_Project/Val/Image_0303.png\n"
          ]
        },
        {
          "output_type": "display_data",
          "data": {
            "text/plain": [
              "<Figure size 432x288 with 4 Axes>"
            ],
            "image/png": "[encoded data removed]"
          },
          "metadata": {
            "needs_background": "light"
          }
        }
      ],
      "source": [
        "## plot test examples\n",
        "for i in range(len(covid_dataset_test)):\n",
        "    sample = covid_dataset_test[i]\n",
        "    print(i, sample['image'].shape, sample['img_name'])\n",
        "    ax = plt.subplot(1, 4, i + 1)\n",
        "    plt.tight_layout()\n",
        "    ax.set_title('Sample #{}'.format(i))\n",
        "    ax.axis('off')\n",
        "    plt.imshow(sample['image'].numpy().transpose(1,2,0))\n",
        "    if i == 3:\n",
        "        plt.show()\n",
        "        break"
      ]
    },
    {
      "cell_type": "markdown",
      "metadata": {
        "id": "ZV7i3Ov9REFZ"
      },
      "source": [
        "##Split given train set to train & val set"
      ]
    },
    {
      "cell_type": "code",
      "execution_count": 8,
      "metadata": {
        "colab": {
          "base_uri": "https://localhost:8080/"
        },
        "id": "EiA6ycQE1wXu",
        "outputId": "1ac41dd2-e729-4d5f-926a-43cfd8c63f36"
      },
      "outputs": [
        {
          "output_type": "stream",
          "name": "stdout",
          "text": [
            "3053\n",
            "2137 916\n"
          ]
        }
      ],
      "source": [
        "## split given train set to train & val set\n",
        "\n",
        "#dataloader = DataLoader(covid_dataset, batch_size=4, shuffle=True, num_workers=0)\n",
        "print(len(covid_dataset_train_val))\n",
        "train_size = int(0.7 * len(covid_dataset_train_val))\n",
        "val_size = len(covid_dataset_train_val) - train_size\n",
        "print(train_size, val_size)\n",
        "train_dataset, val_dataset = torch.utils.data.random_split(covid_dataset_train_val, [train_size, val_size])\n",
        "train_dataloader = DataLoader(train_dataset, batch_size=8, shuffle=True, num_workers=0)\n",
        "val_dataloader = DataLoader(val_dataset, batch_size=8, shuffle=True, num_workers=0)\n",
        "\n",
        "## test set\n",
        "test_dataloader = DataLoader(covid_dataset_test, batch_size=8, shuffle=True, num_workers=0)"
      ]
    },
    {
      "cell_type": "markdown",
      "metadata": {
        "id": "ewm9OtFoMA2r"
      },
      "source": [
        "### Apply CV"
      ]
    },
    {
      "cell_type": "code",
      "execution_count": 9,
      "metadata": {
        "id": "mNH8GIIsLtgR"
      },
      "outputs": [],
      "source": [
        "from sklearn.model_selection import GridSearchCV, cross_validate\n",
        "from sklearn.model_selection import KFold\n",
        "\n",
        "# generate the index of subjects for k-fold cross validation\n",
        "def generate_index(dat,k):\n",
        "    \n",
        "    Y = list(range(0,dat[-1]['subject']+1))\n",
        "    kf = KFold(n_splits=k, shuffle=True)\n",
        "\n",
        "    n = len(Y)\n",
        "    index = {'train_index':[],\n",
        "             'val_index':[]}\n",
        "\n",
        "    for train_index, val_index in kf.split(np.zeros(n), Y):\n",
        "        index['train_index'].append(train_index)\n",
        "        index['val_index'].append(val_index)\n",
        "        \n",
        "    \n",
        "    return pd.DataFrame(index['train_index']).T,pd.DataFrame(index['val_index']).T"
      ]
    },
    {
      "cell_type": "code",
      "execution_count": 10,
      "metadata": {
        "id": "2QE_lq53MEg0"
      },
      "outputs": [],
      "source": [
        "# get links form subjects to images\n",
        "df = pd.read_csv('drive/MyDrive/DL_Project/Train.csv')\n",
        "subtoimage = []\n",
        "le = []\n",
        "for sub in range(0,covid_dataset_train_val[-1]['subject']+1):\n",
        "  subtoimage.append(df[df['0'] == sub].index.tolist())\n",
        "  le.append(len(df[df['0'] == sub].index.tolist()))"
      ]
    },
    {
      "cell_type": "code",
      "execution_count": 11,
      "metadata": {
        "id": "PrNBeIwwMIVm"
      },
      "outputs": [],
      "source": [
        "# get images' index form subjects' index\n",
        "def get_image_index(subindex,subtoimage):\n",
        "    imageindex = []\n",
        "    for sub in range(0,len(subindex)):\n",
        "        imageindex.extend(subtoimage[subindex[sub]])\n",
        "    return imageindex"
      ]
    },
    {
      "cell_type": "code",
      "execution_count": 45,
      "metadata": {
        "id": "FzNT_ZV0M2WU"
      },
      "outputs": [],
      "source": [
        "# from typing import NewType\n",
        "def cv_train(pars, k=4, dir='drive/MyDrive/DL_Project/CV/',n_epochs=20):\n",
        "  train_index,val_index = generate_index(covid_dataset_train_val,k)\n",
        "  model_cv = []\n",
        "  valid_cvloss = []\n",
        "  valid_cvloss_trend = []\n",
        "  for split_i in range(0,k):\n",
        "    print('CV - Fold ', split_i)\n",
        "    fold_dir = dir + str(split_i) + '/'\n",
        "\n",
        "    if not os.path.isdir(fold_dir):\n",
        "      os.makedirs(fold_dir)\n",
        "      print(\"created folder : \", fold_dir)\n",
        "    else:\n",
        "      print(fold_dir, \"folder already exists.\")\n",
        "\n",
        "    model, cri, lr = pars\n",
        "    freeze_stat = True\n",
        "    model_CNN = model(pretrained=True,freeze=freeze_stat).to(device)\n",
        "    criterion = cri\n",
        "    model_CNN_grad_paramaters = filter(lambda p: p.requires_grad, model_CNN.parameters())\n",
        "    optimizer = optim.Adam(model_CNN_grad_paramaters, lr=lr)\n",
        "\n",
        "    ## split given train set to train & val set by subjects\n",
        "    train_imageindex = get_image_index(train_index.iloc[:,split_i],subtoimage)\n",
        "    val_imageindex = get_image_index(val_index.iloc[:,split_i],subtoimage)\n",
        "    train_dataset = torch.utils.data.Subset(covid_dataset_train_val,train_imageindex)\n",
        "    val_dataset = torch.utils.data.Subset(covid_dataset_train_val,val_imageindex)\n",
        "    train_dataloader = DataLoader(train_dataset, batch_size=8, shuffle=True, num_workers=0)\n",
        "    val_dataloader = DataLoader(val_dataset, batch_size=8, shuffle=True, num_workers=0)\n",
        "\n",
        "    ## training model\n",
        "    model_conv, valid_loss_min, valid_loss_trend = train_model(model_CNN, criterion, optimizer,train_dataloader,val_dataloader, dir=fold_dir,n_epochs=n_epochs)\n",
        "\n",
        "    model_cv.append(model_conv)\n",
        "    valid_cvloss.append(valid_loss_min)\n",
        "    valid_cvloss_trend.append(valid_loss_trend)\n",
        "  \n",
        "  print('----------------------Final CV loss: %.6f -----------------------' % torch.stack(valid_cvloss).cpu().data.mean() )\n",
        "  \n",
        "  return model_cv, valid_cvloss, valid_cvloss_trend"
      ]
    },
    {
      "cell_type": "markdown",
      "metadata": {
        "id": "OClBrnNnRK_t"
      },
      "source": [
        "## Import pretrained models library"
      ]
    },
    {
      "cell_type": "code",
      "execution_count": 13,
      "metadata": {
        "colab": {
          "base_uri": "https://localhost:8080/"
        },
        "id": "sIQiUJcyvJ1y",
        "outputId": "ff8123a3-83b7-4969-e287-f495c3b698e1"
      },
      "outputs": [
        {
          "output_type": "stream",
          "name": "stdout",
          "text": [
            "Requirement already satisfied: pretrainedmodels in /usr/local/lib/python3.7/dist-packages (0.7.4)\n",
            "Requirement already satisfied: torchvision in /usr/local/lib/python3.7/dist-packages (from pretrainedmodels) (0.11.1+cu111)\n",
            "Requirement already satisfied: torch in /usr/local/lib/python3.7/dist-packages (from pretrainedmodels) (1.10.0+cu111)\n",
            "Requirement already satisfied: tqdm in /usr/local/lib/python3.7/dist-packages (from pretrainedmodels) (4.63.0)\n",
            "Requirement already satisfied: munch in /usr/local/lib/python3.7/dist-packages (from pretrainedmodels) (2.5.0)\n",
            "Requirement already satisfied: six in /usr/local/lib/python3.7/dist-packages (from munch->pretrainedmodels) (1.15.0)\n",
            "Requirement already satisfied: typing-extensions in /usr/local/lib/python3.7/dist-packages (from torch->pretrainedmodels) (3.10.0.2)\n",
            "Requirement already satisfied: pillow!=8.3.0,>=5.3.0 in /usr/local/lib/python3.7/dist-packages (from torchvision->pretrainedmodels) (7.1.2)\n",
            "Requirement already satisfied: numpy in /usr/local/lib/python3.7/dist-packages (from torchvision->pretrainedmodels) (1.21.5)\n"
          ]
        }
      ],
      "source": [
        "## use imagenet pretrained model\n",
        "## let's start with resnet34\n",
        "!pip install pretrainedmodels"
      ]
    },
    {
      "cell_type": "code",
      "source": [
        "# pretrainedmodels.__dict__"
      ],
      "metadata": {
        "colab": {
          "base_uri": "https://localhost:8080/",
          "height": 166
        },
        "id": "-GdB8pZLqNe1",
        "outputId": "1f151bef-df32-4e39-cd33-b371f3ea1c02"
      },
      "execution_count": 14,
      "outputs": [
        {
          "output_type": "error",
          "ename": "NameError",
          "evalue": "ignored",
          "traceback": [
            "\u001b[0;31m---------------------------------------------------------------------------\u001b[0m",
            "\u001b[0;31mNameError\u001b[0m                                 Traceback (most recent call last)",
            "\u001b[0;32m<ipython-input-14-ca0483ad6f6f>\u001b[0m in \u001b[0;36m<module>\u001b[0;34m()\u001b[0m\n\u001b[0;32m----> 1\u001b[0;31m \u001b[0mpretrainedmodels\u001b[0m\u001b[0;34m.\u001b[0m\u001b[0m__dict__\u001b[0m\u001b[0;34m\u001b[0m\u001b[0;34m\u001b[0m\u001b[0m\n\u001b[0m",
            "\u001b[0;31mNameError\u001b[0m: name 'pretrainedmodels' is not defined"
          ]
        }
      ]
    },
    {
      "cell_type": "markdown",
      "metadata": {
        "id": "NJTMiALSRRHC"
      },
      "source": [
        "## Use CUDA to speed up training"
      ]
    },
    {
      "cell_type": "code",
      "execution_count": 15,
      "metadata": {
        "colab": {
          "base_uri": "https://localhost:8080/"
        },
        "id": "1BT-6cVxs_iT",
        "outputId": "3dff4baa-cfb9-480a-a231-1ff8f5a417ae"
      },
      "outputs": [
        {
          "output_type": "stream",
          "name": "stdout",
          "text": [
            "cuda:0\n"
          ]
        }
      ],
      "source": [
        "device = torch.device(\"cuda:0\" if torch.cuda.is_available() else \"cpu\")\n",
        "print(device)"
      ]
    },
    {
      "cell_type": "markdown",
      "metadata": {
        "id": "wqPiUx1XRbIL"
      },
      "source": [
        "## Create Baseline Model"
      ]
    },
    {
      "cell_type": "code",
      "execution_count": 16,
      "metadata": {
        "id": "6DIFuG0hvZn7"
      },
      "outputs": [],
      "source": [
        "import pretrainedmodels\n",
        "#For model building\n",
        "import torch\n",
        "from torch import nn, optim\n",
        "import torchvision\n",
        "from torch.nn import functional as F\n",
        "\n",
        "class CNN1(nn.Module):\n",
        "    def __init__(self, pretrained=True,freeze=True):\n",
        "        super(CNN1, self).__init__()\n",
        "        if pretrained is True:\n",
        "            self.model = pretrainedmodels.__dict__[\"resnet34\"](pretrained=\"imagenet\")\n",
        "        else:\n",
        "            self.model = pretrainedmodels.__dict__[\"resnet34\"](pretrained=None)\n",
        "        if freeze is True:\n",
        "            for param in self.model.parameters():\n",
        "                param.requires_grad = False\n",
        "        #self.fc1 = nn.Linear(512, 256)\n",
        "        self.conv1 = nn.Conv2d(512, 128, (5,5), stride=1, padding =0)\n",
        "        self.conv2 = nn.Conv2d(128, 32, (5,5), stride=1, padding =0)\n",
        "        self.dropout = nn.Dropout(p=0.5)\n",
        "        self.conv3 = nn.Conv2d(32, 8, (5,5), stride=1, padding =0)\n",
        "        self.fc1 = nn.Linear(128, 1)\n",
        "        \n",
        "    def forward(self, x):\n",
        "        bs, _, _, _ = x.shape\n",
        "        x = self.model.features(x)\n",
        "        #x = F.adaptive_avg_pool2d(x) #.reshape(bs, -1)\n",
        "        #x = F.relu(self.fc1(x))\n",
        "        x = self.conv1(x)\n",
        "        x = self.conv2(x)\n",
        "        x = self.dropout(x)\n",
        "        x = self.conv3(F.relu(x))\n",
        "        #print(x.size()) # [8, 8, 4, 4]\n",
        "        label = self.fc1(x.reshape(bs, -1))  # [8, 128]\n",
        "        return label"
      ]
    },
    {
      "cell_type": "code",
      "execution_count": 17,
      "metadata": {
        "id": "9iwJs3cZFG0y"
      },
      "outputs": [],
      "source": [
        "class CNN2(nn.Module):\n",
        "    def __init__(self, pretrained=True,freeze=True):\n",
        "        super(CNN2, self).__init__()\n",
        "        if pretrained is True:\n",
        "            self.model = pretrainedmodels.__dict__[\"resnet18\"](pretrained=\"imagenet\")\n",
        "        else:\n",
        "            self.model = pretrainedmodels.__dict__[\"resnet18\"](pretrained=None)\n",
        "        if freeze is True:\n",
        "            for param in self.model.parameters():\n",
        "                param.requires_grad = False\n",
        "        #self.fc1 = nn.Linear(512, 256)\n",
        "        self.conv1 = nn.Conv2d(512, 128, (5,5), stride=1, padding =0)\n",
        "        self.conv2 = nn.Conv2d(128, 32, (5,5), stride=1, padding =0)\n",
        "        self.dropout = nn.Dropout(p=0.5)\n",
        "        self.conv3 = nn.Conv2d(32, 8, (5,5), stride=1, padding =0)\n",
        "        self.fc1 = nn.Linear(128, 1)\n",
        "        \n",
        "    def forward(self, x):\n",
        "        bs, _, _, _ = x.shape\n",
        "        x = self.model.features(x)\n",
        "        #x = F.adaptive_avg_pool2d(x) #.reshape(bs, -1)\n",
        "        #x = F.relu(self.fc1(x))\n",
        "        x = self.conv1(x)\n",
        "        x = self.conv2(x)\n",
        "        x = self.dropout(x)\n",
        "        x = self.conv3(F.relu(x))\n",
        "        #print(x.size()) # [8, 8, 4, 4]\n",
        "        label = self.fc1(x.reshape(bs, -1))  # [8, 128]\n",
        "        return label"
      ]
    },
    {
      "cell_type": "code",
      "source": [
        "# reference: https://github.com/mr7495/COVID-CT-Code/blob/master/COVID_Train%26Validation.ipynb\n",
        "class CNN3(nn.Module):\n",
        "    def __init__(self, pretrained=True,freeze=True):\n",
        "        super(CNN3, self).__init__()\n",
        "        if pretrained is True:\n",
        "            self.model = pretrainedmodels.__dict__[\"resnet50\"](pretrained=\"imagenet\")\n",
        "        else:\n",
        "            self.model = pretrainedmodels.__dict__[\"resnet50\"](pretrained=None)\n",
        "        if freeze is True:\n",
        "            for param in self.model.parameters():\n",
        "                param.requires_grad = False\n",
        "        #self.fc1 = nn.Linear(512, 256)\n",
        "        self.conv1 = nn.Conv2d(512, 128, (5,5), stride=1, padding =0)\n",
        "        self.conv2 = nn.Conv2d(128, 32, (5,5), stride=1, padding =0)\n",
        "        self.dropout = nn.Dropout(p=0.5)\n",
        "        self.conv3 = nn.Conv2d(32, 8, (5,5), stride=1, padding =0)\n",
        "        self.fc1 = nn.Linear(128, 16)\n",
        "        self.fc2 = nn.Linear(16, 8)\n",
        "        self.fc3 = nn.Linear(8, 1)\n",
        "        \n",
        "    def forward(self, x):\n",
        "        bs, _, _, _ = x.shape\n",
        "        x = self.model.features(x)\n",
        "        #x = F.adaptive_avg_pool2d(x) #.reshape(bs, -1)\n",
        "        #x = F.relu(self.fc1(x))\n",
        "        x = self.conv1(x)\n",
        "        x = self.conv2(x)\n",
        "        x = self.dropout(x)\n",
        "        x = self.conv3(F.relu(x))\n",
        "        # print(x.size()) # [8, 8, 4, 4]\n",
        "        label = self.fc1(x.reshape(bs, -1))  # [8, 128]\n",
        "        label = self.fc2(label)\n",
        "        label = self.fc3(label)\n",
        "        return label"
      ],
      "metadata": {
        "id": "ZRerv97G3wWU"
      },
      "execution_count": 18,
      "outputs": []
    },
    {
      "cell_type": "code",
      "source": [
        "# reference: https://towardsdatascience.com/using-pretrained-deep-convolutional-neural-networks-for-binary-classification-of-covid-19-ct-scans-3a7f7ea8b543\n",
        "class CNN5(nn.Module):\n",
        "    def __init__(self, pretrained=True, freeze=True):\n",
        "        super(CNN5, self).__init__()\n",
        "        if pretrained is True:\n",
        "            self.model = pretrainedmodels.__dict__[\"vgg16\"](pretrained=\"imagenet\")\n",
        "        else:\n",
        "            self.model = pretrainedmodels.__dict__[\"vgg16\"](pretrained=None)\n",
        "        if freeze is True:\n",
        "            for param in self.model.parameters():\n",
        "                param.requires_grad = False\n",
        "        self.fc1 = nn.Linear(131072, 512)\n",
        "        self.activation1 = nn.ReLU()\n",
        "        self.dropout1 = nn.Dropout()\n",
        "        self.fc2 = nn.Linear(512, 256)\n",
        "        self.activation2 = nn.ReLU()\n",
        "        self.dropout2 = nn.Dropout()\n",
        "        self.fc3 = nn.Linear(256, 128)\n",
        "        self.activation3 = nn.ReLU()\n",
        "        self.dropout3 = nn.Dropout()\n",
        "        self.fc4 = nn.Linear(128, 1)\n",
        "        \n",
        "    def forward(self, x):\n",
        "        bs, _, _, _ = x.shape\n",
        "        # print(x.size(0))\n",
        "        x = self.model._features(x)\n",
        "        x = self.fc1(x.reshape(bs,-1))\n",
        "        x = self.activation1(x)\n",
        "        x = self.dropout1(x)\n",
        "        x = self.fc2(x)\n",
        "        x = self.activation2(x)\n",
        "        x = self.dropout2(x)\n",
        "        x = self.fc3(x)\n",
        "        x = self.activation3(x)\n",
        "        x = self.dropout3(x)\n",
        "        label = self.fc4(x)\n",
        "        return label"
      ],
      "metadata": {
        "id": "82Lv66KO3Xte"
      },
      "execution_count": 46,
      "outputs": []
    },
    {
      "cell_type": "code",
      "execution_count": null,
      "metadata": {
        "id": "ufc5DuRU_8VO"
      },
      "outputs": [],
      "source": [
        "# #Setting model and moving to device\n",
        "# model_CNN = CNN1(True).to(device)\n",
        "\n",
        "# criterion = nn.L1Loss()\n",
        "# #optimizer = optim.SGD(model_CNN.parameters(), lr=0.001, momentum=0.9)\n",
        "# optimizer = optim.Adam(model_CNN.parameters(), lr=0.001)"
      ]
    },
    {
      "cell_type": "code",
      "execution_count": 47,
      "metadata": {
        "id": "O42uOYtUAK2D"
      },
      "outputs": [],
      "source": [
        "def train_model(model, criterion, optimizer, train_dataloader, val_dataloader, dir='drive/MyDrive/DL_Project/', n_epochs=20):\n",
        "    \"\"\"returns trained model\"\"\"\n",
        "    # initialize tracker for minimum validation loss\n",
        "    valid_loss_min = np.Inf\n",
        "    model_best = model\n",
        "    valid_loss_trend = []\n",
        "    for epoch in range(1, n_epochs+1):\n",
        "        train_loss = 0.0\n",
        "        valid_loss = 0.0\n",
        "        # train the model #\n",
        "        model.train()\n",
        "        for batch_idx, sample_batched in enumerate(train_dataloader):\n",
        "            # importing data and moving to GPU\n",
        "            image, label = sample_batched['image'].to(device), sample_batched['percentage'].to(device)\n",
        "            # zero the parameter gradients\n",
        "            optimizer.zero_grad()\n",
        "            output=model(image).reshape(-1)\n",
        "            # calculate loss\n",
        "            loss = criterion((output).type(torch.FloatTensor).to(device), label.type(torch.FloatTensor).to(device))\n",
        "            # back prop\n",
        "            loss.backward()\n",
        "            # grad\n",
        "            optimizer.step()\n",
        "            train_loss = train_loss + ((1 / (batch_idx + 1)) * (loss.data - train_loss))\n",
        "            if batch_idx % 100 == 0:\n",
        "                print('Epoch %d, Batch %d loss: %.6f' %\n",
        "                  (epoch, batch_idx + 1, train_loss))\n",
        "        # validate the model #\n",
        "        model.eval()\n",
        "        for batch_idx, sample_batched in enumerate(val_dataloader):\n",
        "            image, label = sample_batched['image'].to(device), sample_batched['percentage'].to(device)  \n",
        "            output = model(image).reshape(-1)\n",
        "            # calculate loss\n",
        "            loss=criterion((output).type(torch.FloatTensor).to(device), label.type(torch.FloatTensor).to(device))\n",
        "            valid_loss = valid_loss + ((1 / (batch_idx + 1)) * (loss.data - valid_loss))\n",
        "        \n",
        "        # print training/validation statistics \n",
        "        print('Epoch: {} \\tTraining Loss: {:.6f} \\tValidation Loss: {:.6f}'.format(\n",
        "            epoch, train_loss, valid_loss))\n",
        "        \n",
        "        valid_loss_trend.append(valid_loss)\n",
        "        \n",
        "        ## TODO: save the model if validation loss has decreased\n",
        "        if valid_loss < valid_loss_min:\n",
        "            model_best = model\n",
        "            model_dir = dir+'model.pth'\n",
        "            torch.save(model.state_dict(), model_dir)\n",
        "            print('Validation loss decreased ({:.6f} --> {:.6f}).  Saving model ...'.format(\n",
        "            valid_loss_min,\n",
        "            valid_loss))\n",
        "            valid_loss_min = valid_loss\n",
        "    # return trained model\n",
        "    return model_best, valid_loss_min, valid_loss_trend"
      ]
    },
    {
      "cell_type": "code",
      "execution_count": null,
      "metadata": {
        "colab": {
          "base_uri": "https://localhost:8080/"
        },
        "id": "pRcDzZQnAScu",
        "outputId": "dd8072eb-ba16-4204-911e-9516ef959b96"
      },
      "outputs": [
        {
          "name": "stdout",
          "output_type": "stream",
          "text": [
            "Epoch 1, Batch 1 loss: 21.712528\n",
            "Epoch 1, Batch 101 loss: 16.760157\n",
            "Epoch 1, Batch 201 loss: 16.776489\n",
            "Epoch: 1 \tTraining Loss: 16.562979 \tValidation Loss: 11.527080\n",
            "Validation loss decreased (inf --> 11.527080).  Saving model ...\n",
            "Epoch 2, Batch 1 loss: 10.159554\n",
            "Epoch 2, Batch 101 loss: 15.799936\n",
            "Epoch 2, Batch 201 loss: 16.966635\n",
            "Epoch: 2 \tTraining Loss: 17.421907 \tValidation Loss: 16.141975\n",
            "Epoch 3, Batch 1 loss: 15.116158\n",
            "Epoch 3, Batch 101 loss: 18.369511\n",
            "Epoch 3, Batch 201 loss: 17.771641\n",
            "Epoch: 3 \tTraining Loss: 17.627211 \tValidation Loss: 15.422436\n",
            "Epoch 4, Batch 1 loss: 10.561356\n",
            "Epoch 4, Batch 101 loss: 17.873190\n",
            "Epoch 4, Batch 201 loss: 17.100725\n",
            "Epoch: 4 \tTraining Loss: 17.109127 \tValidation Loss: 15.190863\n",
            "Epoch 5, Batch 1 loss: 8.750000\n",
            "Epoch 5, Batch 101 loss: 16.600185\n",
            "Epoch 5, Batch 201 loss: 16.903311\n",
            "Epoch: 5 \tTraining Loss: 16.881657 \tValidation Loss: 15.188593\n",
            "Epoch 6, Batch 1 loss: 29.100315\n",
            "Epoch 6, Batch 101 loss: 16.285173\n",
            "Epoch 6, Batch 201 loss: 17.072411\n",
            "Epoch: 6 \tTraining Loss: 16.873127 \tValidation Loss: 15.221223\n",
            "Epoch 7, Batch 1 loss: 27.849579\n",
            "Epoch 7, Batch 101 loss: 16.159681\n",
            "Epoch 7, Batch 201 loss: 16.173866\n",
            "Epoch: 7 \tTraining Loss: 16.878363 \tValidation Loss: 15.182606\n",
            "Epoch 8, Batch 1 loss: 31.046204\n",
            "Epoch 8, Batch 101 loss: 17.269720\n",
            "Epoch 8, Batch 201 loss: 16.856998\n",
            "Epoch: 8 \tTraining Loss: 17.141256 \tValidation Loss: 15.243857\n",
            "Epoch 9, Batch 1 loss: 31.504650\n"
          ]
        }
      ],
      "source": [
        "# model_conv=train_model(model_CNN, criterion, optimizer)"
      ]
    },
    {
      "cell_type": "code",
      "execution_count": null,
      "metadata": {
        "id": "0-TDjNZblDCd"
      },
      "outputs": [],
      "source": [
        ""
      ]
    },
    {
      "cell_type": "markdown",
      "metadata": {
        "id": "IJePsT4QUDdh"
      },
      "source": [
        "## Save result on Actual Test Data to csv File"
      ]
    },
    {
      "cell_type": "markdown",
      "source": [
        "#### Classic"
      ],
      "metadata": {
        "id": "xjupKih5mzlq"
      }
    },
    {
      "cell_type": "code",
      "execution_count": 21,
      "metadata": {
        "id": "Jnfu9xdYX7YC"
      },
      "outputs": [],
      "source": [
        "def save_test(model,dir):\n",
        "  test_dataloader = DataLoader(covid_dataset_test, batch_size=8, shuffle=True, num_workers=0)\n",
        "  df = pd.DataFrame(columns=['image_name','output'])\n",
        "  for batch_idx, sample_batched in enumerate(test_dataloader):\n",
        "      image= sample_batched['image'].to(device)\n",
        "      img_name= sample_batched['img_name']\n",
        "      output = model(image).type(torch.LongTensor).reshape(-1)\n",
        "      img_name = np.array(img_name).reshape(output.shape[0],1)\n",
        "      o = output.cpu().data.numpy().reshape(output.shape[0],1)\n",
        "      a = np.concatenate((img_name,o),axis=1)\n",
        "      df = df.append(pd.DataFrame(a, columns=df.columns), ignore_index=True)\n",
        "\n",
        "  #Extracting image name from the image path\n",
        "  df['image_name']=df['image_name'].str.split(\"/\").str[-1]\n",
        "  df = df.sort_values('image_name',ignore_index=True)\n",
        "\n",
        "  file_dir = dir+'predictions.zip'\n",
        "  print(file_dir)\n",
        "  comp_opt = dict(method='zip', archive_name='predictions.csv')\n",
        "  df.to_csv(file_dir, index=False, header=False,compression=comp_opt)\n",
        "  df.head()"
      ]
    },
    {
      "cell_type": "markdown",
      "source": [
        "#### CV"
      ],
      "metadata": {
        "id": "TjV8jsWcm2Y3"
      }
    },
    {
      "cell_type": "code",
      "execution_count": 48,
      "metadata": {
        "id": "w4liD6xDr_m3"
      },
      "outputs": [],
      "source": [
        "def save_test_cv(model,dir):\n",
        "  test_dataloader = DataLoader(covid_dataset_test, batch_size=8, shuffle=True, num_workers=0)\n",
        "  all_df = pd.DataFrame(columns=[])\n",
        "  for fold_idx in range(len(model)):\n",
        "    model_tmp = model[fold_idx]\n",
        "    col_name = 'fold_'+str(fold_idx)\n",
        "    df = pd.DataFrame(columns=['image_name',col_name])\n",
        "    for batch_idx, sample_batched in enumerate(test_dataloader):\n",
        "        image= sample_batched['image'].to(device)\n",
        "        img_name= sample_batched['img_name']\n",
        "        output = model_tmp(image).type(torch.LongTensor).reshape(-1)\n",
        "        img_name = np.array(img_name).reshape(output.shape[0],1)\n",
        "        o = output.cpu().data.numpy().reshape(output.shape[0],1)\n",
        "        a = np.concatenate((img_name,o),axis=1)\n",
        "        df = df.append(pd.DataFrame(a, columns=df.columns), ignore_index=True)\n",
        "    #Extracting image name from the image path\n",
        "    df['image_name']=df['image_name'].str.split(\"/\").str[-1]\n",
        "    df = df.sort_values('image_name',ignore_index=True)\n",
        "    all_df[col_name] = df[col_name].astype(float)\n",
        "  all_df['output'] = all_df.mean(axis=1)\n",
        "  all_df['image_name'] = df['image_name']\n",
        "  res = all_df[['image_name','output']]\n",
        "\n",
        "  file_dir = dir+'predictions.zip'\n",
        "  print(file_dir)\n",
        "  comp_opt = dict(method='zip', archive_name='predictions.csv')\n",
        "  res.to_csv(file_dir, index=False, header=False,compression=comp_opt)\n",
        "  all_df.to_csv(dir+'cv_predictions.csv', index=False, header=False)\n",
        "  all_df.head()"
      ]
    },
    {
      "cell_type": "markdown",
      "metadata": {
        "id": "mIXtwdZ5NHsi"
      },
      "source": [
        "## Model Training and Comparing"
      ]
    },
    {
      "cell_type": "code",
      "execution_count": 52,
      "metadata": {
        "id": "JVB8B6aPNSQt"
      },
      "outputs": [],
      "source": [
        "# #Setting model and moving to device\n",
        "# model_CNN = CNN1(True).to(device)\n",
        "\n",
        "# criterion = nn.L1Loss()\n",
        "# #optimizer = optim.SGD(model_CNN.parameters(), lr=0.001, momentum=0.9)\n",
        "# optimizer = optim.Adam(model_CNN.parameters(), lr=0.001)\n",
        "model_set = [CNN5] # CNN1, CNN2, \n",
        "cri_set = [nn.SmoothL1Loss()] #[nn.L1Loss(),\n",
        "optim_lr = [0.0005] # 0.0001, 0.0005, 0.001, 0.005"
      ]
    },
    {
      "cell_type": "markdown",
      "metadata": {
        "id": "4vLG5ZQBOQTb"
      },
      "source": [
        "#### Classic"
      ]
    },
    {
      "cell_type": "code",
      "execution_count": 37,
      "metadata": {
        "id": "mPYlBVTzOD94",
        "colab": {
          "base_uri": "https://localhost:8080/",
          "height": 450
        },
        "outputId": "888981ea-fb7d-404a-c553-70f8f5322bdd"
      },
      "outputs": [
        {
          "output_type": "stream",
          "name": "stdout",
          "text": [
            "drive/MyDrive/DL_Project/classic_2/0/ folder already exists.\n",
            "0 <class '__main__.CNN1'> SmoothL1Loss() 0.0005 drive/MyDrive/DL_Project/classic_2/0/\n",
            "Epoch 1, Batch 1 loss: 35.551823\n"
          ]
        },
        {
          "output_type": "error",
          "ename": "KeyboardInterrupt",
          "evalue": "ignored",
          "traceback": [
            "\u001b[0;31m---------------------------------------------------------------------------\u001b[0m",
            "\u001b[0;31mKeyboardInterrupt\u001b[0m                         Traceback (most recent call last)",
            "\u001b[0;32m<ipython-input-37-c750c23925e3>\u001b[0m in \u001b[0;36m<module>\u001b[0;34m()\u001b[0m\n\u001b[1;32m     22\u001b[0m     \u001b[0mprint\u001b[0m\u001b[0;34m(\u001b[0m\u001b[0mn\u001b[0m\u001b[0;34m,\u001b[0m\u001b[0mmodel\u001b[0m\u001b[0;34m,\u001b[0m\u001b[0mcri\u001b[0m\u001b[0;34m,\u001b[0m\u001b[0mlr\u001b[0m\u001b[0;34m,\u001b[0m\u001b[0mdir\u001b[0m\u001b[0;34m)\u001b[0m\u001b[0;34m\u001b[0m\u001b[0;34m\u001b[0m\u001b[0m\n\u001b[1;32m     23\u001b[0m \u001b[0;34m\u001b[0m\u001b[0m\n\u001b[0;32m---> 24\u001b[0;31m     \u001b[0mmodel_best\u001b[0m\u001b[0;34m,\u001b[0m \u001b[0mvalid_loss_min\u001b[0m\u001b[0;34m,\u001b[0m \u001b[0mvalid_loss_trend\u001b[0m \u001b[0;34m=\u001b[0m \u001b[0mtrain_model\u001b[0m\u001b[0;34m(\u001b[0m\u001b[0mmodel_CNN\u001b[0m\u001b[0;34m,\u001b[0m \u001b[0mcriterion\u001b[0m\u001b[0;34m,\u001b[0m \u001b[0moptimizer\u001b[0m\u001b[0;34m,\u001b[0m \u001b[0mtrain_dataloader\u001b[0m\u001b[0;34m,\u001b[0m \u001b[0mval_dataloader\u001b[0m\u001b[0;34m,\u001b[0m \u001b[0mdir\u001b[0m\u001b[0;34m,\u001b[0m \u001b[0mn_epochs\u001b[0m\u001b[0;34m=\u001b[0m\u001b[0;36m20\u001b[0m\u001b[0;34m)\u001b[0m\u001b[0;34m\u001b[0m\u001b[0;34m\u001b[0m\u001b[0m\n\u001b[0m\u001b[1;32m     25\u001b[0m \u001b[0;34m\u001b[0m\u001b[0m\n\u001b[1;32m     26\u001b[0m     \u001b[0;31m# ## load best val_model\u001b[0m\u001b[0;34m\u001b[0m\u001b[0;34m\u001b[0m\u001b[0;34m\u001b[0m\u001b[0m\n",
            "\u001b[0;32m<ipython-input-20-527b5ba89c00>\u001b[0m in \u001b[0;36mtrain_model\u001b[0;34m(model, criterion, optimizer, train_dataloader, val_dataloader, dir, n_epochs)\u001b[0m\n\u001b[1;32m     10\u001b[0m         \u001b[0;31m# train the model #\u001b[0m\u001b[0;34m\u001b[0m\u001b[0;34m\u001b[0m\u001b[0;34m\u001b[0m\u001b[0m\n\u001b[1;32m     11\u001b[0m         \u001b[0mmodel\u001b[0m\u001b[0;34m.\u001b[0m\u001b[0mtrain\u001b[0m\u001b[0;34m(\u001b[0m\u001b[0;34m)\u001b[0m\u001b[0;34m\u001b[0m\u001b[0;34m\u001b[0m\u001b[0m\n\u001b[0;32m---> 12\u001b[0;31m         \u001b[0;32mfor\u001b[0m \u001b[0mbatch_idx\u001b[0m\u001b[0;34m,\u001b[0m \u001b[0msample_batched\u001b[0m \u001b[0;32min\u001b[0m \u001b[0menumerate\u001b[0m\u001b[0;34m(\u001b[0m\u001b[0mtrain_dataloader\u001b[0m\u001b[0;34m)\u001b[0m\u001b[0;34m:\u001b[0m\u001b[0;34m\u001b[0m\u001b[0;34m\u001b[0m\u001b[0m\n\u001b[0m\u001b[1;32m     13\u001b[0m             \u001b[0;31m# importing data and moving to GPU\u001b[0m\u001b[0;34m\u001b[0m\u001b[0;34m\u001b[0m\u001b[0;34m\u001b[0m\u001b[0m\n\u001b[1;32m     14\u001b[0m             \u001b[0mimage\u001b[0m\u001b[0;34m,\u001b[0m \u001b[0mlabel\u001b[0m \u001b[0;34m=\u001b[0m \u001b[0msample_batched\u001b[0m\u001b[0;34m[\u001b[0m\u001b[0;34m'image'\u001b[0m\u001b[0;34m]\u001b[0m\u001b[0;34m.\u001b[0m\u001b[0mto\u001b[0m\u001b[0;34m(\u001b[0m\u001b[0mdevice\u001b[0m\u001b[0;34m)\u001b[0m\u001b[0;34m,\u001b[0m \u001b[0msample_batched\u001b[0m\u001b[0;34m[\u001b[0m\u001b[0;34m'percentage'\u001b[0m\u001b[0;34m]\u001b[0m\u001b[0;34m.\u001b[0m\u001b[0mto\u001b[0m\u001b[0;34m(\u001b[0m\u001b[0mdevice\u001b[0m\u001b[0;34m)\u001b[0m\u001b[0;34m\u001b[0m\u001b[0;34m\u001b[0m\u001b[0m\n",
            "\u001b[0;32m/usr/local/lib/python3.7/dist-packages/torch/utils/data/dataloader.py\u001b[0m in \u001b[0;36m__next__\u001b[0;34m(self)\u001b[0m\n\u001b[1;32m    519\u001b[0m             \u001b[0;32mif\u001b[0m \u001b[0mself\u001b[0m\u001b[0;34m.\u001b[0m\u001b[0m_sampler_iter\u001b[0m \u001b[0;32mis\u001b[0m \u001b[0;32mNone\u001b[0m\u001b[0;34m:\u001b[0m\u001b[0;34m\u001b[0m\u001b[0;34m\u001b[0m\u001b[0m\n\u001b[1;32m    520\u001b[0m                 \u001b[0mself\u001b[0m\u001b[0;34m.\u001b[0m\u001b[0m_reset\u001b[0m\u001b[0;34m(\u001b[0m\u001b[0;34m)\u001b[0m\u001b[0;34m\u001b[0m\u001b[0;34m\u001b[0m\u001b[0m\n\u001b[0;32m--> 521\u001b[0;31m             \u001b[0mdata\u001b[0m \u001b[0;34m=\u001b[0m \u001b[0mself\u001b[0m\u001b[0;34m.\u001b[0m\u001b[0m_next_data\u001b[0m\u001b[0;34m(\u001b[0m\u001b[0;34m)\u001b[0m\u001b[0;34m\u001b[0m\u001b[0;34m\u001b[0m\u001b[0m\n\u001b[0m\u001b[1;32m    522\u001b[0m             \u001b[0mself\u001b[0m\u001b[0;34m.\u001b[0m\u001b[0m_num_yielded\u001b[0m \u001b[0;34m+=\u001b[0m \u001b[0;36m1\u001b[0m\u001b[0;34m\u001b[0m\u001b[0;34m\u001b[0m\u001b[0m\n\u001b[1;32m    523\u001b[0m             \u001b[0;32mif\u001b[0m \u001b[0mself\u001b[0m\u001b[0;34m.\u001b[0m\u001b[0m_dataset_kind\u001b[0m \u001b[0;34m==\u001b[0m \u001b[0m_DatasetKind\u001b[0m\u001b[0;34m.\u001b[0m\u001b[0mIterable\u001b[0m \u001b[0;32mand\u001b[0m\u001b[0;31m \u001b[0m\u001b[0;31m\\\u001b[0m\u001b[0;34m\u001b[0m\u001b[0;34m\u001b[0m\u001b[0m\n",
            "\u001b[0;32m/usr/local/lib/python3.7/dist-packages/torch/utils/data/dataloader.py\u001b[0m in \u001b[0;36m_next_data\u001b[0;34m(self)\u001b[0m\n\u001b[1;32m    559\u001b[0m     \u001b[0;32mdef\u001b[0m \u001b[0m_next_data\u001b[0m\u001b[0;34m(\u001b[0m\u001b[0mself\u001b[0m\u001b[0;34m)\u001b[0m\u001b[0;34m:\u001b[0m\u001b[0;34m\u001b[0m\u001b[0;34m\u001b[0m\u001b[0m\n\u001b[1;32m    560\u001b[0m         \u001b[0mindex\u001b[0m \u001b[0;34m=\u001b[0m \u001b[0mself\u001b[0m\u001b[0;34m.\u001b[0m\u001b[0m_next_index\u001b[0m\u001b[0;34m(\u001b[0m\u001b[0;34m)\u001b[0m  \u001b[0;31m# may raise StopIteration\u001b[0m\u001b[0;34m\u001b[0m\u001b[0;34m\u001b[0m\u001b[0m\n\u001b[0;32m--> 561\u001b[0;31m         \u001b[0mdata\u001b[0m \u001b[0;34m=\u001b[0m \u001b[0mself\u001b[0m\u001b[0;34m.\u001b[0m\u001b[0m_dataset_fetcher\u001b[0m\u001b[0;34m.\u001b[0m\u001b[0mfetch\u001b[0m\u001b[0;34m(\u001b[0m\u001b[0mindex\u001b[0m\u001b[0;34m)\u001b[0m  \u001b[0;31m# may raise StopIteration\u001b[0m\u001b[0;34m\u001b[0m\u001b[0;34m\u001b[0m\u001b[0m\n\u001b[0m\u001b[1;32m    562\u001b[0m         \u001b[0;32mif\u001b[0m \u001b[0mself\u001b[0m\u001b[0;34m.\u001b[0m\u001b[0m_pin_memory\u001b[0m\u001b[0;34m:\u001b[0m\u001b[0;34m\u001b[0m\u001b[0;34m\u001b[0m\u001b[0m\n\u001b[1;32m    563\u001b[0m             \u001b[0mdata\u001b[0m \u001b[0;34m=\u001b[0m \u001b[0m_utils\u001b[0m\u001b[0;34m.\u001b[0m\u001b[0mpin_memory\u001b[0m\u001b[0;34m.\u001b[0m\u001b[0mpin_memory\u001b[0m\u001b[0;34m(\u001b[0m\u001b[0mdata\u001b[0m\u001b[0;34m)\u001b[0m\u001b[0;34m\u001b[0m\u001b[0;34m\u001b[0m\u001b[0m\n",
            "\u001b[0;32m/usr/local/lib/python3.7/dist-packages/torch/utils/data/_utils/fetch.py\u001b[0m in \u001b[0;36mfetch\u001b[0;34m(self, possibly_batched_index)\u001b[0m\n\u001b[1;32m     47\u001b[0m     \u001b[0;32mdef\u001b[0m \u001b[0mfetch\u001b[0m\u001b[0;34m(\u001b[0m\u001b[0mself\u001b[0m\u001b[0;34m,\u001b[0m \u001b[0mpossibly_batched_index\u001b[0m\u001b[0;34m)\u001b[0m\u001b[0;34m:\u001b[0m\u001b[0;34m\u001b[0m\u001b[0;34m\u001b[0m\u001b[0m\n\u001b[1;32m     48\u001b[0m         \u001b[0;32mif\u001b[0m \u001b[0mself\u001b[0m\u001b[0;34m.\u001b[0m\u001b[0mauto_collation\u001b[0m\u001b[0;34m:\u001b[0m\u001b[0;34m\u001b[0m\u001b[0;34m\u001b[0m\u001b[0m\n\u001b[0;32m---> 49\u001b[0;31m             \u001b[0mdata\u001b[0m \u001b[0;34m=\u001b[0m \u001b[0;34m[\u001b[0m\u001b[0mself\u001b[0m\u001b[0;34m.\u001b[0m\u001b[0mdataset\u001b[0m\u001b[0;34m[\u001b[0m\u001b[0midx\u001b[0m\u001b[0;34m]\u001b[0m \u001b[0;32mfor\u001b[0m \u001b[0midx\u001b[0m \u001b[0;32min\u001b[0m \u001b[0mpossibly_batched_index\u001b[0m\u001b[0;34m]\u001b[0m\u001b[0;34m\u001b[0m\u001b[0;34m\u001b[0m\u001b[0m\n\u001b[0m\u001b[1;32m     50\u001b[0m         \u001b[0;32melse\u001b[0m\u001b[0;34m:\u001b[0m\u001b[0;34m\u001b[0m\u001b[0;34m\u001b[0m\u001b[0m\n\u001b[1;32m     51\u001b[0m             \u001b[0mdata\u001b[0m \u001b[0;34m=\u001b[0m \u001b[0mself\u001b[0m\u001b[0;34m.\u001b[0m\u001b[0mdataset\u001b[0m\u001b[0;34m[\u001b[0m\u001b[0mpossibly_batched_index\u001b[0m\u001b[0;34m]\u001b[0m\u001b[0;34m\u001b[0m\u001b[0;34m\u001b[0m\u001b[0m\n",
            "\u001b[0;32m/usr/local/lib/python3.7/dist-packages/torch/utils/data/_utils/fetch.py\u001b[0m in \u001b[0;36m<listcomp>\u001b[0;34m(.0)\u001b[0m\n\u001b[1;32m     47\u001b[0m     \u001b[0;32mdef\u001b[0m \u001b[0mfetch\u001b[0m\u001b[0;34m(\u001b[0m\u001b[0mself\u001b[0m\u001b[0;34m,\u001b[0m \u001b[0mpossibly_batched_index\u001b[0m\u001b[0;34m)\u001b[0m\u001b[0;34m:\u001b[0m\u001b[0;34m\u001b[0m\u001b[0;34m\u001b[0m\u001b[0m\n\u001b[1;32m     48\u001b[0m         \u001b[0;32mif\u001b[0m \u001b[0mself\u001b[0m\u001b[0;34m.\u001b[0m\u001b[0mauto_collation\u001b[0m\u001b[0;34m:\u001b[0m\u001b[0;34m\u001b[0m\u001b[0;34m\u001b[0m\u001b[0m\n\u001b[0;32m---> 49\u001b[0;31m             \u001b[0mdata\u001b[0m \u001b[0;34m=\u001b[0m \u001b[0;34m[\u001b[0m\u001b[0mself\u001b[0m\u001b[0;34m.\u001b[0m\u001b[0mdataset\u001b[0m\u001b[0;34m[\u001b[0m\u001b[0midx\u001b[0m\u001b[0;34m]\u001b[0m \u001b[0;32mfor\u001b[0m \u001b[0midx\u001b[0m \u001b[0;32min\u001b[0m \u001b[0mpossibly_batched_index\u001b[0m\u001b[0;34m]\u001b[0m\u001b[0;34m\u001b[0m\u001b[0;34m\u001b[0m\u001b[0m\n\u001b[0m\u001b[1;32m     50\u001b[0m         \u001b[0;32melse\u001b[0m\u001b[0;34m:\u001b[0m\u001b[0;34m\u001b[0m\u001b[0;34m\u001b[0m\u001b[0m\n\u001b[1;32m     51\u001b[0m             \u001b[0mdata\u001b[0m \u001b[0;34m=\u001b[0m \u001b[0mself\u001b[0m\u001b[0;34m.\u001b[0m\u001b[0mdataset\u001b[0m\u001b[0;34m[\u001b[0m\u001b[0mpossibly_batched_index\u001b[0m\u001b[0;34m]\u001b[0m\u001b[0;34m\u001b[0m\u001b[0;34m\u001b[0m\u001b[0m\n",
            "\u001b[0;32m/usr/local/lib/python3.7/dist-packages/torch/utils/data/dataset.py\u001b[0m in \u001b[0;36m__getitem__\u001b[0;34m(self, idx)\u001b[0m\n\u001b[1;32m    361\u001b[0m         \u001b[0;32mif\u001b[0m \u001b[0misinstance\u001b[0m\u001b[0;34m(\u001b[0m\u001b[0midx\u001b[0m\u001b[0;34m,\u001b[0m \u001b[0mlist\u001b[0m\u001b[0;34m)\u001b[0m\u001b[0;34m:\u001b[0m\u001b[0;34m\u001b[0m\u001b[0;34m\u001b[0m\u001b[0m\n\u001b[1;32m    362\u001b[0m             \u001b[0;32mreturn\u001b[0m \u001b[0mself\u001b[0m\u001b[0;34m.\u001b[0m\u001b[0mdataset\u001b[0m\u001b[0;34m[\u001b[0m\u001b[0;34m[\u001b[0m\u001b[0mself\u001b[0m\u001b[0;34m.\u001b[0m\u001b[0mindices\u001b[0m\u001b[0;34m[\u001b[0m\u001b[0mi\u001b[0m\u001b[0;34m]\u001b[0m \u001b[0;32mfor\u001b[0m \u001b[0mi\u001b[0m \u001b[0;32min\u001b[0m \u001b[0midx\u001b[0m\u001b[0;34m]\u001b[0m\u001b[0;34m]\u001b[0m\u001b[0;34m\u001b[0m\u001b[0;34m\u001b[0m\u001b[0m\n\u001b[0;32m--> 363\u001b[0;31m         \u001b[0;32mreturn\u001b[0m \u001b[0mself\u001b[0m\u001b[0;34m.\u001b[0m\u001b[0mdataset\u001b[0m\u001b[0;34m[\u001b[0m\u001b[0mself\u001b[0m\u001b[0;34m.\u001b[0m\u001b[0mindices\u001b[0m\u001b[0;34m[\u001b[0m\u001b[0midx\u001b[0m\u001b[0;34m]\u001b[0m\u001b[0;34m]\u001b[0m\u001b[0;34m\u001b[0m\u001b[0;34m\u001b[0m\u001b[0m\n\u001b[0m\u001b[1;32m    364\u001b[0m \u001b[0;34m\u001b[0m\u001b[0m\n\u001b[1;32m    365\u001b[0m     \u001b[0;32mdef\u001b[0m \u001b[0m__len__\u001b[0m\u001b[0;34m(\u001b[0m\u001b[0mself\u001b[0m\u001b[0;34m)\u001b[0m\u001b[0;34m:\u001b[0m\u001b[0;34m\u001b[0m\u001b[0;34m\u001b[0m\u001b[0m\n",
            "\u001b[0;32m<ipython-input-3-bcfbf48c0699>\u001b[0m in \u001b[0;36m__getitem__\u001b[0;34m(self, idx)\u001b[0m\n\u001b[1;32m     39\u001b[0m \u001b[0;34m\u001b[0m\u001b[0m\n\u001b[1;32m     40\u001b[0m         \u001b[0mimg_name\u001b[0m \u001b[0;34m=\u001b[0m \u001b[0mos\u001b[0m\u001b[0;34m.\u001b[0m\u001b[0mpath\u001b[0m\u001b[0;34m.\u001b[0m\u001b[0mjoin\u001b[0m\u001b[0;34m(\u001b[0m\u001b[0mself\u001b[0m\u001b[0;34m.\u001b[0m\u001b[0mroot_dir\u001b[0m\u001b[0;34m,\u001b[0m \u001b[0mself\u001b[0m\u001b[0;34m.\u001b[0m\u001b[0mlabel_data\u001b[0m\u001b[0;34m.\u001b[0m\u001b[0miloc\u001b[0m\u001b[0;34m[\u001b[0m\u001b[0midx\u001b[0m\u001b[0;34m,\u001b[0m \u001b[0;36m0\u001b[0m\u001b[0;34m]\u001b[0m\u001b[0;34m)\u001b[0m\u001b[0;34m\u001b[0m\u001b[0;34m\u001b[0m\u001b[0m\n\u001b[0;32m---> 41\u001b[0;31m         \u001b[0mimage\u001b[0m \u001b[0;34m=\u001b[0m \u001b[0mio\u001b[0m\u001b[0;34m.\u001b[0m\u001b[0mimread\u001b[0m\u001b[0;34m(\u001b[0m\u001b[0mimg_name\u001b[0m\u001b[0;34m)\u001b[0m\u001b[0;34m\u001b[0m\u001b[0;34m\u001b[0m\u001b[0m\n\u001b[0m\u001b[1;32m     42\u001b[0m         \u001b[0mimage\u001b[0m \u001b[0;34m=\u001b[0m \u001b[0mcv2\u001b[0m\u001b[0;34m.\u001b[0m\u001b[0mcvtColor\u001b[0m\u001b[0;34m(\u001b[0m\u001b[0mimage\u001b[0m\u001b[0;34m,\u001b[0m \u001b[0mcv2\u001b[0m\u001b[0;34m.\u001b[0m\u001b[0mCOLOR_BGRA2BGR\u001b[0m\u001b[0;34m)\u001b[0m\u001b[0;34m\u001b[0m\u001b[0;34m\u001b[0m\u001b[0m\n\u001b[1;32m     43\u001b[0m         \u001b[0mimage\u001b[0m \u001b[0;34m=\u001b[0m \u001b[0mtorchvision\u001b[0m\u001b[0;34m.\u001b[0m\u001b[0mtransforms\u001b[0m\u001b[0;34m.\u001b[0m\u001b[0mfunctional\u001b[0m\u001b[0;34m.\u001b[0m\u001b[0mto_tensor\u001b[0m\u001b[0;34m(\u001b[0m\u001b[0mimage\u001b[0m\u001b[0;34m)\u001b[0m\u001b[0;34m\u001b[0m\u001b[0;34m\u001b[0m\u001b[0m\n",
            "\u001b[0;32m/usr/local/lib/python3.7/dist-packages/skimage/io/_io.py\u001b[0m in \u001b[0;36mimread\u001b[0;34m(fname, as_gray, plugin, **plugin_args)\u001b[0m\n\u001b[1;32m     46\u001b[0m \u001b[0;34m\u001b[0m\u001b[0m\n\u001b[1;32m     47\u001b[0m     \u001b[0;32mwith\u001b[0m \u001b[0mfile_or_url_context\u001b[0m\u001b[0;34m(\u001b[0m\u001b[0mfname\u001b[0m\u001b[0;34m)\u001b[0m \u001b[0;32mas\u001b[0m \u001b[0mfname\u001b[0m\u001b[0;34m:\u001b[0m\u001b[0;34m\u001b[0m\u001b[0;34m\u001b[0m\u001b[0m\n\u001b[0;32m---> 48\u001b[0;31m         \u001b[0mimg\u001b[0m \u001b[0;34m=\u001b[0m \u001b[0mcall_plugin\u001b[0m\u001b[0;34m(\u001b[0m\u001b[0;34m'imread'\u001b[0m\u001b[0;34m,\u001b[0m \u001b[0mfname\u001b[0m\u001b[0;34m,\u001b[0m \u001b[0mplugin\u001b[0m\u001b[0;34m=\u001b[0m\u001b[0mplugin\u001b[0m\u001b[0;34m,\u001b[0m \u001b[0;34m**\u001b[0m\u001b[0mplugin_args\u001b[0m\u001b[0;34m)\u001b[0m\u001b[0;34m\u001b[0m\u001b[0;34m\u001b[0m\u001b[0m\n\u001b[0m\u001b[1;32m     49\u001b[0m \u001b[0;34m\u001b[0m\u001b[0m\n\u001b[1;32m     50\u001b[0m     \u001b[0;32mif\u001b[0m \u001b[0;32mnot\u001b[0m \u001b[0mhasattr\u001b[0m\u001b[0;34m(\u001b[0m\u001b[0mimg\u001b[0m\u001b[0;34m,\u001b[0m \u001b[0;34m'ndim'\u001b[0m\u001b[0;34m)\u001b[0m\u001b[0;34m:\u001b[0m\u001b[0;34m\u001b[0m\u001b[0;34m\u001b[0m\u001b[0m\n",
            "\u001b[0;32m/usr/local/lib/python3.7/dist-packages/skimage/io/manage_plugins.py\u001b[0m in \u001b[0;36mcall_plugin\u001b[0;34m(kind, *args, **kwargs)\u001b[0m\n\u001b[1;32m    205\u001b[0m                                (plugin, kind))\n\u001b[1;32m    206\u001b[0m \u001b[0;34m\u001b[0m\u001b[0m\n\u001b[0;32m--> 207\u001b[0;31m     \u001b[0;32mreturn\u001b[0m \u001b[0mfunc\u001b[0m\u001b[0;34m(\u001b[0m\u001b[0;34m*\u001b[0m\u001b[0margs\u001b[0m\u001b[0;34m,\u001b[0m \u001b[0;34m**\u001b[0m\u001b[0mkwargs\u001b[0m\u001b[0;34m)\u001b[0m\u001b[0;34m\u001b[0m\u001b[0;34m\u001b[0m\u001b[0m\n\u001b[0m\u001b[1;32m    208\u001b[0m \u001b[0;34m\u001b[0m\u001b[0m\n\u001b[1;32m    209\u001b[0m \u001b[0;34m\u001b[0m\u001b[0m\n",
            "\u001b[0;32m/usr/local/lib/python3.7/dist-packages/skimage/io/_plugins/imageio_plugin.py\u001b[0m in \u001b[0;36mimread\u001b[0;34m(*args, **kwargs)\u001b[0m\n\u001b[1;32m      8\u001b[0m \u001b[0;34m@\u001b[0m\u001b[0mwraps\u001b[0m\u001b[0;34m(\u001b[0m\u001b[0mimageio_imread\u001b[0m\u001b[0;34m)\u001b[0m\u001b[0;34m\u001b[0m\u001b[0;34m\u001b[0m\u001b[0m\n\u001b[1;32m      9\u001b[0m \u001b[0;32mdef\u001b[0m \u001b[0mimread\u001b[0m\u001b[0;34m(\u001b[0m\u001b[0;34m*\u001b[0m\u001b[0margs\u001b[0m\u001b[0;34m,\u001b[0m \u001b[0;34m**\u001b[0m\u001b[0mkwargs\u001b[0m\u001b[0;34m)\u001b[0m\u001b[0;34m:\u001b[0m\u001b[0;34m\u001b[0m\u001b[0;34m\u001b[0m\u001b[0m\n\u001b[0;32m---> 10\u001b[0;31m     \u001b[0;32mreturn\u001b[0m \u001b[0mnp\u001b[0m\u001b[0;34m.\u001b[0m\u001b[0masarray\u001b[0m\u001b[0;34m(\u001b[0m\u001b[0mimageio_imread\u001b[0m\u001b[0;34m(\u001b[0m\u001b[0;34m*\u001b[0m\u001b[0margs\u001b[0m\u001b[0;34m,\u001b[0m \u001b[0;34m**\u001b[0m\u001b[0mkwargs\u001b[0m\u001b[0;34m)\u001b[0m\u001b[0;34m)\u001b[0m\u001b[0;34m\u001b[0m\u001b[0;34m\u001b[0m\u001b[0m\n\u001b[0m",
            "\u001b[0;32m/usr/local/lib/python3.7/dist-packages/imageio/core/functions.py\u001b[0m in \u001b[0;36mimread\u001b[0;34m(uri, format, **kwargs)\u001b[0m\n\u001b[1;32m    219\u001b[0m \u001b[0;34m\u001b[0m\u001b[0m\n\u001b[1;32m    220\u001b[0m     \u001b[0;31m# Get reader and read first\u001b[0m\u001b[0;34m\u001b[0m\u001b[0;34m\u001b[0m\u001b[0;34m\u001b[0m\u001b[0m\n\u001b[0;32m--> 221\u001b[0;31m     \u001b[0mreader\u001b[0m \u001b[0;34m=\u001b[0m \u001b[0mread\u001b[0m\u001b[0;34m(\u001b[0m\u001b[0muri\u001b[0m\u001b[0;34m,\u001b[0m \u001b[0mformat\u001b[0m\u001b[0;34m,\u001b[0m \u001b[0;34m\"i\"\u001b[0m\u001b[0;34m,\u001b[0m \u001b[0;34m**\u001b[0m\u001b[0mkwargs\u001b[0m\u001b[0;34m)\u001b[0m\u001b[0;34m\u001b[0m\u001b[0;34m\u001b[0m\u001b[0m\n\u001b[0m\u001b[1;32m    222\u001b[0m     \u001b[0;32mwith\u001b[0m \u001b[0mreader\u001b[0m\u001b[0;34m:\u001b[0m\u001b[0;34m\u001b[0m\u001b[0;34m\u001b[0m\u001b[0m\n\u001b[1;32m    223\u001b[0m         \u001b[0;32mreturn\u001b[0m \u001b[0mreader\u001b[0m\u001b[0;34m.\u001b[0m\u001b[0mget_data\u001b[0m\u001b[0;34m(\u001b[0m\u001b[0;36m0\u001b[0m\u001b[0;34m)\u001b[0m\u001b[0;34m\u001b[0m\u001b[0;34m\u001b[0m\u001b[0m\n",
            "\u001b[0;32m/usr/local/lib/python3.7/dist-packages/imageio/core/functions.py\u001b[0m in \u001b[0;36mget_reader\u001b[0;34m(uri, format, mode, **kwargs)\u001b[0m\n\u001b[1;32m    128\u001b[0m \u001b[0;34m\u001b[0m\u001b[0m\n\u001b[1;32m    129\u001b[0m     \u001b[0;31m# Create request object\u001b[0m\u001b[0;34m\u001b[0m\u001b[0;34m\u001b[0m\u001b[0;34m\u001b[0m\u001b[0m\n\u001b[0;32m--> 130\u001b[0;31m     \u001b[0mrequest\u001b[0m \u001b[0;34m=\u001b[0m \u001b[0mRequest\u001b[0m\u001b[0;34m(\u001b[0m\u001b[0muri\u001b[0m\u001b[0;34m,\u001b[0m \u001b[0;34m\"r\"\u001b[0m \u001b[0;34m+\u001b[0m \u001b[0mmode\u001b[0m\u001b[0;34m,\u001b[0m \u001b[0;34m**\u001b[0m\u001b[0mkwargs\u001b[0m\u001b[0;34m)\u001b[0m\u001b[0;34m\u001b[0m\u001b[0;34m\u001b[0m\u001b[0m\n\u001b[0m\u001b[1;32m    131\u001b[0m \u001b[0;34m\u001b[0m\u001b[0m\n\u001b[1;32m    132\u001b[0m     \u001b[0;31m# Get format\u001b[0m\u001b[0;34m\u001b[0m\u001b[0;34m\u001b[0m\u001b[0;34m\u001b[0m\u001b[0m\n",
            "\u001b[0;32m/usr/local/lib/python3.7/dist-packages/imageio/core/request.py\u001b[0m in \u001b[0;36m__init__\u001b[0;34m(self, uri, mode, **kwargs)\u001b[0m\n\u001b[1;32m    123\u001b[0m \u001b[0;34m\u001b[0m\u001b[0m\n\u001b[1;32m    124\u001b[0m         \u001b[0;31m# Parse what was given\u001b[0m\u001b[0;34m\u001b[0m\u001b[0;34m\u001b[0m\u001b[0;34m\u001b[0m\u001b[0m\n\u001b[0;32m--> 125\u001b[0;31m         \u001b[0mself\u001b[0m\u001b[0;34m.\u001b[0m\u001b[0m_parse_uri\u001b[0m\u001b[0;34m(\u001b[0m\u001b[0muri\u001b[0m\u001b[0;34m)\u001b[0m\u001b[0;34m\u001b[0m\u001b[0;34m\u001b[0m\u001b[0m\n\u001b[0m\u001b[1;32m    126\u001b[0m \u001b[0;34m\u001b[0m\u001b[0m\n\u001b[1;32m    127\u001b[0m         \u001b[0;31m# Set extension\u001b[0m\u001b[0;34m\u001b[0m\u001b[0;34m\u001b[0m\u001b[0;34m\u001b[0m\u001b[0m\n",
            "\u001b[0;32m/usr/local/lib/python3.7/dist-packages/imageio/core/request.py\u001b[0m in \u001b[0;36m_parse_uri\u001b[0;34m(self, uri)\u001b[0m\n\u001b[1;32m    245\u001b[0m             \u001b[0;32mif\u001b[0m \u001b[0mself\u001b[0m\u001b[0;34m.\u001b[0m\u001b[0m_filename_zip\u001b[0m\u001b[0;34m:\u001b[0m\u001b[0;34m\u001b[0m\u001b[0;34m\u001b[0m\u001b[0m\n\u001b[1;32m    246\u001b[0m                 \u001b[0mfn\u001b[0m \u001b[0;34m=\u001b[0m \u001b[0mself\u001b[0m\u001b[0;34m.\u001b[0m\u001b[0m_filename_zip\u001b[0m\u001b[0;34m[\u001b[0m\u001b[0;36m0\u001b[0m\u001b[0;34m]\u001b[0m\u001b[0;34m\u001b[0m\u001b[0;34m\u001b[0m\u001b[0m\n\u001b[0;32m--> 247\u001b[0;31m             \u001b[0;32mif\u001b[0m \u001b[0;34m(\u001b[0m\u001b[0;32mnot\u001b[0m \u001b[0mos\u001b[0m\u001b[0;34m.\u001b[0m\u001b[0mpath\u001b[0m\u001b[0;34m.\u001b[0m\u001b[0mexists\u001b[0m\u001b[0;34m(\u001b[0m\u001b[0mfn\u001b[0m\u001b[0;34m)\u001b[0m\u001b[0;34m)\u001b[0m \u001b[0;32mand\u001b[0m \u001b[0;34m(\u001b[0m\u001b[0mfn\u001b[0m \u001b[0;32min\u001b[0m \u001b[0mEXAMPLE_IMAGES\u001b[0m\u001b[0;34m)\u001b[0m\u001b[0;34m:\u001b[0m\u001b[0;34m\u001b[0m\u001b[0;34m\u001b[0m\u001b[0m\n\u001b[0m\u001b[1;32m    248\u001b[0m                 raise IOError(\n\u001b[1;32m    249\u001b[0m                     \u001b[0;34m\"No such file: %r. This file looks like one of \"\u001b[0m\u001b[0;34m\u001b[0m\u001b[0;34m\u001b[0m\u001b[0m\n",
            "\u001b[0;32m/usr/lib/python3.7/genericpath.py\u001b[0m in \u001b[0;36mexists\u001b[0;34m(path)\u001b[0m\n\u001b[1;32m     17\u001b[0m     \u001b[0;34m\"\"\"Test whether a path exists.  Returns False for broken symbolic links\"\"\"\u001b[0m\u001b[0;34m\u001b[0m\u001b[0;34m\u001b[0m\u001b[0m\n\u001b[1;32m     18\u001b[0m     \u001b[0;32mtry\u001b[0m\u001b[0;34m:\u001b[0m\u001b[0;34m\u001b[0m\u001b[0;34m\u001b[0m\u001b[0m\n\u001b[0;32m---> 19\u001b[0;31m         \u001b[0mos\u001b[0m\u001b[0;34m.\u001b[0m\u001b[0mstat\u001b[0m\u001b[0;34m(\u001b[0m\u001b[0mpath\u001b[0m\u001b[0;34m)\u001b[0m\u001b[0;34m\u001b[0m\u001b[0;34m\u001b[0m\u001b[0m\n\u001b[0m\u001b[1;32m     20\u001b[0m     \u001b[0;32mexcept\u001b[0m \u001b[0mOSError\u001b[0m\u001b[0;34m:\u001b[0m\u001b[0;34m\u001b[0m\u001b[0;34m\u001b[0m\u001b[0m\n\u001b[1;32m     21\u001b[0m         \u001b[0;32mreturn\u001b[0m \u001b[0;32mFalse\u001b[0m\u001b[0;34m\u001b[0m\u001b[0;34m\u001b[0m\u001b[0m\n",
            "\u001b[0;31mKeyboardInterrupt\u001b[0m: "
          ]
        }
      ],
      "source": [
        "from itertools import product, chain\n",
        "import os\n",
        "\n",
        "comp_model = []\n",
        "comp_valid_loss = []\n",
        "comp_valid_trend = []\n",
        "log = pd.DataFrame(columns=['num','model','criterion','adam_lr','directory'])\n",
        "root = 'drive/MyDrive/DL_Project/classic_2/'\n",
        "\n",
        "for n, (model,cri,lr) in enumerate(product(model_set,cri_set, optim_lr)):\n",
        "    model_CNN = model(True).to(device)\n",
        "    criterion = cri\n",
        "    optimizer = optim.Adam(model_CNN.parameters(), lr=lr)\n",
        "\n",
        "    dir = root+str(n)+'/'\n",
        "    if not os.path.isdir(dir):\n",
        "      os.makedirs(dir)\n",
        "      print(\"created folder : \", dir)\n",
        "    else:\n",
        "      print(dir, \"folder already exists.\")\n",
        "\n",
        "    print(n,model,cri,lr,dir)\n",
        "\n",
        "    model_best, valid_loss_min, valid_loss_trend = train_model(model_CNN, criterion, optimizer, train_dataloader, val_dataloader, dir, n_epochs=20)\n",
        "\n",
        "    # ## load best val_model\n",
        "    # model_best = model_CNN\n",
        "    # model_best.load_state_dict(torch.load(dir+'model.pt'))\n",
        "    # model_best.eval()\n",
        "\n",
        "    # save test result\n",
        "    save_test(model_best,dir)\n",
        "    \n",
        "    # value_val_loss = valid_loss_min.cpu().data()\n",
        "    row = pd.Series([n,model,cri,lr,dir],index=log.columns)\n",
        "    log = log.append(row,ignore_index=True)\n",
        "\n",
        "    # comp_idx = comp_idx.append(n)\n",
        "    # comp_idx_model = comp_idx_model.append(model)\n",
        "    # comp_cri = comp_cri.append(cri)\n",
        "    # comp_optim = comp_optim.append(optim)\n",
        "\n",
        "    comp_model.append(model_best)\n",
        "    comp_valid_loss.append(valid_loss_min)\n",
        "    comp_valid_trend.append(valid_loss_trend)"
      ]
    },
    {
      "cell_type": "code",
      "execution_count": null,
      "metadata": {
        "id": "V1wVaYkKrybp"
      },
      "outputs": [],
      "source": [
        "log['val_loss']=torch.stack(comp_valid_loss).cpu().tolist()\n",
        "\n",
        "log_path = root+'log.csv'\n",
        "log.to_csv(root+'log.csv')\n",
        "log"
      ]
    },
    {
      "cell_type": "markdown",
      "metadata": {
        "id": "La68oRanojT1"
      },
      "source": [
        "#### CV training"
      ]
    },
    {
      "cell_type": "code",
      "execution_count": 53,
      "metadata": {
        "colab": {
          "base_uri": "https://localhost:8080/",
          "height": 1000
        },
        "id": "DH_anixCoewB",
        "outputId": "b78afb41-0f11-4300-b149-2c1b59e48eb1"
      },
      "outputs": [
        {
          "output_type": "stream",
          "name": "stdout",
          "text": [
            "drive/MyDrive/DL_Project/cv/CNN5/0/ folder already exists.\n",
            "0 (<class '__main__.CNN5'>, SmoothL1Loss(), 0.0005) drive/MyDrive/DL_Project/cv/CNN5/0/\n",
            "CV - Fold  0\n",
            "drive/MyDrive/DL_Project/cv/CNN5/0/0/ folder already exists.\n",
            "Epoch 1, Batch 1 loss: 15.255030\n",
            "Epoch 1, Batch 101 loss: 15.141806\n",
            "Epoch 1, Batch 201 loss: 13.503474\n",
            "Epoch: 1 \tTraining Loss: 12.609884 \tValidation Loss: 11.630548\n",
            "Validation loss decreased (inf --> 11.630548).  Saving model ...\n",
            "Epoch 2, Batch 1 loss: 2.476033\n",
            "Epoch 2, Batch 101 loss: 8.356217\n",
            "Epoch 2, Batch 201 loss: 7.940631\n",
            "Epoch: 2 \tTraining Loss: 7.591012 \tValidation Loss: 10.514874\n",
            "Validation loss decreased (11.630548 --> 10.514874).  Saving model ...\n",
            "Epoch 3, Batch 1 loss: 12.675538\n",
            "Epoch 3, Batch 101 loss: 7.794753\n",
            "Epoch 3, Batch 201 loss: 7.377246\n",
            "Epoch: 3 \tTraining Loss: 7.018902 \tValidation Loss: 10.736917\n",
            "Epoch 4, Batch 1 loss: 13.259431\n",
            "Epoch 4, Batch 101 loss: 7.113851\n",
            "Epoch 4, Batch 201 loss: 6.409045\n",
            "Epoch: 4 \tTraining Loss: 6.319535 \tValidation Loss: 11.975199\n",
            "Epoch 5, Batch 1 loss: 5.231375\n",
            "Epoch 5, Batch 101 loss: 6.439936\n",
            "Epoch 5, Batch 201 loss: 6.184650\n",
            "Epoch: 5 \tTraining Loss: 6.277882 \tValidation Loss: 12.878263\n",
            "Epoch 6, Batch 1 loss: 4.409807\n",
            "Epoch 6, Batch 101 loss: 5.615870\n",
            "Epoch 6, Batch 201 loss: 5.840631\n",
            "Epoch: 6 \tTraining Loss: 5.898897 \tValidation Loss: 9.840105\n",
            "Validation loss decreased (10.514874 --> 9.840105).  Saving model ...\n",
            "Epoch 7, Batch 1 loss: 5.811605\n",
            "Epoch 7, Batch 101 loss: 6.195120\n",
            "Epoch 7, Batch 201 loss: 5.808547\n",
            "Epoch: 7 \tTraining Loss: 5.792826 \tValidation Loss: 11.538863\n",
            "Epoch 8, Batch 1 loss: 3.024149\n",
            "Epoch 8, Batch 101 loss: 5.888184\n",
            "Epoch 8, Batch 201 loss: 5.729881\n",
            "Epoch: 8 \tTraining Loss: 5.912125 \tValidation Loss: 13.073918\n",
            "Epoch 9, Batch 1 loss: 11.455419\n",
            "Epoch 9, Batch 101 loss: 5.640244\n",
            "Epoch 9, Batch 201 loss: 5.508766\n",
            "Epoch: 9 \tTraining Loss: 5.306283 \tValidation Loss: 10.363720\n",
            "Epoch 10, Batch 1 loss: 9.799343\n",
            "Epoch 10, Batch 101 loss: 5.044296\n",
            "Epoch 10, Batch 201 loss: 5.248835\n",
            "Epoch: 10 \tTraining Loss: 5.343988 \tValidation Loss: 11.249004\n",
            "CV - Fold  1\n",
            "created folder :  drive/MyDrive/DL_Project/cv/CNN5/0/1/\n",
            "Epoch 1, Batch 1 loss: 6.504917\n",
            "Epoch 1, Batch 101 loss: 15.640415\n",
            "Epoch 1, Batch 201 loss: 14.563593\n",
            "Epoch: 1 \tTraining Loss: 13.477301 \tValidation Loss: 11.383725\n",
            "Validation loss decreased (inf --> 11.383725).  Saving model ...\n",
            "Epoch 2, Batch 1 loss: 8.372644\n",
            "Epoch 2, Batch 101 loss: 8.572571\n",
            "Epoch 2, Batch 201 loss: 8.381723\n",
            "Epoch: 2 \tTraining Loss: 8.195501 \tValidation Loss: 9.073892\n",
            "Validation loss decreased (11.383725 --> 9.073892).  Saving model ...\n",
            "Epoch 3, Batch 1 loss: 6.802490\n",
            "Epoch 3, Batch 101 loss: 7.480505\n",
            "Epoch 3, Batch 201 loss: 7.449388\n",
            "Epoch: 3 \tTraining Loss: 7.393812 \tValidation Loss: 8.446139\n",
            "Validation loss decreased (9.073892 --> 8.446139).  Saving model ...\n",
            "Epoch 4, Batch 1 loss: 8.861143\n",
            "Epoch 4, Batch 101 loss: 6.746535\n",
            "Epoch 4, Batch 201 loss: 6.738933\n",
            "Epoch: 4 \tTraining Loss: 6.730201 \tValidation Loss: 8.566907\n",
            "Epoch 5, Batch 1 loss: 9.538763\n",
            "Epoch 5, Batch 101 loss: 6.150401\n",
            "Epoch 5, Batch 201 loss: 6.226628\n",
            "Epoch: 5 \tTraining Loss: 5.990868 \tValidation Loss: 8.163694\n",
            "Validation loss decreased (8.446139 --> 8.163694).  Saving model ...\n",
            "Epoch 6, Batch 1 loss: 3.303693\n",
            "Epoch 6, Batch 101 loss: 6.254150\n",
            "Epoch 6, Batch 201 loss: 6.200464\n",
            "Epoch: 6 \tTraining Loss: 6.181156 \tValidation Loss: 8.045792\n",
            "Validation loss decreased (8.163694 --> 8.045792).  Saving model ...\n",
            "Epoch 7, Batch 1 loss: 5.595919\n",
            "Epoch 7, Batch 101 loss: 6.231588\n",
            "Epoch 7, Batch 201 loss: 5.857410\n",
            "Epoch: 7 \tTraining Loss: 6.013640 \tValidation Loss: 7.964578\n",
            "Validation loss decreased (8.045792 --> 7.964578).  Saving model ...\n",
            "Epoch 8, Batch 1 loss: 2.801698\n",
            "Epoch 8, Batch 101 loss: 5.364859\n",
            "Epoch 8, Batch 201 loss: 5.650786\n",
            "Epoch: 8 \tTraining Loss: 5.843295 \tValidation Loss: 9.007631\n",
            "Epoch 9, Batch 1 loss: 2.111600\n",
            "Epoch 9, Batch 101 loss: 5.181273\n",
            "Epoch 9, Batch 201 loss: 5.362129\n",
            "Epoch: 9 \tTraining Loss: 5.483346 \tValidation Loss: 7.919904\n",
            "Validation loss decreased (7.964578 --> 7.919904).  Saving model ...\n",
            "Epoch 10, Batch 1 loss: 5.756910\n",
            "Epoch 10, Batch 101 loss: 5.445485\n",
            "Epoch 10, Batch 201 loss: 5.591105\n",
            "Epoch: 10 \tTraining Loss: 5.633461 \tValidation Loss: 8.132640\n",
            "CV - Fold  2\n",
            "created folder :  drive/MyDrive/DL_Project/cv/CNN5/0/2/\n",
            "Epoch 1, Batch 1 loss: 20.935371\n"
          ]
        },
        {
          "output_type": "error",
          "ename": "RuntimeError",
          "evalue": "ignored",
          "traceback": [
            "\u001b[0;31m---------------------------------------------------------------------------\u001b[0m",
            "\u001b[0;31mRuntimeError\u001b[0m                              Traceback (most recent call last)",
            "\u001b[0;32m<ipython-input-53-90671b7266c1>\u001b[0m in \u001b[0;36m<module>\u001b[0;34m()\u001b[0m\n\u001b[1;32m     28\u001b[0m     \u001b[0mprint\u001b[0m\u001b[0;34m(\u001b[0m\u001b[0mn\u001b[0m\u001b[0;34m,\u001b[0m\u001b[0mpars\u001b[0m\u001b[0;34m,\u001b[0m\u001b[0mdir\u001b[0m\u001b[0;34m)\u001b[0m\u001b[0;34m\u001b[0m\u001b[0;34m\u001b[0m\u001b[0m\n\u001b[1;32m     29\u001b[0m \u001b[0;34m\u001b[0m\u001b[0m\n\u001b[0;32m---> 30\u001b[0;31m     \u001b[0mmodel_conv\u001b[0m\u001b[0;34m,\u001b[0m \u001b[0mvalid_loss_min\u001b[0m\u001b[0;34m,\u001b[0m \u001b[0mvalid_loss_trend\u001b[0m \u001b[0;34m=\u001b[0m \u001b[0mcv_train\u001b[0m\u001b[0;34m(\u001b[0m\u001b[0mpars\u001b[0m\u001b[0;34m,\u001b[0m\u001b[0mk\u001b[0m\u001b[0;34m=\u001b[0m\u001b[0;36m4\u001b[0m\u001b[0;34m,\u001b[0m\u001b[0mdir\u001b[0m \u001b[0;34m=\u001b[0m \u001b[0mdir\u001b[0m\u001b[0;34m,\u001b[0m\u001b[0mn_epochs\u001b[0m\u001b[0;34m=\u001b[0m\u001b[0;36m10\u001b[0m\u001b[0;34m)\u001b[0m\u001b[0;34m\u001b[0m\u001b[0;34m\u001b[0m\u001b[0m\n\u001b[0m\u001b[1;32m     31\u001b[0m \u001b[0;34m\u001b[0m\u001b[0m\n\u001b[1;32m     32\u001b[0m     \u001b[0;31m# save test result\u001b[0m\u001b[0;34m\u001b[0m\u001b[0;34m\u001b[0m\u001b[0;34m\u001b[0m\u001b[0m\n",
            "\u001b[0;32m<ipython-input-45-9ee3df1b0fed>\u001b[0m in \u001b[0;36mcv_train\u001b[0;34m(pars, k, dir, n_epochs)\u001b[0m\n\u001b[1;32m     31\u001b[0m \u001b[0;34m\u001b[0m\u001b[0m\n\u001b[1;32m     32\u001b[0m     \u001b[0;31m## training model\u001b[0m\u001b[0;34m\u001b[0m\u001b[0;34m\u001b[0m\u001b[0;34m\u001b[0m\u001b[0m\n\u001b[0;32m---> 33\u001b[0;31m     \u001b[0mmodel_conv\u001b[0m\u001b[0;34m,\u001b[0m \u001b[0mvalid_loss_min\u001b[0m\u001b[0;34m,\u001b[0m \u001b[0mvalid_loss_trend\u001b[0m \u001b[0;34m=\u001b[0m \u001b[0mtrain_model\u001b[0m\u001b[0;34m(\u001b[0m\u001b[0mmodel_CNN\u001b[0m\u001b[0;34m,\u001b[0m \u001b[0mcriterion\u001b[0m\u001b[0;34m,\u001b[0m \u001b[0moptimizer\u001b[0m\u001b[0;34m,\u001b[0m\u001b[0mtrain_dataloader\u001b[0m\u001b[0;34m,\u001b[0m\u001b[0mval_dataloader\u001b[0m\u001b[0;34m,\u001b[0m \u001b[0mdir\u001b[0m\u001b[0;34m=\u001b[0m\u001b[0mfold_dir\u001b[0m\u001b[0;34m,\u001b[0m\u001b[0mn_epochs\u001b[0m\u001b[0;34m=\u001b[0m\u001b[0mn_epochs\u001b[0m\u001b[0;34m)\u001b[0m\u001b[0;34m\u001b[0m\u001b[0;34m\u001b[0m\u001b[0m\n\u001b[0m\u001b[1;32m     34\u001b[0m \u001b[0;34m\u001b[0m\u001b[0m\n\u001b[1;32m     35\u001b[0m     \u001b[0mmodel_cv\u001b[0m\u001b[0;34m.\u001b[0m\u001b[0mappend\u001b[0m\u001b[0;34m(\u001b[0m\u001b[0mmodel_conv\u001b[0m\u001b[0;34m)\u001b[0m\u001b[0;34m\u001b[0m\u001b[0;34m\u001b[0m\u001b[0m\n",
            "\u001b[0;32m<ipython-input-47-527b5ba89c00>\u001b[0m in \u001b[0;36mtrain_model\u001b[0;34m(model, criterion, optimizer, train_dataloader, val_dataloader, dir, n_epochs)\u001b[0m\n\u001b[1;32m     15\u001b[0m             \u001b[0;31m# zero the parameter gradients\u001b[0m\u001b[0;34m\u001b[0m\u001b[0;34m\u001b[0m\u001b[0;34m\u001b[0m\u001b[0m\n\u001b[1;32m     16\u001b[0m             \u001b[0moptimizer\u001b[0m\u001b[0;34m.\u001b[0m\u001b[0mzero_grad\u001b[0m\u001b[0;34m(\u001b[0m\u001b[0;34m)\u001b[0m\u001b[0;34m\u001b[0m\u001b[0;34m\u001b[0m\u001b[0m\n\u001b[0;32m---> 17\u001b[0;31m             \u001b[0moutput\u001b[0m\u001b[0;34m=\u001b[0m\u001b[0mmodel\u001b[0m\u001b[0;34m(\u001b[0m\u001b[0mimage\u001b[0m\u001b[0;34m)\u001b[0m\u001b[0;34m.\u001b[0m\u001b[0mreshape\u001b[0m\u001b[0;34m(\u001b[0m\u001b[0;34m-\u001b[0m\u001b[0;36m1\u001b[0m\u001b[0;34m)\u001b[0m\u001b[0;34m\u001b[0m\u001b[0;34m\u001b[0m\u001b[0m\n\u001b[0m\u001b[1;32m     18\u001b[0m             \u001b[0;31m# calculate loss\u001b[0m\u001b[0;34m\u001b[0m\u001b[0;34m\u001b[0m\u001b[0;34m\u001b[0m\u001b[0m\n\u001b[1;32m     19\u001b[0m             \u001b[0mloss\u001b[0m \u001b[0;34m=\u001b[0m \u001b[0mcriterion\u001b[0m\u001b[0;34m(\u001b[0m\u001b[0;34m(\u001b[0m\u001b[0moutput\u001b[0m\u001b[0;34m)\u001b[0m\u001b[0;34m.\u001b[0m\u001b[0mtype\u001b[0m\u001b[0;34m(\u001b[0m\u001b[0mtorch\u001b[0m\u001b[0;34m.\u001b[0m\u001b[0mFloatTensor\u001b[0m\u001b[0;34m)\u001b[0m\u001b[0;34m.\u001b[0m\u001b[0mto\u001b[0m\u001b[0;34m(\u001b[0m\u001b[0mdevice\u001b[0m\u001b[0;34m)\u001b[0m\u001b[0;34m,\u001b[0m \u001b[0mlabel\u001b[0m\u001b[0;34m.\u001b[0m\u001b[0mtype\u001b[0m\u001b[0;34m(\u001b[0m\u001b[0mtorch\u001b[0m\u001b[0;34m.\u001b[0m\u001b[0mFloatTensor\u001b[0m\u001b[0;34m)\u001b[0m\u001b[0;34m.\u001b[0m\u001b[0mto\u001b[0m\u001b[0;34m(\u001b[0m\u001b[0mdevice\u001b[0m\u001b[0;34m)\u001b[0m\u001b[0;34m)\u001b[0m\u001b[0;34m\u001b[0m\u001b[0;34m\u001b[0m\u001b[0m\n",
            "\u001b[0;32m/usr/local/lib/python3.7/dist-packages/torch/nn/modules/module.py\u001b[0m in \u001b[0;36m_call_impl\u001b[0;34m(self, *input, **kwargs)\u001b[0m\n\u001b[1;32m   1100\u001b[0m         if not (self._backward_hooks or self._forward_hooks or self._forward_pre_hooks or _global_backward_hooks\n\u001b[1;32m   1101\u001b[0m                 or _global_forward_hooks or _global_forward_pre_hooks):\n\u001b[0;32m-> 1102\u001b[0;31m             \u001b[0;32mreturn\u001b[0m \u001b[0mforward_call\u001b[0m\u001b[0;34m(\u001b[0m\u001b[0;34m*\u001b[0m\u001b[0minput\u001b[0m\u001b[0;34m,\u001b[0m \u001b[0;34m**\u001b[0m\u001b[0mkwargs\u001b[0m\u001b[0;34m)\u001b[0m\u001b[0;34m\u001b[0m\u001b[0;34m\u001b[0m\u001b[0m\n\u001b[0m\u001b[1;32m   1103\u001b[0m         \u001b[0;31m# Do not call functions when jit is used\u001b[0m\u001b[0;34m\u001b[0m\u001b[0;34m\u001b[0m\u001b[0;34m\u001b[0m\u001b[0m\n\u001b[1;32m   1104\u001b[0m         \u001b[0mfull_backward_hooks\u001b[0m\u001b[0;34m,\u001b[0m \u001b[0mnon_full_backward_hooks\u001b[0m \u001b[0;34m=\u001b[0m \u001b[0;34m[\u001b[0m\u001b[0;34m]\u001b[0m\u001b[0;34m,\u001b[0m \u001b[0;34m[\u001b[0m\u001b[0;34m]\u001b[0m\u001b[0;34m\u001b[0m\u001b[0;34m\u001b[0m\u001b[0m\n",
            "\u001b[0;32m<ipython-input-46-b2aae937f105>\u001b[0m in \u001b[0;36mforward\u001b[0;34m(self, x)\u001b[0m\n\u001b[1;32m     24\u001b[0m         \u001b[0mbs\u001b[0m\u001b[0;34m,\u001b[0m \u001b[0m_\u001b[0m\u001b[0;34m,\u001b[0m \u001b[0m_\u001b[0m\u001b[0;34m,\u001b[0m \u001b[0m_\u001b[0m \u001b[0;34m=\u001b[0m \u001b[0mx\u001b[0m\u001b[0;34m.\u001b[0m\u001b[0mshape\u001b[0m\u001b[0;34m\u001b[0m\u001b[0;34m\u001b[0m\u001b[0m\n\u001b[1;32m     25\u001b[0m         \u001b[0;31m# print(x.size(0))\u001b[0m\u001b[0;34m\u001b[0m\u001b[0;34m\u001b[0m\u001b[0;34m\u001b[0m\u001b[0m\n\u001b[0;32m---> 26\u001b[0;31m         \u001b[0mx\u001b[0m \u001b[0;34m=\u001b[0m \u001b[0mself\u001b[0m\u001b[0;34m.\u001b[0m\u001b[0mmodel\u001b[0m\u001b[0;34m.\u001b[0m\u001b[0m_features\u001b[0m\u001b[0;34m(\u001b[0m\u001b[0mx\u001b[0m\u001b[0;34m)\u001b[0m\u001b[0;34m\u001b[0m\u001b[0;34m\u001b[0m\u001b[0m\n\u001b[0m\u001b[1;32m     27\u001b[0m         \u001b[0mx\u001b[0m \u001b[0;34m=\u001b[0m \u001b[0mself\u001b[0m\u001b[0;34m.\u001b[0m\u001b[0mfc1\u001b[0m\u001b[0;34m(\u001b[0m\u001b[0mx\u001b[0m\u001b[0;34m.\u001b[0m\u001b[0mreshape\u001b[0m\u001b[0;34m(\u001b[0m\u001b[0mbs\u001b[0m\u001b[0;34m,\u001b[0m\u001b[0;34m-\u001b[0m\u001b[0;36m1\u001b[0m\u001b[0;34m)\u001b[0m\u001b[0;34m)\u001b[0m\u001b[0;34m\u001b[0m\u001b[0;34m\u001b[0m\u001b[0m\n\u001b[1;32m     28\u001b[0m         \u001b[0mx\u001b[0m \u001b[0;34m=\u001b[0m \u001b[0mself\u001b[0m\u001b[0;34m.\u001b[0m\u001b[0mactivation1\u001b[0m\u001b[0;34m(\u001b[0m\u001b[0mx\u001b[0m\u001b[0;34m)\u001b[0m\u001b[0;34m\u001b[0m\u001b[0;34m\u001b[0m\u001b[0m\n",
            "\u001b[0;32m/usr/local/lib/python3.7/dist-packages/torch/nn/modules/module.py\u001b[0m in \u001b[0;36m_call_impl\u001b[0;34m(self, *input, **kwargs)\u001b[0m\n\u001b[1;32m   1100\u001b[0m         if not (self._backward_hooks or self._forward_hooks or self._forward_pre_hooks or _global_backward_hooks\n\u001b[1;32m   1101\u001b[0m                 or _global_forward_hooks or _global_forward_pre_hooks):\n\u001b[0;32m-> 1102\u001b[0;31m             \u001b[0;32mreturn\u001b[0m \u001b[0mforward_call\u001b[0m\u001b[0;34m(\u001b[0m\u001b[0;34m*\u001b[0m\u001b[0minput\u001b[0m\u001b[0;34m,\u001b[0m \u001b[0;34m**\u001b[0m\u001b[0mkwargs\u001b[0m\u001b[0;34m)\u001b[0m\u001b[0;34m\u001b[0m\u001b[0;34m\u001b[0m\u001b[0m\n\u001b[0m\u001b[1;32m   1103\u001b[0m         \u001b[0;31m# Do not call functions when jit is used\u001b[0m\u001b[0;34m\u001b[0m\u001b[0;34m\u001b[0m\u001b[0;34m\u001b[0m\u001b[0m\n\u001b[1;32m   1104\u001b[0m         \u001b[0mfull_backward_hooks\u001b[0m\u001b[0;34m,\u001b[0m \u001b[0mnon_full_backward_hooks\u001b[0m \u001b[0;34m=\u001b[0m \u001b[0;34m[\u001b[0m\u001b[0;34m]\u001b[0m\u001b[0;34m,\u001b[0m \u001b[0;34m[\u001b[0m\u001b[0;34m]\u001b[0m\u001b[0;34m\u001b[0m\u001b[0;34m\u001b[0m\u001b[0m\n",
            "\u001b[0;32m/usr/local/lib/python3.7/dist-packages/torch/nn/modules/container.py\u001b[0m in \u001b[0;36mforward\u001b[0;34m(self, input)\u001b[0m\n\u001b[1;32m    139\u001b[0m     \u001b[0;32mdef\u001b[0m \u001b[0mforward\u001b[0m\u001b[0;34m(\u001b[0m\u001b[0mself\u001b[0m\u001b[0;34m,\u001b[0m \u001b[0minput\u001b[0m\u001b[0;34m)\u001b[0m\u001b[0;34m:\u001b[0m\u001b[0;34m\u001b[0m\u001b[0;34m\u001b[0m\u001b[0m\n\u001b[1;32m    140\u001b[0m         \u001b[0;32mfor\u001b[0m \u001b[0mmodule\u001b[0m \u001b[0;32min\u001b[0m \u001b[0mself\u001b[0m\u001b[0;34m:\u001b[0m\u001b[0;34m\u001b[0m\u001b[0;34m\u001b[0m\u001b[0m\n\u001b[0;32m--> 141\u001b[0;31m             \u001b[0minput\u001b[0m \u001b[0;34m=\u001b[0m \u001b[0mmodule\u001b[0m\u001b[0;34m(\u001b[0m\u001b[0minput\u001b[0m\u001b[0;34m)\u001b[0m\u001b[0;34m\u001b[0m\u001b[0;34m\u001b[0m\u001b[0m\n\u001b[0m\u001b[1;32m    142\u001b[0m         \u001b[0;32mreturn\u001b[0m \u001b[0minput\u001b[0m\u001b[0;34m\u001b[0m\u001b[0;34m\u001b[0m\u001b[0m\n\u001b[1;32m    143\u001b[0m \u001b[0;34m\u001b[0m\u001b[0m\n",
            "\u001b[0;32m/usr/local/lib/python3.7/dist-packages/torch/nn/modules/module.py\u001b[0m in \u001b[0;36m_call_impl\u001b[0;34m(self, *input, **kwargs)\u001b[0m\n\u001b[1;32m   1100\u001b[0m         if not (self._backward_hooks or self._forward_hooks or self._forward_pre_hooks or _global_backward_hooks\n\u001b[1;32m   1101\u001b[0m                 or _global_forward_hooks or _global_forward_pre_hooks):\n\u001b[0;32m-> 1102\u001b[0;31m             \u001b[0;32mreturn\u001b[0m \u001b[0mforward_call\u001b[0m\u001b[0;34m(\u001b[0m\u001b[0;34m*\u001b[0m\u001b[0minput\u001b[0m\u001b[0;34m,\u001b[0m \u001b[0;34m**\u001b[0m\u001b[0mkwargs\u001b[0m\u001b[0;34m)\u001b[0m\u001b[0;34m\u001b[0m\u001b[0;34m\u001b[0m\u001b[0m\n\u001b[0m\u001b[1;32m   1103\u001b[0m         \u001b[0;31m# Do not call functions when jit is used\u001b[0m\u001b[0;34m\u001b[0m\u001b[0;34m\u001b[0m\u001b[0;34m\u001b[0m\u001b[0m\n\u001b[1;32m   1104\u001b[0m         \u001b[0mfull_backward_hooks\u001b[0m\u001b[0;34m,\u001b[0m \u001b[0mnon_full_backward_hooks\u001b[0m \u001b[0;34m=\u001b[0m \u001b[0;34m[\u001b[0m\u001b[0;34m]\u001b[0m\u001b[0;34m,\u001b[0m \u001b[0;34m[\u001b[0m\u001b[0;34m]\u001b[0m\u001b[0;34m\u001b[0m\u001b[0;34m\u001b[0m\u001b[0m\n",
            "\u001b[0;32m/usr/local/lib/python3.7/dist-packages/torch/nn/modules/conv.py\u001b[0m in \u001b[0;36mforward\u001b[0;34m(self, input)\u001b[0m\n\u001b[1;32m    444\u001b[0m \u001b[0;34m\u001b[0m\u001b[0m\n\u001b[1;32m    445\u001b[0m     \u001b[0;32mdef\u001b[0m \u001b[0mforward\u001b[0m\u001b[0;34m(\u001b[0m\u001b[0mself\u001b[0m\u001b[0;34m,\u001b[0m \u001b[0minput\u001b[0m\u001b[0;34m:\u001b[0m \u001b[0mTensor\u001b[0m\u001b[0;34m)\u001b[0m \u001b[0;34m->\u001b[0m \u001b[0mTensor\u001b[0m\u001b[0;34m:\u001b[0m\u001b[0;34m\u001b[0m\u001b[0;34m\u001b[0m\u001b[0m\n\u001b[0;32m--> 446\u001b[0;31m         \u001b[0;32mreturn\u001b[0m \u001b[0mself\u001b[0m\u001b[0;34m.\u001b[0m\u001b[0m_conv_forward\u001b[0m\u001b[0;34m(\u001b[0m\u001b[0minput\u001b[0m\u001b[0;34m,\u001b[0m \u001b[0mself\u001b[0m\u001b[0;34m.\u001b[0m\u001b[0mweight\u001b[0m\u001b[0;34m,\u001b[0m \u001b[0mself\u001b[0m\u001b[0;34m.\u001b[0m\u001b[0mbias\u001b[0m\u001b[0;34m)\u001b[0m\u001b[0;34m\u001b[0m\u001b[0;34m\u001b[0m\u001b[0m\n\u001b[0m\u001b[1;32m    447\u001b[0m \u001b[0;34m\u001b[0m\u001b[0m\n\u001b[1;32m    448\u001b[0m \u001b[0;32mclass\u001b[0m \u001b[0mConv3d\u001b[0m\u001b[0;34m(\u001b[0m\u001b[0m_ConvNd\u001b[0m\u001b[0;34m)\u001b[0m\u001b[0;34m:\u001b[0m\u001b[0;34m\u001b[0m\u001b[0;34m\u001b[0m\u001b[0m\n",
            "\u001b[0;32m/usr/local/lib/python3.7/dist-packages/torch/nn/modules/conv.py\u001b[0m in \u001b[0;36m_conv_forward\u001b[0;34m(self, input, weight, bias)\u001b[0m\n\u001b[1;32m    441\u001b[0m                             _pair(0), self.dilation, self.groups)\n\u001b[1;32m    442\u001b[0m         return F.conv2d(input, weight, bias, self.stride,\n\u001b[0;32m--> 443\u001b[0;31m                         self.padding, self.dilation, self.groups)\n\u001b[0m\u001b[1;32m    444\u001b[0m \u001b[0;34m\u001b[0m\u001b[0m\n\u001b[1;32m    445\u001b[0m     \u001b[0;32mdef\u001b[0m \u001b[0mforward\u001b[0m\u001b[0;34m(\u001b[0m\u001b[0mself\u001b[0m\u001b[0;34m,\u001b[0m \u001b[0minput\u001b[0m\u001b[0;34m:\u001b[0m \u001b[0mTensor\u001b[0m\u001b[0;34m)\u001b[0m \u001b[0;34m->\u001b[0m \u001b[0mTensor\u001b[0m\u001b[0;34m:\u001b[0m\u001b[0;34m\u001b[0m\u001b[0;34m\u001b[0m\u001b[0m\n",
            "\u001b[0;31mRuntimeError\u001b[0m: CUDA out of memory. Tried to allocate 512.00 MiB (GPU 0; 14.76 GiB total capacity; 11.99 GiB already allocated; 217.75 MiB free; 13.22 GiB reserved in total by PyTorch) If reserved memory is >> allocated memory try setting max_split_size_mb to avoid fragmentation.  See documentation for Memory Management and PYTORCH_CUDA_ALLOC_CONF"
          ]
        }
      ],
      "source": [
        "from itertools import product, chain\n",
        "import os\n",
        "\n",
        "comp_model = []\n",
        "comp_valid_loss = []\n",
        "comp_valid_trend = []\n",
        "log = pd.DataFrame(columns=['num','model','criterion','adam_lr','directory'])\n",
        "root = 'drive/MyDrive/DL_Project/cv/CNN5/'\n",
        "\n",
        "# for n, (model,cri,lr) in enumerate(product(model_set,cri_set, optim_lr))[1:]:\n",
        "for n, pars in enumerate(product(model_set,cri_set, optim_lr)):\n",
        "    # if n ==0:\n",
        "    #   continue\n",
        "\n",
        "    # freeze_stat = True\n",
        "    # model_CNN = model(pretrained=True,freeze=freeze_stat).to(device)\n",
        "    # criterion = cri\n",
        "    # model_CNN_grad_paramaters = filter(lambda p: p.requires_grad, model_CNN.parameters())\n",
        "    # optimizer = optim.Adam(model_CNN_grad_paramaters, lr=lr)\n",
        "\n",
        "    dir = root+str(n)+'/'\n",
        "    if not os.path.isdir(dir):\n",
        "      os.makedirs(dir)\n",
        "      print(\"created folder : \", dir)\n",
        "    else:\n",
        "      print(dir, \"folder already exists.\")\n",
        "\n",
        "    print(n,pars,dir)\n",
        "\n",
        "    model_conv, valid_loss_min, valid_loss_trend = cv_train(pars,k=4,dir = dir,n_epochs=10)\n",
        "\n",
        "    # save test result\n",
        "    save_test_cv(model_conv,dir)\n",
        "    \n",
        "    # value_val_loss = valid_loss_min.cpu().data()\n",
        "    model,cri,lr = pars\n",
        "    row = pd.Series([n,model,cri,lr,dir],index=log.columns)\n",
        "    log = log.append(row,ignore_index=True)\n",
        "\n",
        "    # comp_idx = comp_idx.append(n)\n",
        "    # comp_idx_model = comp_idx_model.append(model)\n",
        "    # comp_cri = comp_cri.append(cri)\n",
        "    # comp_optim = comp_optim.append(optim)\n",
        "\n",
        "    comp_model.append(model_conv)\n",
        "    comp_valid_loss.append(valid_loss_min)\n",
        "    comp_valid_trend.append(valid_loss_trend)"
      ]
    },
    {
      "cell_type": "code",
      "execution_count": 36,
      "metadata": {
        "id": "7Uk6wbvSwWAv",
        "colab": {
          "base_uri": "https://localhost:8080/",
          "height": 300
        },
        "outputId": "2887e5c9-db4f-4c78-94d9-85149751a816"
      },
      "outputs": [
        {
          "output_type": "execute_result",
          "data": {
            "text/plain": [
              "  num                    model       criterion  adam_lr  \\\n",
              "0   0  <class '__main__.CNN1'>  SmoothL1Loss()   0.0005   \n",
              "1   1  <class '__main__.CNN1'>  SmoothL1Loss()   0.0010   \n",
              "2   2  <class '__main__.CNN1'>  SmoothL1Loss()   0.0050   \n",
              "3   3  <class '__main__.CNN2'>  SmoothL1Loss()   0.0005   \n",
              "4   4  <class '__main__.CNN2'>  SmoothL1Loss()   0.0010   \n",
              "5   5  <class '__main__.CNN2'>  SmoothL1Loss()   0.0050   \n",
              "6   6  <class '__main__.CNN5'>  SmoothL1Loss()   0.0005   \n",
              "7   7  <class '__main__.CNN5'>  SmoothL1Loss()   0.0010   \n",
              "\n",
              "                        directory   val_loss  \n",
              "0  drive/MyDrive/DL_Project/cv/0/   8.249653  \n",
              "1  drive/MyDrive/DL_Project/cv/1/  12.150156  \n",
              "2  drive/MyDrive/DL_Project/cv/2/  15.861349  \n",
              "3  drive/MyDrive/DL_Project/cv/3/   7.900105  \n",
              "4  drive/MyDrive/DL_Project/cv/4/  13.689599  \n",
              "5  drive/MyDrive/DL_Project/cv/5/  15.776743  \n",
              "6  drive/MyDrive/DL_Project/cv/6/   9.231282  \n",
              "7  drive/MyDrive/DL_Project/cv/7/   9.269606  "
            ],
            "text/html": [
              "\n",
              "  <div id=\"df-8ec7013c-6abe-45d8-8e05-5e274a99af97\">\n",
              "    <div class=\"colab-df-container\">\n",
              "      <div>\n",
              "<style scoped>\n",
              "    .dataframe tbody tr th:only-of-type {\n",
              "        vertical-align: middle;\n",
              "    }\n",
              "\n",
              "    .dataframe tbody tr th {\n",
              "        vertical-align: top;\n",
              "    }\n",
              "\n",
              "    .dataframe thead th {\n",
              "        text-align: right;\n",
              "    }\n",
              "</style>\n",
              "<table border=\"1\" class=\"dataframe\">\n",
              "  <thead>\n",
              "    <tr style=\"text-align: right;\">\n",
              "      <th></th>\n",
              "      <th>num</th>\n",
              "      <th>model</th>\n",
              "      <th>criterion</th>\n",
              "      <th>adam_lr</th>\n",
              "      <th>directory</th>\n",
              "      <th>val_loss</th>\n",
              "    </tr>\n",
              "  </thead>\n",
              "  <tbody>\n",
              "    <tr>\n",
              "      <th>0</th>\n",
              "      <td>0</td>\n",
              "      <td>&lt;class '__main__.CNN1'&gt;</td>\n",
              "      <td>SmoothL1Loss()</td>\n",
              "      <td>0.0005</td>\n",
              "      <td>drive/MyDrive/DL_Project/cv/0/</td>\n",
              "      <td>8.249653</td>\n",
              "    </tr>\n",
              "    <tr>\n",
              "      <th>1</th>\n",
              "      <td>1</td>\n",
              "      <td>&lt;class '__main__.CNN1'&gt;</td>\n",
              "      <td>SmoothL1Loss()</td>\n",
              "      <td>0.0010</td>\n",
              "      <td>drive/MyDrive/DL_Project/cv/1/</td>\n",
              "      <td>12.150156</td>\n",
              "    </tr>\n",
              "    <tr>\n",
              "      <th>2</th>\n",
              "      <td>2</td>\n",
              "      <td>&lt;class '__main__.CNN1'&gt;</td>\n",
              "      <td>SmoothL1Loss()</td>\n",
              "      <td>0.0050</td>\n",
              "      <td>drive/MyDrive/DL_Project/cv/2/</td>\n",
              "      <td>15.861349</td>\n",
              "    </tr>\n",
              "    <tr>\n",
              "      <th>3</th>\n",
              "      <td>3</td>\n",
              "      <td>&lt;class '__main__.CNN2'&gt;</td>\n",
              "      <td>SmoothL1Loss()</td>\n",
              "      <td>0.0005</td>\n",
              "      <td>drive/MyDrive/DL_Project/cv/3/</td>\n",
              "      <td>7.900105</td>\n",
              "    </tr>\n",
              "    <tr>\n",
              "      <th>4</th>\n",
              "      <td>4</td>\n",
              "      <td>&lt;class '__main__.CNN2'&gt;</td>\n",
              "      <td>SmoothL1Loss()</td>\n",
              "      <td>0.0010</td>\n",
              "      <td>drive/MyDrive/DL_Project/cv/4/</td>\n",
              "      <td>13.689599</td>\n",
              "    </tr>\n",
              "    <tr>\n",
              "      <th>5</th>\n",
              "      <td>5</td>\n",
              "      <td>&lt;class '__main__.CNN2'&gt;</td>\n",
              "      <td>SmoothL1Loss()</td>\n",
              "      <td>0.0050</td>\n",
              "      <td>drive/MyDrive/DL_Project/cv/5/</td>\n",
              "      <td>15.776743</td>\n",
              "    </tr>\n",
              "    <tr>\n",
              "      <th>6</th>\n",
              "      <td>6</td>\n",
              "      <td>&lt;class '__main__.CNN5'&gt;</td>\n",
              "      <td>SmoothL1Loss()</td>\n",
              "      <td>0.0005</td>\n",
              "      <td>drive/MyDrive/DL_Project/cv/6/</td>\n",
              "      <td>9.231282</td>\n",
              "    </tr>\n",
              "    <tr>\n",
              "      <th>7</th>\n",
              "      <td>7</td>\n",
              "      <td>&lt;class '__main__.CNN5'&gt;</td>\n",
              "      <td>SmoothL1Loss()</td>\n",
              "      <td>0.0010</td>\n",
              "      <td>drive/MyDrive/DL_Project/cv/7/</td>\n",
              "      <td>9.269606</td>\n",
              "    </tr>\n",
              "  </tbody>\n",
              "</table>\n",
              "</div>\n",
              "      <button class=\"colab-df-convert\" onclick=\"convertToInteractive('df-8ec7013c-6abe-45d8-8e05-5e274a99af97')\"\n",
              "              title=\"Convert this dataframe to an interactive table.\"\n",
              "              style=\"display:none;\">\n",
              "        \n",
              "  <svg xmlns=\"http://www.w3.org/2000/svg\" height=\"24px\"viewBox=\"0 0 24 24\"\n",
              "       width=\"24px\">\n",
              "    <path d=\"M0 0h24v24H0V0z\" fill=\"none\"/>\n",
              "    <path d=\"M18.56 5.44l.94 2.06.94-2.06 2.06-.94-2.06-.94-.94-2.06-.94 2.06-2.06.94zm-11 1L8.5 8.5l.94-2.06 2.06-.94-2.06-.94L8.5 2.5l-.94 2.06-2.06.94zm10 10l.94 2.06.94-2.06 2.06-.94-2.06-.94-.94-2.06-.94 2.06-2.06.94z\"/><path d=\"M17.41 7.96l-1.37-1.37c-.4-.4-.92-.59-1.43-.59-.52 0-1.04.2-1.43.59L10.3 9.45l-7.72 7.72c-.78.78-.78 2.05 0 2.83L4 21.41c.39.39.9.59 1.41.59.51 0 1.02-.2 1.41-.59l7.78-7.78 2.81-2.81c.8-.78.8-2.07 0-2.86zM5.41 20L4 18.59l7.72-7.72 1.47 1.35L5.41 20z\"/>\n",
              "  </svg>\n",
              "      </button>\n",
              "      \n",
              "  <style>\n",
              "    .colab-df-container {\n",
              "      display:flex;\n",
              "      flex-wrap:wrap;\n",
              "      gap: 12px;\n",
              "    }\n",
              "\n",
              "    .colab-df-convert {\n",
              "      background-color: #E8F0FE;\n",
              "      border: none;\n",
              "      border-radius: 50%;\n",
              "      cursor: pointer;\n",
              "      display: none;\n",
              "      fill: #1967D2;\n",
              "      height: 32px;\n",
              "      padding: 0 0 0 0;\n",
              "      width: 32px;\n",
              "    }\n",
              "\n",
              "    .colab-df-convert:hover {\n",
              "      background-color: #E2EBFA;\n",
              "      box-shadow: 0px 1px 2px rgba(60, 64, 67, 0.3), 0px 1px 3px 1px rgba(60, 64, 67, 0.15);\n",
              "      fill: #174EA6;\n",
              "    }\n",
              "\n",
              "    [theme=dark] .colab-df-convert {\n",
              "      background-color: #3B4455;\n",
              "      fill: #D2E3FC;\n",
              "    }\n",
              "\n",
              "    [theme=dark] .colab-df-convert:hover {\n",
              "      background-color: #434B5C;\n",
              "      box-shadow: 0px 1px 3px 1px rgba(0, 0, 0, 0.15);\n",
              "      filter: drop-shadow(0px 1px 2px rgba(0, 0, 0, 0.3));\n",
              "      fill: #FFFFFF;\n",
              "    }\n",
              "  </style>\n",
              "\n",
              "      <script>\n",
              "        const buttonEl =\n",
              "          document.querySelector('#df-8ec7013c-6abe-45d8-8e05-5e274a99af97 button.colab-df-convert');\n",
              "        buttonEl.style.display =\n",
              "          google.colab.kernel.accessAllowed ? 'block' : 'none';\n",
              "\n",
              "        async function convertToInteractive(key) {\n",
              "          const element = document.querySelector('#df-8ec7013c-6abe-45d8-8e05-5e274a99af97');\n",
              "          const dataTable =\n",
              "            await google.colab.kernel.invokeFunction('convertToInteractive',\n",
              "                                                     [key], {});\n",
              "          if (!dataTable) return;\n",
              "\n",
              "          const docLinkHtml = 'Like what you see? Visit the ' +\n",
              "            '<a target=\"_blank\" href=https://colab.research.google.com/notebooks/data_table.ipynb>data table notebook</a>'\n",
              "            + ' to learn more about interactive tables.';\n",
              "          element.innerHTML = '';\n",
              "          dataTable['output_type'] = 'display_data';\n",
              "          await google.colab.output.renderOutput(dataTable, element);\n",
              "          const docLink = document.createElement('div');\n",
              "          docLink.innerHTML = docLinkHtml;\n",
              "          element.appendChild(docLink);\n",
              "        }\n",
              "      </script>\n",
              "    </div>\n",
              "  </div>\n",
              "  "
            ]
          },
          "metadata": {},
          "execution_count": 36
        }
      ],
      "source": [
        "val_loss = []\n",
        "for idx in range(len(comp_valid_loss)):\n",
        "  mean_val_loss = torch.stack(comp_valid_loss[idx]).cpu().data.mean()\n",
        "  val_loss.append(mean_val_loss)\n",
        "log['mean_val_loss'] = torch.stack(val_loss).tolist()\n",
        "log_path = root+'log.csv'\n",
        "log.to_csv(root+'log.csv')\n",
        "log"
      ]
    },
    {
      "cell_type": "markdown",
      "metadata": {
        "id": "iMJCiCG-M1Ut"
      },
      "source": [
        "## Points to note:\n",
        "\n",
        "General Rules: Participants should estimate the percentage of Covid-19 infection from each slice using Machine Learning. **Only ImageNet's pre-trained models and Lung Nodule Segmentation models are allowed**. The use of external data or other pre-trained models is not allowed. The models must be trained using the training data and evaluated using the validation data.\n",
        "\n",
        "##Things you can try:\n",
        "\n",
        "- The dataset is not as big and especially negative covid images are very few.\n",
        "It would be better to use k-fold cross validation rather than conventional splitting.\n",
        "- How would you split image splices from the same patient subject into train & val set?\n",
        "- How would the information on the patient (subject #) help your prediction?\n",
        "- What kind of preprocessing/data augmentation method help your model? What kind of methods would actually make your model perform worse?\n",
        "- What other different CNN architectures could you explore to acheive lower MAE?\n",
        "- Explore different optimizers, loss combinations, etc\n",
        "- Explore different regularization methods\n",
        "\n",
        "This is no way an exhaustive list. You might get a better idea by reading relevant research papers. Good luck!"
      ]
    },
    {
      "cell_type": "code",
      "execution_count": null,
      "metadata": {
        "id": "fVwLtw1piBcj"
      },
      "outputs": [],
      "source": [
        ""
      ]
    }
  ],
  "metadata": {
    "accelerator": "GPU",
    "colab": {
      "collapsed_sections": [],
      "name": "competition_compare.ipynb",
      "provenance": [],
      "include_colab_link": true
    },
    "kernelspec": {
      "display_name": "Python 3 (ipykernel)",
      "language": "python",
      "name": "python3"
    },
    "language_info": {
      "codemirror_mode": {
        "name": "ipython",
        "version": 3
      },
      "file_extension": ".py",
      "mimetype": "text/x-python",
      "name": "python",
      "nbconvert_exporter": "python",
      "pygments_lexer": "ipython3",
      "version": "3.9.7"
    }
  },
  "nbformat": 4,
  "nbformat_minor": 0
}