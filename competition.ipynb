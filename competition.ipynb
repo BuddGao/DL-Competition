{
  "nbformat": 4,
  "nbformat_minor": 0,
  "metadata": {
    "colab": {
      "name": "competition.ipynb",
      "provenance": [],
      "collapsed_sections": [],
      "include_colab_link": true
    },
    "kernelspec": {
      "name": "python3",
      "display_name": "Python 3"
    },
    "language_info": {
      "name": "python"
    },
    "accelerator": "GPU"
  },
  "cells": [
    {
      "cell_type": "markdown",
      "metadata": {
        "id": "view-in-github",
        "colab_type": "text"
      },
      "source": [
        "<a href=\"https://colab.research.google.com/github/BuddGao/DL-Competition/blob/main/competition.ipynb\" target=\"_parent\"><img src=\"https://colab.research.google.com/assets/colab-badge.svg\" alt=\"Open In Colab\"/></a>"
      ]
    },
    {
      "cell_type": "code",
      "execution_count": 4,
      "metadata": {
        "id": "HLmZdwaRm_oK",
        "colab": {
          "base_uri": "https://localhost:8080/"
        },
        "outputId": "d293fd33-f542-43ca-d8b4-d2b21ae9cc9d"
      },
      "outputs": [
        {
          "output_type": "stream",
          "name": "stdout",
          "text": [
            "Mounted at /content/drive\n"
          ]
        }
      ],
      "source": [
        "from google.colab import drive\n",
        "drive.mount('/content/drive')"
      ]
    },
    {
      "cell_type": "code",
      "source": [
        "#!unzip \"drive/MyDrive/DL_Project/Val Blind.zip\" -d  \"drive/MyDrive/DL_Project/\"\n"
      ],
      "metadata": {
        "id": "0aXA-pNEqoMn"
      },
      "execution_count": null,
      "outputs": []
    },
    {
      "cell_type": "code",
      "source": [
        "## preprocess data\n",
        "## create custom data class\n",
        "\n",
        "from sklearn.model_selection import KFold\n",
        "import os\n",
        "import torch\n",
        "import pandas as pd\n",
        "from skimage import io, transform\n",
        "\n",
        "#from monai.transforms import Compose, LoadImage, AddChannel, ScaleIntensity,RandRotate, ToTensor, RandFlip, RandZoom, Resize, RandGaussianNoise\n",
        "import numpy as np\n",
        "import matplotlib.pyplot as plt\n",
        "from torch.utils.data import Dataset, DataLoader\n",
        "from torchvision import transforms, utils, models, datasets\n",
        "import cv2\n",
        "from PIL import Image\n",
        "import glob\n",
        "\n",
        "class CovidDataset(Dataset):\n",
        "    \"\"\"Covid CT dataset.\"\"\"\n",
        "\n",
        "    def __init__(self, csv_file, root_dir, transform=None):\n",
        "        \"\"\"\n",
        "        Args:\n",
        "            csv_file (string): Path to the csv file with annotations.\n",
        "            root_dir (string): Directory with all the images.\n",
        "            transform (callable, optional): Optional transform to be applied\n",
        "                on a sample.\n",
        "        \"\"\"\n",
        "        self.label_data = pd.read_csv(csv_file)\n",
        "        self.root_dir = root_dir\n",
        "        ## you can apply custom transformation on the image for data augmentation\n",
        "        self.transform = transform\n",
        "\n",
        "    def __len__(self):\n",
        "        return len(self.label_data)\n",
        "\n",
        "    def __getitem__(self, idx):\n",
        "        if torch.is_tensor(idx):\n",
        "            idx = idx.tolist()\n",
        "\n",
        "        img_name = os.path.join(self.root_dir, self.label_data.iloc[idx, 0])\n",
        "        image = io.imread(img_name)\n",
        "        image = cv2.cvtColor(image, cv2.COLOR_BGRA2BGR)\n",
        "        \n",
        " \n",
        "        p = self.label_data.iloc[idx, 1]\n",
        "\n",
        "        subject_num = self.label_data.iloc[idx, 2]\n",
        "        \n",
        "\n",
        "        # should be only applied on image, not percentage or subject #\n",
        "        if self.transform:\n",
        "            image = self.transform(image)\n",
        "        sample = {'image': image, 'percentage': p, 'subject': subject_num, 'img_name':img_name}\n",
        "        return sample"
      ],
      "metadata": {
        "id": "95O_gDz_qtRL"
      },
      "execution_count": 5,
      "outputs": []
    },
    {
      "cell_type": "code",
      "source": [
        "class CovidTestDataset(Dataset):\n",
        "    \"\"\"Covid CT TEST dataset.\"\"\"\n",
        "\n",
        "    def __init__(self, root_dir, transform=None):\n",
        "        \"\"\"\n",
        "        Args:\n",
        "            root_dir (string): Directory with all the images.\n",
        "            transform (callable, optional): Optional transform to be applied\n",
        "                on a sample.\n",
        "        \"\"\"\n",
        "        self.root_dir = root_dir\n",
        "        self.transform = transform\n",
        "        self.image_list = []\n",
        "        for filename in glob.glob(self.root_dir+\"/*.png\"): #assuming png\n",
        "          self.image_list.append(filename)\n",
        "\n",
        "    def __len__(self):\n",
        "        return len(self.image_list)\n",
        "\n",
        "    def __getitem__(self, idx):\n",
        "        if torch.is_tensor(idx):\n",
        "            idx = idx.tolist()\n",
        "\n",
        "        img_name = self.image_list[idx]\n",
        "        image = io.imread(img_name)\n",
        "        image = cv2.cvtColor(image, cv2.COLOR_BGRA2BGR)\n",
        "        image = torchvision.transforms.functional.to_tensor(image)\n",
        "\n",
        "        # should be only applied on image, not percentage or subject #\n",
        "        if self.transform:\n",
        "            image = self.transform(image)\n",
        "    \n",
        "        sample = {'image': image, 'img_name':img_name}\n",
        "        return sample"
      ],
      "metadata": {
        "id": "mLJWR3q3rDhV"
      },
      "execution_count": 6,
      "outputs": []
    },
    {
      "cell_type": "code",
      "source": [
        "import torchvision\n",
        "covid_dataset_train_val = CovidDataset(csv_file='drive/MyDrive/DL_Project/Train.csv',\n",
        "                                    root_dir='drive/MyDrive/DL_Project/Train'\n",
        "                                    ,transform = transforms.Compose([\n",
        "                                                transforms.ToPILImage(),                     \n",
        "                                                transforms.Resize((224, 224)),\n",
        "                                                transforms.RandomHorizontalFlip(),\n",
        "                                                transforms.RandomRotation(15),\n",
        "                                                \n",
        "                                                transforms.ToTensor(),\n",
        "                                                \n",
        "                                                transforms.Normalize([0.485, 0.456, 0.406], [0.229, 0.224, 0.225]) ])\n",
        "                                    \n",
        "                                    )\n",
        "\n",
        "covid_dataset_test = CovidTestDataset(root_dir='drive/MyDrive/DL_Project/Val',\n",
        "                                      transform = transforms.Compose([\n",
        "                                                transforms.ToPILImage(),                     \n",
        "                                                transforms.Resize((224, 224)),\n",
        "                                                \n",
        "                                                transforms.ToTensor(),\n",
        "                                                \n",
        "                                                transforms.Normalize([0.485, 0.456, 0.406], [0.229, 0.224, 0.225]) ])\n",
        "                                      #,transform = transforms.Compose([\n",
        "                                        #  LoadImage(),\n",
        "                                         # AddChannel(),\n",
        "                                          #ScaleIntensity(),\n",
        "                                          #ToTensor()])\n",
        "                                    )"
      ],
      "metadata": {
        "id": "1_7VyeU-rHx3"
      },
      "execution_count": 7,
      "outputs": []
    },
    {
      "cell_type": "code",
      "source": [
        "## plot training example\n",
        "for i in range(len(covid_dataset_train_val)):\n",
        "    sample = covid_dataset_train_val[i]\n",
        "    print(i, sample['image'].shape, sample['percentage'], sample['subject'])\n",
        "    ax = plt.subplot(1, 4, i + 1)\n",
        "    plt.tight_layout()\n",
        "    ax.set_title('Sample #{}'.format(i))\n",
        "    ax.axis('off')\n",
        "    plt.imshow(sample['image'].numpy().transpose(1,2,0))\n",
        "    if i == 3:\n",
        "        plt.show()\n",
        "        break"
      ],
      "metadata": {
        "colab": {
          "base_uri": "https://localhost:8080/",
          "height": 261
        },
        "id": "_sUEYc2trJ3x",
        "outputId": "ed267b68-88ca-4857-a28a-b809cb517979"
      },
      "execution_count": 8,
      "outputs": [
        {
          "output_type": "stream",
          "name": "stderr",
          "text": [
            "Clipping input data to the valid range for imshow with RGB data ([0..1] for floats or [0..255] for integers).\n"
          ]
        },
        {
          "output_type": "stream",
          "name": "stdout",
          "text": [
            "0 torch.Size([3, 224, 224]) 0.0 0\n"
          ]
        },
        {
          "output_type": "stream",
          "name": "stderr",
          "text": [
            "Clipping input data to the valid range for imshow with RGB data ([0..1] for floats or [0..255] for integers).\n"
          ]
        },
        {
          "output_type": "stream",
          "name": "stdout",
          "text": [
            "1 torch.Size([3, 224, 224]) 0.0 0\n"
          ]
        },
        {
          "output_type": "stream",
          "name": "stderr",
          "text": [
            "Clipping input data to the valid range for imshow with RGB data ([0..1] for floats or [0..255] for integers).\n"
          ]
        },
        {
          "output_type": "stream",
          "name": "stdout",
          "text": [
            "2 torch.Size([3, 224, 224]) 0.0 0\n"
          ]
        },
        {
          "output_type": "stream",
          "name": "stderr",
          "text": [
            "Clipping input data to the valid range for imshow with RGB data ([0..1] for floats or [0..255] for integers).\n"
          ]
        },
        {
          "output_type": "stream",
          "name": "stdout",
          "text": [
            "3 torch.Size([3, 224, 224]) 0.0 0\n"
          ]
        },
        {
          "output_type": "display_data",
          "data": {
            "text/plain": [
              "<Figure size 432x288 with 4 Axes>"
            ],
            "image/png": "[encoded data removed]"
          },
          "metadata": {
            "needs_background": "light"
          }
        }
      ]
    },
    {
      "cell_type": "code",
      "source": [
        "## plot test examples\n",
        "for i in range(len(covid_dataset_test)):\n",
        "    sample = covid_dataset_test[i]\n",
        "    print(i, sample['image'].shape, sample['img_name'])\n",
        "    ax = plt.subplot(1, 4, i + 1)\n",
        "    plt.tight_layout()\n",
        "    ax.set_title('Sample #{}'.format(i))\n",
        "    ax.axis('off')\n",
        "    plt.imshow(sample['image'].numpy().transpose(1,2,0))\n",
        "    if i == 3:\n",
        "        plt.show()\n",
        "        break"
      ],
      "metadata": {
        "colab": {
          "base_uri": "https://localhost:8080/",
          "height": 261
        },
        "id": "X9YhBC4BrLz5",
        "outputId": "d872d36d-d485-471a-912e-3f01e4d65074"
      },
      "execution_count": 9,
      "outputs": [
        {
          "output_type": "stream",
          "name": "stderr",
          "text": [
            "Clipping input data to the valid range for imshow with RGB data ([0..1] for floats or [0..255] for integers).\n"
          ]
        },
        {
          "output_type": "stream",
          "name": "stdout",
          "text": [
            "0 torch.Size([3, 224, 224]) drive/MyDrive/DL_Project/Val/Image_0304.png\n"
          ]
        },
        {
          "output_type": "stream",
          "name": "stderr",
          "text": [
            "Clipping input data to the valid range for imshow with RGB data ([0..1] for floats or [0..255] for integers).\n"
          ]
        },
        {
          "output_type": "stream",
          "name": "stdout",
          "text": [
            "1 torch.Size([3, 224, 224]) drive/MyDrive/DL_Project/Val/Image_0301.png\n"
          ]
        },
        {
          "output_type": "stream",
          "name": "stderr",
          "text": [
            "Clipping input data to the valid range for imshow with RGB data ([0..1] for floats or [0..255] for integers).\n"
          ]
        },
        {
          "output_type": "stream",
          "name": "stdout",
          "text": [
            "2 torch.Size([3, 224, 224]) drive/MyDrive/DL_Project/Val/Image_0302.png\n"
          ]
        },
        {
          "output_type": "stream",
          "name": "stderr",
          "text": [
            "Clipping input data to the valid range for imshow with RGB data ([0..1] for floats or [0..255] for integers).\n"
          ]
        },
        {
          "output_type": "stream",
          "name": "stdout",
          "text": [
            "3 torch.Size([3, 224, 224]) drive/MyDrive/DL_Project/Val/Image_0303.png\n"
          ]
        },
        {
          "output_type": "display_data",
          "data": {
            "text/plain": [
              "<Figure size 432x288 with 4 Axes>"
            ],
            "image/png": "[encoded data removed]"
          },
          "metadata": {
            "needs_background": "light"
          }
        }
      ]
    },
    {
      "cell_type": "code",
      "source": [
        "# generate the index of subjects for k-fold cross validation\n",
        "def generate_index(dat,k):\n",
        "    \n",
        "    Y = list(range(0,dat[-1]['subject']+1))\n",
        "    kf = KFold(n_splits=k, shuffle=True)\n",
        "    n = len(Y)\n",
        "    index = {'train_index':[],\n",
        "             'val_index':[]}\n",
        "\n",
        "    for train_index, val_index in kf.split(np.zeros(n), Y):\n",
        "        index['train_index'].append(train_index)\n",
        "        index['val_index'].append(val_index)\n",
        "        \n",
        "    \n",
        "    return pd.DataFrame(index['train_index']).T,pd.DataFrame(index['val_index']).T"
      ],
      "metadata": {
        "id": "Frop9y5KaDU_"
      },
      "execution_count": 10,
      "outputs": []
    },
    {
      "cell_type": "code",
      "source": [
        "# get links form subjects to images\n",
        "dfl = pd.read_csv('drive/MyDrive/DL_Project/Train.csv')\n",
        "subtoimage = []\n",
        "le = []\n",
        "for sub in range(0,covid_dataset_train_val[-1]['subject']+1):\n",
        "  subtoimage.append(dfl[dfl['0'] == sub].index.tolist())\n",
        "  le.append(len(dfl[dfl['0'] == sub].index.tolist()))"
      ],
      "metadata": {
        "id": "6HvaOrrVs5sd"
      },
      "execution_count": 11,
      "outputs": []
    },
    {
      "cell_type": "code",
      "source": [
        "# get images' index form subjects' index\n",
        "def get_image_index(subindex,subtoimage):\n",
        "    imageindex = []\n",
        "    for sub in range(0,len(subindex)):\n",
        "        imageindex.extend(subtoimage[subindex[sub]])\n",
        "    return imageindex"
      ],
      "metadata": {
        "id": "UatrtHxvxXrG"
      },
      "execution_count": 12,
      "outputs": []
    },
    {
      "cell_type": "code",
      "source": [
        "!pip install pretrainedmodels"
      ],
      "metadata": {
        "id": "T_AOEe-ycaue",
        "colab": {
          "base_uri": "https://localhost:8080/"
        },
        "outputId": "08933a4e-226f-4018-b8b9-5b7986dd05b2"
      },
      "execution_count": 10,
      "outputs": [
        {
          "output_type": "stream",
          "name": "stdout",
          "text": [
            "Collecting pretrainedmodels\n",
            "  Downloading pretrainedmodels-0.7.4.tar.gz (58 kB)\n",
            "\u001b[?25l\r\u001b[K     |█████▋                          | 10 kB 31.3 MB/s eta 0:00:01\r\u001b[K     |███████████▏                    | 20 kB 8.4 MB/s eta 0:00:01\r\u001b[K     |████████████████▊               | 30 kB 7.4 MB/s eta 0:00:01\r\u001b[K     |██████████████████████▎         | 40 kB 3.3 MB/s eta 0:00:01\r\u001b[K     |███████████████████████████▉    | 51 kB 3.8 MB/s eta 0:00:01\r\u001b[K     |████████████████████████████████| 58 kB 2.7 MB/s \n",
            "\u001b[?25hRequirement already satisfied: torch in /usr/local/lib/python3.7/dist-packages (from pretrainedmodels) (1.10.0+cu111)\n",
            "Requirement already satisfied: torchvision in /usr/local/lib/python3.7/dist-packages (from pretrainedmodels) (0.11.1+cu111)\n",
            "Collecting munch\n",
            "  Downloading munch-2.5.0-py2.py3-none-any.whl (10 kB)\n",
            "Requirement already satisfied: tqdm in /usr/local/lib/python3.7/dist-packages (from pretrainedmodels) (4.63.0)\n",
            "Requirement already satisfied: six in /usr/local/lib/python3.7/dist-packages (from munch->pretrainedmodels) (1.15.0)\n",
            "Requirement already satisfied: typing-extensions in /usr/local/lib/python3.7/dist-packages (from torch->pretrainedmodels) (3.10.0.2)\n",
            "Requirement already satisfied: numpy in /usr/local/lib/python3.7/dist-packages (from torchvision->pretrainedmodels) (1.21.5)\n",
            "Requirement already satisfied: pillow!=8.3.0,>=5.3.0 in /usr/local/lib/python3.7/dist-packages (from torchvision->pretrainedmodels) (7.1.2)\n",
            "Building wheels for collected packages: pretrainedmodels\n",
            "  Building wheel for pretrainedmodels (setup.py) ... \u001b[?25l\u001b[?25hdone\n",
            "  Created wheel for pretrainedmodels: filename=pretrainedmodels-0.7.4-py3-none-any.whl size=60965 sha256=64418efe5be8683c8b5beeb928b40d262a8b3677a58e2d1eff7732013678b743\n",
            "  Stored in directory: /root/.cache/pip/wheels/ed/27/e8/9543d42de2740d3544db96aefef63bda3f2c1761b3334f4873\n",
            "Successfully built pretrainedmodels\n",
            "Installing collected packages: munch, pretrainedmodels\n",
            "Successfully installed munch-2.5.0 pretrainedmodels-0.7.4\n"
          ]
        }
      ]
    },
    {
      "cell_type": "code",
      "source": [
        "device = torch.device(\"cuda:0\" if torch.cuda.is_available() else \"cpu\")\n",
        "print(device)"
      ],
      "metadata": {
        "id": "sD8JtRvlcbxH",
        "colab": {
          "base_uri": "https://localhost:8080/"
        },
        "outputId": "e590f684-58b6-4cc8-c441-00842d607be5"
      },
      "execution_count": 13,
      "outputs": [
        {
          "output_type": "stream",
          "name": "stdout",
          "text": [
            "cuda:0\n"
          ]
        }
      ]
    },
    {
      "cell_type": "code",
      "source": [
        "import pretrainedmodels\n",
        "#For model building\n",
        "import torch\n",
        "from torch import nn, optim\n",
        "from torch.nn import functional as F\n",
        "\n",
        "class CNN1(nn.Module):\n",
        "    def __init__(self, pretrained=True):\n",
        "        super(CNN1, self).__init__()\n",
        "        if pretrained is True:\n",
        "            self.model = pretrainedmodels.__dict__[\"resnet34\"](pretrained=\"imagenet\")\n",
        "        else:\n",
        "            self.model = pretrainedmodels.__dict__[\"resnet34\"](pretrained=None)\n",
        "        #self.fc1 = nn.Linear(512, 256)\n",
        "        self.conv1 = nn.Conv2d(512, 128, (2,2), stride=1, padding =0)\n",
        "        self.conv2 = nn.Conv2d(128, 32, (2,2), stride=1, padding =0)\n",
        "        #self.pool = nn.AdaptiveAvgPool2d(output_size = (1,1))\n",
        "        self.dropout = nn.Dropout(p=0.5)\n",
        "        self.conv3 = nn.Conv2d(32, 8, (2,2), stride=1, padding =0)\n",
        "        self.fc1 = nn.Linear(128, 1)\n",
        "        \n",
        "    def forward(self, x):\n",
        "        bs, _, _, _ = x.shape\n",
        "        x = self.model.features(x)\n",
        "        #x = F.adaptive_avg_pool2d(x, x.shape[3])\n",
        "        # \n",
        "        #label = self.fc1(x.reshape(bs, -1))\n",
        "        #x = self.pool(x)\n",
        "        #x = F.relu(self.fc1(x))\n",
        "\n",
        "        x = self.conv1(x)\n",
        "        x = self.conv2(x)\n",
        "        x = self.dropout(x)\n",
        "        x = self.conv3(F.relu(x))\n",
        "        #print(x.size()) # [8, 8, 4, 4]\n",
        "        label = self.fc1(x.reshape(bs, -1))  # [8, 128]\n",
        "        return label"
      ],
      "metadata": {
        "id": "hTCqAlwLcb59",
        "colab": {
          "base_uri": "https://localhost:8080/",
          "height": 374
        },
        "outputId": "fed13de2-b400-4350-cf6b-d4b37b9693dc"
      },
      "execution_count": 14,
      "outputs": [
        {
          "output_type": "error",
          "ename": "ModuleNotFoundError",
          "evalue": "ignored",
          "traceback": [
            "\u001b[0;31m---------------------------------------------------------------------------\u001b[0m",
            "\u001b[0;31mModuleNotFoundError\u001b[0m                       Traceback (most recent call last)",
            "\u001b[0;32m<ipython-input-14-3df07c1470b2>\u001b[0m in \u001b[0;36m<module>\u001b[0;34m()\u001b[0m\n\u001b[0;32m----> 1\u001b[0;31m \u001b[0;32mimport\u001b[0m \u001b[0mpretrainedmodels\u001b[0m\u001b[0;34m\u001b[0m\u001b[0;34m\u001b[0m\u001b[0m\n\u001b[0m\u001b[1;32m      2\u001b[0m \u001b[0;31m#For model building\u001b[0m\u001b[0;34m\u001b[0m\u001b[0;34m\u001b[0m\u001b[0;34m\u001b[0m\u001b[0m\n\u001b[1;32m      3\u001b[0m \u001b[0;32mimport\u001b[0m \u001b[0mtorch\u001b[0m\u001b[0;34m\u001b[0m\u001b[0;34m\u001b[0m\u001b[0m\n\u001b[1;32m      4\u001b[0m \u001b[0;32mfrom\u001b[0m \u001b[0mtorch\u001b[0m \u001b[0;32mimport\u001b[0m \u001b[0mnn\u001b[0m\u001b[0;34m,\u001b[0m \u001b[0moptim\u001b[0m\u001b[0;34m\u001b[0m\u001b[0;34m\u001b[0m\u001b[0m\n\u001b[1;32m      5\u001b[0m \u001b[0;32mfrom\u001b[0m \u001b[0mtorch\u001b[0m\u001b[0;34m.\u001b[0m\u001b[0mnn\u001b[0m \u001b[0;32mimport\u001b[0m \u001b[0mfunctional\u001b[0m \u001b[0;32mas\u001b[0m \u001b[0mF\u001b[0m\u001b[0;34m\u001b[0m\u001b[0;34m\u001b[0m\u001b[0m\n",
            "\u001b[0;31mModuleNotFoundError\u001b[0m: No module named 'pretrainedmodels'",
            "",
            "\u001b[0;31m---------------------------------------------------------------------------\u001b[0;32m\nNOTE: If your import is failing due to a missing package, you can\nmanually install dependencies using either !pip or !apt.\n\nTo view examples of installing some common dependencies, click the\n\"Open Examples\" button below.\n\u001b[0;31m---------------------------------------------------------------------------\u001b[0m\n"
          ],
          "errorDetails": {
            "actions": [
              {
                "action": "open_url",
                "actionText": "Open Examples",
                "url": "/notebooks/snippets/importing_libraries.ipynb"
              }
            ]
          }
        }
      ]
    },
    {
      "cell_type": "code",
      "source": [
        "from torchsummary import summary\n",
        "model_CNN = CNN1(True).to(device)\n",
        "\n",
        "summary(model_CNN,input_size=(3, 224, 224))"
      ],
      "metadata": {
        "id": "PPUTngYAx7zT",
        "colab": {
          "base_uri": "https://localhost:8080/"
        },
        "outputId": "304ba9d0-50ec-4bf3-ea12-605a05ad54b0"
      },
      "execution_count": 28,
      "outputs": [
        {
          "output_type": "stream",
          "name": "stdout",
          "text": [
            "----------------------------------------------------------------\n",
            "        Layer (type)               Output Shape         Param #\n",
            "================================================================\n",
            "            Conv2d-1         [-1, 64, 112, 112]           9,408\n",
            "       BatchNorm2d-2         [-1, 64, 112, 112]             128\n",
            "              ReLU-3         [-1, 64, 112, 112]               0\n",
            "         MaxPool2d-4           [-1, 64, 56, 56]               0\n",
            "            Conv2d-5           [-1, 64, 56, 56]          36,864\n",
            "       BatchNorm2d-6           [-1, 64, 56, 56]             128\n",
            "              ReLU-7           [-1, 64, 56, 56]               0\n",
            "            Conv2d-8           [-1, 64, 56, 56]          36,864\n",
            "       BatchNorm2d-9           [-1, 64, 56, 56]             128\n",
            "             ReLU-10           [-1, 64, 56, 56]               0\n",
            "       BasicBlock-11           [-1, 64, 56, 56]               0\n",
            "           Conv2d-12           [-1, 64, 56, 56]          36,864\n",
            "      BatchNorm2d-13           [-1, 64, 56, 56]             128\n",
            "             ReLU-14           [-1, 64, 56, 56]               0\n",
            "           Conv2d-15           [-1, 64, 56, 56]          36,864\n",
            "      BatchNorm2d-16           [-1, 64, 56, 56]             128\n",
            "             ReLU-17           [-1, 64, 56, 56]               0\n",
            "       BasicBlock-18           [-1, 64, 56, 56]               0\n",
            "           Conv2d-19           [-1, 64, 56, 56]          36,864\n",
            "      BatchNorm2d-20           [-1, 64, 56, 56]             128\n",
            "             ReLU-21           [-1, 64, 56, 56]               0\n",
            "           Conv2d-22           [-1, 64, 56, 56]          36,864\n",
            "      BatchNorm2d-23           [-1, 64, 56, 56]             128\n",
            "             ReLU-24           [-1, 64, 56, 56]               0\n",
            "       BasicBlock-25           [-1, 64, 56, 56]               0\n",
            "           Conv2d-26          [-1, 128, 28, 28]          73,728\n",
            "      BatchNorm2d-27          [-1, 128, 28, 28]             256\n",
            "             ReLU-28          [-1, 128, 28, 28]               0\n",
            "           Conv2d-29          [-1, 128, 28, 28]         147,456\n",
            "      BatchNorm2d-30          [-1, 128, 28, 28]             256\n",
            "           Conv2d-31          [-1, 128, 28, 28]           8,192\n",
            "      BatchNorm2d-32          [-1, 128, 28, 28]             256\n",
            "             ReLU-33          [-1, 128, 28, 28]               0\n",
            "       BasicBlock-34          [-1, 128, 28, 28]               0\n",
            "           Conv2d-35          [-1, 128, 28, 28]         147,456\n",
            "      BatchNorm2d-36          [-1, 128, 28, 28]             256\n",
            "             ReLU-37          [-1, 128, 28, 28]               0\n",
            "           Conv2d-38          [-1, 128, 28, 28]         147,456\n",
            "      BatchNorm2d-39          [-1, 128, 28, 28]             256\n",
            "             ReLU-40          [-1, 128, 28, 28]               0\n",
            "       BasicBlock-41          [-1, 128, 28, 28]               0\n",
            "           Conv2d-42          [-1, 128, 28, 28]         147,456\n",
            "      BatchNorm2d-43          [-1, 128, 28, 28]             256\n",
            "             ReLU-44          [-1, 128, 28, 28]               0\n",
            "           Conv2d-45          [-1, 128, 28, 28]         147,456\n",
            "      BatchNorm2d-46          [-1, 128, 28, 28]             256\n",
            "             ReLU-47          [-1, 128, 28, 28]               0\n",
            "       BasicBlock-48          [-1, 128, 28, 28]               0\n",
            "           Conv2d-49          [-1, 128, 28, 28]         147,456\n",
            "      BatchNorm2d-50          [-1, 128, 28, 28]             256\n",
            "             ReLU-51          [-1, 128, 28, 28]               0\n",
            "           Conv2d-52          [-1, 128, 28, 28]         147,456\n",
            "      BatchNorm2d-53          [-1, 128, 28, 28]             256\n",
            "             ReLU-54          [-1, 128, 28, 28]               0\n",
            "       BasicBlock-55          [-1, 128, 28, 28]               0\n",
            "           Conv2d-56          [-1, 256, 14, 14]         294,912\n",
            "      BatchNorm2d-57          [-1, 256, 14, 14]             512\n",
            "             ReLU-58          [-1, 256, 14, 14]               0\n",
            "           Conv2d-59          [-1, 256, 14, 14]         589,824\n",
            "      BatchNorm2d-60          [-1, 256, 14, 14]             512\n",
            "           Conv2d-61          [-1, 256, 14, 14]          32,768\n",
            "      BatchNorm2d-62          [-1, 256, 14, 14]             512\n",
            "             ReLU-63          [-1, 256, 14, 14]               0\n",
            "       BasicBlock-64          [-1, 256, 14, 14]               0\n",
            "           Conv2d-65          [-1, 256, 14, 14]         589,824\n",
            "      BatchNorm2d-66          [-1, 256, 14, 14]             512\n",
            "             ReLU-67          [-1, 256, 14, 14]               0\n",
            "           Conv2d-68          [-1, 256, 14, 14]         589,824\n",
            "      BatchNorm2d-69          [-1, 256, 14, 14]             512\n",
            "             ReLU-70          [-1, 256, 14, 14]               0\n",
            "       BasicBlock-71          [-1, 256, 14, 14]               0\n",
            "           Conv2d-72          [-1, 256, 14, 14]         589,824\n",
            "      BatchNorm2d-73          [-1, 256, 14, 14]             512\n",
            "             ReLU-74          [-1, 256, 14, 14]               0\n",
            "           Conv2d-75          [-1, 256, 14, 14]         589,824\n",
            "      BatchNorm2d-76          [-1, 256, 14, 14]             512\n",
            "             ReLU-77          [-1, 256, 14, 14]               0\n",
            "       BasicBlock-78          [-1, 256, 14, 14]               0\n",
            "           Conv2d-79          [-1, 256, 14, 14]         589,824\n",
            "      BatchNorm2d-80          [-1, 256, 14, 14]             512\n",
            "             ReLU-81          [-1, 256, 14, 14]               0\n",
            "           Conv2d-82          [-1, 256, 14, 14]         589,824\n",
            "      BatchNorm2d-83          [-1, 256, 14, 14]             512\n",
            "             ReLU-84          [-1, 256, 14, 14]               0\n",
            "       BasicBlock-85          [-1, 256, 14, 14]               0\n",
            "           Conv2d-86          [-1, 256, 14, 14]         589,824\n",
            "      BatchNorm2d-87          [-1, 256, 14, 14]             512\n",
            "             ReLU-88          [-1, 256, 14, 14]               0\n",
            "           Conv2d-89          [-1, 256, 14, 14]         589,824\n",
            "      BatchNorm2d-90          [-1, 256, 14, 14]             512\n",
            "             ReLU-91          [-1, 256, 14, 14]               0\n",
            "       BasicBlock-92          [-1, 256, 14, 14]               0\n",
            "           Conv2d-93          [-1, 256, 14, 14]         589,824\n",
            "      BatchNorm2d-94          [-1, 256, 14, 14]             512\n",
            "             ReLU-95          [-1, 256, 14, 14]               0\n",
            "           Conv2d-96          [-1, 256, 14, 14]         589,824\n",
            "      BatchNorm2d-97          [-1, 256, 14, 14]             512\n",
            "             ReLU-98          [-1, 256, 14, 14]               0\n",
            "       BasicBlock-99          [-1, 256, 14, 14]               0\n",
            "          Conv2d-100            [-1, 512, 7, 7]       1,179,648\n",
            "     BatchNorm2d-101            [-1, 512, 7, 7]           1,024\n",
            "            ReLU-102            [-1, 512, 7, 7]               0\n",
            "          Conv2d-103            [-1, 512, 7, 7]       2,359,296\n",
            "     BatchNorm2d-104            [-1, 512, 7, 7]           1,024\n",
            "          Conv2d-105            [-1, 512, 7, 7]         131,072\n",
            "     BatchNorm2d-106            [-1, 512, 7, 7]           1,024\n",
            "            ReLU-107            [-1, 512, 7, 7]               0\n",
            "      BasicBlock-108            [-1, 512, 7, 7]               0\n",
            "          Conv2d-109            [-1, 512, 7, 7]       2,359,296\n",
            "     BatchNorm2d-110            [-1, 512, 7, 7]           1,024\n",
            "            ReLU-111            [-1, 512, 7, 7]               0\n",
            "          Conv2d-112            [-1, 512, 7, 7]       2,359,296\n",
            "     BatchNorm2d-113            [-1, 512, 7, 7]           1,024\n",
            "            ReLU-114            [-1, 512, 7, 7]               0\n",
            "      BasicBlock-115            [-1, 512, 7, 7]               0\n",
            "          Conv2d-116            [-1, 512, 7, 7]       2,359,296\n",
            "     BatchNorm2d-117            [-1, 512, 7, 7]           1,024\n",
            "            ReLU-118            [-1, 512, 7, 7]               0\n",
            "          Conv2d-119            [-1, 512, 7, 7]       2,359,296\n",
            "     BatchNorm2d-120            [-1, 512, 7, 7]           1,024\n",
            "            ReLU-121            [-1, 512, 7, 7]               0\n",
            "      BasicBlock-122            [-1, 512, 7, 7]               0\n",
            "          Conv2d-123            [-1, 128, 6, 6]         262,272\n",
            "          Conv2d-124             [-1, 32, 5, 5]          16,416\n",
            "         Dropout-125             [-1, 32, 5, 5]               0\n",
            "          Conv2d-126              [-1, 8, 4, 4]           1,032\n",
            "          Linear-127                    [-1, 1]             129\n",
            "================================================================\n",
            "Total params: 21,564,521\n",
            "Trainable params: 21,564,521\n",
            "Non-trainable params: 0\n",
            "----------------------------------------------------------------\n",
            "Input size (MB): 0.57\n",
            "Forward/backward pass size (MB): 96.33\n",
            "Params size (MB): 82.26\n",
            "Estimated Total Size (MB): 179.16\n",
            "----------------------------------------------------------------\n"
          ]
        }
      ]
    },
    {
      "cell_type": "code",
      "source": [
        "def train_model(model, criterion, optimizer, n_epochs=21):\n",
        "    \"\"\"returns trained model\"\"\"\n",
        "    # initialize tracker for minimum validation loss\n",
        "    valid_loss_min = np.Inf\n",
        "    for epoch in range(1, n_epochs):\n",
        "        train_loss = 0.0\n",
        "        valid_loss = 0.0\n",
        "        mse = 0\n",
        "        mymse = 0\n",
        "        # train the model #\n",
        "        model.train()\n",
        "        for batch_idx, sample_batched in enumerate(train_dataloader):\n",
        "            # importing data and moving to GPU\n",
        "            image, label = sample_batched['image'].to(device), sample_batched['percentage'].to(device)\n",
        "            # zero the parameter gradients\n",
        "            optimizer.zero_grad()\n",
        "            output=model(image).reshape(-1)\n",
        "            # calculate loss\n",
        "            loss = criterion((output).type(torch.FloatTensor).to(device), label.type(torch.FloatTensor).to(device))\n",
        "            # back prop\n",
        "            loss.backward()\n",
        "            # grad\n",
        "            optimizer.step()\n",
        "            train_loss = train_loss + ((1 / (batch_idx + 1)) * (loss.data - train_loss))\n",
        "            if batch_idx % 100 == 0:\n",
        "                print('Epoch %d, Batch %d loss: %.6f' %\n",
        "                  (epoch, batch_idx + 1, train_loss))\n",
        "        # validate the model #\n",
        "        model.eval()\n",
        "        \n",
        "        for batch_idx, sample_batched in enumerate(val_dataloader):\n",
        "            image, label = sample_batched['image'].to(device), sample_batched['percentage'].to(device)  \n",
        "            output = model(image).reshape(-1)\n",
        "            # calculate loss\n",
        "            loss=criterion((output).type(torch.FloatTensor).to(device), label.type(torch.FloatTensor).to(device))\n",
        "            valid_loss = valid_loss + ((1 / (batch_idx + 1)) * (loss.data - valid_loss))\n",
        "\n",
        "        # print training/validation statistics \n",
        "        print('Epoch: {} \\tTraining Loss: {:.6f} \\tValidation Loss: {:.6f}'.format(\n",
        "            epoch, train_loss, valid_loss))\n",
        "        \n",
        "        ## TODO: save the model if validation loss has decreased\n",
        "        if valid_loss < valid_loss_min:\n",
        "            torch.save(model.state_dict(), 'drive/MyDrive/DL_Project/model.pth')\n",
        "            print('Validation loss decreased ({:.6f} --> {:.6f}).  Saving model ...'.format(\n",
        "            valid_loss_min,\n",
        "            valid_loss))\n",
        "            valid_loss_min = valid_loss\n",
        "    \n",
        "\n",
        "    # return trained model\n",
        "    return model,valid_loss_min"
      ],
      "metadata": {
        "id": "U8Xtqd2rcihx"
      },
      "execution_count": 15,
      "outputs": []
    },
    {
      "cell_type": "code",
      "source": [
        "def train_val_dataloader(split_i, train_index, val_index, covid_dataset_train_val, subtoimage):\n",
        "  train_imageindex = get_image_index(train_index.iloc[:,split_i],subtoimage)\n",
        "  val_imageindex = get_image_index(val_index.iloc[:,split_i],subtoimage)\n",
        "  train_dataset = torch.utils.data.Subset(covid_dataset_train_val,train_imageindex)\n",
        "  val_dataset = torch.utils.data.Subset(covid_dataset_train_val,val_imageindex)\n",
        "  train_dataloader = DataLoader(train_dataset, batch_size=8, shuffle=True, num_workers=0)\n",
        "  val_dataloader = DataLoader(val_dataset, batch_size=8, shuffle=True, num_workers=0)\n",
        "  return train_dataloader,val_dataloader"
      ],
      "metadata": {
        "id": "MKZM4qOkuewr"
      },
      "execution_count": 16,
      "outputs": []
    },
    {
      "cell_type": "code",
      "source": [
        "k = 4\n",
        "train_index,val_index = generate_index(covid_dataset_train_val,k)\n",
        "test_dataloader = DataLoader(covid_dataset_test, batch_size=8, shuffle=True, num_workers=0)\n",
        "\n",
        "# Normalization prediction need inverse.\n",
        "## normalize = transforms.Normalize(mean=[0.485, 0.456, 0.406], std=[0.229, 0.224, 0.225])\n",
        "valid_cvloss = []\n",
        "test_df = []\n",
        "mae_dl = []\n",
        "mamse = []\n",
        "for split_i in range(0,k):\n",
        "  ## split given train set to train & val set by subjects\n",
        "  print('CV Fold - ', split_i)\n",
        "\n",
        "  train_dataloader,val_dataloader = train_val_dataloader(split_i, train_index, val_index, covid_dataset_train_val, subtoimage)\n",
        "  #Setting model and moving to device\n",
        "  model_CNN = CNN1(True).to(device)\n",
        "\n",
        "  # Freeze training for all \"features\" layers\n",
        "  for param in model_CNN.parameters():\n",
        "      param.requires_grad = False\n",
        "\n",
        "  model_CNN.conv1 = nn.Conv2d(512, 128, (2,2), stride=1, padding =0)\n",
        "  model_CNN.conv2 = nn.Conv2d(128, 32, (2,2), stride=1, padding =0)\n",
        "  model_CNN.conv3 = nn.Conv2d(32, 8, (2,2), stride=1, padding =0)\n",
        "  model_CNN.fc1 = nn.Linear(128, 1)\n",
        "\n",
        "  if torch.cuda.is_available():\n",
        "      model_CNN = model_CNN.cuda()\n",
        "  criterion = nn.SmoothL1Loss()\n",
        "  #optimizer = optim.SGD(model_CNN.parameters(), lr=0.001, momentum=0.9)\n",
        "  model_CNN_grad_paramaters = filter(lambda p: p.requires_grad, model_CNN.parameters())\n",
        "  optimizer = optim.Adam(model_CNN_grad_paramaters, lr=0.0005)\n",
        "\n",
        "  ## training model\n",
        "  model_conv,valid_loss_min=train_model(model_CNN, criterion, optimizer)\n",
        "\n",
        "  valid_cvloss.append(valid_loss_min)\n",
        "  ## load best val_model \n",
        "  model_conv = CNN1(True).to(device)\n",
        "  model_conv.load_state_dict(torch.load('drive/MyDrive/DL_Project/model.pth'))\n",
        "  model_conv.eval()\n",
        "  ## val_mse\n",
        "  #mae_loss = 0\n",
        "  #mae = 0\n",
        "  #for batch_idx, sample_batched in enumerate(val_dataloader):\n",
        "   #         image, label = sample_batched['image'].to(device), sample_batched['percentage'].to(device)  \n",
        "    #        output = model_conv(image).reshape(-1)\n",
        "     #       \n",
        "      #      loss=nn.L1Loss(((output).type(torch.FloatTensor).to(device), label.type(torch.FloatTensor).to(device)))\n",
        "       #     mse_loss = mse_loss + ((1 / (batch_idx + 1)) * (loss.data - mse_loss))\n",
        "        #    mse += loss.data\n",
        "  #mse_dl.append(mae_loss)\n",
        "  #mymse.append(mae)\n",
        "  ## test_pred\n",
        "  df = pd.DataFrame(columns=['image_name','output'])\n",
        "  for batch_idx, sample_batched in enumerate(test_dataloader):\n",
        "     image= sample_batched['image'].to(device)\n",
        "     img_name= sample_batched['img_name']\n",
        "     output = model_conv(image).type(torch.LongTensor).reshape(-1)\n",
        "     img_name = np.array(img_name).reshape(output.shape[0],1)\n",
        "     o = output.cpu().data.numpy().reshape(output.shape[0],1)\n",
        "     a = np.concatenate((img_name,o),axis=1)\n",
        "     df = df.append(pd.DataFrame(a, columns=df.columns), ignore_index=True)\n",
        "  df.to_csv('drive/MyDrive/DL_Project/' + str(split_i) + '4fcv.csv', index=False, header=False)  \n",
        "  test_df.append(df)\n"
      ],
      "metadata": {
        "id": "zE5E7Cu8cGio",
        "colab": {
          "base_uri": "https://localhost:8080/"
        },
        "outputId": "045f8964-468b-467c-a731-801694fddfc0"
      },
      "execution_count": 75,
      "outputs": [
        {
          "output_type": "stream",
          "name": "stdout",
          "text": [
            "Epoch 1, Batch 1 loss: 21.230022\n",
            "Epoch 1, Batch 101 loss: 15.079804\n",
            "Epoch 1, Batch 201 loss: 12.560377\n",
            "Epoch: 1 \tTraining Loss: 11.534252 \tValidation Loss: 11.420654\n",
            "Validation loss decreased (inf --> 11.420654).  Saving model ...\n",
            "Epoch 2, Batch 1 loss: 7.148390\n",
            "Epoch 2, Batch 101 loss: 9.740016\n",
            "Epoch 2, Batch 201 loss: 9.398560\n",
            "Epoch: 2 \tTraining Loss: 9.128562 \tValidation Loss: 9.414207\n",
            "Validation loss decreased (11.420654 --> 9.414207).  Saving model ...\n",
            "Epoch 3, Batch 1 loss: 5.181296\n",
            "Epoch 3, Batch 101 loss: 8.545670\n",
            "Epoch 3, Batch 201 loss: 8.596227\n",
            "Epoch: 3 \tTraining Loss: 8.627314 \tValidation Loss: 10.125955\n",
            "Epoch 4, Batch 1 loss: 10.535910\n",
            "Epoch 4, Batch 101 loss: 7.759298\n",
            "Epoch 4, Batch 201 loss: 7.977429\n",
            "Epoch: 4 \tTraining Loss: 8.101211 \tValidation Loss: 9.789248\n",
            "Epoch 5, Batch 1 loss: 9.341356\n",
            "Epoch 5, Batch 101 loss: 8.488050\n",
            "Epoch 5, Batch 201 loss: 8.149611\n",
            "Epoch: 5 \tTraining Loss: 7.985822 \tValidation Loss: 10.368964\n",
            "Epoch 6, Batch 1 loss: 1.725059\n",
            "Epoch 6, Batch 101 loss: 8.627279\n",
            "Epoch 6, Batch 201 loss: 7.991961\n",
            "Epoch: 6 \tTraining Loss: 7.842006 \tValidation Loss: 10.224874\n",
            "Epoch 7, Batch 1 loss: 17.477110\n",
            "Epoch 7, Batch 101 loss: 7.852589\n",
            "Epoch 7, Batch 201 loss: 7.831216\n",
            "Epoch: 7 \tTraining Loss: 7.702862 \tValidation Loss: 9.449689\n",
            "Epoch 8, Batch 1 loss: 1.990965\n",
            "Epoch 8, Batch 101 loss: 7.056731\n",
            "Epoch 8, Batch 201 loss: 7.163024\n",
            "Epoch: 8 \tTraining Loss: 7.421236 \tValidation Loss: 9.967155\n",
            "Epoch 9, Batch 1 loss: 18.371687\n",
            "Epoch 9, Batch 101 loss: 7.318894\n",
            "Epoch 9, Batch 201 loss: 7.579154\n",
            "Epoch: 9 \tTraining Loss: 7.263042 \tValidation Loss: 10.058503\n",
            "Epoch 10, Batch 1 loss: 12.946987\n",
            "Epoch 10, Batch 101 loss: 7.354072\n",
            "Epoch 10, Batch 201 loss: 7.046219\n",
            "Epoch: 10 \tTraining Loss: 6.958892 \tValidation Loss: 10.264236\n",
            "Epoch 11, Batch 1 loss: 11.397431\n",
            "Epoch 11, Batch 101 loss: 6.633043\n",
            "Epoch 11, Batch 201 loss: 6.740168\n",
            "Epoch: 11 \tTraining Loss: 6.975896 \tValidation Loss: 9.356425\n",
            "Validation loss decreased (9.414207 --> 9.356425).  Saving model ...\n",
            "Epoch 12, Batch 1 loss: 8.003067\n",
            "Epoch 12, Batch 101 loss: 6.842255\n",
            "Epoch 12, Batch 201 loss: 7.152124\n",
            "Epoch: 12 \tTraining Loss: 6.987756 \tValidation Loss: 9.395364\n",
            "Epoch 13, Batch 1 loss: 3.408209\n",
            "Epoch 13, Batch 101 loss: 7.279295\n",
            "Epoch 13, Batch 201 loss: 6.837570\n",
            "Epoch: 13 \tTraining Loss: 6.811798 \tValidation Loss: 9.003080\n",
            "Validation loss decreased (9.356425 --> 9.003080).  Saving model ...\n",
            "Epoch 14, Batch 1 loss: 6.462131\n",
            "Epoch 14, Batch 101 loss: 6.579103\n",
            "Epoch 14, Batch 201 loss: 6.605367\n",
            "Epoch: 14 \tTraining Loss: 6.551026 \tValidation Loss: 8.741267\n",
            "Validation loss decreased (9.003080 --> 8.741267).  Saving model ...\n",
            "Epoch 15, Batch 1 loss: 5.148934\n",
            "Epoch 15, Batch 101 loss: 6.759963\n",
            "Epoch 15, Batch 201 loss: 6.663817\n",
            "Epoch: 15 \tTraining Loss: 6.599345 \tValidation Loss: 9.218781\n",
            "Epoch 16, Batch 1 loss: 3.035152\n",
            "Epoch 16, Batch 101 loss: 6.637153\n",
            "Epoch 16, Batch 201 loss: 6.710547\n",
            "Epoch: 16 \tTraining Loss: 6.742414 \tValidation Loss: 9.476162\n",
            "Epoch 17, Batch 1 loss: 6.770152\n",
            "Epoch 17, Batch 101 loss: 6.575907\n",
            "Epoch 17, Batch 201 loss: 6.459190\n",
            "Epoch: 17 \tTraining Loss: 6.358135 \tValidation Loss: 9.457084\n",
            "Epoch 18, Batch 1 loss: 3.642286\n",
            "Epoch 18, Batch 101 loss: 6.780292\n",
            "Epoch 18, Batch 201 loss: 6.501705\n",
            "Epoch: 18 \tTraining Loss: 6.474566 \tValidation Loss: 8.852452\n",
            "Epoch 19, Batch 1 loss: 10.187410\n",
            "Epoch 19, Batch 101 loss: 6.504534\n",
            "Epoch 19, Batch 201 loss: 6.311034\n",
            "Epoch: 19 \tTraining Loss: 6.275753 \tValidation Loss: 9.808552\n",
            "Epoch 20, Batch 1 loss: 7.541559\n",
            "Epoch 20, Batch 101 loss: 6.571518\n",
            "Epoch 20, Batch 201 loss: 6.633522\n",
            "Epoch: 20 \tTraining Loss: 6.525747 \tValidation Loss: 8.736500\n",
            "Validation loss decreased (8.741267 --> 8.736500).  Saving model ...\n",
            "Epoch 1, Batch 1 loss: 19.236076\n",
            "Epoch 1, Batch 101 loss: 14.923919\n",
            "Epoch 1, Batch 201 loss: 13.405868\n",
            "Epoch: 1 \tTraining Loss: 12.286646 \tValidation Loss: 8.076232\n",
            "Validation loss decreased (inf --> 8.076232).  Saving model ...\n",
            "Epoch 2, Batch 1 loss: 13.045214\n",
            "Epoch 2, Batch 101 loss: 9.247443\n",
            "Epoch 2, Batch 201 loss: 9.283196\n",
            "Epoch: 2 \tTraining Loss: 9.360227 \tValidation Loss: 7.622248\n",
            "Validation loss decreased (8.076232 --> 7.622248).  Saving model ...\n",
            "Epoch 3, Batch 1 loss: 8.481585\n",
            "Epoch 3, Batch 101 loss: 9.076699\n",
            "Epoch 3, Batch 201 loss: 9.044786\n",
            "Epoch: 3 \tTraining Loss: 9.045744 \tValidation Loss: 7.766860\n",
            "Epoch 4, Batch 1 loss: 2.366423\n",
            "Epoch 4, Batch 101 loss: 8.341060\n",
            "Epoch 4, Batch 201 loss: 8.660288\n",
            "Epoch: 4 \tTraining Loss: 8.617256 \tValidation Loss: 7.794299\n",
            "Epoch 5, Batch 1 loss: 8.006514\n",
            "Epoch 5, Batch 101 loss: 8.872124\n",
            "Epoch 5, Batch 201 loss: 8.632146\n",
            "Epoch: 5 \tTraining Loss: 8.273216 \tValidation Loss: 7.867235\n",
            "Epoch 6, Batch 1 loss: 16.976982\n",
            "Epoch 6, Batch 101 loss: 8.008523\n",
            "Epoch 6, Batch 201 loss: 8.274619\n",
            "Epoch: 6 \tTraining Loss: 8.275968 \tValidation Loss: 9.091344\n",
            "Epoch 7, Batch 1 loss: 11.046051\n",
            "Epoch 7, Batch 101 loss: 8.419320\n",
            "Epoch 7, Batch 201 loss: 8.006317\n",
            "Epoch: 7 \tTraining Loss: 7.741351 \tValidation Loss: 7.006257\n",
            "Validation loss decreased (7.622248 --> 7.006257).  Saving model ...\n",
            "Epoch 8, Batch 1 loss: 4.491036\n",
            "Epoch 8, Batch 101 loss: 7.727089\n",
            "Epoch 8, Batch 201 loss: 7.583227\n",
            "Epoch: 8 \tTraining Loss: 7.953946 \tValidation Loss: 6.711521\n",
            "Validation loss decreased (7.006257 --> 6.711521).  Saving model ...\n",
            "Epoch 9, Batch 1 loss: 3.417072\n",
            "Epoch 9, Batch 101 loss: 7.851630\n",
            "Epoch 9, Batch 201 loss: 7.608237\n",
            "Epoch: 9 \tTraining Loss: 7.463024 \tValidation Loss: 7.209453\n",
            "Epoch 10, Batch 1 loss: 5.559442\n",
            "Epoch 10, Batch 101 loss: 8.118180\n",
            "Epoch 10, Batch 201 loss: 7.606412\n",
            "Epoch: 10 \tTraining Loss: 7.605819 \tValidation Loss: 7.082795\n",
            "Epoch 11, Batch 1 loss: 11.180757\n",
            "Epoch 11, Batch 101 loss: 7.961590\n",
            "Epoch 11, Batch 201 loss: 7.679461\n",
            "Epoch: 11 \tTraining Loss: 7.562046 \tValidation Loss: 7.504583\n",
            "Epoch 12, Batch 1 loss: 9.169076\n",
            "Epoch 12, Batch 101 loss: 7.602897\n",
            "Epoch 12, Batch 201 loss: 7.489333\n",
            "Epoch: 12 \tTraining Loss: 7.464571 \tValidation Loss: 6.995515\n",
            "Epoch 13, Batch 1 loss: 5.333316\n",
            "Epoch 13, Batch 101 loss: 7.451420\n",
            "Epoch 13, Batch 201 loss: 7.624375\n",
            "Epoch: 13 \tTraining Loss: 7.301468 \tValidation Loss: 7.227201\n",
            "Epoch 14, Batch 1 loss: 18.448971\n",
            "Epoch 14, Batch 101 loss: 6.640344\n",
            "Epoch 14, Batch 201 loss: 7.116166\n",
            "Epoch: 14 \tTraining Loss: 7.211160 \tValidation Loss: 7.052356\n",
            "Epoch 15, Batch 1 loss: 5.551564\n",
            "Epoch 15, Batch 101 loss: 7.084580\n",
            "Epoch 15, Batch 201 loss: 7.345503\n",
            "Epoch: 15 \tTraining Loss: 7.288667 \tValidation Loss: 7.612450\n",
            "Epoch 16, Batch 1 loss: 5.780158\n",
            "Epoch 16, Batch 101 loss: 6.985603\n",
            "Epoch 16, Batch 201 loss: 6.751741\n",
            "Epoch: 16 \tTraining Loss: 7.012214 \tValidation Loss: 7.929907\n",
            "Epoch 17, Batch 1 loss: 6.258099\n",
            "Epoch 17, Batch 101 loss: 6.707925\n",
            "Epoch 17, Batch 201 loss: 6.607551\n",
            "Epoch: 17 \tTraining Loss: 6.904065 \tValidation Loss: 6.848451\n",
            "Epoch 18, Batch 1 loss: 3.914020\n",
            "Epoch 18, Batch 101 loss: 6.340788\n",
            "Epoch 18, Batch 201 loss: 6.546488\n",
            "Epoch: 18 \tTraining Loss: 6.777969 \tValidation Loss: 7.726416\n",
            "Epoch 19, Batch 1 loss: 4.773442\n",
            "Epoch 19, Batch 101 loss: 6.833535\n",
            "Epoch 19, Batch 201 loss: 7.025684\n",
            "Epoch: 19 \tTraining Loss: 6.932148 \tValidation Loss: 7.096044\n",
            "Epoch 20, Batch 1 loss: 14.201637\n",
            "Epoch 20, Batch 101 loss: 6.895083\n",
            "Epoch 20, Batch 201 loss: 6.838938\n",
            "Epoch: 20 \tTraining Loss: 6.830026 \tValidation Loss: 7.085819\n",
            "Epoch 1, Batch 1 loss: 8.552855\n",
            "Epoch 1, Batch 101 loss: 13.134244\n",
            "Epoch 1, Batch 201 loss: 11.392412\n",
            "Epoch: 1 \tTraining Loss: 10.752899 \tValidation Loss: 10.463136\n",
            "Validation loss decreased (inf --> 10.463136).  Saving model ...\n",
            "Epoch 2, Batch 1 loss: 4.959656\n",
            "Epoch 2, Batch 101 loss: 9.362336\n",
            "Epoch 2, Batch 201 loss: 8.908337\n",
            "Epoch: 2 \tTraining Loss: 8.866587 \tValidation Loss: 9.282487\n",
            "Validation loss decreased (10.463136 --> 9.282487).  Saving model ...\n",
            "Epoch 3, Batch 1 loss: 3.440370\n",
            "Epoch 3, Batch 101 loss: 8.271038\n",
            "Epoch 3, Batch 201 loss: 8.289792\n",
            "Epoch: 3 \tTraining Loss: 8.669103 \tValidation Loss: 9.384850\n",
            "Epoch 4, Batch 1 loss: 11.140120\n",
            "Epoch 4, Batch 101 loss: 8.570694\n",
            "Epoch 4, Batch 201 loss: 8.642001\n",
            "Epoch: 4 \tTraining Loss: 8.061353 \tValidation Loss: 9.253427\n",
            "Validation loss decreased (9.282487 --> 9.253427).  Saving model ...\n",
            "Epoch 5, Batch 1 loss: 9.777947\n",
            "Epoch 5, Batch 101 loss: 7.868337\n",
            "Epoch 5, Batch 201 loss: 7.809604\n",
            "Epoch: 5 \tTraining Loss: 7.957965 \tValidation Loss: 10.256393\n",
            "Epoch 6, Batch 1 loss: 4.266418\n",
            "Epoch 6, Batch 101 loss: 8.080429\n",
            "Epoch 6, Batch 201 loss: 7.701344\n",
            "Epoch: 6 \tTraining Loss: 7.579531 \tValidation Loss: 9.666972\n",
            "Epoch 7, Batch 1 loss: 6.234499\n",
            "Epoch 7, Batch 101 loss: 7.476393\n",
            "Epoch 7, Batch 201 loss: 7.322019\n",
            "Epoch: 7 \tTraining Loss: 7.460605 \tValidation Loss: 7.665267\n",
            "Validation loss decreased (9.253427 --> 7.665267).  Saving model ...\n",
            "Epoch 8, Batch 1 loss: 5.204686\n",
            "Epoch 8, Batch 101 loss: 7.753830\n",
            "Epoch 8, Batch 201 loss: 7.262293\n",
            "Epoch: 8 \tTraining Loss: 7.214856 \tValidation Loss: 9.805497\n",
            "Epoch 9, Batch 1 loss: 3.024442\n",
            "Epoch 9, Batch 101 loss: 7.176255\n",
            "Epoch 9, Batch 201 loss: 7.158283\n",
            "Epoch: 9 \tTraining Loss: 7.131363 \tValidation Loss: 7.790772\n",
            "Epoch 10, Batch 1 loss: 10.915691\n",
            "Epoch 10, Batch 101 loss: 7.412708\n",
            "Epoch 10, Batch 201 loss: 7.138673\n",
            "Epoch: 10 \tTraining Loss: 7.026569 \tValidation Loss: 9.659065\n",
            "Epoch 11, Batch 1 loss: 6.032985\n",
            "Epoch 11, Batch 101 loss: 7.016831\n",
            "Epoch 11, Batch 201 loss: 7.223345\n",
            "Epoch: 11 \tTraining Loss: 7.204347 \tValidation Loss: 8.874490\n",
            "Epoch 12, Batch 1 loss: 4.859722\n",
            "Epoch 12, Batch 101 loss: 7.031944\n",
            "Epoch 12, Batch 201 loss: 7.024211\n",
            "Epoch: 12 \tTraining Loss: 7.038054 \tValidation Loss: 8.554156\n",
            "Epoch 13, Batch 1 loss: 4.500927\n",
            "Epoch 13, Batch 101 loss: 6.442572\n",
            "Epoch 13, Batch 201 loss: 6.742370\n",
            "Epoch: 13 \tTraining Loss: 6.677988 \tValidation Loss: 8.313215\n",
            "Epoch 14, Batch 1 loss: 4.728126\n",
            "Epoch 14, Batch 101 loss: 6.824745\n",
            "Epoch 14, Batch 201 loss: 6.523602\n",
            "Epoch: 14 \tTraining Loss: 6.675874 \tValidation Loss: 8.235267\n",
            "Epoch 15, Batch 1 loss: 9.225655\n",
            "Epoch 15, Batch 101 loss: 6.359389\n",
            "Epoch 15, Batch 201 loss: 6.776267\n",
            "Epoch: 15 \tTraining Loss: 6.800768 \tValidation Loss: 8.165227\n",
            "Epoch 16, Batch 1 loss: 2.051726\n",
            "Epoch 16, Batch 101 loss: 6.327672\n",
            "Epoch 16, Batch 201 loss: 6.446404\n",
            "Epoch: 16 \tTraining Loss: 6.452703 \tValidation Loss: 8.765465\n",
            "Epoch 17, Batch 1 loss: 6.316346\n",
            "Epoch 17, Batch 101 loss: 6.604649\n",
            "Epoch 17, Batch 201 loss: 6.612503\n",
            "Epoch: 17 \tTraining Loss: 6.570033 \tValidation Loss: 9.905698\n",
            "Epoch 18, Batch 1 loss: 5.467136\n",
            "Epoch 18, Batch 101 loss: 6.067127\n",
            "Epoch 18, Batch 201 loss: 6.465407\n",
            "Epoch: 18 \tTraining Loss: 6.474635 \tValidation Loss: 8.529394\n",
            "Epoch 19, Batch 1 loss: 4.489957\n",
            "Epoch 19, Batch 101 loss: 6.025705\n",
            "Epoch 19, Batch 201 loss: 6.534785\n",
            "Epoch: 19 \tTraining Loss: 6.603897 \tValidation Loss: 8.628225\n",
            "Epoch 20, Batch 1 loss: 6.195630\n",
            "Epoch 20, Batch 101 loss: 6.618093\n",
            "Epoch 20, Batch 201 loss: 6.510606\n",
            "Epoch: 20 \tTraining Loss: 6.355577 \tValidation Loss: 8.169689\n",
            "Epoch 1, Batch 1 loss: 11.383195\n",
            "Epoch 1, Batch 101 loss: 16.347185\n",
            "Epoch 1, Batch 201 loss: 13.745918\n",
            "Epoch: 1 \tTraining Loss: 12.892611 \tValidation Loss: 7.813133\n",
            "Validation loss decreased (inf --> 7.813133).  Saving model ...\n",
            "Epoch 2, Batch 1 loss: 9.104160\n",
            "Epoch 2, Batch 101 loss: 9.220594\n",
            "Epoch 2, Batch 201 loss: 9.401725\n",
            "Epoch: 2 \tTraining Loss: 9.375230 \tValidation Loss: 7.442180\n",
            "Validation loss decreased (7.813133 --> 7.442180).  Saving model ...\n",
            "Epoch 3, Batch 1 loss: 12.951590\n",
            "Epoch 3, Batch 101 loss: 8.903260\n",
            "Epoch 3, Batch 201 loss: 9.009624\n",
            "Epoch: 3 \tTraining Loss: 9.215040 \tValidation Loss: 7.125257\n",
            "Validation loss decreased (7.442180 --> 7.125257).  Saving model ...\n",
            "Epoch 4, Batch 1 loss: 18.242584\n",
            "Epoch 4, Batch 101 loss: 8.916572\n",
            "Epoch 4, Batch 201 loss: 8.709583\n",
            "Epoch: 4 \tTraining Loss: 8.672666 \tValidation Loss: 7.244214\n",
            "Epoch 5, Batch 1 loss: 4.979068\n",
            "Epoch 5, Batch 101 loss: 8.793113\n",
            "Epoch 5, Batch 201 loss: 8.842528\n",
            "Epoch: 5 \tTraining Loss: 8.647644 \tValidation Loss: 6.974980\n",
            "Validation loss decreased (7.125257 --> 6.974980).  Saving model ...\n",
            "Epoch 6, Batch 1 loss: 10.787669\n",
            "Epoch 6, Batch 101 loss: 8.175221\n",
            "Epoch 6, Batch 201 loss: 8.202571\n",
            "Epoch: 6 \tTraining Loss: 8.322156 \tValidation Loss: 6.925425\n",
            "Validation loss decreased (6.974980 --> 6.925425).  Saving model ...\n",
            "Epoch 7, Batch 1 loss: 7.113650\n",
            "Epoch 7, Batch 101 loss: 7.916485\n",
            "Epoch 7, Batch 201 loss: 8.487303\n",
            "Epoch: 7 \tTraining Loss: 8.272943 \tValidation Loss: 7.114401\n",
            "Epoch 8, Batch 1 loss: 4.362972\n",
            "Epoch 8, Batch 101 loss: 8.071015\n",
            "Epoch 8, Batch 201 loss: 8.278779\n",
            "Epoch: 8 \tTraining Loss: 7.936701 \tValidation Loss: 6.861116\n",
            "Validation loss decreased (6.925425 --> 6.861116).  Saving model ...\n",
            "Epoch 9, Batch 1 loss: 7.929761\n",
            "Epoch 9, Batch 101 loss: 8.135660\n",
            "Epoch 9, Batch 201 loss: 7.566007\n",
            "Epoch: 9 \tTraining Loss: 7.670281 \tValidation Loss: 6.904756\n",
            "Epoch 10, Batch 1 loss: 2.718552\n",
            "Epoch 10, Batch 101 loss: 7.087771\n",
            "Epoch 10, Batch 201 loss: 7.098355\n",
            "Epoch: 10 \tTraining Loss: 7.500352 \tValidation Loss: 8.014256\n",
            "Epoch 11, Batch 1 loss: 4.284559\n",
            "Epoch 11, Batch 101 loss: 7.516280\n",
            "Epoch 11, Batch 201 loss: 7.749997\n",
            "Epoch: 11 \tTraining Loss: 7.794801 \tValidation Loss: 7.221113\n",
            "Epoch 12, Batch 1 loss: 9.171158\n",
            "Epoch 12, Batch 101 loss: 7.151196\n",
            "Epoch 12, Batch 201 loss: 7.368948\n",
            "Epoch: 12 \tTraining Loss: 7.320841 \tValidation Loss: 7.163352\n",
            "Epoch 13, Batch 1 loss: 6.808012\n",
            "Epoch 13, Batch 101 loss: 7.485260\n",
            "Epoch 13, Batch 201 loss: 7.295819\n",
            "Epoch: 13 \tTraining Loss: 7.365242 \tValidation Loss: 7.036541\n",
            "Epoch 14, Batch 1 loss: 13.315743\n",
            "Epoch 14, Batch 101 loss: 7.300220\n",
            "Epoch 14, Batch 201 loss: 7.363539\n",
            "Epoch: 14 \tTraining Loss: 7.381095 \tValidation Loss: 6.622612\n",
            "Validation loss decreased (6.861116 --> 6.622612).  Saving model ...\n",
            "Epoch 15, Batch 1 loss: 4.191919\n",
            "Epoch 15, Batch 101 loss: 7.389117\n",
            "Epoch 15, Batch 201 loss: 7.184504\n",
            "Epoch: 15 \tTraining Loss: 7.385277 \tValidation Loss: 6.763241\n",
            "Epoch 16, Batch 1 loss: 4.278349\n",
            "Epoch 16, Batch 101 loss: 6.223940\n",
            "Epoch 16, Batch 201 loss: 6.722419\n",
            "Epoch: 16 \tTraining Loss: 6.884891 \tValidation Loss: 6.610716\n",
            "Validation loss decreased (6.622612 --> 6.610716).  Saving model ...\n",
            "Epoch 17, Batch 1 loss: 7.183400\n",
            "Epoch 17, Batch 101 loss: 7.583087\n",
            "Epoch 17, Batch 201 loss: 7.319682\n",
            "Epoch: 17 \tTraining Loss: 7.160872 \tValidation Loss: 7.081623\n",
            "Epoch 18, Batch 1 loss: 6.488832\n",
            "Epoch 18, Batch 101 loss: 7.002602\n",
            "Epoch 18, Batch 201 loss: 6.845880\n",
            "Epoch: 18 \tTraining Loss: 7.084137 \tValidation Loss: 6.705952\n",
            "Epoch 19, Batch 1 loss: 10.305264\n",
            "Epoch 19, Batch 101 loss: 7.058126\n",
            "Epoch 19, Batch 201 loss: 7.023344\n",
            "Epoch: 19 \tTraining Loss: 7.082218 \tValidation Loss: 7.006008\n",
            "Epoch 20, Batch 1 loss: 10.599152\n",
            "Epoch 20, Batch 101 loss: 7.393749\n",
            "Epoch 20, Batch 201 loss: 7.074632\n",
            "Epoch: 20 \tTraining Loss: 7.021784 \tValidation Loss: 7.544333\n"
          ]
        }
      ]
    },
    {
      "cell_type": "code",
      "source": [
        "# test_df = []\n",
        "# for split_i in range(4):\n",
        "#   file = pd.read_csv('drive/MyDrive/DL_Project/' + str(split_i) + '4fcv.csv', header=None).sort_values(0)\n",
        "#   test_df.append(file)\n",
        "# test_df[1]\n",
        "\n",
        "# res = test_df[0][[0]]\n",
        "# res[0] = res[0].str.split(\"/\").str[-1]\n",
        "# for idx in range(len(test_df)):\n",
        "#   test_df[idx] = test_df[idx].sort_values(0,ignore_index=True)\n",
        "# all = pd.concat(test_df,axis=1)\n",
        "# # all.to_csv('drive/MyDrive/DL_Project/raw_predictions.csv', index=False, header=False)\n",
        "# all = all.drop(columns=0).astype(float)\n",
        "# res['output'] = all.mean(axis=1)\n",
        "# res.to_csv('drive/MyDrive/DL_Project/predictions.csv', index=False, header=False)"
      ],
      "metadata": {
        "id": "ebRn5jm4UD4K",
        "outputId": "91877f59-0491-4c0e-f770-42e4542a13eb",
        "colab": {
          "base_uri": "https://localhost:8080/"
        }
      },
      "execution_count": 31,
      "outputs": [
        {
          "output_type": "stream",
          "name": "stderr",
          "text": [
            "/usr/local/lib/python3.7/dist-packages/ipykernel_launcher.py:2: SettingWithCopyWarning: \n",
            "A value is trying to be set on a copy of a slice from a DataFrame.\n",
            "Try using .loc[row_indexer,col_indexer] = value instead\n",
            "\n",
            "See the caveats in the documentation: https://pandas.pydata.org/pandas-docs/stable/user_guide/indexing.html#returning-a-view-versus-a-copy\n",
            "  \n"
          ]
        }
      ]
    },
    {
      "cell_type": "code",
      "source": [
        "res = test_df[0][['image_name']]\n",
        "res['image_name'] = res['image_name'].str.split(\"/\").str[-1]\n",
        "for idx in range(len(test_df)):\n",
        "  test_df[idx] = test_df[idx].sort_values('image_name',ignore_index=True)\n",
        "all = pd.concat(test_df,axis=1)\n",
        "# all.to_csv('drive/MyDrive/DL_Project/raw_predictions.csv', index=False, header=False)\n",
        "all = all.drop(columns='image_name').astype(float)\n",
        "res['output'] = all.mean(axis=1)\n",
        "res.to_csv('drive/MyDrive/DL_Project/predictions.csv', index=False, header=False)\n"
      ],
      "metadata": {
        "colab": {
          "base_uri": "https://localhost:8080/",
          "height": 235
        },
        "id": "8NVft_Myv3Q4",
        "outputId": "5e54ba3f-edaa-43b0-8434-8b9b16be8585"
      },
      "execution_count": 1,
      "outputs": [
        {
          "output_type": "error",
          "ename": "NameError",
          "evalue": "ignored",
          "traceback": [
            "\u001b[0;31m---------------------------------------------------------------------------\u001b[0m",
            "\u001b[0;31mNameError\u001b[0m                                 Traceback (most recent call last)",
            "\u001b[0;32m<ipython-input-1-a94ccd7c3262>\u001b[0m in \u001b[0;36m<module>\u001b[0;34m()\u001b[0m\n\u001b[0;32m----> 1\u001b[0;31m \u001b[0mres\u001b[0m \u001b[0;34m=\u001b[0m \u001b[0mtest_df\u001b[0m\u001b[0;34m[\u001b[0m\u001b[0;36m0\u001b[0m\u001b[0;34m]\u001b[0m\u001b[0;34m[\u001b[0m\u001b[0;34m[\u001b[0m\u001b[0;34m'image_name'\u001b[0m\u001b[0;34m]\u001b[0m\u001b[0;34m]\u001b[0m\u001b[0;34m\u001b[0m\u001b[0;34m\u001b[0m\u001b[0m\n\u001b[0m\u001b[1;32m      2\u001b[0m \u001b[0mres\u001b[0m\u001b[0;34m[\u001b[0m\u001b[0;34m'image_name'\u001b[0m\u001b[0;34m]\u001b[0m \u001b[0;34m=\u001b[0m \u001b[0mres\u001b[0m\u001b[0;34m[\u001b[0m\u001b[0;34m'image_name'\u001b[0m\u001b[0;34m]\u001b[0m\u001b[0;34m.\u001b[0m\u001b[0mstr\u001b[0m\u001b[0;34m.\u001b[0m\u001b[0msplit\u001b[0m\u001b[0;34m(\u001b[0m\u001b[0;34m\"/\"\u001b[0m\u001b[0;34m)\u001b[0m\u001b[0;34m.\u001b[0m\u001b[0mstr\u001b[0m\u001b[0;34m[\u001b[0m\u001b[0;34m-\u001b[0m\u001b[0;36m1\u001b[0m\u001b[0;34m]\u001b[0m\u001b[0;34m\u001b[0m\u001b[0;34m\u001b[0m\u001b[0m\n\u001b[1;32m      3\u001b[0m \u001b[0;32mfor\u001b[0m \u001b[0midx\u001b[0m \u001b[0;32min\u001b[0m \u001b[0mrange\u001b[0m\u001b[0;34m(\u001b[0m\u001b[0mlen\u001b[0m\u001b[0;34m(\u001b[0m\u001b[0mtest_df\u001b[0m\u001b[0;34m)\u001b[0m\u001b[0;34m)\u001b[0m\u001b[0;34m:\u001b[0m\u001b[0;34m\u001b[0m\u001b[0;34m\u001b[0m\u001b[0m\n\u001b[1;32m      4\u001b[0m   \u001b[0mtest_df\u001b[0m\u001b[0;34m[\u001b[0m\u001b[0midx\u001b[0m\u001b[0;34m]\u001b[0m \u001b[0;34m=\u001b[0m \u001b[0mtest_df\u001b[0m\u001b[0;34m[\u001b[0m\u001b[0midx\u001b[0m\u001b[0;34m]\u001b[0m\u001b[0;34m.\u001b[0m\u001b[0msort_values\u001b[0m\u001b[0;34m(\u001b[0m\u001b[0;34m'image_name'\u001b[0m\u001b[0;34m,\u001b[0m\u001b[0mignore_index\u001b[0m\u001b[0;34m=\u001b[0m\u001b[0;32mTrue\u001b[0m\u001b[0;34m)\u001b[0m\u001b[0;34m\u001b[0m\u001b[0;34m\u001b[0m\u001b[0m\n\u001b[1;32m      5\u001b[0m \u001b[0mall\u001b[0m \u001b[0;34m=\u001b[0m \u001b[0mpd\u001b[0m\u001b[0;34m.\u001b[0m\u001b[0mconcat\u001b[0m\u001b[0;34m(\u001b[0m\u001b[0mtest_df\u001b[0m\u001b[0;34m,\u001b[0m\u001b[0maxis\u001b[0m\u001b[0;34m=\u001b[0m\u001b[0;36m1\u001b[0m\u001b[0;34m)\u001b[0m\u001b[0;34m\u001b[0m\u001b[0;34m\u001b[0m\u001b[0m\n",
            "\u001b[0;31mNameError\u001b[0m: name 'test_df' is not defined"
          ]
        }
      ]
    },
    {
      "cell_type": "markdown",
      "source": [
        "下面不知道干啥用的"
      ],
      "metadata": {
        "id": "fbe0-fB1v5Sz"
      }
    },
    {
      "cell_type": "code",
      "execution_count": 46,
      "metadata": {
        "id": "fxAQKYA4UJvj"
      },
      "outputs": [],
      "source": [
        "test_dataloader = DataLoader(covid_dataset_test, batch_size=8, shuffle=True, num_workers=0)\n",
        "\n",
        "df = pd.DataFrame(columns=['image_name','output'])\n",
        "\n",
        "for batch_idx, sample_batched in enumerate(test_dataloader):\n",
        "    image= sample_batched['image'].to(device)\n",
        "    img_name= sample_batched['img_name']\n",
        "    output = model_conv(image).type(torch.LongTensor).reshape(-1)\n",
        "    img_name = np.array(img_name).reshape(output.shape[0],1)\n",
        "    o = output.cpu().data.numpy().reshape(output.shape[0],1)\n",
        "    \n",
        "    a = np.concatenate((img_name,o),axis=1)\n",
        "   \n",
        "    df = df.append(pd.DataFrame(a, columns=df.columns), ignore_index=True)\n",
        "    "
      ]
    },
    {
      "cell_type": "code",
      "source": [
        "df['output'] = df['output'].astype(float)\n",
        "df['output'].value_counts()\n",
        "df3 = pd.merge(df1,df,how='inner',on='image_name')"
      ],
      "metadata": {
        "id": "dAA-CpXRqd-w"
      },
      "execution_count": null,
      "outputs": []
    },
    {
      "cell_type": "code",
      "source": [
        "test_df[0]"
      ],
      "metadata": {
        "colab": {
          "base_uri": "https://localhost:8080/",
          "height": 423
        },
        "id": "y-2hLN44Q2m3",
        "outputId": "4d70334a-2ebb-440f-9d5a-6045f3cbdc08"
      },
      "execution_count": null,
      "outputs": [
        {
          "output_type": "execute_result",
          "data": {
            "text/plain": [
              "                                       image_name output\n",
              "0     drive/MyDrive/DL_Project/Val/Image_0986.png      4\n",
              "1     drive/MyDrive/DL_Project/Val/Image_1157.png      4\n",
              "2     drive/MyDrive/DL_Project/Val/Image_0468.png      4\n",
              "3     drive/MyDrive/DL_Project/Val/Image_0379.png      4\n",
              "4     drive/MyDrive/DL_Project/Val/Image_0239.png      4\n",
              "...                                           ...    ...\n",
              "1296  drive/MyDrive/DL_Project/Val/Image_0574.png      4\n",
              "1297  drive/MyDrive/DL_Project/Val/Image_0856.png      4\n",
              "1298  drive/MyDrive/DL_Project/Val/Image_0571.png      4\n",
              "1299  drive/MyDrive/DL_Project/Val/Image_0011.png      4\n",
              "1300  drive/MyDrive/DL_Project/Val/Image_1041.png      4\n",
              "\n",
              "[1301 rows x 2 columns]"
            ],
            "text/html": [
              "\n",
              "  <div id=\"df-737cd20f-d537-4e13-b2fb-44837eabe0c7\">\n",
              "    <div class=\"colab-df-container\">\n",
              "      <div>\n",
              "<style scoped>\n",
              "    .dataframe tbody tr th:only-of-type {\n",
              "        vertical-align: middle;\n",
              "    }\n",
              "\n",
              "    .dataframe tbody tr th {\n",
              "        vertical-align: top;\n",
              "    }\n",
              "\n",
              "    .dataframe thead th {\n",
              "        text-align: right;\n",
              "    }\n",
              "</style>\n",
              "<table border=\"1\" class=\"dataframe\">\n",
              "  <thead>\n",
              "    <tr style=\"text-align: right;\">\n",
              "      <th></th>\n",
              "      <th>image_name</th>\n",
              "      <th>output</th>\n",
              "    </tr>\n",
              "  </thead>\n",
              "  <tbody>\n",
              "    <tr>\n",
              "      <th>0</th>\n",
              "      <td>drive/MyDrive/DL_Project/Val/Image_0986.png</td>\n",
              "      <td>4</td>\n",
              "    </tr>\n",
              "    <tr>\n",
              "      <th>1</th>\n",
              "      <td>drive/MyDrive/DL_Project/Val/Image_1157.png</td>\n",
              "      <td>4</td>\n",
              "    </tr>\n",
              "    <tr>\n",
              "      <th>2</th>\n",
              "      <td>drive/MyDrive/DL_Project/Val/Image_0468.png</td>\n",
              "      <td>4</td>\n",
              "    </tr>\n",
              "    <tr>\n",
              "      <th>3</th>\n",
              "      <td>drive/MyDrive/DL_Project/Val/Image_0379.png</td>\n",
              "      <td>4</td>\n",
              "    </tr>\n",
              "    <tr>\n",
              "      <th>4</th>\n",
              "      <td>drive/MyDrive/DL_Project/Val/Image_0239.png</td>\n",
              "      <td>4</td>\n",
              "    </tr>\n",
              "    <tr>\n",
              "      <th>...</th>\n",
              "      <td>...</td>\n",
              "      <td>...</td>\n",
              "    </tr>\n",
              "    <tr>\n",
              "      <th>1296</th>\n",
              "      <td>drive/MyDrive/DL_Project/Val/Image_0574.png</td>\n",
              "      <td>4</td>\n",
              "    </tr>\n",
              "    <tr>\n",
              "      <th>1297</th>\n",
              "      <td>drive/MyDrive/DL_Project/Val/Image_0856.png</td>\n",
              "      <td>4</td>\n",
              "    </tr>\n",
              "    <tr>\n",
              "      <th>1298</th>\n",
              "      <td>drive/MyDrive/DL_Project/Val/Image_0571.png</td>\n",
              "      <td>4</td>\n",
              "    </tr>\n",
              "    <tr>\n",
              "      <th>1299</th>\n",
              "      <td>drive/MyDrive/DL_Project/Val/Image_0011.png</td>\n",
              "      <td>4</td>\n",
              "    </tr>\n",
              "    <tr>\n",
              "      <th>1300</th>\n",
              "      <td>drive/MyDrive/DL_Project/Val/Image_1041.png</td>\n",
              "      <td>4</td>\n",
              "    </tr>\n",
              "  </tbody>\n",
              "</table>\n",
              "<p>1301 rows × 2 columns</p>\n",
              "</div>\n",
              "      <button class=\"colab-df-convert\" onclick=\"convertToInteractive('df-737cd20f-d537-4e13-b2fb-44837eabe0c7')\"\n",
              "              title=\"Convert this dataframe to an interactive table.\"\n",
              "              style=\"display:none;\">\n",
              "        \n",
              "  <svg xmlns=\"http://www.w3.org/2000/svg\" height=\"24px\"viewBox=\"0 0 24 24\"\n",
              "       width=\"24px\">\n",
              "    <path d=\"M0 0h24v24H0V0z\" fill=\"none\"/>\n",
              "    <path d=\"M18.56 5.44l.94 2.06.94-2.06 2.06-.94-2.06-.94-.94-2.06-.94 2.06-2.06.94zm-11 1L8.5 8.5l.94-2.06 2.06-.94-2.06-.94L8.5 2.5l-.94 2.06-2.06.94zm10 10l.94 2.06.94-2.06 2.06-.94-2.06-.94-.94-2.06-.94 2.06-2.06.94z\"/><path d=\"M17.41 7.96l-1.37-1.37c-.4-.4-.92-.59-1.43-.59-.52 0-1.04.2-1.43.59L10.3 9.45l-7.72 7.72c-.78.78-.78 2.05 0 2.83L4 21.41c.39.39.9.59 1.41.59.51 0 1.02-.2 1.41-.59l7.78-7.78 2.81-2.81c.8-.78.8-2.07 0-2.86zM5.41 20L4 18.59l7.72-7.72 1.47 1.35L5.41 20z\"/>\n",
              "  </svg>\n",
              "      </button>\n",
              "      \n",
              "  <style>\n",
              "    .colab-df-container {\n",
              "      display:flex;\n",
              "      flex-wrap:wrap;\n",
              "      gap: 12px;\n",
              "    }\n",
              "\n",
              "    .colab-df-convert {\n",
              "      background-color: #E8F0FE;\n",
              "      border: none;\n",
              "      border-radius: 50%;\n",
              "      cursor: pointer;\n",
              "      display: none;\n",
              "      fill: #1967D2;\n",
              "      height: 32px;\n",
              "      padding: 0 0 0 0;\n",
              "      width: 32px;\n",
              "    }\n",
              "\n",
              "    .colab-df-convert:hover {\n",
              "      background-color: #E2EBFA;\n",
              "      box-shadow: 0px 1px 2px rgba(60, 64, 67, 0.3), 0px 1px 3px 1px rgba(60, 64, 67, 0.15);\n",
              "      fill: #174EA6;\n",
              "    }\n",
              "\n",
              "    [theme=dark] .colab-df-convert {\n",
              "      background-color: #3B4455;\n",
              "      fill: #D2E3FC;\n",
              "    }\n",
              "\n",
              "    [theme=dark] .colab-df-convert:hover {\n",
              "      background-color: #434B5C;\n",
              "      box-shadow: 0px 1px 3px 1px rgba(0, 0, 0, 0.15);\n",
              "      filter: drop-shadow(0px 1px 2px rgba(0, 0, 0, 0.3));\n",
              "      fill: #FFFFFF;\n",
              "    }\n",
              "  </style>\n",
              "\n",
              "      <script>\n",
              "        const buttonEl =\n",
              "          document.querySelector('#df-737cd20f-d537-4e13-b2fb-44837eabe0c7 button.colab-df-convert');\n",
              "        buttonEl.style.display =\n",
              "          google.colab.kernel.accessAllowed ? 'block' : 'none';\n",
              "\n",
              "        async function convertToInteractive(key) {\n",
              "          const element = document.querySelector('#df-737cd20f-d537-4e13-b2fb-44837eabe0c7');\n",
              "          const dataTable =\n",
              "            await google.colab.kernel.invokeFunction('convertToInteractive',\n",
              "                                                     [key], {});\n",
              "          if (!dataTable) return;\n",
              "\n",
              "          const docLinkHtml = 'Like what you see? Visit the ' +\n",
              "            '<a target=\"_blank\" href=https://colab.research.google.com/notebooks/data_table.ipynb>data table notebook</a>'\n",
              "            + ' to learn more about interactive tables.';\n",
              "          element.innerHTML = '';\n",
              "          dataTable['output_type'] = 'display_data';\n",
              "          await google.colab.output.renderOutput(dataTable, element);\n",
              "          const docLink = document.createElement('div');\n",
              "          docLink.innerHTML = docLinkHtml;\n",
              "          element.appendChild(docLink);\n",
              "        }\n",
              "      </script>\n",
              "    </div>\n",
              "  </div>\n",
              "  "
            ]
          },
          "metadata": {},
          "execution_count": 170
        }
      ]
    },
    {
      "cell_type": "code",
      "source": [
        "#Extracting image name from the image path\n",
        "test_df[0]['image_name']=test_df[0]['image_name'].str.split(\"/\").str[-1]"
      ],
      "metadata": {
        "id": "HVRo94hEyBjl"
      },
      "execution_count": null,
      "outputs": []
    },
    {
      "cell_type": "code",
      "source": [
        "test_df[0].to_csv('drive/MyDrive/DL_Project/predictions.csv', index=False, header=False)"
      ],
      "metadata": {
        "id": "AFib873XyETp"
      },
      "execution_count": null,
      "outputs": []
    },
    {
      "cell_type": "code",
      "source": [
        "test_df[0].head()"
      ],
      "metadata": {
        "id": "qDgX-3G5yF56",
        "colab": {
          "base_uri": "https://localhost:8080/",
          "height": 206
        },
        "outputId": "37b5ee29-3013-48c9-f129-38c2786b6486"
      },
      "execution_count": null,
      "outputs": [
        {
          "output_type": "execute_result",
          "data": {
            "text/plain": [
              "       image_name output\n",
              "0  Image_0986.png      4\n",
              "1  Image_1157.png      4\n",
              "2  Image_0468.png      4\n",
              "3  Image_0379.png      4\n",
              "4  Image_0239.png      4"
            ],
            "text/html": [
              "\n",
              "  <div id=\"df-135d7259-fc7c-4f50-9641-eba32865eb09\">\n",
              "    <div class=\"colab-df-container\">\n",
              "      <div>\n",
              "<style scoped>\n",
              "    .dataframe tbody tr th:only-of-type {\n",
              "        vertical-align: middle;\n",
              "    }\n",
              "\n",
              "    .dataframe tbody tr th {\n",
              "        vertical-align: top;\n",
              "    }\n",
              "\n",
              "    .dataframe thead th {\n",
              "        text-align: right;\n",
              "    }\n",
              "</style>\n",
              "<table border=\"1\" class=\"dataframe\">\n",
              "  <thead>\n",
              "    <tr style=\"text-align: right;\">\n",
              "      <th></th>\n",
              "      <th>image_name</th>\n",
              "      <th>output</th>\n",
              "    </tr>\n",
              "  </thead>\n",
              "  <tbody>\n",
              "    <tr>\n",
              "      <th>0</th>\n",
              "      <td>Image_0986.png</td>\n",
              "      <td>4</td>\n",
              "    </tr>\n",
              "    <tr>\n",
              "      <th>1</th>\n",
              "      <td>Image_1157.png</td>\n",
              "      <td>4</td>\n",
              "    </tr>\n",
              "    <tr>\n",
              "      <th>2</th>\n",
              "      <td>Image_0468.png</td>\n",
              "      <td>4</td>\n",
              "    </tr>\n",
              "    <tr>\n",
              "      <th>3</th>\n",
              "      <td>Image_0379.png</td>\n",
              "      <td>4</td>\n",
              "    </tr>\n",
              "    <tr>\n",
              "      <th>4</th>\n",
              "      <td>Image_0239.png</td>\n",
              "      <td>4</td>\n",
              "    </tr>\n",
              "  </tbody>\n",
              "</table>\n",
              "</div>\n",
              "      <button class=\"colab-df-convert\" onclick=\"convertToInteractive('df-135d7259-fc7c-4f50-9641-eba32865eb09')\"\n",
              "              title=\"Convert this dataframe to an interactive table.\"\n",
              "              style=\"display:none;\">\n",
              "        \n",
              "  <svg xmlns=\"http://www.w3.org/2000/svg\" height=\"24px\"viewBox=\"0 0 24 24\"\n",
              "       width=\"24px\">\n",
              "    <path d=\"M0 0h24v24H0V0z\" fill=\"none\"/>\n",
              "    <path d=\"M18.56 5.44l.94 2.06.94-2.06 2.06-.94-2.06-.94-.94-2.06-.94 2.06-2.06.94zm-11 1L8.5 8.5l.94-2.06 2.06-.94-2.06-.94L8.5 2.5l-.94 2.06-2.06.94zm10 10l.94 2.06.94-2.06 2.06-.94-2.06-.94-.94-2.06-.94 2.06-2.06.94z\"/><path d=\"M17.41 7.96l-1.37-1.37c-.4-.4-.92-.59-1.43-.59-.52 0-1.04.2-1.43.59L10.3 9.45l-7.72 7.72c-.78.78-.78 2.05 0 2.83L4 21.41c.39.39.9.59 1.41.59.51 0 1.02-.2 1.41-.59l7.78-7.78 2.81-2.81c.8-.78.8-2.07 0-2.86zM5.41 20L4 18.59l7.72-7.72 1.47 1.35L5.41 20z\"/>\n",
              "  </svg>\n",
              "      </button>\n",
              "      \n",
              "  <style>\n",
              "    .colab-df-container {\n",
              "      display:flex;\n",
              "      flex-wrap:wrap;\n",
              "      gap: 12px;\n",
              "    }\n",
              "\n",
              "    .colab-df-convert {\n",
              "      background-color: #E8F0FE;\n",
              "      border: none;\n",
              "      border-radius: 50%;\n",
              "      cursor: pointer;\n",
              "      display: none;\n",
              "      fill: #1967D2;\n",
              "      height: 32px;\n",
              "      padding: 0 0 0 0;\n",
              "      width: 32px;\n",
              "    }\n",
              "\n",
              "    .colab-df-convert:hover {\n",
              "      background-color: #E2EBFA;\n",
              "      box-shadow: 0px 1px 2px rgba(60, 64, 67, 0.3), 0px 1px 3px 1px rgba(60, 64, 67, 0.15);\n",
              "      fill: #174EA6;\n",
              "    }\n",
              "\n",
              "    [theme=dark] .colab-df-convert {\n",
              "      background-color: #3B4455;\n",
              "      fill: #D2E3FC;\n",
              "    }\n",
              "\n",
              "    [theme=dark] .colab-df-convert:hover {\n",
              "      background-color: #434B5C;\n",
              "      box-shadow: 0px 1px 3px 1px rgba(0, 0, 0, 0.15);\n",
              "      filter: drop-shadow(0px 1px 2px rgba(0, 0, 0, 0.3));\n",
              "      fill: #FFFFFF;\n",
              "    }\n",
              "  </style>\n",
              "\n",
              "      <script>\n",
              "        const buttonEl =\n",
              "          document.querySelector('#df-135d7259-fc7c-4f50-9641-eba32865eb09 button.colab-df-convert');\n",
              "        buttonEl.style.display =\n",
              "          google.colab.kernel.accessAllowed ? 'block' : 'none';\n",
              "\n",
              "        async function convertToInteractive(key) {\n",
              "          const element = document.querySelector('#df-135d7259-fc7c-4f50-9641-eba32865eb09');\n",
              "          const dataTable =\n",
              "            await google.colab.kernel.invokeFunction('convertToInteractive',\n",
              "                                                     [key], {});\n",
              "          if (!dataTable) return;\n",
              "\n",
              "          const docLinkHtml = 'Like what you see? Visit the ' +\n",
              "            '<a target=\"_blank\" href=https://colab.research.google.com/notebooks/data_table.ipynb>data table notebook</a>'\n",
              "            + ' to learn more about interactive tables.';\n",
              "          element.innerHTML = '';\n",
              "          dataTable['output_type'] = 'display_data';\n",
              "          await google.colab.output.renderOutput(dataTable, element);\n",
              "          const docLink = document.createElement('div');\n",
              "          docLink.innerHTML = docLinkHtml;\n",
              "          element.appendChild(docLink);\n",
              "        }\n",
              "      </script>\n",
              "    </div>\n",
              "  </div>\n",
              "  "
            ]
          },
          "metadata": {},
          "execution_count": 173
        }
      ]
    },
    {
      "cell_type": "code",
      "source": [
        "test_df[0]=df"
      ],
      "metadata": {
        "id": "BCjYRvI-Wb_E"
      },
      "execution_count": null,
      "outputs": []
    },
    {
      "cell_type": "code",
      "source": [
        "test_df[0]['output'] = test_df[0]['output']*test_df[0]['output']"
      ],
      "metadata": {
        "colab": {
          "base_uri": "https://localhost:8080/",
          "height": 436
        },
        "id": "LeBGEH_TVmZC",
        "outputId": "cfb595ce-f9e8-4e2b-8bee-01ee6fe1e255"
      },
      "execution_count": null,
      "outputs": [
        {
          "output_type": "error",
          "ename": "TypeError",
          "evalue": "ignored",
          "traceback": [
            "\u001b[0;31m---------------------------------------------------------------------------\u001b[0m",
            "\u001b[0;31mTypeError\u001b[0m                                 Traceback (most recent call last)",
            "\u001b[0;32m/usr/local/lib/python3.7/dist-packages/pandas/core/ops/array_ops.py\u001b[0m in \u001b[0;36m_na_arithmetic_op\u001b[0;34m(left, right, op, is_cmp)\u001b[0m\n\u001b[1;32m    165\u001b[0m     \u001b[0;32mtry\u001b[0m\u001b[0;34m:\u001b[0m\u001b[0;34m\u001b[0m\u001b[0;34m\u001b[0m\u001b[0m\n\u001b[0;32m--> 166\u001b[0;31m         \u001b[0mresult\u001b[0m \u001b[0;34m=\u001b[0m \u001b[0mfunc\u001b[0m\u001b[0;34m(\u001b[0m\u001b[0mleft\u001b[0m\u001b[0;34m,\u001b[0m \u001b[0mright\u001b[0m\u001b[0;34m)\u001b[0m\u001b[0;34m\u001b[0m\u001b[0;34m\u001b[0m\u001b[0m\n\u001b[0m\u001b[1;32m    167\u001b[0m     \u001b[0;32mexcept\u001b[0m \u001b[0mTypeError\u001b[0m\u001b[0;34m:\u001b[0m\u001b[0;34m\u001b[0m\u001b[0;34m\u001b[0m\u001b[0m\n",
            "\u001b[0;32m/usr/local/lib/python3.7/dist-packages/pandas/core/computation/expressions.py\u001b[0m in \u001b[0;36mevaluate\u001b[0;34m(op, a, b, use_numexpr)\u001b[0m\n\u001b[1;32m    238\u001b[0m             \u001b[0;31m# error: \"None\" not callable\u001b[0m\u001b[0;34m\u001b[0m\u001b[0;34m\u001b[0m\u001b[0;34m\u001b[0m\u001b[0m\n\u001b[0;32m--> 239\u001b[0;31m             \u001b[0;32mreturn\u001b[0m \u001b[0m_evaluate\u001b[0m\u001b[0;34m(\u001b[0m\u001b[0mop\u001b[0m\u001b[0;34m,\u001b[0m \u001b[0mop_str\u001b[0m\u001b[0;34m,\u001b[0m \u001b[0ma\u001b[0m\u001b[0;34m,\u001b[0m \u001b[0mb\u001b[0m\u001b[0;34m)\u001b[0m  \u001b[0;31m# type: ignore[misc]\u001b[0m\u001b[0;34m\u001b[0m\u001b[0;34m\u001b[0m\u001b[0m\n\u001b[0m\u001b[1;32m    240\u001b[0m     \u001b[0;32mreturn\u001b[0m \u001b[0m_evaluate_standard\u001b[0m\u001b[0;34m(\u001b[0m\u001b[0mop\u001b[0m\u001b[0;34m,\u001b[0m \u001b[0mop_str\u001b[0m\u001b[0;34m,\u001b[0m \u001b[0ma\u001b[0m\u001b[0;34m,\u001b[0m \u001b[0mb\u001b[0m\u001b[0;34m)\u001b[0m\u001b[0;34m\u001b[0m\u001b[0;34m\u001b[0m\u001b[0m\n",
            "\u001b[0;32m/usr/local/lib/python3.7/dist-packages/pandas/core/computation/expressions.py\u001b[0m in \u001b[0;36m_evaluate_numexpr\u001b[0;34m(op, op_str, a, b)\u001b[0m\n\u001b[1;32m    127\u001b[0m     \u001b[0;32mif\u001b[0m \u001b[0mresult\u001b[0m \u001b[0;32mis\u001b[0m \u001b[0;32mNone\u001b[0m\u001b[0;34m:\u001b[0m\u001b[0;34m\u001b[0m\u001b[0;34m\u001b[0m\u001b[0m\n\u001b[0;32m--> 128\u001b[0;31m         \u001b[0mresult\u001b[0m \u001b[0;34m=\u001b[0m \u001b[0m_evaluate_standard\u001b[0m\u001b[0;34m(\u001b[0m\u001b[0mop\u001b[0m\u001b[0;34m,\u001b[0m \u001b[0mop_str\u001b[0m\u001b[0;34m,\u001b[0m \u001b[0ma\u001b[0m\u001b[0;34m,\u001b[0m \u001b[0mb\u001b[0m\u001b[0;34m)\u001b[0m\u001b[0;34m\u001b[0m\u001b[0;34m\u001b[0m\u001b[0m\n\u001b[0m\u001b[1;32m    129\u001b[0m \u001b[0;34m\u001b[0m\u001b[0m\n",
            "\u001b[0;32m/usr/local/lib/python3.7/dist-packages/pandas/core/computation/expressions.py\u001b[0m in \u001b[0;36m_evaluate_standard\u001b[0;34m(op, op_str, a, b)\u001b[0m\n\u001b[1;32m     68\u001b[0m         \u001b[0m_store_test_result\u001b[0m\u001b[0;34m(\u001b[0m\u001b[0;32mFalse\u001b[0m\u001b[0;34m)\u001b[0m\u001b[0;34m\u001b[0m\u001b[0;34m\u001b[0m\u001b[0m\n\u001b[0;32m---> 69\u001b[0;31m     \u001b[0;32mreturn\u001b[0m \u001b[0mop\u001b[0m\u001b[0;34m(\u001b[0m\u001b[0ma\u001b[0m\u001b[0;34m,\u001b[0m \u001b[0mb\u001b[0m\u001b[0;34m)\u001b[0m\u001b[0;34m\u001b[0m\u001b[0;34m\u001b[0m\u001b[0m\n\u001b[0m\u001b[1;32m     70\u001b[0m \u001b[0;34m\u001b[0m\u001b[0m\n",
            "\u001b[0;31mTypeError\u001b[0m: can't multiply sequence by non-int of type 'str'",
            "\nDuring handling of the above exception, another exception occurred:\n",
            "\u001b[0;31mTypeError\u001b[0m                                 Traceback (most recent call last)",
            "\u001b[0;32m<ipython-input-33-5554af996de7>\u001b[0m in \u001b[0;36m<module>\u001b[0;34m()\u001b[0m\n\u001b[0;32m----> 1\u001b[0;31m \u001b[0mtest_df\u001b[0m\u001b[0;34m[\u001b[0m\u001b[0;36m0\u001b[0m\u001b[0;34m]\u001b[0m\u001b[0;34m[\u001b[0m\u001b[0;34m'output'\u001b[0m\u001b[0;34m]\u001b[0m \u001b[0;34m=\u001b[0m \u001b[0mtest_df\u001b[0m\u001b[0;34m[\u001b[0m\u001b[0;36m0\u001b[0m\u001b[0;34m]\u001b[0m\u001b[0;34m[\u001b[0m\u001b[0;34m'output'\u001b[0m\u001b[0;34m]\u001b[0m\u001b[0;34m*\u001b[0m\u001b[0mtest_df\u001b[0m\u001b[0;34m[\u001b[0m\u001b[0;36m0\u001b[0m\u001b[0;34m]\u001b[0m\u001b[0;34m[\u001b[0m\u001b[0;34m'output'\u001b[0m\u001b[0;34m]\u001b[0m\u001b[0;34m\u001b[0m\u001b[0;34m\u001b[0m\u001b[0m\n\u001b[0m",
            "\u001b[0;32m/usr/local/lib/python3.7/dist-packages/pandas/core/ops/common.py\u001b[0m in \u001b[0;36mnew_method\u001b[0;34m(self, other)\u001b[0m\n\u001b[1;32m     67\u001b[0m         \u001b[0mother\u001b[0m \u001b[0;34m=\u001b[0m \u001b[0mitem_from_zerodim\u001b[0m\u001b[0;34m(\u001b[0m\u001b[0mother\u001b[0m\u001b[0;34m)\u001b[0m\u001b[0;34m\u001b[0m\u001b[0;34m\u001b[0m\u001b[0m\n\u001b[1;32m     68\u001b[0m \u001b[0;34m\u001b[0m\u001b[0m\n\u001b[0;32m---> 69\u001b[0;31m         \u001b[0;32mreturn\u001b[0m \u001b[0mmethod\u001b[0m\u001b[0;34m(\u001b[0m\u001b[0mself\u001b[0m\u001b[0;34m,\u001b[0m \u001b[0mother\u001b[0m\u001b[0;34m)\u001b[0m\u001b[0;34m\u001b[0m\u001b[0;34m\u001b[0m\u001b[0m\n\u001b[0m\u001b[1;32m     70\u001b[0m \u001b[0;34m\u001b[0m\u001b[0m\n\u001b[1;32m     71\u001b[0m     \u001b[0;32mreturn\u001b[0m \u001b[0mnew_method\u001b[0m\u001b[0;34m\u001b[0m\u001b[0;34m\u001b[0m\u001b[0m\n",
            "\u001b[0;32m/usr/local/lib/python3.7/dist-packages/pandas/core/arraylike.py\u001b[0m in \u001b[0;36m__mul__\u001b[0;34m(self, other)\u001b[0m\n\u001b[1;32m    106\u001b[0m     \u001b[0;34m@\u001b[0m\u001b[0munpack_zerodim_and_defer\u001b[0m\u001b[0;34m(\u001b[0m\u001b[0;34m\"__mul__\"\u001b[0m\u001b[0;34m)\u001b[0m\u001b[0;34m\u001b[0m\u001b[0;34m\u001b[0m\u001b[0m\n\u001b[1;32m    107\u001b[0m     \u001b[0;32mdef\u001b[0m \u001b[0m__mul__\u001b[0m\u001b[0;34m(\u001b[0m\u001b[0mself\u001b[0m\u001b[0;34m,\u001b[0m \u001b[0mother\u001b[0m\u001b[0;34m)\u001b[0m\u001b[0;34m:\u001b[0m\u001b[0;34m\u001b[0m\u001b[0;34m\u001b[0m\u001b[0m\n\u001b[0;32m--> 108\u001b[0;31m         \u001b[0;32mreturn\u001b[0m \u001b[0mself\u001b[0m\u001b[0;34m.\u001b[0m\u001b[0m_arith_method\u001b[0m\u001b[0;34m(\u001b[0m\u001b[0mother\u001b[0m\u001b[0;34m,\u001b[0m \u001b[0moperator\u001b[0m\u001b[0;34m.\u001b[0m\u001b[0mmul\u001b[0m\u001b[0;34m)\u001b[0m\u001b[0;34m\u001b[0m\u001b[0;34m\u001b[0m\u001b[0m\n\u001b[0m\u001b[1;32m    109\u001b[0m \u001b[0;34m\u001b[0m\u001b[0m\n\u001b[1;32m    110\u001b[0m     \u001b[0;34m@\u001b[0m\u001b[0munpack_zerodim_and_defer\u001b[0m\u001b[0;34m(\u001b[0m\u001b[0;34m\"__rmul__\"\u001b[0m\u001b[0;34m)\u001b[0m\u001b[0;34m\u001b[0m\u001b[0;34m\u001b[0m\u001b[0m\n",
            "\u001b[0;32m/usr/local/lib/python3.7/dist-packages/pandas/core/series.py\u001b[0m in \u001b[0;36m_arith_method\u001b[0;34m(self, other, op)\u001b[0m\n\u001b[1;32m   5524\u001b[0m \u001b[0;34m\u001b[0m\u001b[0m\n\u001b[1;32m   5525\u001b[0m         \u001b[0;32mwith\u001b[0m \u001b[0mnp\u001b[0m\u001b[0;34m.\u001b[0m\u001b[0merrstate\u001b[0m\u001b[0;34m(\u001b[0m\u001b[0mall\u001b[0m\u001b[0;34m=\u001b[0m\u001b[0;34m\"ignore\"\u001b[0m\u001b[0;34m)\u001b[0m\u001b[0;34m:\u001b[0m\u001b[0;34m\u001b[0m\u001b[0;34m\u001b[0m\u001b[0m\n\u001b[0;32m-> 5526\u001b[0;31m             \u001b[0mresult\u001b[0m \u001b[0;34m=\u001b[0m \u001b[0mops\u001b[0m\u001b[0;34m.\u001b[0m\u001b[0marithmetic_op\u001b[0m\u001b[0;34m(\u001b[0m\u001b[0mlvalues\u001b[0m\u001b[0;34m,\u001b[0m \u001b[0mrvalues\u001b[0m\u001b[0;34m,\u001b[0m \u001b[0mop\u001b[0m\u001b[0;34m)\u001b[0m\u001b[0;34m\u001b[0m\u001b[0;34m\u001b[0m\u001b[0m\n\u001b[0m\u001b[1;32m   5527\u001b[0m \u001b[0;34m\u001b[0m\u001b[0m\n\u001b[1;32m   5528\u001b[0m         \u001b[0;32mreturn\u001b[0m \u001b[0mself\u001b[0m\u001b[0;34m.\u001b[0m\u001b[0m_construct_result\u001b[0m\u001b[0;34m(\u001b[0m\u001b[0mresult\u001b[0m\u001b[0;34m,\u001b[0m \u001b[0mname\u001b[0m\u001b[0;34m=\u001b[0m\u001b[0mres_name\u001b[0m\u001b[0;34m)\u001b[0m\u001b[0;34m\u001b[0m\u001b[0;34m\u001b[0m\u001b[0m\n",
            "\u001b[0;32m/usr/local/lib/python3.7/dist-packages/pandas/core/ops/array_ops.py\u001b[0m in \u001b[0;36marithmetic_op\u001b[0;34m(left, right, op)\u001b[0m\n\u001b[1;32m    222\u001b[0m         \u001b[0m_bool_arith_check\u001b[0m\u001b[0;34m(\u001b[0m\u001b[0mop\u001b[0m\u001b[0;34m,\u001b[0m \u001b[0mleft\u001b[0m\u001b[0;34m,\u001b[0m \u001b[0mright\u001b[0m\u001b[0;34m)\u001b[0m\u001b[0;34m\u001b[0m\u001b[0;34m\u001b[0m\u001b[0m\n\u001b[1;32m    223\u001b[0m \u001b[0;34m\u001b[0m\u001b[0m\n\u001b[0;32m--> 224\u001b[0;31m         \u001b[0mres_values\u001b[0m \u001b[0;34m=\u001b[0m \u001b[0m_na_arithmetic_op\u001b[0m\u001b[0;34m(\u001b[0m\u001b[0mleft\u001b[0m\u001b[0;34m,\u001b[0m \u001b[0mright\u001b[0m\u001b[0;34m,\u001b[0m \u001b[0mop\u001b[0m\u001b[0;34m)\u001b[0m\u001b[0;34m\u001b[0m\u001b[0;34m\u001b[0m\u001b[0m\n\u001b[0m\u001b[1;32m    225\u001b[0m \u001b[0;34m\u001b[0m\u001b[0m\n\u001b[1;32m    226\u001b[0m     \u001b[0;32mreturn\u001b[0m \u001b[0mres_values\u001b[0m\u001b[0;34m\u001b[0m\u001b[0;34m\u001b[0m\u001b[0m\n",
            "\u001b[0;32m/usr/local/lib/python3.7/dist-packages/pandas/core/ops/array_ops.py\u001b[0m in \u001b[0;36m_na_arithmetic_op\u001b[0;34m(left, right, op, is_cmp)\u001b[0m\n\u001b[1;32m    171\u001b[0m             \u001b[0;31m# Don't do this for comparisons, as that will handle complex numbers\u001b[0m\u001b[0;34m\u001b[0m\u001b[0;34m\u001b[0m\u001b[0;34m\u001b[0m\u001b[0m\n\u001b[1;32m    172\u001b[0m             \u001b[0;31m#  incorrectly, see GH#32047\u001b[0m\u001b[0;34m\u001b[0m\u001b[0;34m\u001b[0m\u001b[0;34m\u001b[0m\u001b[0m\n\u001b[0;32m--> 173\u001b[0;31m             \u001b[0mresult\u001b[0m \u001b[0;34m=\u001b[0m \u001b[0m_masked_arith_op\u001b[0m\u001b[0;34m(\u001b[0m\u001b[0mleft\u001b[0m\u001b[0;34m,\u001b[0m \u001b[0mright\u001b[0m\u001b[0;34m,\u001b[0m \u001b[0mop\u001b[0m\u001b[0;34m)\u001b[0m\u001b[0;34m\u001b[0m\u001b[0;34m\u001b[0m\u001b[0m\n\u001b[0m\u001b[1;32m    174\u001b[0m         \u001b[0;32melse\u001b[0m\u001b[0;34m:\u001b[0m\u001b[0;34m\u001b[0m\u001b[0;34m\u001b[0m\u001b[0m\n\u001b[1;32m    175\u001b[0m             \u001b[0;32mraise\u001b[0m\u001b[0;34m\u001b[0m\u001b[0;34m\u001b[0m\u001b[0m\n",
            "\u001b[0;32m/usr/local/lib/python3.7/dist-packages/pandas/core/ops/array_ops.py\u001b[0m in \u001b[0;36m_masked_arith_op\u001b[0;34m(x, y, op)\u001b[0m\n\u001b[1;32m    110\u001b[0m         \u001b[0;31m# See GH#5284, GH#5035, GH#19448 for historical reference\u001b[0m\u001b[0;34m\u001b[0m\u001b[0;34m\u001b[0m\u001b[0;34m\u001b[0m\u001b[0m\n\u001b[1;32m    111\u001b[0m         \u001b[0;32mif\u001b[0m \u001b[0mmask\u001b[0m\u001b[0;34m.\u001b[0m\u001b[0many\u001b[0m\u001b[0;34m(\u001b[0m\u001b[0;34m)\u001b[0m\u001b[0;34m:\u001b[0m\u001b[0;34m\u001b[0m\u001b[0;34m\u001b[0m\u001b[0m\n\u001b[0;32m--> 112\u001b[0;31m             \u001b[0mresult\u001b[0m\u001b[0;34m[\u001b[0m\u001b[0mmask\u001b[0m\u001b[0;34m]\u001b[0m \u001b[0;34m=\u001b[0m \u001b[0mop\u001b[0m\u001b[0;34m(\u001b[0m\u001b[0mxrav\u001b[0m\u001b[0;34m[\u001b[0m\u001b[0mmask\u001b[0m\u001b[0;34m]\u001b[0m\u001b[0;34m,\u001b[0m \u001b[0myrav\u001b[0m\u001b[0;34m[\u001b[0m\u001b[0mmask\u001b[0m\u001b[0;34m]\u001b[0m\u001b[0;34m)\u001b[0m\u001b[0;34m\u001b[0m\u001b[0;34m\u001b[0m\u001b[0m\n\u001b[0m\u001b[1;32m    113\u001b[0m \u001b[0;34m\u001b[0m\u001b[0m\n\u001b[1;32m    114\u001b[0m     \u001b[0;32melse\u001b[0m\u001b[0;34m:\u001b[0m\u001b[0;34m\u001b[0m\u001b[0;34m\u001b[0m\u001b[0m\n",
            "\u001b[0;31mTypeError\u001b[0m: can't multiply sequence by non-int of type 'str'"
          ]
        }
      ]
    },
    {
      "cell_type": "code",
      "source": [
        "test_df[0]"
      ],
      "metadata": {
        "colab": {
          "base_uri": "https://localhost:8080/",
          "height": 169
        },
        "id": "XrsRyr5NVHv4",
        "outputId": "e44e9c91-5146-4c7c-954e-026f8e82925c"
      },
      "execution_count": null,
      "outputs": [
        {
          "output_type": "error",
          "ename": "IndexError",
          "evalue": "ignored",
          "traceback": [
            "\u001b[0;31m---------------------------------------------------------------------------\u001b[0m",
            "\u001b[0;31mIndexError\u001b[0m                                Traceback (most recent call last)",
            "\u001b[0;32m<ipython-input-27-0eee931839de>\u001b[0m in \u001b[0;36m<module>\u001b[0;34m()\u001b[0m\n\u001b[0;32m----> 1\u001b[0;31m \u001b[0mtest_df\u001b[0m\u001b[0;34m[\u001b[0m\u001b[0;36m1\u001b[0m\u001b[0;34m]\u001b[0m\u001b[0;34m\u001b[0m\u001b[0;34m\u001b[0m\u001b[0m\n\u001b[0m",
            "\u001b[0;31mIndexError\u001b[0m: list index out of range"
          ]
        }
      ]
    }
  ]
}