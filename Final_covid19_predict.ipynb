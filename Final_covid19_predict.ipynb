{
  "cells": [
    {
      "cell_type": "markdown",
      "metadata": {
        "id": "view-in-github",
        "colab_type": "text"
      },
      "source": [
        "<a href=\"https://colab.research.google.com/github/BuddGao/DL-Competition/blob/main/Final_covid19_predict.ipynb\" target=\"_parent\"><img src=\"https://colab.research.google.com/assets/colab-badge.svg\" alt=\"Open In Colab\"/></a>"
      ]
    },
    {
      "cell_type": "markdown",
      "metadata": {
        "id": "ihsR_ew8QNCr"
      },
      "source": [
        "#COVID-19 Prediction"
      ]
    },
    {
      "cell_type": "code",
      "execution_count": null,
      "metadata": {
        "colab": {
          "base_uri": "https://localhost:8080/"
        },
        "id": "_Ycwr5g60RUs",
        "outputId": "ea243dfc-2294-4726-c47b-2e1d4d224872"
      },
      "outputs": [
        {
          "output_type": "stream",
          "name": "stdout",
          "text": [
            "Mounted at /content/drive\n"
          ]
        }
      ],
      "source": [
        "## mount google drive\n",
        "from google.colab import drive\n",
        "drive.mount('/content/drive')"
      ]
    },
    {
      "cell_type": "code",
      "execution_count": null,
      "metadata": {
        "id": "KOZCN2EusO5_"
      },
      "outputs": [],
      "source": [
        "## if you haven't unzipped training data\n",
        "#!unzip \"drive/MyDrive/DL_Project/Train.zip\" -d  \"drive/MyDrive/DL_Project/\"\n",
        "\n",
        "## if you haven't unzipped val data\n",
        "#!unzip \"drive/MyDrive/DL_Project/Val Blind.zip\" -d  \"drive/MyDrive/DL_Project/\""
      ]
    },
    {
      "cell_type": "markdown",
      "metadata": {
        "id": "gFBUy1lBQIM5"
      },
      "source": [
        "## Custom Dataset Class"
      ]
    },
    {
      "cell_type": "code",
      "execution_count": null,
      "metadata": {
        "id": "TckWJ9O4sVJT"
      },
      "outputs": [],
      "source": [
        "## preprocess data\n",
        "## create custom data class\n",
        "\n",
        "from sklearn.model_selection import KFold\n",
        "import os\n",
        "import torch\n",
        "import pandas as pd\n",
        "from skimage import io, transform\n",
        "\n",
        "#from monai.transforms import Compose, LoadImage, AddChannel, ScaleIntensity,RandRotate, ToTensor, RandFlip, RandZoom, Resize, RandGaussianNoise\n",
        "import numpy as np\n",
        "import matplotlib.pyplot as plt\n",
        "from torch.utils.data import Dataset, DataLoader\n",
        "from torchvision import transforms, utils, models, datasets\n",
        "import cv2\n",
        "from PIL import Image\n",
        "import glob\n",
        "\n",
        "class CovidDataset(Dataset):\n",
        "    \"\"\"Covid CT dataset.\"\"\"\n",
        "\n",
        "    def __init__(self, csv_file, root_dir, transform=None):\n",
        "        \"\"\"\n",
        "        Args:\n",
        "            csv_file (string): Path to the csv file with annotations.\n",
        "            root_dir (string): Directory with all the images.\n",
        "            transform (callable, optional): Optional transform to be applied\n",
        "                on a sample.\n",
        "        \"\"\"\n",
        "        self.label_data = pd.read_csv(csv_file)\n",
        "        self.root_dir = root_dir\n",
        "        ## you can apply custom transformation on the image for data augmentation\n",
        "        self.transform = transform\n",
        "\n",
        "    def __len__(self):\n",
        "        return len(self.label_data)\n",
        "\n",
        "    def __getitem__(self, idx):\n",
        "        if torch.is_tensor(idx):\n",
        "            idx = idx.tolist()\n",
        "\n",
        "        img_name = os.path.join(self.root_dir, self.label_data.iloc[idx, 0])\n",
        "        image = io.imread(img_name)\n",
        "        image = cv2.cvtColor(image, cv2.COLOR_BGRA2BGR)\n",
        "        \n",
        " \n",
        "        p = self.label_data.iloc[idx, 1]\n",
        "\n",
        "        subject_num = self.label_data.iloc[idx, 2]\n",
        "        \n",
        "\n",
        "        # should be only applied on image, not percentage or subject #\n",
        "        if self.transform:\n",
        "            image = self.transform(image)\n",
        "        sample = {'image': image, 'percentage': p, 'subject': subject_num, 'img_name':img_name}\n",
        "        return sample"
      ]
    },
    {
      "cell_type": "code",
      "execution_count": null,
      "metadata": {
        "id": "Z0hPdBQZ3DLE"
      },
      "outputs": [],
      "source": [
        "class CovidTestDataset(Dataset):\n",
        "    \"\"\"Covid CT TEST dataset.\"\"\"\n",
        "\n",
        "    def __init__(self, root_dir, transform=None):\n",
        "        \"\"\"\n",
        "        Args:\n",
        "            root_dir (string): Directory with all the images.\n",
        "            transform (callable, optional): Optional transform to be applied\n",
        "                on a sample.\n",
        "        \"\"\"\n",
        "        self.root_dir = root_dir\n",
        "        self.transform = transform\n",
        "        self.image_list = []\n",
        "        for filename in glob.glob(self.root_dir+\"/*.png\"): #assuming png\n",
        "          self.image_list.append(filename)\n",
        "\n",
        "    def __len__(self):\n",
        "        return len(self.image_list)\n",
        "\n",
        "    def __getitem__(self, idx):\n",
        "        if torch.is_tensor(idx):\n",
        "            idx = idx.tolist()\n",
        "\n",
        "        img_name = self.image_list[idx]\n",
        "        image = io.imread(img_name)\n",
        "        image = cv2.cvtColor(image, cv2.COLOR_BGRA2BGR)\n",
        "        image = torchvision.transforms.functional.to_tensor(image)\n",
        "\n",
        "        # should be only applied on image, not percentage or subject #\n",
        "        if self.transform:\n",
        "            image = self.transform(image)\n",
        "    \n",
        "        sample = {'image': image, 'img_name':img_name}\n",
        "        return sample"
      ]
    },
    {
      "cell_type": "code",
      "execution_count": null,
      "metadata": {
        "id": "DmV47ZBJy1Nv"
      },
      "outputs": [],
      "source": [
        "import torchvision\n",
        "covid_dataset_train_val = CovidDataset(csv_file='drive/MyDrive/DL_Project/Train.csv',\n",
        "                                    root_dir='drive/MyDrive/DL_Project/Train'\n",
        "                                    ,transform = transforms.Compose([\n",
        "                                                transforms.ToPILImage(),                     \n",
        "                                                transforms.Resize((224, 224)),\n",
        "                                                transforms.RandomHorizontalFlip(),\n",
        "                                                transforms.RandomRotation(15),\n",
        "                                                \n",
        "                                                transforms.ToTensor(),\n",
        "                                                \n",
        "                                                transforms.Normalize([0.485, 0.456, 0.406], [0.229, 0.224, 0.225]) ])\n",
        "                                    \n",
        "                                    )\n",
        "\n",
        "covid_dataset_test = CovidTestDataset(root_dir='drive/MyDrive/DL_Project/Val',\n",
        "                                      transform = transforms.Compose([\n",
        "                                                transforms.ToPILImage(),                     \n",
        "                                                transforms.Resize((224, 224)),\n",
        "\n",
        "                                                transforms.ToTensor(),\n",
        "                                                \n",
        "                                                transforms.Normalize([0.485, 0.456, 0.406], [0.229, 0.224, 0.225]) ])\n",
        "                                    )"
      ]
    },
    {
      "cell_type": "code",
      "execution_count": null,
      "metadata": {
        "colab": {
          "base_uri": "https://localhost:8080/",
          "height": 261
        },
        "id": "rJg-KZXP1AcI",
        "outputId": "0b9a9cbe-af4d-4d53-ab8f-b4ad3a5cca1a"
      },
      "outputs": [
        {
          "output_type": "stream",
          "name": "stderr",
          "text": [
            "Clipping input data to the valid range for imshow with RGB data ([0..1] for floats or [0..255] for integers).\n"
          ]
        },
        {
          "output_type": "stream",
          "name": "stdout",
          "text": [
            "0 torch.Size([3, 224, 224]) 0.0 0\n"
          ]
        },
        {
          "output_type": "stream",
          "name": "stderr",
          "text": [
            "Clipping input data to the valid range for imshow with RGB data ([0..1] for floats or [0..255] for integers).\n"
          ]
        },
        {
          "output_type": "stream",
          "name": "stdout",
          "text": [
            "1 torch.Size([3, 224, 224]) 0.0 0\n"
          ]
        },
        {
          "output_type": "stream",
          "name": "stderr",
          "text": [
            "Clipping input data to the valid range for imshow with RGB data ([0..1] for floats or [0..255] for integers).\n"
          ]
        },
        {
          "output_type": "stream",
          "name": "stdout",
          "text": [
            "2 torch.Size([3, 224, 224]) 0.0 0\n"
          ]
        },
        {
          "output_type": "stream",
          "name": "stderr",
          "text": [
            "Clipping input data to the valid range for imshow with RGB data ([0..1] for floats or [0..255] for integers).\n"
          ]
        },
        {
          "output_type": "stream",
          "name": "stdout",
          "text": [
            "3 torch.Size([3, 224, 224]) 0.0 0\n"
          ]
        },
        {
          "output_type": "display_data",
          "data": {
            "text/plain": [
              "<Figure size 432x288 with 4 Axes>"
            ],
            "image/png": "[encoded data removed]"
          },
          "metadata": {
            "needs_background": "light"
          }
        }
      ],
      "source": [
        "## plot training example\n",
        "for i in range(len(covid_dataset_train_val)):\n",
        "    sample = covid_dataset_train_val[i]\n",
        "    print(i, sample['image'].shape, sample['percentage'], sample['subject'])\n",
        "    ax = plt.subplot(1, 4, i + 1)\n",
        "    plt.tight_layout()\n",
        "    ax.set_title('Sample #{}'.format(i))\n",
        "    ax.axis('off')\n",
        "    plt.imshow(sample['image'].numpy().transpose(1,2,0))\n",
        "    if i == 3:\n",
        "        plt.show()\n",
        "        break"
      ]
    },
    {
      "cell_type": "code",
      "execution_count": null,
      "metadata": {
        "colab": {
          "base_uri": "https://localhost:8080/",
          "height": 261
        },
        "id": "YuAZNhAB1BXs",
        "outputId": "3210cb21-de47-4556-f87f-f0481297d753"
      },
      "outputs": [
        {
          "output_type": "stream",
          "name": "stderr",
          "text": [
            "Clipping input data to the valid range for imshow with RGB data ([0..1] for floats or [0..255] for integers).\n"
          ]
        },
        {
          "output_type": "stream",
          "name": "stdout",
          "text": [
            "0 torch.Size([3, 224, 224]) drive/MyDrive/DL_Project/Val/Image_0304.png\n"
          ]
        },
        {
          "output_type": "stream",
          "name": "stderr",
          "text": [
            "Clipping input data to the valid range for imshow with RGB data ([0..1] for floats or [0..255] for integers).\n"
          ]
        },
        {
          "output_type": "stream",
          "name": "stdout",
          "text": [
            "1 torch.Size([3, 224, 224]) drive/MyDrive/DL_Project/Val/Image_0301.png\n"
          ]
        },
        {
          "output_type": "stream",
          "name": "stderr",
          "text": [
            "Clipping input data to the valid range for imshow with RGB data ([0..1] for floats or [0..255] for integers).\n"
          ]
        },
        {
          "output_type": "stream",
          "name": "stdout",
          "text": [
            "2 torch.Size([3, 224, 224]) drive/MyDrive/DL_Project/Val/Image_0302.png\n"
          ]
        },
        {
          "output_type": "stream",
          "name": "stderr",
          "text": [
            "Clipping input data to the valid range for imshow with RGB data ([0..1] for floats or [0..255] for integers).\n"
          ]
        },
        {
          "output_type": "stream",
          "name": "stdout",
          "text": [
            "3 torch.Size([3, 224, 224]) drive/MyDrive/DL_Project/Val/Image_0303.png\n"
          ]
        },
        {
          "output_type": "display_data",
          "data": {
            "text/plain": [
              "<Figure size 432x288 with 4 Axes>"
            ],
            "image/png": "[encoded data removed]"
          },
          "metadata": {
            "needs_background": "light"
          }
        }
      ],
      "source": [
        "## plot test examples\n",
        "for i in range(len(covid_dataset_test)):\n",
        "    sample = covid_dataset_test[i]\n",
        "    print(i, sample['image'].shape, sample['img_name'])\n",
        "    ax = plt.subplot(1, 4, i + 1)\n",
        "    plt.tight_layout()\n",
        "    ax.set_title('Sample #{}'.format(i))\n",
        "    ax.axis('off')\n",
        "    plt.imshow(sample['image'].numpy().transpose(1,2,0))\n",
        "    if i == 3:\n",
        "        plt.show()\n",
        "        break"
      ]
    },
    {
      "cell_type": "markdown",
      "metadata": {
        "id": "ZV7i3Ov9REFZ"
      },
      "source": [
        "##Split given train set to train & val set"
      ]
    },
    {
      "cell_type": "markdown",
      "metadata": {
        "id": "ewm9OtFoMA2r"
      },
      "source": [
        "### Apply CV"
      ]
    },
    {
      "cell_type": "code",
      "execution_count": null,
      "metadata": {
        "id": "mNH8GIIsLtgR"
      },
      "outputs": [],
      "source": [
        "from sklearn.model_selection import GridSearchCV, cross_validate\n",
        "from sklearn.model_selection import KFold\n",
        "\n",
        "# generate the index of subjects for k-fold cross validation\n",
        "def generate_index(dat,k):\n",
        "    \n",
        "    Y = list(range(0,dat[-1]['subject']+1))\n",
        "    kf = KFold(n_splits=k, shuffle=True)\n",
        "\n",
        "    n = len(Y)\n",
        "    index = {'train_index':[],\n",
        "             'val_index':[]}\n",
        "\n",
        "    for train_index, val_index in kf.split(np.zeros(n), Y):\n",
        "        index['train_index'].append(train_index)\n",
        "        index['val_index'].append(val_index)\n",
        "        \n",
        "    \n",
        "    return pd.DataFrame(index['train_index']).T,pd.DataFrame(index['val_index']).T"
      ]
    },
    {
      "cell_type": "code",
      "execution_count": null,
      "metadata": {
        "id": "2QE_lq53MEg0"
      },
      "outputs": [],
      "source": [
        "# get links form subjects to images\n",
        "df = pd.read_csv('drive/MyDrive/DL_Project/Train.csv')\n",
        "subtoimage = []\n",
        "le = []\n",
        "for sub in range(0,covid_dataset_train_val[-1]['subject']+1):\n",
        "  subtoimage.append(df[df['0'] == sub].index.tolist())\n",
        "  le.append(len(df[df['0'] == sub].index.tolist()))"
      ]
    },
    {
      "cell_type": "code",
      "execution_count": null,
      "metadata": {
        "id": "PrNBeIwwMIVm"
      },
      "outputs": [],
      "source": [
        "# get images' index form subjects' index\n",
        "def get_image_index(subindex,subtoimage):\n",
        "    imageindex = []\n",
        "    for sub in range(0,len(subindex)):\n",
        "        imageindex.extend(subtoimage[subindex[sub]])\n",
        "    return imageindex"
      ]
    },
    {
      "cell_type": "code",
      "execution_count": null,
      "metadata": {
        "id": "FzNT_ZV0M2WU"
      },
      "outputs": [],
      "source": [
        "# from typing import NewType\n",
        "def cv_train(pars, k=4, dir='drive/MyDrive/DL_Project/CV/',n_epochs=20):\n",
        "  train_index,val_index = generate_index(covid_dataset_train_val,k)\n",
        "  model_cv = []\n",
        "  valid_cvloss = []\n",
        "  valid_cvloss_trend = []\n",
        "  for split_i in range(0,k):\n",
        "    print('CV - Fold ', split_i)\n",
        "    fold_dir = dir + str(split_i) + '/'\n",
        "\n",
        "    if not os.path.isdir(fold_dir):\n",
        "      os.makedirs(fold_dir)\n",
        "      print(\"created folder : \", fold_dir)\n",
        "    else:\n",
        "      print(fold_dir, \"folder already exists.\")\n",
        "\n",
        "    model, cri, lr = pars\n",
        "    freeze_stat = True\n",
        "    model_CNN = model(pretrained=True,freeze=freeze_stat).to(device)\n",
        "    criterion = cri\n",
        "    model_CNN_grad_paramaters = filter(lambda p: p.requires_grad, model_CNN.parameters())\n",
        "    optimizer = optim.Adam(model_CNN_grad_paramaters, lr=lr)\n",
        "\n",
        "    ## split given train set to train & val set by subjects\n",
        "    train_imageindex = get_image_index(train_index.iloc[:,split_i],subtoimage)\n",
        "    val_imageindex = get_image_index(val_index.iloc[:,split_i],subtoimage)\n",
        "    train_dataset = torch.utils.data.Subset(covid_dataset_train_val,train_imageindex)\n",
        "    val_dataset = torch.utils.data.Subset(covid_dataset_train_val,val_imageindex)\n",
        "    train_dataloader = DataLoader(train_dataset, batch_size=8, shuffle=True, num_workers=0)\n",
        "    val_dataloader = DataLoader(val_dataset, batch_size=8, shuffle=True, num_workers=0)\n",
        "\n",
        "    ## training model\n",
        "    model_conv, valid_loss_min, valid_loss_trend = train_model(model_CNN, criterion, optimizer,train_dataloader,val_dataloader, dir=fold_dir,n_epochs=n_epochs)\n",
        "\n",
        "    model_cv.append(model_conv)\n",
        "    valid_cvloss.append(valid_loss_min)\n",
        "    valid_cvloss_trend.append(valid_loss_trend)\n",
        "  \n",
        "  print('----------------------Final CV loss: %.6f -----------------------' % torch.stack(valid_cvloss).cpu().data.mean() )\n",
        "  \n",
        "  return model_cv, valid_cvloss, valid_cvloss_trend"
      ]
    },
    {
      "cell_type": "markdown",
      "metadata": {
        "id": "OClBrnNnRK_t"
      },
      "source": [
        "## Import pretrained models library"
      ]
    },
    {
      "cell_type": "code",
      "execution_count": null,
      "metadata": {
        "colab": {
          "base_uri": "https://localhost:8080/"
        },
        "id": "sIQiUJcyvJ1y",
        "outputId": "b579fc95-be3f-444f-a63f-688df5ccd49a"
      },
      "outputs": [
        {
          "output_type": "stream",
          "name": "stdout",
          "text": [
            "Collecting pretrainedmodels\n",
            "  Downloading pretrainedmodels-0.7.4.tar.gz (58 kB)\n",
            "\u001b[?25l\r\u001b[K     |█████▋                          | 10 kB 25.3 MB/s eta 0:00:01\r\u001b[K     |███████████▏                    | 20 kB 23.7 MB/s eta 0:00:01\r\u001b[K     |████████████████▊               | 30 kB 10.5 MB/s eta 0:00:01\r\u001b[K     |██████████████████████▎         | 40 kB 4.4 MB/s eta 0:00:01\r\u001b[K     |███████████████████████████▉    | 51 kB 4.9 MB/s eta 0:00:01\r\u001b[K     |████████████████████████████████| 58 kB 3.2 MB/s \n",
            "\u001b[?25hRequirement already satisfied: torch in /usr/local/lib/python3.7/dist-packages (from pretrainedmodels) (1.10.0+cu111)\n",
            "Requirement already satisfied: torchvision in /usr/local/lib/python3.7/dist-packages (from pretrainedmodels) (0.11.1+cu111)\n",
            "Collecting munch\n",
            "  Downloading munch-2.5.0-py2.py3-none-any.whl (10 kB)\n",
            "Requirement already satisfied: tqdm in /usr/local/lib/python3.7/dist-packages (from pretrainedmodels) (4.63.0)\n",
            "Requirement already satisfied: six in /usr/local/lib/python3.7/dist-packages (from munch->pretrainedmodels) (1.15.0)\n",
            "Requirement already satisfied: typing-extensions in /usr/local/lib/python3.7/dist-packages (from torch->pretrainedmodels) (3.10.0.2)\n",
            "Requirement already satisfied: pillow!=8.3.0,>=5.3.0 in /usr/local/lib/python3.7/dist-packages (from torchvision->pretrainedmodels) (7.1.2)\n",
            "Requirement already satisfied: numpy in /usr/local/lib/python3.7/dist-packages (from torchvision->pretrainedmodels) (1.21.5)\n",
            "Building wheels for collected packages: pretrainedmodels\n",
            "  Building wheel for pretrainedmodels (setup.py) ... \u001b[?25l\u001b[?25hdone\n",
            "  Created wheel for pretrainedmodels: filename=pretrainedmodels-0.7.4-py3-none-any.whl size=60965 sha256=daa56f98dfefaa0e25a3b0b2e83b3727282baeb9f5319d36fb7be6c26a5c0da5\n",
            "  Stored in directory: /root/.cache/pip/wheels/ed/27/e8/9543d42de2740d3544db96aefef63bda3f2c1761b3334f4873\n",
            "Successfully built pretrainedmodels\n",
            "Installing collected packages: munch, pretrainedmodels\n",
            "Successfully installed munch-2.5.0 pretrainedmodels-0.7.4\n"
          ]
        }
      ],
      "source": [
        "## use imagenet pretrained model\n",
        "## let's start with resnet34\n",
        "!pip install pretrainedmodels"
      ]
    },
    {
      "cell_type": "markdown",
      "metadata": {
        "id": "NJTMiALSRRHC"
      },
      "source": [
        "## Use CUDA to speed up training"
      ]
    },
    {
      "cell_type": "code",
      "execution_count": null,
      "metadata": {
        "colab": {
          "base_uri": "https://localhost:8080/"
        },
        "id": "1BT-6cVxs_iT",
        "outputId": "f7ec9f70-6d4b-4848-b223-51cec93c61a0"
      },
      "outputs": [
        {
          "output_type": "stream",
          "name": "stdout",
          "text": [
            "cuda:0\n"
          ]
        }
      ],
      "source": [
        "device = torch.device(\"cuda:0\" if torch.cuda.is_available() else \"cpu\")\n",
        "print(device)"
      ]
    },
    {
      "cell_type": "markdown",
      "metadata": {
        "id": "wqPiUx1XRbIL"
      },
      "source": [
        "## Create CNN Model"
      ]
    },
    {
      "cell_type": "code",
      "execution_count": null,
      "metadata": {
        "id": "6DIFuG0hvZn7"
      },
      "outputs": [],
      "source": [
        "import pretrainedmodels\n",
        "#For model building\n",
        "import torch\n",
        "from torch import nn, optim\n",
        "import torchvision\n",
        "from torch.nn import functional as F\n",
        "\n",
        "class CNN3(nn.Module):\n",
        "    def __init__(self, pretrained=True,freeze=True):\n",
        "        super(CNN3, self).__init__()\n",
        "        if pretrained is True:\n",
        "            self.model = pretrainedmodels.__dict__[\"resnet50\"](pretrained=\"imagenet\")\n",
        "        else:\n",
        "            self.model = pretrainedmodels.__dict__[\"resnet50\"](pretrained=None)\n",
        "        if freeze is True:\n",
        "            for param in self.model.parameters():\n",
        "                param.requires_grad = False\n",
        "        self.conv1 = nn.Conv2d(2048, 512, (2,2), stride=1, padding =0)\n",
        "        self.conv2 = nn.Conv2d(512, 32, (2,2), stride=1, padding =0)\n",
        "        self.dropout = nn.Dropout(p=0.5)\n",
        "        self.conv3 = nn.Conv2d(32, 8, (2,2), stride=1, padding =0)\n",
        "        self.fc1 = nn.Linear(128, 16)\n",
        "        self.fc2 = nn.Linear(16, 8)\n",
        "        self.fc3 = nn.Linear(8, 1)\n",
        "        \n",
        "    def forward(self, x):\n",
        "        bs, _, _, _ = x.shape\n",
        "        x = self.model.features(x)\n",
        "        x = self.conv1(x)\n",
        "        x = self.conv2(x)\n",
        "        x = self.dropout(x)\n",
        "        x = self.conv3(F.relu(x))\n",
        "\n",
        "        label = self.fc1(x.reshape(bs, -1))\n",
        "        label = self.fc2(label)\n",
        "        label = self.fc3(label)\n",
        "        return label"
      ]
    },
    {
      "cell_type": "markdown",
      "source": [
        "## Training Process"
      ],
      "metadata": {
        "id": "oSpyclq0cXRl"
      }
    },
    {
      "cell_type": "code",
      "execution_count": null,
      "metadata": {
        "id": "O42uOYtUAK2D"
      },
      "outputs": [],
      "source": [
        "def train_model(model, criterion, optimizer, train_dataloader, val_dataloader, dir='drive/MyDrive/DL_Project/', n_epochs=20):\n",
        "    \"\"\"returns trained model\"\"\"\n",
        "    # initialize tracker for minimum validation loss\n",
        "    valid_loss_min = np.Inf\n",
        "    model_best = model\n",
        "    valid_loss_trend = []\n",
        "    for epoch in range(1, n_epochs+1):\n",
        "        train_loss = 0.0\n",
        "        valid_loss = 0.0\n",
        "        # train the model #\n",
        "        model.train()\n",
        "        for batch_idx, sample_batched in enumerate(train_dataloader):\n",
        "            # importing data and moving to GPU\n",
        "            image, label = sample_batched['image'].to(device), sample_batched['percentage'].to(device)\n",
        "            # zero the parameter gradients\n",
        "            optimizer.zero_grad()\n",
        "            output=model(image).reshape(-1)\n",
        "            # calculate loss\n",
        "            loss = criterion((output).type(torch.FloatTensor).to(device), label.type(torch.FloatTensor).to(device))\n",
        "            # back prop\n",
        "            loss.backward()\n",
        "            # grad\n",
        "            optimizer.step()\n",
        "            train_loss = train_loss + ((1 / (batch_idx + 1)) * (loss.data - train_loss))\n",
        "            if batch_idx % 100 == 0:\n",
        "                print('Epoch %d, Batch %d loss: %.6f' %\n",
        "                  (epoch, batch_idx + 1, train_loss))\n",
        "        # validate the model #\n",
        "        model.eval()\n",
        "        for batch_idx, sample_batched in enumerate(val_dataloader):\n",
        "            image, label = sample_batched['image'].to(device), sample_batched['percentage'].to(device)  \n",
        "            output = model(image).reshape(-1)\n",
        "            # calculate loss\n",
        "            loss=criterion((output).type(torch.FloatTensor).to(device), label.type(torch.FloatTensor).to(device))\n",
        "            valid_loss = valid_loss + ((1 / (batch_idx + 1)) * (loss.data - valid_loss))\n",
        "        \n",
        "        # print training/validation statistics \n",
        "        print('Epoch: {} \\tTraining Loss: {:.6f} \\tValidation Loss: {:.6f}'.format(\n",
        "            epoch, train_loss, valid_loss))\n",
        "        \n",
        "        valid_loss_trend.append(valid_loss)\n",
        "        \n",
        "        ## TODO: save the model if validation loss has decreased\n",
        "        if valid_loss < valid_loss_min:\n",
        "            model_best = model\n",
        "            model_dir = dir+'model.pth'\n",
        "            torch.save(model.state_dict(), model_dir)\n",
        "            print('Validation loss decreased ({:.6f} --> {:.6f}).  Saving model ...'.format(\n",
        "            valid_loss_min,\n",
        "            valid_loss))\n",
        "            valid_loss_min = valid_loss\n",
        "    # return trained model\n",
        "    return model_best, valid_loss_min, valid_loss_trend"
      ]
    },
    {
      "cell_type": "code",
      "execution_count": null,
      "metadata": {
        "id": "pRcDzZQnAScu"
      },
      "outputs": [],
      "source": [
        "# model_conv=train_model(model_CNN, criterion, optimizer)"
      ]
    },
    {
      "cell_type": "code",
      "execution_count": null,
      "metadata": {
        "id": "0-TDjNZblDCd"
      },
      "outputs": [],
      "source": [
        ""
      ]
    },
    {
      "cell_type": "markdown",
      "metadata": {
        "id": "IJePsT4QUDdh"
      },
      "source": [
        "## Save result on Actual Test Data to csv File"
      ]
    },
    {
      "cell_type": "code",
      "execution_count": null,
      "metadata": {
        "id": "w4liD6xDr_m3"
      },
      "outputs": [],
      "source": [
        "def save_test_cv(model,dir):\n",
        "  test_dataloader = DataLoader(covid_dataset_test, batch_size=8, shuffle=True, num_workers=0)\n",
        "  all_df = pd.DataFrame(columns=[])\n",
        "  for fold_idx in range(len(model)):\n",
        "    model_tmp = model[fold_idx]\n",
        "    col_name = 'fold_'+str(fold_idx)\n",
        "    df = pd.DataFrame(columns=['image_name',col_name])\n",
        "    for batch_idx, sample_batched in enumerate(test_dataloader):\n",
        "        image= sample_batched['image'].to(device)\n",
        "        img_name= sample_batched['img_name']\n",
        "        output = model_tmp(image).type(torch.LongTensor).reshape(-1)\n",
        "        img_name = np.array(img_name).reshape(output.shape[0],1)\n",
        "        o = output.cpu().data.numpy().reshape(output.shape[0],1)\n",
        "        a = np.concatenate((img_name,o),axis=1)\n",
        "        df = df.append(pd.DataFrame(a, columns=df.columns), ignore_index=True)\n",
        "    #Extracting image name from the image path\n",
        "    df['image_name']=df['image_name'].str.split(\"/\").str[-1]\n",
        "    df = df.sort_values('image_name',ignore_index=True)\n",
        "    all_df[col_name] = df[col_name].astype(float)\n",
        "  all_df['output'] = all_df.mean(axis=1)\n",
        "  all_df['image_name'] = df['image_name']\n",
        "  res = all_df[['image_name','output']]\n",
        "\n",
        "  file_dir = dir+'predictions.zip'\n",
        "  print(file_dir)\n",
        "  comp_opt = dict(method='zip', archive_name='predictions.csv')\n",
        "  res.to_csv(file_dir, index=False, header=False,compression=comp_opt)\n",
        "  all_df.to_csv(dir+'cv_predictions.csv', index=False, header=False)\n",
        "  all_df.head()"
      ]
    },
    {
      "cell_type": "markdown",
      "metadata": {
        "id": "mIXtwdZ5NHsi"
      },
      "source": [
        "## Model Training and Comparing"
      ]
    },
    {
      "cell_type": "code",
      "execution_count": null,
      "metadata": {
        "id": "JVB8B6aPNSQt"
      },
      "outputs": [],
      "source": [
        "# #Setting model and moving to device\n",
        "# model_CNN = CNN1(True).to(device)\n",
        "\n",
        "# criterion = nn.L1Loss()\n",
        "# #optimizer = optim.SGD(model_CNN.parameters(), lr=0.001, momentum=0.9)\n",
        "# optimizer = optim.Adam(model_CNN.parameters(), lr=0.001)\n",
        "model_set = [CNN33] # [CNN4,CNN6,CNN7] # CNN1, CNN2, CNN4, CNN22\n",
        "cri_set = [nn.SmoothL1Loss()] #[nn.L1Loss(),\n",
        "optim_lr = [0.0001] # 0.0001, 0.0005, 0.001, 0.005"
      ]
    },
    {
      "cell_type": "markdown",
      "metadata": {
        "id": "La68oRanojT1"
      },
      "source": [
        "#### CV training"
      ]
    },
    {
      "cell_type": "code",
      "execution_count": null,
      "metadata": {
        "colab": {
          "base_uri": "https://localhost:8080/"
        },
        "id": "DH_anixCoewB",
        "outputId": "65ef2fbf-8ca1-401a-bed9-f555ba982b22"
      },
      "outputs": [
        {
          "output_type": "stream",
          "name": "stdout",
          "text": [
            "drive/MyDrive/DL_Project/cv/CNN3/0/ folder already exists.\n",
            "0 (<class '__main__.CNN33'>, SmoothL1Loss(), 0.0001) drive/MyDrive/DL_Project/cv/CNN3/0/\n",
            "CV - Fold  0\n",
            "drive/MyDrive/DL_Project/cv/CNN3/0/0/ folder already exists.\n",
            "Epoch 1, Batch 1 loss: 18.861053\n",
            "Epoch 1, Batch 101 loss: 16.393227\n",
            "Epoch 1, Batch 201 loss: 14.237282\n",
            "Epoch: 1 \tTraining Loss: 12.938186 \tValidation Loss: 6.780434\n",
            "Validation loss decreased (inf --> 6.780434).  Saving model ...\n",
            "Epoch 2, Batch 1 loss: 17.884884\n",
            "Epoch 2, Batch 101 loss: 8.951971\n",
            "Epoch 2, Batch 201 loss: 8.712848\n",
            "Epoch: 2 \tTraining Loss: 8.348583 \tValidation Loss: 6.005025\n",
            "Validation loss decreased (6.780434 --> 6.005025).  Saving model ...\n",
            "Epoch 3, Batch 1 loss: 5.536206\n",
            "Epoch 3, Batch 101 loss: 8.004766\n",
            "Epoch 3, Batch 201 loss: 7.860339\n",
            "Epoch: 3 \tTraining Loss: 7.834764 \tValidation Loss: 5.781225\n",
            "Validation loss decreased (6.005025 --> 5.781225).  Saving model ...\n",
            "Epoch 4, Batch 1 loss: 5.243404\n",
            "Epoch 4, Batch 101 loss: 7.500581\n",
            "Epoch 4, Batch 201 loss: 7.306698\n",
            "Epoch: 4 \tTraining Loss: 7.361216 \tValidation Loss: 5.656476\n",
            "Validation loss decreased (5.781225 --> 5.656476).  Saving model ...\n",
            "Epoch 5, Batch 1 loss: 5.044908\n",
            "Epoch 5, Batch 101 loss: 6.811026\n",
            "Epoch 5, Batch 201 loss: 6.713060\n",
            "Epoch: 5 \tTraining Loss: 6.693223 \tValidation Loss: 5.444990\n",
            "Validation loss decreased (5.656476 --> 5.444990).  Saving model ...\n",
            "Epoch 6, Batch 1 loss: 3.851014\n",
            "Epoch 6, Batch 101 loss: 5.490736\n",
            "Epoch 6, Batch 201 loss: 5.823948\n",
            "Epoch: 6 \tTraining Loss: 6.017650 \tValidation Loss: 5.136683\n",
            "Validation loss decreased (5.444990 --> 5.136683).  Saving model ...\n",
            "Epoch 7, Batch 1 loss: 3.660784\n",
            "Epoch 7, Batch 101 loss: 5.859021\n",
            "Epoch 7, Batch 201 loss: 5.798625\n",
            "Epoch: 7 \tTraining Loss: 5.727493 \tValidation Loss: 5.258331\n",
            "Epoch 8, Batch 1 loss: 7.481308\n",
            "Epoch 8, Batch 101 loss: 5.846315\n",
            "Epoch 8, Batch 201 loss: 5.468740\n",
            "Epoch: 8 \tTraining Loss: 5.488142 \tValidation Loss: 4.877718\n",
            "Validation loss decreased (5.136683 --> 4.877718).  Saving model ...\n",
            "Epoch 9, Batch 1 loss: 7.938488\n",
            "Epoch 9, Batch 101 loss: 5.193202\n",
            "Epoch 9, Batch 201 loss: 5.313385\n",
            "Epoch: 9 \tTraining Loss: 5.361798 \tValidation Loss: 4.803017\n",
            "Validation loss decreased (4.877718 --> 4.803017).  Saving model ...\n",
            "Epoch 10, Batch 1 loss: 4.578419\n",
            "Epoch 10, Batch 101 loss: 5.160063\n",
            "Epoch 10, Batch 201 loss: 5.000513\n",
            "Epoch: 10 \tTraining Loss: 5.205835 \tValidation Loss: 5.361128\n",
            "Epoch 11, Batch 1 loss: 18.317347\n",
            "Epoch 11, Batch 101 loss: 4.886814\n",
            "Epoch 11, Batch 201 loss: 4.996133\n",
            "Epoch: 11 \tTraining Loss: 5.041707 \tValidation Loss: 5.457533\n",
            "Epoch 12, Batch 1 loss: 6.997150\n",
            "Epoch 12, Batch 101 loss: 5.078726\n",
            "Epoch 12, Batch 201 loss: 5.011465\n",
            "Epoch: 12 \tTraining Loss: 4.911499 \tValidation Loss: 4.832993\n",
            "Epoch 13, Batch 1 loss: 4.178344\n",
            "Epoch 13, Batch 101 loss: 5.010908\n",
            "Epoch 13, Batch 201 loss: 4.879088\n",
            "Epoch: 13 \tTraining Loss: 4.829226 \tValidation Loss: 5.103523\n",
            "Epoch 14, Batch 1 loss: 5.908184\n",
            "Epoch 14, Batch 101 loss: 4.663055\n",
            "Epoch 14, Batch 201 loss: 4.599399\n",
            "Epoch: 14 \tTraining Loss: 4.626069 \tValidation Loss: 5.366995\n",
            "Epoch 15, Batch 1 loss: 6.680299\n",
            "Epoch 15, Batch 101 loss: 4.544881\n",
            "Epoch 15, Batch 201 loss: 4.545875\n",
            "Epoch: 15 \tTraining Loss: 4.583357 \tValidation Loss: 4.987864\n",
            "Epoch 16, Batch 1 loss: 2.415273\n",
            "Epoch 16, Batch 101 loss: 4.369336\n",
            "Epoch 16, Batch 201 loss: 4.411282\n",
            "Epoch: 16 \tTraining Loss: 4.419209 \tValidation Loss: 5.068405\n",
            "Epoch 17, Batch 1 loss: 2.628377\n",
            "Epoch 17, Batch 101 loss: 4.394058\n",
            "Epoch 17, Batch 201 loss: 4.402823\n",
            "Epoch: 17 \tTraining Loss: 4.417377 \tValidation Loss: 5.137290\n",
            "Epoch 18, Batch 1 loss: 1.561703\n",
            "Epoch 18, Batch 101 loss: 4.350362\n",
            "Epoch 18, Batch 201 loss: 4.208227\n",
            "Epoch: 18 \tTraining Loss: 4.174912 \tValidation Loss: 4.804332\n",
            "Epoch 19, Batch 1 loss: 8.336877\n",
            "Epoch 19, Batch 101 loss: 4.477064\n",
            "Epoch 19, Batch 201 loss: 4.270262\n",
            "Epoch: 19 \tTraining Loss: 4.200023 \tValidation Loss: 4.911646\n",
            "Epoch 20, Batch 1 loss: 3.313253\n",
            "Epoch 20, Batch 101 loss: 4.643499\n",
            "Epoch 20, Batch 201 loss: 4.230514\n",
            "Epoch: 20 \tTraining Loss: 4.088160 \tValidation Loss: 5.879543\n",
            "Epoch 21, Batch 1 loss: 4.844270\n",
            "Epoch 21, Batch 101 loss: 3.687439\n",
            "Epoch 21, Batch 201 loss: 3.896027\n",
            "Epoch: 21 \tTraining Loss: 3.994732 \tValidation Loss: 5.653536\n",
            "Epoch 22, Batch 1 loss: 5.030990\n",
            "Epoch 22, Batch 101 loss: 4.042858\n",
            "Epoch 22, Batch 201 loss: 3.968582\n",
            "Epoch: 22 \tTraining Loss: 3.950683 \tValidation Loss: 5.074648\n",
            "Epoch 23, Batch 1 loss: 2.790722\n",
            "Epoch 23, Batch 101 loss: 4.297969\n",
            "Epoch 23, Batch 201 loss: 3.931953\n",
            "Epoch: 23 \tTraining Loss: 3.989188 \tValidation Loss: 5.534172\n",
            "Epoch 24, Batch 1 loss: 3.355794\n",
            "Epoch 24, Batch 101 loss: 3.901262\n",
            "Epoch 24, Batch 201 loss: 3.812156\n",
            "Epoch: 24 \tTraining Loss: 3.865681 \tValidation Loss: 5.279748\n",
            "Epoch 25, Batch 1 loss: 8.191663\n",
            "Epoch 25, Batch 101 loss: 3.807234\n",
            "Epoch 25, Batch 201 loss: 3.834705\n",
            "Epoch: 25 \tTraining Loss: 3.727676 \tValidation Loss: 5.056934\n",
            "Epoch 26, Batch 1 loss: 5.557997\n",
            "Epoch 26, Batch 101 loss: 4.117115\n",
            "Epoch 26, Batch 201 loss: 3.897022\n",
            "Epoch: 26 \tTraining Loss: 3.842170 \tValidation Loss: 5.150828\n",
            "Epoch 27, Batch 1 loss: 1.519315\n",
            "Epoch 27, Batch 101 loss: 3.734691\n",
            "Epoch 27, Batch 201 loss: 3.890921\n",
            "Epoch: 27 \tTraining Loss: 3.807724 \tValidation Loss: 4.872296\n",
            "Epoch 28, Batch 1 loss: 2.375825\n",
            "Epoch 28, Batch 101 loss: 3.713905\n",
            "Epoch 28, Batch 201 loss: 3.806586\n",
            "Epoch: 28 \tTraining Loss: 3.767945 \tValidation Loss: 4.941508\n",
            "Epoch 29, Batch 1 loss: 5.421959\n",
            "Epoch 29, Batch 101 loss: 3.536781\n",
            "Epoch 29, Batch 201 loss: 3.558036\n",
            "Epoch: 29 \tTraining Loss: 3.646349 \tValidation Loss: 4.805366\n",
            "Epoch 30, Batch 1 loss: 0.928915\n",
            "Epoch 30, Batch 101 loss: 3.451747\n",
            "Epoch 30, Batch 201 loss: 3.667106\n",
            "Epoch: 30 \tTraining Loss: 3.708482 \tValidation Loss: 4.904518\n",
            "Epoch 31, Batch 1 loss: 3.947329\n",
            "Epoch 31, Batch 101 loss: 3.460553\n",
            "Epoch 31, Batch 201 loss: 3.483620\n",
            "Epoch: 31 \tTraining Loss: 3.546411 \tValidation Loss: 5.292481\n",
            "Epoch 32, Batch 1 loss: 1.313086\n",
            "Epoch 32, Batch 101 loss: 3.428181\n",
            "Epoch 32, Batch 201 loss: 3.309159\n",
            "Epoch: 32 \tTraining Loss: 3.450338 \tValidation Loss: 5.374908\n",
            "Epoch 33, Batch 1 loss: 6.885357\n",
            "Epoch 33, Batch 101 loss: 3.784990\n",
            "Epoch 33, Batch 201 loss: 3.662945\n",
            "Epoch: 33 \tTraining Loss: 3.560387 \tValidation Loss: 5.157464\n",
            "Epoch 34, Batch 1 loss: 5.151340\n",
            "Epoch 34, Batch 101 loss: 3.713628\n",
            "Epoch 34, Batch 201 loss: 3.691542\n",
            "Epoch: 34 \tTraining Loss: 3.613025 \tValidation Loss: 5.075734\n",
            "Epoch 35, Batch 1 loss: 4.650409\n",
            "Epoch 35, Batch 101 loss: 3.355830\n",
            "Epoch 35, Batch 201 loss: 3.526990\n",
            "Epoch: 35 \tTraining Loss: 3.516130 \tValidation Loss: 4.981854\n",
            "Epoch 36, Batch 1 loss: 4.798477\n",
            "Epoch 36, Batch 101 loss: 3.642330\n",
            "Epoch 36, Batch 201 loss: 3.533020\n",
            "Epoch: 36 \tTraining Loss: 3.488278 \tValidation Loss: 5.529479\n",
            "Epoch 37, Batch 1 loss: 2.086030\n",
            "Epoch 37, Batch 101 loss: 3.190327\n",
            "Epoch 37, Batch 201 loss: 3.224284\n",
            "Epoch: 37 \tTraining Loss: 3.458796 \tValidation Loss: 5.570842\n",
            "Epoch 38, Batch 1 loss: 4.090202\n",
            "Epoch 38, Batch 101 loss: 3.534898\n",
            "Epoch 38, Batch 201 loss: 3.422720\n",
            "Epoch: 38 \tTraining Loss: 3.465590 \tValidation Loss: 4.878324\n",
            "Epoch 39, Batch 1 loss: 5.646051\n",
            "Epoch 39, Batch 101 loss: 3.383820\n",
            "Epoch 39, Batch 201 loss: 3.318215\n",
            "Epoch: 39 \tTraining Loss: 3.368289 \tValidation Loss: 4.891350\n",
            "Epoch 40, Batch 1 loss: 3.235670\n",
            "Epoch 40, Batch 101 loss: 2.931135\n",
            "Epoch 40, Batch 201 loss: 3.031283\n",
            "Epoch: 40 \tTraining Loss: 3.196622 \tValidation Loss: 5.163541\n",
            "Epoch 41, Batch 1 loss: 7.806199\n",
            "Epoch 41, Batch 101 loss: 3.397868\n",
            "Epoch 41, Batch 201 loss: 3.375515\n",
            "Epoch: 41 \tTraining Loss: 3.380814 \tValidation Loss: 5.447501\n",
            "Epoch 42, Batch 1 loss: 1.815351\n",
            "Epoch 42, Batch 101 loss: 3.175939\n",
            "Epoch 42, Batch 201 loss: 3.049870\n",
            "Epoch: 42 \tTraining Loss: 3.205570 \tValidation Loss: 5.754508\n",
            "Epoch 43, Batch 1 loss: 2.006080\n",
            "Epoch 43, Batch 101 loss: 3.375629\n",
            "Epoch 43, Batch 201 loss: 3.362863\n",
            "Epoch: 43 \tTraining Loss: 3.279729 \tValidation Loss: 4.946086\n",
            "Epoch 44, Batch 1 loss: 1.267205\n",
            "Epoch 44, Batch 101 loss: 3.325440\n",
            "Epoch 44, Batch 201 loss: 3.236070\n",
            "Epoch: 44 \tTraining Loss: 3.311513 \tValidation Loss: 5.552926\n",
            "Epoch 45, Batch 1 loss: 3.151978\n",
            "Epoch 45, Batch 101 loss: 3.221279\n",
            "Epoch 45, Batch 201 loss: 3.236392\n",
            "Epoch: 45 \tTraining Loss: 3.296669 \tValidation Loss: 5.489048\n",
            "Epoch 46, Batch 1 loss: 5.784456\n",
            "Epoch 46, Batch 101 loss: 3.318907\n",
            "Epoch 46, Batch 201 loss: 3.264565\n",
            "Epoch: 46 \tTraining Loss: 3.259570 \tValidation Loss: 5.359951\n",
            "Epoch 47, Batch 1 loss: 1.031127\n",
            "Epoch 47, Batch 101 loss: 3.295366\n",
            "Epoch 47, Batch 201 loss: 3.228983\n",
            "Epoch: 47 \tTraining Loss: 3.134774 \tValidation Loss: 5.056023\n",
            "Epoch 48, Batch 1 loss: 2.048934\n",
            "Epoch 48, Batch 101 loss: 3.206658\n",
            "Epoch 48, Batch 201 loss: 3.153880\n",
            "Epoch: 48 \tTraining Loss: 3.187401 \tValidation Loss: 5.462013\n",
            "Epoch 49, Batch 1 loss: 4.047510\n",
            "Epoch 49, Batch 101 loss: 3.197505\n",
            "Epoch 49, Batch 201 loss: 3.125790\n",
            "Epoch: 49 \tTraining Loss: 3.175574 \tValidation Loss: 5.599678\n",
            "Epoch 50, Batch 1 loss: 5.386853\n",
            "Epoch 50, Batch 101 loss: 3.270916\n",
            "Epoch 50, Batch 201 loss: 3.120689\n",
            "Epoch: 50 \tTraining Loss: 3.197385 \tValidation Loss: 5.389487\n",
            "CV - Fold  1\n",
            "drive/MyDrive/DL_Project/cv/CNN3/0/1/ folder already exists.\n",
            "Epoch 1, Batch 1 loss: 22.319250\n",
            "Epoch 1, Batch 101 loss: 16.939058\n",
            "Epoch 1, Batch 201 loss: 15.139772\n",
            "Epoch: 1 \tTraining Loss: 13.534643 \tValidation Loss: 9.094700\n",
            "Validation loss decreased (inf --> 9.094700).  Saving model ...\n",
            "Epoch 2, Batch 1 loss: 8.891464\n",
            "Epoch 2, Batch 101 loss: 9.481033\n",
            "Epoch 2, Batch 201 loss: 9.200534\n",
            "Epoch: 2 \tTraining Loss: 8.794552 \tValidation Loss: 8.245840\n",
            "Validation loss decreased (9.094700 --> 8.245840).  Saving model ...\n",
            "Epoch 3, Batch 1 loss: 10.829149\n",
            "Epoch 3, Batch 101 loss: 8.159725\n",
            "Epoch 3, Batch 201 loss: 8.233275\n",
            "Epoch: 3 \tTraining Loss: 8.236469 \tValidation Loss: 8.233829\n",
            "Validation loss decreased (8.245840 --> 8.233829).  Saving model ...\n",
            "Epoch 4, Batch 1 loss: 7.359479\n",
            "Epoch 4, Batch 101 loss: 7.450043\n",
            "Epoch 4, Batch 201 loss: 7.513579\n",
            "Epoch: 4 \tTraining Loss: 7.501689 \tValidation Loss: 8.025673\n",
            "Validation loss decreased (8.233829 --> 8.025673).  Saving model ...\n",
            "Epoch 5, Batch 1 loss: 4.783103\n",
            "Epoch 5, Batch 101 loss: 7.833349\n",
            "Epoch 5, Batch 201 loss: 7.477541\n",
            "Epoch: 5 \tTraining Loss: 7.312028 \tValidation Loss: 7.690841\n",
            "Validation loss decreased (8.025673 --> 7.690841).  Saving model ...\n",
            "Epoch 6, Batch 1 loss: 8.375008\n",
            "Epoch 6, Batch 101 loss: 7.005816\n",
            "Epoch 6, Batch 201 loss: 6.694750\n",
            "Epoch: 6 \tTraining Loss: 6.830140 \tValidation Loss: 7.443931\n",
            "Validation loss decreased (7.690841 --> 7.443931).  Saving model ...\n",
            "Epoch 7, Batch 1 loss: 14.730146\n",
            "Epoch 7, Batch 101 loss: 6.489360\n",
            "Epoch 7, Batch 201 loss: 6.389749\n",
            "Epoch: 7 \tTraining Loss: 6.441732 \tValidation Loss: 7.378755\n",
            "Validation loss decreased (7.443931 --> 7.378755).  Saving model ...\n",
            "Epoch 8, Batch 1 loss: 4.449543\n",
            "Epoch 8, Batch 101 loss: 5.850558\n",
            "Epoch 8, Batch 201 loss: 5.919254\n",
            "Epoch: 8 \tTraining Loss: 5.988509 \tValidation Loss: 7.377701\n",
            "Validation loss decreased (7.378755 --> 7.377701).  Saving model ...\n",
            "Epoch 9, Batch 1 loss: 3.715903\n",
            "Epoch 9, Batch 101 loss: 5.638162\n",
            "Epoch 9, Batch 201 loss: 5.699914\n",
            "Epoch: 9 \tTraining Loss: 5.699163 \tValidation Loss: 7.449341\n",
            "Epoch 10, Batch 1 loss: 7.319781\n",
            "Epoch 10, Batch 101 loss: 5.683715\n",
            "Epoch 10, Batch 201 loss: 5.523977\n",
            "Epoch: 10 \tTraining Loss: 5.482481 \tValidation Loss: 7.401376\n",
            "Epoch 11, Batch 1 loss: 6.765910\n",
            "Epoch 11, Batch 101 loss: 5.070576\n",
            "Epoch 11, Batch 201 loss: 4.971107\n",
            "Epoch: 11 \tTraining Loss: 5.077349 \tValidation Loss: 7.277538\n",
            "Validation loss decreased (7.377701 --> 7.277538).  Saving model ...\n",
            "Epoch 12, Batch 1 loss: 13.344751\n",
            "Epoch 12, Batch 101 loss: 5.043508\n",
            "Epoch 12, Batch 201 loss: 5.106089\n",
            "Epoch: 12 \tTraining Loss: 5.160349 \tValidation Loss: 7.083531\n",
            "Validation loss decreased (7.277538 --> 7.083531).  Saving model ...\n",
            "Epoch 13, Batch 1 loss: 2.948094\n",
            "Epoch 13, Batch 101 loss: 4.952441\n",
            "Epoch 13, Batch 201 loss: 5.051290\n",
            "Epoch: 13 \tTraining Loss: 5.016927 \tValidation Loss: 6.940142\n",
            "Validation loss decreased (7.083531 --> 6.940142).  Saving model ...\n",
            "Epoch 14, Batch 1 loss: 7.717815\n",
            "Epoch 14, Batch 101 loss: 4.910570\n",
            "Epoch 14, Batch 201 loss: 4.917832\n",
            "Epoch: 14 \tTraining Loss: 4.842281 \tValidation Loss: 7.080372\n",
            "Epoch 15, Batch 1 loss: 4.764102\n",
            "Epoch 15, Batch 101 loss: 4.704415\n",
            "Epoch 15, Batch 201 loss: 4.950994\n",
            "Epoch: 15 \tTraining Loss: 4.989769 \tValidation Loss: 7.240729\n",
            "Epoch 16, Batch 1 loss: 2.580050\n",
            "Epoch 16, Batch 101 loss: 4.565217\n",
            "Epoch 16, Batch 201 loss: 4.763072\n",
            "Epoch: 16 \tTraining Loss: 4.677870 \tValidation Loss: 7.205613\n",
            "Epoch 17, Batch 1 loss: 3.716347\n",
            "Epoch 17, Batch 101 loss: 4.697658\n",
            "Epoch 17, Batch 201 loss: 4.691583\n",
            "Epoch: 17 \tTraining Loss: 4.791950 \tValidation Loss: 6.946815\n",
            "Epoch 18, Batch 1 loss: 8.683098\n",
            "Epoch 18, Batch 101 loss: 4.725684\n",
            "Epoch 18, Batch 201 loss: 4.659798\n",
            "Epoch: 18 \tTraining Loss: 4.692126 \tValidation Loss: 7.035857\n",
            "Epoch 19, Batch 1 loss: 4.842172\n",
            "Epoch 19, Batch 101 loss: 4.507829\n",
            "Epoch 19, Batch 201 loss: 4.577647\n",
            "Epoch: 19 \tTraining Loss: 4.713381 \tValidation Loss: 7.077266\n",
            "Epoch 20, Batch 1 loss: 4.133788\n",
            "Epoch 20, Batch 101 loss: 4.412107\n",
            "Epoch 20, Batch 201 loss: 4.540678\n",
            "Epoch: 20 \tTraining Loss: 4.736462 \tValidation Loss: 7.452001\n",
            "Epoch 21, Batch 1 loss: 5.137938\n",
            "Epoch 21, Batch 101 loss: 4.355213\n",
            "Epoch 21, Batch 201 loss: 4.466803\n",
            "Epoch: 21 \tTraining Loss: 4.374172 \tValidation Loss: 7.444269\n",
            "Epoch 22, Batch 1 loss: 6.043301\n",
            "Epoch 22, Batch 101 loss: 4.463602\n",
            "Epoch 22, Batch 201 loss: 4.383671\n",
            "Epoch: 22 \tTraining Loss: 4.331825 \tValidation Loss: 6.988093\n",
            "Epoch 23, Batch 1 loss: 3.754490\n",
            "Epoch 23, Batch 101 loss: 4.663160\n",
            "Epoch 23, Batch 201 loss: 4.445473\n",
            "Epoch: 23 \tTraining Loss: 4.405763 \tValidation Loss: 7.190124\n",
            "Epoch 24, Batch 1 loss: 2.141422\n",
            "Epoch 24, Batch 101 loss: 4.139443\n",
            "Epoch 24, Batch 201 loss: 4.145382\n",
            "Epoch: 24 \tTraining Loss: 4.307316 \tValidation Loss: 7.103720\n",
            "Epoch 25, Batch 1 loss: 4.325812\n",
            "Epoch 25, Batch 101 loss: 4.353902\n",
            "Epoch 25, Batch 201 loss: 4.349944\n",
            "Epoch: 25 \tTraining Loss: 4.498920 \tValidation Loss: 7.236908\n",
            "Epoch 26, Batch 1 loss: 4.617838\n",
            "Epoch 26, Batch 101 loss: 4.437706\n",
            "Epoch 26, Batch 201 loss: 4.347296\n",
            "Epoch: 26 \tTraining Loss: 4.227822 \tValidation Loss: 7.344291\n",
            "Epoch 27, Batch 1 loss: 2.928870\n",
            "Epoch 27, Batch 101 loss: 4.503113\n",
            "Epoch 27, Batch 201 loss: 4.375288\n",
            "Epoch: 27 \tTraining Loss: 4.262363 \tValidation Loss: 7.233377\n",
            "Epoch 28, Batch 1 loss: 5.431097\n",
            "Epoch 28, Batch 101 loss: 4.123820\n",
            "Epoch 28, Batch 201 loss: 4.295765\n",
            "Epoch: 28 \tTraining Loss: 4.279483 \tValidation Loss: 7.464786\n",
            "Epoch 29, Batch 1 loss: 1.822408\n",
            "Epoch 29, Batch 101 loss: 4.254329\n",
            "Epoch 29, Batch 201 loss: 4.231688\n",
            "Epoch: 29 \tTraining Loss: 4.182316 \tValidation Loss: 7.142239\n",
            "Epoch 30, Batch 1 loss: 8.551119\n",
            "Epoch 30, Batch 101 loss: 4.337821\n",
            "Epoch 30, Batch 201 loss: 4.299585\n",
            "Epoch: 30 \tTraining Loss: 4.183155 \tValidation Loss: 6.925684\n",
            "Validation loss decreased (6.940142 --> 6.925684).  Saving model ...\n",
            "Epoch 31, Batch 1 loss: 3.461571\n",
            "Epoch 31, Batch 101 loss: 3.980462\n",
            "Epoch 31, Batch 201 loss: 4.036735\n",
            "Epoch: 31 \tTraining Loss: 4.083746 \tValidation Loss: 6.864303\n",
            "Validation loss decreased (6.925684 --> 6.864303).  Saving model ...\n",
            "Epoch 32, Batch 1 loss: 4.340730\n",
            "Epoch 32, Batch 101 loss: 3.887694\n",
            "Epoch 32, Batch 201 loss: 3.882021\n",
            "Epoch: 32 \tTraining Loss: 3.935154 \tValidation Loss: 7.264386\n",
            "Epoch 33, Batch 1 loss: 2.975496\n",
            "Epoch 33, Batch 101 loss: 4.180879\n",
            "Epoch 33, Batch 201 loss: 4.072673\n",
            "Epoch: 33 \tTraining Loss: 4.100674 \tValidation Loss: 7.117769\n",
            "Epoch 34, Batch 1 loss: 6.469596\n",
            "Epoch 34, Batch 101 loss: 3.747954\n",
            "Epoch 34, Batch 201 loss: 3.873793\n",
            "Epoch: 34 \tTraining Loss: 3.889201 \tValidation Loss: 7.309226\n",
            "Epoch 35, Batch 1 loss: 2.882219\n",
            "Epoch 35, Batch 101 loss: 3.824387\n",
            "Epoch 35, Batch 201 loss: 3.922793\n",
            "Epoch: 35 \tTraining Loss: 3.985938 \tValidation Loss: 7.314597\n",
            "Epoch 36, Batch 1 loss: 4.067705\n",
            "Epoch 36, Batch 101 loss: 4.215315\n",
            "Epoch 36, Batch 201 loss: 3.962230\n",
            "Epoch: 36 \tTraining Loss: 3.925617 \tValidation Loss: 6.907407\n",
            "Epoch 37, Batch 1 loss: 3.857918\n",
            "Epoch 37, Batch 101 loss: 3.911768\n",
            "Epoch 37, Batch 201 loss: 3.861778\n",
            "Epoch: 37 \tTraining Loss: 3.828518 \tValidation Loss: 6.888531\n",
            "Epoch 38, Batch 1 loss: 6.109203\n",
            "Epoch 38, Batch 101 loss: 3.764082\n",
            "Epoch 38, Batch 201 loss: 3.966441\n",
            "Epoch: 38 \tTraining Loss: 3.871750 \tValidation Loss: 7.150369\n",
            "Epoch 39, Batch 1 loss: 2.808070\n",
            "Epoch 39, Batch 101 loss: 3.849973\n",
            "Epoch 39, Batch 201 loss: 3.851793\n",
            "Epoch: 39 \tTraining Loss: 3.860906 \tValidation Loss: 6.924071\n",
            "Epoch 40, Batch 1 loss: 0.665962\n",
            "Epoch 40, Batch 101 loss: 3.957943\n",
            "Epoch 40, Batch 201 loss: 3.840186\n",
            "Epoch: 40 \tTraining Loss: 3.888023 \tValidation Loss: 6.917487\n",
            "Epoch 41, Batch 1 loss: 2.139896\n",
            "Epoch 41, Batch 101 loss: 3.542007\n",
            "Epoch 41, Batch 201 loss: 3.843312\n",
            "Epoch: 41 \tTraining Loss: 3.758421 \tValidation Loss: 7.569903\n",
            "Epoch 42, Batch 1 loss: 3.398405\n",
            "Epoch 42, Batch 101 loss: 3.568634\n",
            "Epoch 42, Batch 201 loss: 3.568122\n",
            "Epoch: 42 \tTraining Loss: 3.683386 \tValidation Loss: 7.284147\n",
            "Epoch 43, Batch 1 loss: 5.648778\n",
            "Epoch 43, Batch 101 loss: 3.595427\n",
            "Epoch 43, Batch 201 loss: 3.780429\n",
            "Epoch: 43 \tTraining Loss: 3.871413 \tValidation Loss: 6.952247\n",
            "Epoch 44, Batch 1 loss: 4.911063\n",
            "Epoch 44, Batch 101 loss: 4.013690\n",
            "Epoch 44, Batch 201 loss: 3.785971\n",
            "Epoch: 44 \tTraining Loss: 3.697831 \tValidation Loss: 7.002433\n",
            "Epoch 45, Batch 1 loss: 1.991725\n",
            "Epoch 45, Batch 101 loss: 3.820742\n",
            "Epoch 45, Batch 201 loss: 4.070666\n",
            "Epoch: 45 \tTraining Loss: 3.911574 \tValidation Loss: 6.746100\n",
            "Validation loss decreased (6.864303 --> 6.746100).  Saving model ...\n",
            "Epoch 46, Batch 1 loss: 10.901376\n",
            "Epoch 46, Batch 101 loss: 3.698340\n",
            "Epoch 46, Batch 201 loss: 3.653341\n",
            "Epoch: 46 \tTraining Loss: 3.667197 \tValidation Loss: 6.964383\n",
            "Epoch 47, Batch 1 loss: 4.605785\n",
            "Epoch 47, Batch 101 loss: 3.432693\n",
            "Epoch 47, Batch 201 loss: 3.444808\n",
            "Epoch: 47 \tTraining Loss: 3.781255 \tValidation Loss: 7.036339\n",
            "Epoch 48, Batch 1 loss: 3.077902\n",
            "Epoch 48, Batch 101 loss: 3.651365\n",
            "Epoch 48, Batch 201 loss: 3.859699\n",
            "Epoch: 48 \tTraining Loss: 3.765278 \tValidation Loss: 7.005669\n",
            "Epoch 49, Batch 1 loss: 3.430615\n",
            "Epoch 49, Batch 101 loss: 3.471568\n",
            "Epoch 49, Batch 201 loss: 3.435445\n",
            "Epoch: 49 \tTraining Loss: 3.553396 \tValidation Loss: 6.783586\n",
            "Epoch 50, Batch 1 loss: 7.107143\n",
            "Epoch 50, Batch 101 loss: 3.478144\n",
            "Epoch 50, Batch 201 loss: 3.593134\n",
            "Epoch: 50 \tTraining Loss: 3.493988 \tValidation Loss: 6.907650\n",
            "CV - Fold  2\n",
            "drive/MyDrive/DL_Project/cv/CNN3/0/2/ folder already exists.\n",
            "Epoch 1, Batch 1 loss: 11.956729\n",
            "Epoch 1, Batch 101 loss: 14.111727\n",
            "Epoch 1, Batch 201 loss: 11.591125\n",
            "Epoch: 1 \tTraining Loss: 10.911238 \tValidation Loss: 10.740097\n",
            "Validation loss decreased (inf --> 10.740097).  Saving model ...\n",
            "Epoch 2, Batch 1 loss: 9.681351\n",
            "Epoch 2, Batch 101 loss: 7.637219\n",
            "Epoch 2, Batch 201 loss: 7.531845\n",
            "Epoch: 2 \tTraining Loss: 7.312487 \tValidation Loss: 9.849565\n",
            "Validation loss decreased (10.740097 --> 9.849565).  Saving model ...\n",
            "Epoch 3, Batch 1 loss: 7.842250\n",
            "Epoch 3, Batch 101 loss: 6.902852\n",
            "Epoch 3, Batch 201 loss: 6.861235\n",
            "Epoch: 3 \tTraining Loss: 6.587799 \tValidation Loss: 8.669149\n",
            "Validation loss decreased (9.849565 --> 8.669149).  Saving model ...\n",
            "Epoch 4, Batch 1 loss: 4.708378\n",
            "Epoch 4, Batch 101 loss: 6.059529\n",
            "Epoch 4, Batch 201 loss: 6.057439\n",
            "Epoch: 4 \tTraining Loss: 5.899354 \tValidation Loss: 7.910367\n",
            "Validation loss decreased (8.669149 --> 7.910367).  Saving model ...\n",
            "Epoch 5, Batch 1 loss: 3.442373\n",
            "Epoch 5, Batch 101 loss: 5.909812\n",
            "Epoch 5, Batch 201 loss: 5.780773\n",
            "Epoch: 5 \tTraining Loss: 5.596575 \tValidation Loss: 7.724446\n",
            "Validation loss decreased (7.910367 --> 7.724446).  Saving model ...\n",
            "Epoch 6, Batch 1 loss: 7.211583\n",
            "Epoch 6, Batch 101 loss: 5.346009\n",
            "Epoch 6, Batch 201 loss: 5.296502\n"
          ]
        }
      ],
      "source": [
        "from itertools import product, chain\n",
        "import os\n",
        "\n",
        "comp_model = []\n",
        "comp_valid_loss = []\n",
        "comp_valid_trend = []\n",
        "log = pd.DataFrame(columns=['num','model','criterion','adam_lr','directory'])\n",
        "root = 'drive/MyDrive/DL_Project/cv/CNN3/'\n",
        "\n",
        "# for n, (model,cri,lr) in enumerate(product(model_set,cri_set, optim_lr))[1:]:\n",
        "for n, pars in enumerate(product(model_set,cri_set, optim_lr)):\n",
        "    # if n ==0:\n",
        "    #   continue\n",
        "\n",
        "    # freeze_stat = True\n",
        "    # model_CNN = model(pretrained=True,freeze=freeze_stat).to(device)\n",
        "    # criterion = cri\n",
        "    # model_CNN_grad_paramaters = filter(lambda p: p.requires_grad, model_CNN.parameters())\n",
        "    # optimizer = optim.Adam(model_CNN_grad_paramaters, lr=lr)\n",
        "\n",
        "    dir = root+str(n)+'/'\n",
        "    if not os.path.isdir(dir):\n",
        "      os.makedirs(dir)\n",
        "      print(\"created folder : \", dir)\n",
        "    else:\n",
        "      print(dir, \"folder already exists.\")\n",
        "\n",
        "    print(n,pars,dir)\n",
        "\n",
        "    model_conv, valid_loss_min, valid_loss_trend = cv_train(pars,k=4,dir = dir,n_epochs=50)\n",
        "\n",
        "    # save test result\n",
        "    save_test_cv(model_conv,dir)\n",
        "    \n",
        "    # value_val_loss = valid_loss_min.cpu().data()\n",
        "    model,cri,lr = pars\n",
        "    row = pd.Series([n,model,cri,lr,dir],index=log.columns)\n",
        "    log = log.append(row,ignore_index=True)\n",
        "\n",
        "    # comp_idx = comp_idx.append(n)\n",
        "    # comp_idx_model = comp_idx_model.append(model)\n",
        "    # comp_cri = comp_cri.append(cri)\n",
        "    # comp_optim = comp_optim.append(optim)\n",
        "\n",
        "    comp_model.append(model_conv)\n",
        "    comp_valid_loss.append(valid_loss_min)\n",
        "    comp_valid_trend.append(valid_loss_trend)"
      ]
    },
    {
      "cell_type": "code",
      "execution_count": null,
      "metadata": {
        "id": "7Uk6wbvSwWAv",
        "colab": {
          "base_uri": "https://localhost:8080/",
          "height": 81
        },
        "outputId": "01358c26-3541-4cdd-c60e-c2bc5647fc9e"
      },
      "outputs": [
        {
          "output_type": "execute_result",
          "data": {
            "text/plain": [
              "  num                    model       criterion  adam_lr  \\\n",
              "0   0  <class '__main__.CNN3'>  SmoothL1Loss()   0.0001   \n",
              "\n",
              "                             directory  mean_val_loss  \n",
              "0  drive/MyDrive/DL_Project/cv/CNN3/0/        6.60554  "
            ],
            "text/html": [
              "\n",
              "  <div id=\"df-5f8b7e80-2727-46a9-8e36-6bbc1556a6fc\">\n",
              "    <div class=\"colab-df-container\">\n",
              "      <div>\n",
              "<style scoped>\n",
              "    .dataframe tbody tr th:only-of-type {\n",
              "        vertical-align: middle;\n",
              "    }\n",
              "\n",
              "    .dataframe tbody tr th {\n",
              "        vertical-align: top;\n",
              "    }\n",
              "\n",
              "    .dataframe thead th {\n",
              "        text-align: right;\n",
              "    }\n",
              "</style>\n",
              "<table border=\"1\" class=\"dataframe\">\n",
              "  <thead>\n",
              "    <tr style=\"text-align: right;\">\n",
              "      <th></th>\n",
              "      <th>num</th>\n",
              "      <th>model</th>\n",
              "      <th>criterion</th>\n",
              "      <th>adam_lr</th>\n",
              "      <th>directory</th>\n",
              "      <th>mean_val_loss</th>\n",
              "    </tr>\n",
              "  </thead>\n",
              "  <tbody>\n",
              "    <tr>\n",
              "      <th>0</th>\n",
              "      <td>0</td>\n",
              "      <td>&lt;class '__main__.CNN3'&gt;</td>\n",
              "      <td>SmoothL1Loss()</td>\n",
              "      <td>0.0001</td>\n",
              "      <td>drive/MyDrive/DL_Project/cv/CNN3/0/</td>\n",
              "      <td>6.60554</td>\n",
              "    </tr>\n",
              "  </tbody>\n",
              "</table>\n",
              "</div>\n",
              "      <button class=\"colab-df-convert\" onclick=\"convertToInteractive('df-5f8b7e80-2727-46a9-8e36-6bbc1556a6fc')\"\n",
              "              title=\"Convert this dataframe to an interactive table.\"\n",
              "              style=\"display:none;\">\n",
              "        \n",
              "  <svg xmlns=\"http://www.w3.org/2000/svg\" height=\"24px\"viewBox=\"0 0 24 24\"\n",
              "       width=\"24px\">\n",
              "    <path d=\"M0 0h24v24H0V0z\" fill=\"none\"/>\n",
              "    <path d=\"M18.56 5.44l.94 2.06.94-2.06 2.06-.94-2.06-.94-.94-2.06-.94 2.06-2.06.94zm-11 1L8.5 8.5l.94-2.06 2.06-.94-2.06-.94L8.5 2.5l-.94 2.06-2.06.94zm10 10l.94 2.06.94-2.06 2.06-.94-2.06-.94-.94-2.06-.94 2.06-2.06.94z\"/><path d=\"M17.41 7.96l-1.37-1.37c-.4-.4-.92-.59-1.43-.59-.52 0-1.04.2-1.43.59L10.3 9.45l-7.72 7.72c-.78.78-.78 2.05 0 2.83L4 21.41c.39.39.9.59 1.41.59.51 0 1.02-.2 1.41-.59l7.78-7.78 2.81-2.81c.8-.78.8-2.07 0-2.86zM5.41 20L4 18.59l7.72-7.72 1.47 1.35L5.41 20z\"/>\n",
              "  </svg>\n",
              "      </button>\n",
              "      \n",
              "  <style>\n",
              "    .colab-df-container {\n",
              "      display:flex;\n",
              "      flex-wrap:wrap;\n",
              "      gap: 12px;\n",
              "    }\n",
              "\n",
              "    .colab-df-convert {\n",
              "      background-color: #E8F0FE;\n",
              "      border: none;\n",
              "      border-radius: 50%;\n",
              "      cursor: pointer;\n",
              "      display: none;\n",
              "      fill: #1967D2;\n",
              "      height: 32px;\n",
              "      padding: 0 0 0 0;\n",
              "      width: 32px;\n",
              "    }\n",
              "\n",
              "    .colab-df-convert:hover {\n",
              "      background-color: #E2EBFA;\n",
              "      box-shadow: 0px 1px 2px rgba(60, 64, 67, 0.3), 0px 1px 3px 1px rgba(60, 64, 67, 0.15);\n",
              "      fill: #174EA6;\n",
              "    }\n",
              "\n",
              "    [theme=dark] .colab-df-convert {\n",
              "      background-color: #3B4455;\n",
              "      fill: #D2E3FC;\n",
              "    }\n",
              "\n",
              "    [theme=dark] .colab-df-convert:hover {\n",
              "      background-color: #434B5C;\n",
              "      box-shadow: 0px 1px 3px 1px rgba(0, 0, 0, 0.15);\n",
              "      filter: drop-shadow(0px 1px 2px rgba(0, 0, 0, 0.3));\n",
              "      fill: #FFFFFF;\n",
              "    }\n",
              "  </style>\n",
              "\n",
              "      <script>\n",
              "        const buttonEl =\n",
              "          document.querySelector('#df-5f8b7e80-2727-46a9-8e36-6bbc1556a6fc button.colab-df-convert');\n",
              "        buttonEl.style.display =\n",
              "          google.colab.kernel.accessAllowed ? 'block' : 'none';\n",
              "\n",
              "        async function convertToInteractive(key) {\n",
              "          const element = document.querySelector('#df-5f8b7e80-2727-46a9-8e36-6bbc1556a6fc');\n",
              "          const dataTable =\n",
              "            await google.colab.kernel.invokeFunction('convertToInteractive',\n",
              "                                                     [key], {});\n",
              "          if (!dataTable) return;\n",
              "\n",
              "          const docLinkHtml = 'Like what you see? Visit the ' +\n",
              "            '<a target=\"_blank\" href=https://colab.research.google.com/notebooks/data_table.ipynb>data table notebook</a>'\n",
              "            + ' to learn more about interactive tables.';\n",
              "          element.innerHTML = '';\n",
              "          dataTable['output_type'] = 'display_data';\n",
              "          await google.colab.output.renderOutput(dataTable, element);\n",
              "          const docLink = document.createElement('div');\n",
              "          docLink.innerHTML = docLinkHtml;\n",
              "          element.appendChild(docLink);\n",
              "        }\n",
              "      </script>\n",
              "    </div>\n",
              "  </div>\n",
              "  "
            ]
          },
          "metadata": {},
          "execution_count": 25
        }
      ],
      "source": [
        "val_loss = []\n",
        "for idx in range(len(comp_valid_loss)):\n",
        "  mean_val_loss = torch.stack(comp_valid_loss[idx]).cpu().data.mean()\n",
        "  val_loss.append(mean_val_loss)\n",
        "log['mean_val_loss'] = torch.stack(val_loss).tolist()\n",
        "log_path = root+'log.csv'\n",
        "log.to_csv(root+'log.csv')\n",
        "log"
      ]
    },
    {
      "cell_type": "code",
      "execution_count": null,
      "metadata": {
        "id": "fVwLtw1piBcj"
      },
      "outputs": [],
      "source": [
        ""
      ]
    }
  ],
  "metadata": {
    "accelerator": "GPU",
    "colab": {
      "collapsed_sections": [],
      "name": "Final_covid19_predict.ipynb",
      "provenance": [],
      "include_colab_link": true
    },
    "kernelspec": {
      "display_name": "Python 3 (ipykernel)",
      "language": "python",
      "name": "python3"
    },
    "language_info": {
      "codemirror_mode": {
        "name": "ipython",
        "version": 3
      },
      "file_extension": ".py",
      "mimetype": "text/x-python",
      "name": "python",
      "nbconvert_exporter": "python",
      "pygments_lexer": "ipython3",
      "version": "3.9.7"
    }
  },
  "nbformat": 4,
  "nbformat_minor": 0
}