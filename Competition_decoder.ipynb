{
  "cells": [
    {
      "cell_type": "markdown",
      "metadata": {
        "id": "view-in-github",
        "colab_type": "text"
      },
      "source": [
        "<a href=\"https://colab.research.google.com/github/BuddGao/DL-Competition/blob/main/Competition_decoder.ipynb\" target=\"_parent\"><img src=\"https://colab.research.google.com/assets/colab-badge.svg\" alt=\"Open In Colab\"/></a>"
      ]
    },
    {
      "cell_type": "code",
      "execution_count": 1,
      "metadata": {
        "colab": {
          "base_uri": "https://localhost:8080/"
        },
        "id": "HLmZdwaRm_oK",
        "outputId": "cf689362-5fea-44e8-9d7d-85fd3c117598"
      },
      "outputs": [
        {
          "output_type": "stream",
          "name": "stdout",
          "text": [
            "Mounted at /content/drive\n"
          ]
        }
      ],
      "source": [
        "from google.colab import drive\n",
        "drive.mount('/content/drive')"
      ]
    },
    {
      "cell_type": "code",
      "execution_count": null,
      "metadata": {
        "id": "WGwPSGYhqlV8"
      },
      "outputs": [],
      "source": [
        "#!unzip \"drive/MyDrive/DL_Project/Train.zip\" -d  \"drive/MyDrive/DL_Project/\""
      ]
    },
    {
      "cell_type": "code",
      "execution_count": null,
      "metadata": {
        "colab": {
          "base_uri": "https://localhost:8080/"
        },
        "id": "0aXA-pNEqoMn",
        "outputId": "1447a30a-33da-4001-c4e7-18ad3ae0aeea"
      },
      "outputs": [
        {
          "output_type": "stream",
          "name": "stdout",
          "text": [
            "Wed Mar 16 19:57:05 2022       \n",
            "+-----------------------------------------------------------------------------+\n",
            "| NVIDIA-SMI 460.32.03    Driver Version: 460.32.03    CUDA Version: 11.2     |\n",
            "|-------------------------------+----------------------+----------------------+\n",
            "| GPU  Name        Persistence-M| Bus-Id        Disp.A | Volatile Uncorr. ECC |\n",
            "| Fan  Temp  Perf  Pwr:Usage/Cap|         Memory-Usage | GPU-Util  Compute M. |\n",
            "|                               |                      |               MIG M. |\n",
            "|===============================+======================+======================|\n",
            "|   0  Tesla P100-PCIE...  Off  | 00000000:00:04.0 Off |                    0 |\n",
            "| N/A   33C    P0    27W / 250W |      0MiB / 16280MiB |      0%      Default |\n",
            "|                               |                      |                  N/A |\n",
            "+-------------------------------+----------------------+----------------------+\n",
            "                                                                               \n",
            "+-----------------------------------------------------------------------------+\n",
            "| Processes:                                                                  |\n",
            "|  GPU   GI   CI        PID   Type   Process name                  GPU Memory |\n",
            "|        ID   ID                                                   Usage      |\n",
            "|=============================================================================|\n",
            "|  No running processes found                                                 |\n",
            "+-----------------------------------------------------------------------------+\n"
          ]
        }
      ],
      "source": [
        "#!unzip \"drive/MyDrive/DL_Project/Val Blind.zip\" -d  \"drive/MyDrive/DL_Project/\"\n",
        "!/opt/bin/nvidia-smi"
      ]
    },
    {
      "cell_type": "code",
      "execution_count": 2,
      "metadata": {
        "id": "95O_gDz_qtRL"
      },
      "outputs": [],
      "source": [
        "## preprocess data\n",
        "## create custom data class\n",
        "from sklearn.model_selection import GridSearchCV, cross_validate\n",
        "from sklearn.model_selection import KFold\n",
        "import os\n",
        "import torch\n",
        "import pandas as pd\n",
        "from skimage import io, transform\n",
        "\n",
        "import numpy as np\n",
        "import matplotlib.pyplot as plt\n",
        "from torch.utils.data import Dataset, DataLoader\n",
        "from torchvision import transforms, utils\n",
        "import cv2\n",
        "from PIL import Image\n",
        "import glob\n",
        "\n",
        "class CovidDataset(Dataset):\n",
        "    \"\"\"Covid CT dataset.\"\"\"\n",
        "\n",
        "    def __init__(self, csv_file, root_dir, transform=None):\n",
        "        \"\"\"\n",
        "        Args:\n",
        "            csv_file (string): Path to the csv file with annotations.\n",
        "            root_dir (string): Directory with all the images.\n",
        "            transform (callable, optional): Optional transform to be applied\n",
        "                on a sample.\n",
        "        \"\"\"\n",
        "        self.label_data = pd.read_csv(csv_file)\n",
        "        self.root_dir = root_dir\n",
        "        ## you can apply custom transformation on the image for data augmentation\n",
        "        self.transform = transform\n",
        "\n",
        "    def __len__(self):\n",
        "        return len(self.label_data)\n",
        "\n",
        "    def __getitem__(self, idx):\n",
        "        if torch.is_tensor(idx):\n",
        "            idx = idx.tolist()\n",
        "\n",
        "        img_name = os.path.join(self.root_dir, self.label_data.iloc[idx, 0])\n",
        "        image = io.imread(img_name)\n",
        "        image = cv2.cvtColor(image, cv2.COLOR_BGRA2BGR)\n",
        "        image = torchvision.transforms.functional.to_tensor(image)\n",
        "        p = self.label_data.iloc[idx, 1]\n",
        "        subject_num = self.label_data.iloc[idx, 2]\n",
        "        sample = {'image': image, 'percentage': p, 'subject': subject_num, 'img_name':img_name}\n",
        "\n",
        "        # should be only applied on image, not percentage or subject #\n",
        "        if self.transform:\n",
        "            sample = self.transform(sample)\n",
        "\n",
        "        return sample"
      ]
    },
    {
      "cell_type": "code",
      "execution_count": 3,
      "metadata": {
        "id": "mLJWR3q3rDhV"
      },
      "outputs": [],
      "source": [
        "class CovidTestDataset(Dataset):\n",
        "    \"\"\"Covid CT TEST dataset.\"\"\"\n",
        "\n",
        "    def __init__(self, root_dir, transform=None):\n",
        "        \"\"\"\n",
        "        Args:\n",
        "            root_dir (string): Directory with all the images.\n",
        "            transform (callable, optional): Optional transform to be applied\n",
        "                on a sample.\n",
        "        \"\"\"\n",
        "        self.root_dir = root_dir\n",
        "        self.image_list = []\n",
        "        for filename in glob.glob(self.root_dir+\"/*.png\"): #assuming png\n",
        "          self.image_list.append(filename)\n",
        "\n",
        "    def __len__(self):\n",
        "        return len(self.image_list)\n",
        "\n",
        "    def __getitem__(self, idx):\n",
        "        if torch.is_tensor(idx):\n",
        "            idx = idx.tolist()\n",
        "\n",
        "        img_name = self.image_list[idx]\n",
        "        image = io.imread(img_name)\n",
        "        image = cv2.cvtColor(image, cv2.COLOR_BGRA2BGR)\n",
        "        image = torchvision.transforms.functional.to_tensor(image)\n",
        "        sample = {'image': image, 'img_name':img_name}\n",
        "\n",
        "        return sample"
      ]
    },
    {
      "cell_type": "code",
      "execution_count": 4,
      "metadata": {
        "id": "1_7VyeU-rHx3"
      },
      "outputs": [],
      "source": [
        "import torchvision\n",
        "covid_dataset_train_val = CovidDataset(csv_file='drive/MyDrive/DL_Project/Train.csv',\n",
        "                                    root_dir='drive/MyDrive/DL_Project/Train'\n",
        "                                    #, transform = transforms.Compose([\n",
        "                                    #           Rescale(256),\n",
        "                                    #           RandomCrop(224),\n",
        "                                    #           ToTensor()\n",
        "                                    #       ])\n",
        "                                    )\n",
        "\n",
        "covid_dataset_test = CovidTestDataset(root_dir='drive/MyDrive/DL_Project/Val')"
      ]
    },
    {
      "cell_type": "code",
      "execution_count": 5,
      "metadata": {
        "colab": {
          "base_uri": "https://localhost:8080/",
          "height": 191
        },
        "id": "_sUEYc2trJ3x",
        "outputId": "dae08262-6b09-454c-eca7-43390ef59c5f"
      },
      "outputs": [
        {
          "output_type": "stream",
          "name": "stdout",
          "text": [
            "0 torch.Size([3, 512, 512]) 0.0 0\n",
            "1 torch.Size([3, 512, 512]) 0.0 0\n",
            "2 torch.Size([3, 512, 512]) 0.0 0\n",
            "3 torch.Size([3, 512, 512]) 0.0 0\n"
          ]
        },
        {
          "output_type": "display_data",
          "data": {
            "text/plain": [
              "<Figure size 432x288 with 4 Axes>"
            ],
            "image/png": "[encoded data removed]"
          },
          "metadata": {
            "needs_background": "light"
          }
        }
      ],
      "source": [
        "## plot training example\n",
        "for i in range(len(covid_dataset_train_val)):\n",
        "    sample = covid_dataset_train_val[i]\n",
        "    print(i, sample['image'].shape, sample['percentage'], sample['subject'])\n",
        "    ax = plt.subplot(1, 4, i + 1)\n",
        "    plt.tight_layout()\n",
        "    ax.set_title('Sample #{}'.format(i))\n",
        "    ax.axis('off')\n",
        "    plt.imshow(sample['image'].numpy().transpose(1,2,0))\n",
        "    if i == 3:\n",
        "        plt.show()\n",
        "        break"
      ]
    },
    {
      "cell_type": "code",
      "execution_count": 6,
      "metadata": {
        "colab": {
          "base_uri": "https://localhost:8080/",
          "height": 191
        },
        "id": "X9YhBC4BrLz5",
        "outputId": "56b63490-980a-4001-f1e2-412d368c0a6a"
      },
      "outputs": [
        {
          "output_type": "stream",
          "name": "stdout",
          "text": [
            "0 torch.Size([3, 512, 512]) drive/MyDrive/DL_Project/Val/Image_0304.png\n",
            "1 torch.Size([3, 512, 512]) drive/MyDrive/DL_Project/Val/Image_0301.png\n",
            "2 torch.Size([3, 512, 512]) drive/MyDrive/DL_Project/Val/Image_0302.png\n",
            "3 torch.Size([3, 512, 512]) drive/MyDrive/DL_Project/Val/Image_0303.png\n"
          ]
        },
        {
          "output_type": "display_data",
          "data": {
            "text/plain": [
              "<Figure size 432x288 with 4 Axes>"
            ],
            "image/png": "[encoded data removed]"
          },
          "metadata": {
            "needs_background": "light"
          }
        }
      ],
      "source": [
        "## plot test examples\n",
        "for i in range(len(covid_dataset_test)):\n",
        "    sample = covid_dataset_test[i]\n",
        "    print(i, sample['image'].shape, sample['img_name'])\n",
        "    ax = plt.subplot(1, 4, i + 1)\n",
        "    plt.tight_layout()\n",
        "    ax.set_title('Sample #{}'.format(i))\n",
        "    ax.axis('off')\n",
        "    plt.imshow(sample['image'].numpy().transpose(1,2,0))\n",
        "    if i == 3:\n",
        "        plt.show()\n",
        "        break"
      ]
    },
    {
      "cell_type": "code",
      "execution_count": null,
      "metadata": {
        "id": "Frop9y5KaDU_"
      },
      "outputs": [],
      "source": [
        "# generate the index of subjects for k-fold cross validation\n",
        "def generate_index(dat,k):\n",
        "    \n",
        "    Y = list(range(0,dat[-1]['subject']+1))\n",
        "    kf = KFold(n_splits=k, shuffle=True)\n",
        "\n",
        "    n = len(Y)\n",
        "    index = {'train_index':[],\n",
        "             'val_index':[]}\n",
        "\n",
        "    for train_index, val_index in kf.split(np.zeros(n), Y):\n",
        "        index['train_index'].append(train_index)\n",
        "        index['val_index'].append(val_index)\n",
        "        \n",
        "    \n",
        "    return pd.DataFrame(index['train_index']).T,pd.DataFrame(index['val_index']).T"
      ]
    },
    {
      "cell_type": "code",
      "execution_count": null,
      "metadata": {
        "id": "6HvaOrrVs5sd"
      },
      "outputs": [],
      "source": [
        "# get links form subjects to images\n",
        "df = pd.read_csv('drive/MyDrive/DL_Project/Train.csv')\n",
        "subtoimage = []\n",
        "le = []\n",
        "for sub in range(0,covid_dataset_train_val[-1]['subject']+1):\n",
        "  subtoimage.append(df[df['0'] == sub].index.tolist())\n",
        "  le.append(len(df[df['0'] == sub].index.tolist()))"
      ]
    },
    {
      "cell_type": "code",
      "execution_count": null,
      "metadata": {
        "id": "UatrtHxvxXrG"
      },
      "outputs": [],
      "source": [
        "# get images' index form subjects' index\n",
        "def get_image_index(subindex,subtoimage):\n",
        "    imageindex = []\n",
        "    for sub in range(0,len(subindex)):\n",
        "        imageindex.extend(subtoimage[subindex[sub]])\n",
        "    return imageindex"
      ]
    },
    {
      "cell_type": "code",
      "execution_count": null,
      "metadata": {
        "colab": {
          "base_uri": "https://localhost:8080/"
        },
        "id": "3DRgrZrWrPD4",
        "outputId": "c9f2054d-579e-475b-974b-cfaf81989759"
      },
      "outputs": [
        {
          "output_type": "stream",
          "name": "stdout",
          "text": [
            "Collecting pretrainedmodels\n",
            "  Downloading pretrainedmodels-0.7.4.tar.gz (58 kB)\n",
            "\u001b[?25l\r\u001b[K     |█████▋                          | 10 kB 34.9 MB/s eta 0:00:01\r\u001b[K     |███████████▏                    | 20 kB 30.5 MB/s eta 0:00:01\r\u001b[K     |████████████████▊               | 30 kB 20.4 MB/s eta 0:00:01\r\u001b[K     |██████████████████████▎         | 40 kB 16.8 MB/s eta 0:00:01\r\u001b[K     |███████████████████████████▉    | 51 kB 17.3 MB/s eta 0:00:01\r\u001b[K     |████████████████████████████████| 58 kB 6.1 MB/s \n",
            "\u001b[?25hRequirement already satisfied: torch in /usr/local/lib/python3.7/dist-packages (from pretrainedmodels) (1.10.0+cu111)\n",
            "Requirement already satisfied: torchvision in /usr/local/lib/python3.7/dist-packages (from pretrainedmodels) (0.11.1+cu111)\n",
            "Collecting munch\n",
            "  Downloading munch-2.5.0-py2.py3-none-any.whl (10 kB)\n",
            "Requirement already satisfied: tqdm in /usr/local/lib/python3.7/dist-packages (from pretrainedmodels) (4.63.0)\n",
            "Requirement already satisfied: six in /usr/local/lib/python3.7/dist-packages (from munch->pretrainedmodels) (1.15.0)\n",
            "Requirement already satisfied: typing-extensions in /usr/local/lib/python3.7/dist-packages (from torch->pretrainedmodels) (3.10.0.2)\n",
            "Requirement already satisfied: numpy in /usr/local/lib/python3.7/dist-packages (from torchvision->pretrainedmodels) (1.21.5)\n",
            "Requirement already satisfied: pillow!=8.3.0,>=5.3.0 in /usr/local/lib/python3.7/dist-packages (from torchvision->pretrainedmodels) (7.1.2)\n",
            "Building wheels for collected packages: pretrainedmodels\n",
            "  Building wheel for pretrainedmodels (setup.py) ... \u001b[?25l\u001b[?25hdone\n",
            "  Created wheel for pretrainedmodels: filename=pretrainedmodels-0.7.4-py3-none-any.whl size=60965 sha256=51cc70b3f45ffec6af3d65b635cd5950be82683043d10dbbf3545933d1bfa885\n",
            "  Stored in directory: /root/.cache/pip/wheels/ed/27/e8/9543d42de2740d3544db96aefef63bda3f2c1761b3334f4873\n",
            "Successfully built pretrainedmodels\n",
            "Installing collected packages: munch, pretrainedmodels\n",
            "Successfully installed munch-2.5.0 pretrainedmodels-0.7.4\n"
          ]
        }
      ],
      "source": [
        "## use imagenet pretrained model\n",
        "## let's start with resnet34\n",
        "!pip install pretrainedmodels"
      ]
    },
    {
      "cell_type": "code",
      "execution_count": null,
      "metadata": {
        "colab": {
          "base_uri": "https://localhost:8080/"
        },
        "id": "dTx5UAUnrRbG",
        "outputId": "deb8187f-ab7d-45bd-aab5-68b8463b2c05"
      },
      "outputs": [
        {
          "output_type": "stream",
          "name": "stdout",
          "text": [
            "cuda:0\n"
          ]
        }
      ],
      "source": [
        "device = torch.device(\"cuda:0\" if torch.cuda.is_available() else \"cpu\")\n",
        "print(device)"
      ]
    },
    {
      "cell_type": "code",
      "execution_count": null,
      "metadata": {
        "id": "U5qLr70WrUG-"
      },
      "outputs": [],
      "source": [
        "import pretrainedmodels\n",
        "#For model building\n",
        "import torch\n",
        "from torch import nn, optim\n",
        "import torchvision\n",
        "from torch.nn import functional as F\n",
        "\n",
        "class CNN1(nn.Module):\n",
        "    def __init__(self, pretrained=True):\n",
        "        super(CNN1, self).__init__()\n",
        "        if pretrained is True:\n",
        "            self.model = pretrainedmodels.__dict__[\"resnet34\"](pretrained=\"imagenet\")\n",
        "        else:\n",
        "            self.model = pretrainedmodels.__dict__[\"resnet34\"](pretrained=None)\n",
        "        #self.fc1 = nn.Linear(512, 256)\n",
        "        self.conv1 = nn.Conv2d(512, 128, (5,5), stride=1, padding =0)\n",
        "        self.conv2 = nn.Conv2d(128, 32, (5,5), stride=1, padding =0)\n",
        "        self.dropout = nn.Dropout(p=0.5)\n",
        "        self.conv3 = nn.Conv2d(32, 8, (5,5), stride=1, padding =0)\n",
        "        self.fc1 = nn.Linear(128, 1)\n",
        "        \n",
        "    def forward(self, x):\n",
        "        bs, _, _, _ = x.shape\n",
        "        x = self.model.features(x)\n",
        "        #x = F.adaptive_avg_pool2d(x) #.reshape(bs, -1)\n",
        "        #x = F.relu(self.fc1(x))\n",
        "        x = self.conv1(x)\n",
        "        x = self.conv2(x)\n",
        "        x = self.dropout(x)\n",
        "        x = self.conv3(F.relu(x))\n",
        "        #print(x.size()) # [8, 8, 4, 4]\n",
        "        label = self.fc1(x.reshape(bs, -1))  # [8, 128]\n",
        "        return label"
      ]
    },
    {
      "cell_type": "code",
      "execution_count": null,
      "metadata": {
        "id": "EJvpp8X3zxWo"
      },
      "outputs": [],
      "source": [
        "# pretrainedmodels.__dict__\n"
      ]
    },
    {
      "cell_type": "code",
      "execution_count": null,
      "metadata": {
        "id": "P7FcjzDkVCxV"
      },
      "outputs": [],
      "source": [
        "class CNN2(nn.Module):\n",
        "    def __init__(self, pretrained=True):\n",
        "        super(CNN2, self).__init__()\n",
        "        if pretrained is True:\n",
        "            self.model = pretrainedmodels.__dict__[\"resnet18\"](pretrained=\"imagenet\")\n",
        "        else:\n",
        "            self.model = pretrainedmodels.__dict__[\"resnet18\"](pretrained=None)\n",
        "        #self.fc1 = nn.Linear(512, 256)\n",
        "        self.conv1 = nn.Conv2d(512, 128, (5,5), stride=1, padding =0)\n",
        "        self.conv2 = nn.Conv2d(128, 32, (5,5), stride=1, padding =0)\n",
        "        self.dropout = nn.Dropout(p=0.5)\n",
        "        self.conv3 = nn.Conv2d(32, 8, (5,5), stride=1, padding =0)\n",
        "        self.fc1 = nn.Linear(128, 16)\n",
        "        self.fc2 = nn.Linear(16, 8)\n",
        "        self.fc3 = nn.Linear(8, 1)\n",
        "        \n",
        "    def forward(self, x):\n",
        "        bs, _, _, _ = x.shape\n",
        "        x = self.model.features(x)\n",
        "        #x = F.adaptive_avg_pool2d(x) #.reshape(bs, -1)\n",
        "        #x = F.relu(self.fc1(x))\n",
        "        x = self.conv1(x)\n",
        "        x = self.conv2(x)\n",
        "        x = self.dropout(x)\n",
        "        x = self.conv3(F.relu(x))\n",
        "        # print(x.size()) # [8, 8, 4, 4]\n",
        "        label = self.fc1(x.reshape(bs, -1))  # [8, 128]\n",
        "        label = self.fc2(label)\n",
        "        label = self.fc3(label)\n",
        "        return label"
      ]
    },
    {
      "cell_type": "code",
      "execution_count": null,
      "metadata": {
        "id": "przjgpumIEoT"
      },
      "outputs": [],
      "source": [
        "# reference: https://github.com/mr7495/COVID-CT-Code/blob/master/COVID_Train%26Validation.ipynb\n",
        "class CNN3(nn.Module):\n",
        "    def __init__(self, pretrained=True):\n",
        "        super(CNN3, self).__init__()\n",
        "        if pretrained is True:\n",
        "            self.model = pretrainedmodels.__dict__[\"resnet50\"](pretrained=\"imagenet\")\n",
        "        else:\n",
        "            self.model = pretrainedmodels.__dict__[\"resnet50\"](pretrained=None)\n",
        "        #self.fc1 = nn.Linear(512, 256)\n",
        "        self.conv1 = nn.Conv2d(512, 128, (5,5), stride=1, padding =0)\n",
        "        self.conv2 = nn.Conv2d(128, 32, (5,5), stride=1, padding =0)\n",
        "        self.dropout = nn.Dropout(p=0.5)\n",
        "        self.conv3 = nn.Conv2d(32, 8, (5,5), stride=1, padding =0)\n",
        "        self.fc1 = nn.Linear(128, 16)\n",
        "        self.fc2 = nn.Linear(16, 8)\n",
        "        self.fc3 = nn.Linear(8, 1)\n",
        "        \n",
        "    def forward(self, x):\n",
        "        bs, _, _, _ = x.shape\n",
        "        x = self.model.features(x)\n",
        "        #x = F.adaptive_avg_pool2d(x) #.reshape(bs, -1)\n",
        "        #x = F.relu(self.fc1(x))\n",
        "        x = self.conv1(x)\n",
        "        x = self.conv2(x)\n",
        "        x = self.dropout(x)\n",
        "        x = self.conv3(F.relu(x))\n",
        "        # print(x.size()) # [8, 8, 4, 4]\n",
        "        label = self.fc1(x.reshape(bs, -1))  # [8, 128]\n",
        "        label = self.fc2(label)\n",
        "        label = self.fc3(label)\n",
        "        return label"
      ]
    },
    {
      "cell_type": "code",
      "execution_count": null,
      "metadata": {
        "id": "B5w1p6y-VORP"
      },
      "outputs": [],
      "source": [
        "# reference: https://www.researchsquare.com/article/rs-32957/v1\n",
        "class CNN4(nn.Module):\n",
        "    def __init__(self, pretrained=True):\n",
        "        super(CNN4, self).__init__()\n",
        "        if pretrained is True:\n",
        "            self.model = pretrainedmodels.__dict__[\"resnet18\"](pretrained=\"imagenet\")\n",
        "        else:\n",
        "            self.model = pretrainedmodels.__dict__[\"resnet18\"](pretrained=None)\n",
        "        self.conv1 = nn.Conv2d(512, 128, (5,5), stride=1, padding =0)\n",
        "        self.conv2 = nn.Conv2d(128, 32, (5,5), stride=1, padding =0)\n",
        "        self.dropout = nn.Dropout(p=0.5)\n",
        "        self.conv3 = nn.Conv2d(32, 8, (5,5), stride=1, padding =0)\n",
        "        self.fc1 = nn.Linear(128, 16)\n",
        "        self.fc2 = nn.Linear(16, 8)\n",
        "        self.fc3 = nn.Linear(20, 1)\n",
        "\n",
        "        self.conv4 = nn.Conv1d(1,1,kernel_size=5)\n",
        "        self.bn = nn.BatchNorm1d(1)\n",
        "        \n",
        "    def forward(self, x):\n",
        "        bs, _, _, _ = x.shape\n",
        "        x = self.model.features(x)\n",
        "        #x = F.adaptive_avg_pool2d(x) #.reshape(bs, -1)\n",
        "        #x = F.relu(self.fc1(x))\n",
        "        x = self.conv1(x)\n",
        "        x = self.conv2(x)\n",
        "        x = self.dropout(x)\n",
        "        x = self.conv3(F.relu(x))\n",
        "        x = F.adaptive_avg_pool2d(x, x.shape[3])\n",
        "        # print(x.reshape(bs,-1).size())\n",
        "\n",
        "        l = self.fc1(x.reshape(bs, -1))\n",
        "        c = self.conv4(l.reshape(bs,1,-1))\n",
        "        c = self.bn(c)\n",
        "        c = F.relu(c)\n",
        "        l = self.fc2(l)\n",
        "        \n",
        "        # print(c.size()) # [8, 8, 4, 4]\n",
        "        # print(l.size())\n",
        "\n",
        "        x = torch.cat((c.reshape(bs,-1), l),1)\n",
        "        label = self.fc3(x)\n",
        "\n",
        "        return label"
      ]
    },
    {
      "cell_type": "code",
      "execution_count": null,
      "metadata": {
        "id": "V4fc93fUsR41"
      },
      "outputs": [],
      "source": [
        "# #Setting model and moving to device\n",
        "# model_CNN = CNN1(True).to(device)\n",
        "\n",
        "# criterion = nn.SmoothL1Loss()\n",
        "# #optimizer = optim.SGD(model_CNN.parameters(), lr=0.001, momentum=0.9)\n",
        "# optimizer = optim.Adam(model_CNN.parameters(), lr=0.001)"
      ]
    },
    {
      "cell_type": "code",
      "execution_count": null,
      "metadata": {
        "colab": {
          "base_uri": "https://localhost:8080/",
          "height": 201
        },
        "id": "on0ELkMyzv5Z",
        "outputId": "462d2630-c63b-4191-a207-cf1548c29986"
      },
      "outputs": [
        {
          "output_type": "error",
          "ename": "NameError",
          "evalue": "ignored",
          "traceback": [
            "\u001b[0;31m---------------------------------------------------------------------------\u001b[0m",
            "\u001b[0;31mNameError\u001b[0m                                 Traceback (most recent call last)",
            "\u001b[0;32m<ipython-input-15-0f59a3cc2ab1>\u001b[0m in \u001b[0;36m<module>\u001b[0;34m()\u001b[0m\n\u001b[1;32m      1\u001b[0m \u001b[0;32mfrom\u001b[0m \u001b[0mtorchsummary\u001b[0m \u001b[0;32mimport\u001b[0m \u001b[0msummary\u001b[0m\u001b[0;34m\u001b[0m\u001b[0;34m\u001b[0m\u001b[0m\n\u001b[0;32m----> 2\u001b[0;31m \u001b[0mmodel_CNN\u001b[0m \u001b[0;34m=\u001b[0m \u001b[0mCNN4\u001b[0m\u001b[0;34m(\u001b[0m\u001b[0;32mTrue\u001b[0m\u001b[0;34m)\u001b[0m\u001b[0;34m.\u001b[0m\u001b[0mto\u001b[0m\u001b[0;34m(\u001b[0m\u001b[0mdevice\u001b[0m\u001b[0;34m)\u001b[0m\u001b[0;34m\u001b[0m\u001b[0;34m\u001b[0m\u001b[0m\n\u001b[0m\u001b[1;32m      3\u001b[0m \u001b[0msummary\u001b[0m\u001b[0;34m(\u001b[0m\u001b[0mmodel_CNN\u001b[0m\u001b[0;34m,\u001b[0m \u001b[0minput_size\u001b[0m\u001b[0;34m=\u001b[0m\u001b[0;34m(\u001b[0m\u001b[0;36m3\u001b[0m\u001b[0;34m,\u001b[0m \u001b[0;36m512\u001b[0m\u001b[0;34m,\u001b[0m \u001b[0;36m512\u001b[0m\u001b[0;34m)\u001b[0m\u001b[0;34m)\u001b[0m\u001b[0;34m\u001b[0m\u001b[0;34m\u001b[0m\u001b[0m\n",
            "\u001b[0;31mNameError\u001b[0m: name 'CNN4' is not defined"
          ]
        }
      ],
      "source": [
        "from torchsummary import summary\n",
        "model_CNN = CNN4(True).to(device)\n",
        "summary(model_CNN, input_size=(3, 512, 512))"
      ]
    },
    {
      "cell_type": "code",
      "execution_count": null,
      "metadata": {
        "id": "fKEOiFbtsJ7C"
      },
      "outputs": [],
      "source": [
        "def train_model(model, criterion, optimizer, train_dataloader, val_dataloader, n_epochs=15):\n",
        "    \"\"\"returns trained model\"\"\"\n",
        "    # initialize tracker for minimum validation loss\n",
        "    valid_loss_min = np.Inf\n",
        "    for epoch in range(1, n_epochs):\n",
        "        train_loss = 0.0\n",
        "        valid_loss = 0.0\n",
        "        # train the model #\n",
        "        model.train()\n",
        "        for batch_idx, sample_batched in enumerate(train_dataloader):\n",
        "            # importing data and moving to GPU\n",
        "            image, label = sample_batched['image'].to(device), sample_batched['percentage'].to(device)\n",
        "            # zero the parameter gradients\n",
        "            optimizer.zero_grad()\n",
        "            output=model(image).reshape(-1)\n",
        "            # calculate loss\n",
        "            loss = criterion((output).type(torch.FloatTensor).to(device), label.type(torch.FloatTensor).to(device))\n",
        "            # back prop\n",
        "            loss.backward()\n",
        "            # grad\n",
        "            optimizer.step()\n",
        "            train_loss = train_loss + ((1 / (batch_idx + 1)) * (loss.data - train_loss))\n",
        "            if batch_idx % 100 == 0:\n",
        "                print('Epoch %d, Batch %d loss: %.6f' %\n",
        "                  (epoch, batch_idx + 1, train_loss))\n",
        "        # validate the model #\n",
        "        model.eval()\n",
        "        for batch_idx, sample_batched in enumerate(val_dataloader):\n",
        "            image, label = sample_batched['image'].to(device), sample_batched['percentage'].to(device)  \n",
        "            output = model(image).reshape(-1)\n",
        "            # calculate loss\n",
        "            loss=criterion((output).type(torch.FloatTensor).to(device), label.type(torch.FloatTensor).to(device))\n",
        "            valid_loss = valid_loss + ((1 / (batch_idx + 1)) * (loss.data - valid_loss))\n",
        "        \n",
        "        # print training/validation statistics \n",
        "        print('Epoch: {} \\tTraining Loss: {:.6f} \\tValidation Loss: {:.6f}'.format(\n",
        "            epoch, train_loss, valid_loss))\n",
        "        \n",
        "        ## TODO: save the model if validation loss has decreased\n",
        "        if valid_loss < valid_loss_min:\n",
        "            torch.save(model, 'drive/MyDrive/DL_Project/model.pt')\n",
        "            print('Validation loss decreased ({:.6f} --> {:.6f}).  Saving model ...'.format(\n",
        "            valid_loss_min,\n",
        "            valid_loss))\n",
        "            valid_loss_min = valid_loss\n",
        "    # return trained model\n",
        "    return model,valid_loss_min"
      ]
    },
    {
      "cell_type": "code",
      "execution_count": null,
      "metadata": {
        "id": "zE5E7Cu8cGio"
      },
      "outputs": [],
      "source": [
        "# k = 4\n",
        "# train_index,val_index = generate_index(covid_dataset_train_val,k)\n",
        "# test_dataloader = DataLoader(covid_dataset_test, batch_size=8, shuffle=True, num_workers=0)\n",
        "# model_cv = []\n",
        "# valid_cvloss = []\n",
        "# for split_i in range(0,k):\n",
        "#   ## split given train set to train & val set by subjects\n",
        "#   train_imageindex = get_image_index(train_index.iloc[:,split_i],subtoimage)\n",
        "#   val_imageindex = get_image_index(val_index.iloc[:,split_i],subtoimage)\n",
        "#   train_dataset = torch.utils.data.Subset(covid_dataset_train_val,train_imageindex)\n",
        "#   val_dataset = torch.utils.data.Subset(covid_dataset_train_val,val_imageindex)\n",
        "#   train_dataloader = DataLoader(train_dataset, batch_size=32, shuffle=True, num_workers=0)\n",
        "#   val_dataloader = DataLoader(val_dataset, batch_size=32, shuffle=True, num_workers=0)\n",
        " \n",
        "#   #Setting model and moving to device\n",
        "#   model_CNN = CNN1(True).to(device)\n",
        "\n",
        "#   criterion = nn.SmoothL1Loss()\n",
        "#   #optimizer = optim.SGD(model_CNN.parameters(), lr=0.001, momentum=0.9)\n",
        "#   optimizer = optim.Adam(model_CNN.parameters(), lr=0.0005)\n",
        "\n",
        "#   ## training model\n",
        "#   model_conv,valid_loss_min=train_model(model_CNN, criterion, optimizer)\n",
        "\n",
        "#   model_cv.append(model_conv)\n",
        "#   valid_cvloss.append(valid_loss_min)"
      ]
    },
    {
      "cell_type": "code",
      "execution_count": null,
      "metadata": {
        "id": "BvS7yOuiFEKy"
      },
      "outputs": [],
      "source": [
        "def cv_train(k=4):\n",
        "  train_index,val_index = generate_index(covid_dataset_train_val,k)\n",
        "  test_dataloader = DataLoader(covid_dataset_test, batch_size=8, shuffle=True, num_workers=0)\n",
        "  model_cv = []\n",
        "  valid_cvloss = []\n",
        "  for split_i in range(0,k):\n",
        "    print(split_i)\n",
        "\n",
        "    ## split given train set to train & val set by subjects\n",
        "    train_imageindex = get_image_index(train_index.iloc[:,split_i],subtoimage)\n",
        "    val_imageindex = get_image_index(val_index.iloc[:,split_i],subtoimage)\n",
        "    train_dataset = torch.utils.data.Subset(covid_dataset_train_val,train_imageindex)\n",
        "    val_dataset = torch.utils.data.Subset(covid_dataset_train_val,val_imageindex)\n",
        "    train_dataloader = DataLoader(train_dataset, batch_size=32, shuffle=True, num_workers=0)\n",
        "    val_dataloader = DataLoader(val_dataset, batch_size=32, shuffle=True, num_workers=0)\n",
        "\n",
        "    ## training model\n",
        "    model_conv, valid_loss_min = train_model(model_CNN, criterion, optimizer,train_dataloader,val_dataloader)\n",
        "\n",
        "    model_cv.append(model_conv)\n",
        "    valid_cvloss.append(valid_loss_min)\n",
        "  \n",
        "  return model_cv, valid_cvloss"
      ]
    },
    {
      "cell_type": "markdown",
      "source": [
        "#### Original version"
      ],
      "metadata": {
        "id": "Ui7d7oFoFwLH"
      }
    },
    {
      "cell_type": "code",
      "source": [
        "## split given train set to train & val set\n",
        "\n",
        "#dataloader = DataLoader(covid_dataset, batch_size=4, shuffle=True, num_workers=0)\n",
        "print(len(covid_dataset_train_val))\n",
        "train_size = int(0.7 * len(covid_dataset_train_val))\n",
        "val_size = len(covid_dataset_train_val) - train_size\n",
        "print(train_size, val_size)\n",
        "train_dataset, val_dataset = torch.utils.data.random_split(covid_dataset_train_val, [train_size, val_size])\n",
        "train_dataloader = DataLoader(train_dataset, batch_size=8, shuffle=True, num_workers=0)\n",
        "val_dataloader = DataLoader(val_dataset, batch_size=8, shuffle=True, num_workers=0)\n",
        "\n",
        "## test set\n",
        "test_dataloader = DataLoader(covid_dataset_test, batch_size=8, shuffle=True, num_workers=0)"
      ],
      "metadata": {
        "colab": {
          "base_uri": "https://localhost:8080/"
        },
        "id": "KCresDWjFvHX",
        "outputId": "ec8dd771-3eb0-4326-ea70-b2db094c9be6"
      },
      "execution_count": null,
      "outputs": [
        {
          "output_type": "stream",
          "name": "stdout",
          "text": [
            "3053\n",
            "2137 916\n"
          ]
        }
      ]
    },
    {
      "cell_type": "code",
      "source": [
        "#Setting model and moving to device\n",
        "model_CNN = CNN1(True).to(device)\n",
        "\n",
        "criterion = nn.SmoothL1Loss()\n",
        "#optimizer = optim.SGD(model_CNN.parameters(), lr=0.001, momentum=0.9)\n",
        "optimizer = optim.Adam(model_CNN.parameters(), lr=0.0005)"
      ],
      "metadata": {
        "colab": {
          "base_uri": "https://localhost:8080/",
          "height": 87,
          "referenced_widgets": [
            "ffda023e33ca45bfb72bd87bc878e847",
            "0b98173bafa145d6b4177980dbcc8e28",
            "f74ca6a37b2146799c5fcb5b152fb607",
            "ef461751c81746a0beb9254782b89ad5",
            "0896d0cd9c4748bcb97a2d62ddbbb4b1",
            "fc64b23ee7e347b88c382f04ed060ecf",
            "bd7f5b63ebd5454ea06d65a56c7494a3",
            "7bc572e934ba405bbe39a2fd44c02d2c",
            "e84546b433f1415ea6287656adf1703b",
            "cc6d157f800f4c96b8da64a32a1298ec",
            "bf3333241e054d0fa2a46657cdacbed6"
          ]
        },
        "id": "pij8zgLZFKq8",
        "outputId": "023e3177-7132-4494-9187-7449ae2f621e"
      },
      "execution_count": null,
      "outputs": [
        {
          "output_type": "stream",
          "name": "stderr",
          "text": [
            "Downloading: \"https://download.pytorch.org/models/resnet34-333f7ec4.pth\" to /root/.cache/torch/hub/checkpoints/resnet34-333f7ec4.pth\n"
          ]
        },
        {
          "output_type": "display_data",
          "data": {
            "text/plain": [
              "  0%|          | 0.00/83.3M [00:00<?, ?B/s]"
            ],
            "application/vnd.jupyter.widget-view+json": {
              "version_major": 2,
              "version_minor": 0,
              "model_id": "ffda023e33ca45bfb72bd87bc878e847"
            }
          },
          "metadata": {}
        }
      ]
    },
    {
      "cell_type": "code",
      "execution_count": null,
      "metadata": {
        "id": "HIN_2v7esLnN",
        "colab": {
          "base_uri": "https://localhost:8080/"
        },
        "outputId": "ee7bdce9-da02-40f1-c3a0-cc085d750701"
      },
      "outputs": [
        {
          "output_type": "stream",
          "name": "stdout",
          "text": [
            "Epoch 1, Batch 1 loss: 36.732868\n",
            "Epoch 1, Batch 101 loss: 15.221863\n",
            "Epoch 1, Batch 201 loss: 14.409155\n",
            "Epoch: 1 \tTraining Loss: 13.786035 \tValidation Loss: 7.870570\n",
            "Validation loss decreased (inf --> 7.870570).  Saving model ...\n",
            "Epoch 2, Batch 1 loss: 10.300012\n",
            "Epoch 2, Batch 101 loss: 9.382854\n",
            "Epoch 2, Batch 201 loss: 9.244595\n",
            "Epoch: 2 \tTraining Loss: 9.666555 \tValidation Loss: 10.850804\n",
            "Epoch 3, Batch 1 loss: 8.612732\n",
            "Epoch 3, Batch 101 loss: 9.904053\n",
            "Epoch 3, Batch 201 loss: 9.365145\n",
            "Epoch: 3 \tTraining Loss: 8.865157 \tValidation Loss: 7.286494\n",
            "Validation loss decreased (7.870570 --> 7.286494).  Saving model ...\n",
            "Epoch 4, Batch 1 loss: 6.756888\n",
            "Epoch 4, Batch 101 loss: 7.567633\n",
            "Epoch 4, Batch 201 loss: 7.382145\n",
            "Epoch: 4 \tTraining Loss: 7.259842 \tValidation Loss: 7.401605\n",
            "Epoch 5, Batch 1 loss: 10.232670\n",
            "Epoch 5, Batch 101 loss: 7.521949\n",
            "Epoch 5, Batch 201 loss: 6.952010\n",
            "Epoch: 5 \tTraining Loss: 6.771816 \tValidation Loss: 8.308432\n",
            "Epoch 6, Batch 1 loss: 2.896620\n",
            "Epoch 6, Batch 101 loss: 6.442059\n",
            "Epoch 6, Batch 201 loss: 6.289386\n",
            "Epoch: 6 \tTraining Loss: 6.312569 \tValidation Loss: 5.126032\n",
            "Validation loss decreased (7.286494 --> 5.126032).  Saving model ...\n",
            "Epoch 7, Batch 1 loss: 4.873833\n",
            "Epoch 7, Batch 101 loss: 6.282421\n",
            "Epoch 7, Batch 201 loss: 6.037024\n",
            "Epoch: 7 \tTraining Loss: 5.901232 \tValidation Loss: 4.964093\n",
            "Validation loss decreased (5.126032 --> 4.964093).  Saving model ...\n",
            "Epoch 8, Batch 1 loss: 4.562241\n",
            "Epoch 8, Batch 101 loss: 5.483347\n",
            "Epoch 8, Batch 201 loss: 5.374410\n",
            "Epoch: 8 \tTraining Loss: 5.496153 \tValidation Loss: 4.734196\n",
            "Validation loss decreased (4.964093 --> 4.734196).  Saving model ...\n",
            "Epoch 9, Batch 1 loss: 4.097488\n",
            "Epoch 9, Batch 101 loss: 5.587281\n",
            "Epoch 9, Batch 201 loss: 5.741415\n",
            "Epoch: 9 \tTraining Loss: 5.756905 \tValidation Loss: 6.165189\n",
            "Epoch 10, Batch 1 loss: 3.769029\n",
            "Epoch 10, Batch 101 loss: 4.961262\n",
            "Epoch 10, Batch 201 loss: 4.975190\n",
            "Epoch: 10 \tTraining Loss: 5.096213 \tValidation Loss: 5.081287\n",
            "Epoch 11, Batch 1 loss: 4.363635\n",
            "Epoch 11, Batch 101 loss: 4.713640\n",
            "Epoch 11, Batch 201 loss: 4.644732\n",
            "Epoch: 11 \tTraining Loss: 4.666773 \tValidation Loss: 7.024680\n",
            "Epoch 12, Batch 1 loss: 10.915337\n",
            "Epoch 12, Batch 101 loss: 4.686534\n",
            "Epoch 12, Batch 201 loss: 4.561974\n",
            "Epoch: 12 \tTraining Loss: 4.497517 \tValidation Loss: 4.516865\n",
            "Validation loss decreased (4.734196 --> 4.516865).  Saving model ...\n",
            "Epoch 13, Batch 1 loss: 4.654205\n",
            "Epoch 13, Batch 101 loss: 4.706965\n",
            "Epoch 13, Batch 201 loss: 4.601140\n",
            "Epoch: 13 \tTraining Loss: 4.781335 \tValidation Loss: 4.450882\n",
            "Validation loss decreased (4.516865 --> 4.450882).  Saving model ...\n",
            "Epoch 14, Batch 1 loss: 2.113366\n",
            "Epoch 14, Batch 101 loss: 4.403451\n",
            "Epoch 14, Batch 201 loss: 4.171737\n",
            "Epoch: 14 \tTraining Loss: 4.273782 \tValidation Loss: 5.013819\n",
            "Epoch 15, Batch 1 loss: 4.827311\n",
            "Epoch 15, Batch 101 loss: 3.984670\n",
            "Epoch 15, Batch 201 loss: 4.027212\n",
            "Epoch: 15 \tTraining Loss: 4.021631 \tValidation Loss: 4.130851\n",
            "Validation loss decreased (4.450882 --> 4.130851).  Saving model ...\n",
            "Epoch 16, Batch 1 loss: 1.295960\n",
            "Epoch 16, Batch 101 loss: 3.869712\n",
            "Epoch 16, Batch 201 loss: 3.785525\n",
            "Epoch: 16 \tTraining Loss: 3.839849 \tValidation Loss: 3.812582\n",
            "Validation loss decreased (4.130851 --> 3.812582).  Saving model ...\n",
            "Epoch 17, Batch 1 loss: 5.952350\n",
            "Epoch 17, Batch 101 loss: 3.626832\n",
            "Epoch 17, Batch 201 loss: 3.686797\n",
            "Epoch: 17 \tTraining Loss: 3.689905 \tValidation Loss: 3.997886\n",
            "Epoch 18, Batch 1 loss: 3.462218\n",
            "Epoch 18, Batch 101 loss: 4.176491\n",
            "Epoch 18, Batch 201 loss: 3.737649\n",
            "Epoch: 18 \tTraining Loss: 3.727559 \tValidation Loss: 5.094762\n",
            "Epoch 19, Batch 1 loss: 3.320187\n",
            "Epoch 19, Batch 101 loss: 3.690749\n",
            "Epoch 19, Batch 201 loss: 3.506429\n",
            "Epoch: 19 \tTraining Loss: 3.576088 \tValidation Loss: 4.523637\n"
          ]
        }
      ],
      "source": [
        "model_conv,valid_loss_min=train_model(model_CNN, criterion, optimizer,train_dataloader,val_dataloader,n_epochs=20)"
      ]
    },
    {
      "cell_type": "markdown",
      "metadata": {
        "id": "Yw64BWRNj5CQ"
      },
      "source": [
        "#### Test data"
      ]
    },
    {
      "cell_type": "code",
      "execution_count": null,
      "metadata": {
        "id": "8gAp6d65lvG4"
      },
      "outputs": [],
      "source": [
        "model = model_conv # [-1]"
      ]
    },
    {
      "cell_type": "code",
      "execution_count": null,
      "metadata": {
        "id": "ksNiueFxsMxA"
      },
      "outputs": [],
      "source": [
        "test_dataloader = DataLoader(covid_dataset_test, batch_size=8, shuffle=True, num_workers=0)\n",
        "\n",
        "df = pd.DataFrame(columns=['image_name','output'])\n",
        "for batch_idx, sample_batched in enumerate(test_dataloader):\n",
        "    image= sample_batched['image'].to(device)\n",
        "    img_name= sample_batched['img_name']\n",
        "    output = model(image).type(torch.LongTensor).reshape(-1)\n",
        "    img_name = np.array(img_name).reshape(output.shape[0],1)\n",
        "    o = output.cpu().data.numpy().reshape(output.shape[0],1)\n",
        "    a = np.concatenate((img_name,o),axis=1)\n",
        "    df = df.append(pd.DataFrame(a, columns=df.columns), ignore_index=True)"
      ]
    },
    {
      "cell_type": "code",
      "execution_count": null,
      "metadata": {
        "id": "HVRo94hEyBjl"
      },
      "outputs": [],
      "source": [
        "#Extracting image name from the image path\n",
        "df['image_name']=df['image_name'].str.split(\"/\").str[-1]"
      ]
    },
    {
      "cell_type": "code",
      "execution_count": null,
      "metadata": {
        "id": "AFib873XyETp"
      },
      "outputs": [],
      "source": [
        "df.to_csv('drive/MyDrive/DL_Project/predictions.csv', index=False, header=False)"
      ]
    },
    {
      "cell_type": "code",
      "execution_count": null,
      "metadata": {
        "colab": {
          "base_uri": "https://localhost:8080/",
          "height": 206
        },
        "id": "qDgX-3G5yF56",
        "outputId": "8f6f5fd7-ab4e-4cfd-c6b5-e94adf08d79d"
      },
      "outputs": [
        {
          "output_type": "execute_result",
          "data": {
            "text/plain": [
              "       image_name output\n",
              "0  Image_0428.png     69\n",
              "1  Image_1226.png     29\n",
              "2  Image_0146.png     32\n",
              "3  Image_0321.png      8\n",
              "4  Image_0240.png      0"
            ],
            "text/html": [
              "\n",
              "  <div id=\"df-45f9f9c6-e2e6-4885-be0f-756ddf5678b9\">\n",
              "    <div class=\"colab-df-container\">\n",
              "      <div>\n",
              "<style scoped>\n",
              "    .dataframe tbody tr th:only-of-type {\n",
              "        vertical-align: middle;\n",
              "    }\n",
              "\n",
              "    .dataframe tbody tr th {\n",
              "        vertical-align: top;\n",
              "    }\n",
              "\n",
              "    .dataframe thead th {\n",
              "        text-align: right;\n",
              "    }\n",
              "</style>\n",
              "<table border=\"1\" class=\"dataframe\">\n",
              "  <thead>\n",
              "    <tr style=\"text-align: right;\">\n",
              "      <th></th>\n",
              "      <th>image_name</th>\n",
              "      <th>output</th>\n",
              "    </tr>\n",
              "  </thead>\n",
              "  <tbody>\n",
              "    <tr>\n",
              "      <th>0</th>\n",
              "      <td>Image_0428.png</td>\n",
              "      <td>69</td>\n",
              "    </tr>\n",
              "    <tr>\n",
              "      <th>1</th>\n",
              "      <td>Image_1226.png</td>\n",
              "      <td>29</td>\n",
              "    </tr>\n",
              "    <tr>\n",
              "      <th>2</th>\n",
              "      <td>Image_0146.png</td>\n",
              "      <td>32</td>\n",
              "    </tr>\n",
              "    <tr>\n",
              "      <th>3</th>\n",
              "      <td>Image_0321.png</td>\n",
              "      <td>8</td>\n",
              "    </tr>\n",
              "    <tr>\n",
              "      <th>4</th>\n",
              "      <td>Image_0240.png</td>\n",
              "      <td>0</td>\n",
              "    </tr>\n",
              "  </tbody>\n",
              "</table>\n",
              "</div>\n",
              "      <button class=\"colab-df-convert\" onclick=\"convertToInteractive('df-45f9f9c6-e2e6-4885-be0f-756ddf5678b9')\"\n",
              "              title=\"Convert this dataframe to an interactive table.\"\n",
              "              style=\"display:none;\">\n",
              "        \n",
              "  <svg xmlns=\"http://www.w3.org/2000/svg\" height=\"24px\"viewBox=\"0 0 24 24\"\n",
              "       width=\"24px\">\n",
              "    <path d=\"M0 0h24v24H0V0z\" fill=\"none\"/>\n",
              "    <path d=\"M18.56 5.44l.94 2.06.94-2.06 2.06-.94-2.06-.94-.94-2.06-.94 2.06-2.06.94zm-11 1L8.5 8.5l.94-2.06 2.06-.94-2.06-.94L8.5 2.5l-.94 2.06-2.06.94zm10 10l.94 2.06.94-2.06 2.06-.94-2.06-.94-.94-2.06-.94 2.06-2.06.94z\"/><path d=\"M17.41 7.96l-1.37-1.37c-.4-.4-.92-.59-1.43-.59-.52 0-1.04.2-1.43.59L10.3 9.45l-7.72 7.72c-.78.78-.78 2.05 0 2.83L4 21.41c.39.39.9.59 1.41.59.51 0 1.02-.2 1.41-.59l7.78-7.78 2.81-2.81c.8-.78.8-2.07 0-2.86zM5.41 20L4 18.59l7.72-7.72 1.47 1.35L5.41 20z\"/>\n",
              "  </svg>\n",
              "      </button>\n",
              "      \n",
              "  <style>\n",
              "    .colab-df-container {\n",
              "      display:flex;\n",
              "      flex-wrap:wrap;\n",
              "      gap: 12px;\n",
              "    }\n",
              "\n",
              "    .colab-df-convert {\n",
              "      background-color: #E8F0FE;\n",
              "      border: none;\n",
              "      border-radius: 50%;\n",
              "      cursor: pointer;\n",
              "      display: none;\n",
              "      fill: #1967D2;\n",
              "      height: 32px;\n",
              "      padding: 0 0 0 0;\n",
              "      width: 32px;\n",
              "    }\n",
              "\n",
              "    .colab-df-convert:hover {\n",
              "      background-color: #E2EBFA;\n",
              "      box-shadow: 0px 1px 2px rgba(60, 64, 67, 0.3), 0px 1px 3px 1px rgba(60, 64, 67, 0.15);\n",
              "      fill: #174EA6;\n",
              "    }\n",
              "\n",
              "    [theme=dark] .colab-df-convert {\n",
              "      background-color: #3B4455;\n",
              "      fill: #D2E3FC;\n",
              "    }\n",
              "\n",
              "    [theme=dark] .colab-df-convert:hover {\n",
              "      background-color: #434B5C;\n",
              "      box-shadow: 0px 1px 3px 1px rgba(0, 0, 0, 0.15);\n",
              "      filter: drop-shadow(0px 1px 2px rgba(0, 0, 0, 0.3));\n",
              "      fill: #FFFFFF;\n",
              "    }\n",
              "  </style>\n",
              "\n",
              "      <script>\n",
              "        const buttonEl =\n",
              "          document.querySelector('#df-45f9f9c6-e2e6-4885-be0f-756ddf5678b9 button.colab-df-convert');\n",
              "        buttonEl.style.display =\n",
              "          google.colab.kernel.accessAllowed ? 'block' : 'none';\n",
              "\n",
              "        async function convertToInteractive(key) {\n",
              "          const element = document.querySelector('#df-45f9f9c6-e2e6-4885-be0f-756ddf5678b9');\n",
              "          const dataTable =\n",
              "            await google.colab.kernel.invokeFunction('convertToInteractive',\n",
              "                                                     [key], {});\n",
              "          if (!dataTable) return;\n",
              "\n",
              "          const docLinkHtml = 'Like what you see? Visit the ' +\n",
              "            '<a target=\"_blank\" href=https://colab.research.google.com/notebooks/data_table.ipynb>data table notebook</a>'\n",
              "            + ' to learn more about interactive tables.';\n",
              "          element.innerHTML = '';\n",
              "          dataTable['output_type'] = 'display_data';\n",
              "          await google.colab.output.renderOutput(dataTable, element);\n",
              "          const docLink = document.createElement('div');\n",
              "          docLink.innerHTML = docLinkHtml;\n",
              "          element.appendChild(docLink);\n",
              "        }\n",
              "      </script>\n",
              "    </div>\n",
              "  </div>\n",
              "  "
            ]
          },
          "metadata": {},
          "execution_count": 23
        }
      ],
      "source": [
        "df.head()"
      ]
    },
    {
      "cell_type": "code",
      "execution_count": null,
      "metadata": {
        "id": "y7U0q5gq9myZ"
      },
      "outputs": [],
      "source": [
        ""
      ]
    },
    {
      "cell_type": "code",
      "execution_count": null,
      "metadata": {
        "id": "ncE2pyKICUh5"
      },
      "outputs": [],
      "source": [
        ""
      ]
    },
    {
      "cell_type": "markdown",
      "metadata": {
        "id": "YahObt4wCVbO"
      },
      "source": [
        "#### Test for loss and optim"
      ]
    },
    {
      "cell_type": "code",
      "execution_count": null,
      "metadata": {
        "colab": {
          "base_uri": "https://localhost:8080/",
          "height": 901
        },
        "id": "HdWMN6lfGUe_",
        "outputId": "da4f18a5-c2fb-4067-a163-6c9242f393a0"
      },
      "outputs": [
        {
          "output_type": "error",
          "ename": "ValueError",
          "evalue": "ignored",
          "traceback": [
            "\u001b[0;31m---------------------------------------------------------------------------\u001b[0m",
            "\u001b[0;31mValueError\u001b[0m                                Traceback (most recent call last)",
            "\u001b[0;32m<ipython-input-44-7644b0c0a29f>\u001b[0m in \u001b[0;36m<module>\u001b[0;34m()\u001b[0m\n\u001b[1;32m      7\u001b[0m \u001b[0;34m\u001b[0m\u001b[0m\n\u001b[1;32m      8\u001b[0m \u001b[0;31m## training model\u001b[0m\u001b[0;34m\u001b[0m\u001b[0;34m\u001b[0m\u001b[0;34m\u001b[0m\u001b[0m\n\u001b[0;32m----> 9\u001b[0;31m \u001b[0mmodel_conv1\u001b[0m\u001b[0;34m,\u001b[0m\u001b[0mvalid_loss_min1\u001b[0m\u001b[0;34m=\u001b[0m\u001b[0mcv_train\u001b[0m\u001b[0;34m(\u001b[0m\u001b[0mk\u001b[0m\u001b[0;34m=\u001b[0m\u001b[0;36m4\u001b[0m\u001b[0;34m)\u001b[0m\u001b[0;34m\u001b[0m\u001b[0;34m\u001b[0m\u001b[0m\n\u001b[0m",
            "\u001b[0;32m<ipython-input-43-3b7c7af3c284>\u001b[0m in \u001b[0;36mcv_train\u001b[0;34m(k)\u001b[0m\n\u001b[1;32m      1\u001b[0m \u001b[0;32mdef\u001b[0m \u001b[0mcv_train\u001b[0m\u001b[0;34m(\u001b[0m\u001b[0mk\u001b[0m\u001b[0;34m=\u001b[0m\u001b[0;36m4\u001b[0m\u001b[0;34m)\u001b[0m\u001b[0;34m:\u001b[0m\u001b[0;34m\u001b[0m\u001b[0;34m\u001b[0m\u001b[0m\n\u001b[0;32m----> 2\u001b[0;31m   \u001b[0mtrain_index\u001b[0m\u001b[0;34m,\u001b[0m\u001b[0mval_index\u001b[0m \u001b[0;34m=\u001b[0m \u001b[0mgenerate_index\u001b[0m\u001b[0;34m(\u001b[0m\u001b[0mcovid_dataset_train_val\u001b[0m\u001b[0;34m,\u001b[0m\u001b[0mk\u001b[0m\u001b[0;34m)\u001b[0m\u001b[0;34m\u001b[0m\u001b[0;34m\u001b[0m\u001b[0m\n\u001b[0m\u001b[1;32m      3\u001b[0m   \u001b[0mtest_dataloader\u001b[0m \u001b[0;34m=\u001b[0m \u001b[0mDataLoader\u001b[0m\u001b[0;34m(\u001b[0m\u001b[0mcovid_dataset_test\u001b[0m\u001b[0;34m,\u001b[0m \u001b[0mbatch_size\u001b[0m\u001b[0;34m=\u001b[0m\u001b[0;36m8\u001b[0m\u001b[0;34m,\u001b[0m \u001b[0mshuffle\u001b[0m\u001b[0;34m=\u001b[0m\u001b[0;32mTrue\u001b[0m\u001b[0;34m,\u001b[0m \u001b[0mnum_workers\u001b[0m\u001b[0;34m=\u001b[0m\u001b[0;36m0\u001b[0m\u001b[0;34m)\u001b[0m\u001b[0;34m\u001b[0m\u001b[0;34m\u001b[0m\u001b[0m\n\u001b[1;32m      4\u001b[0m   \u001b[0mmodel_cv\u001b[0m \u001b[0;34m=\u001b[0m \u001b[0;34m[\u001b[0m\u001b[0;34m]\u001b[0m\u001b[0;34m\u001b[0m\u001b[0;34m\u001b[0m\u001b[0m\n\u001b[1;32m      5\u001b[0m   \u001b[0mvalid_cvloss\u001b[0m \u001b[0;34m=\u001b[0m \u001b[0;34m[\u001b[0m\u001b[0;34m]\u001b[0m\u001b[0;34m\u001b[0m\u001b[0;34m\u001b[0m\u001b[0m\n",
            "\u001b[0;32m<ipython-input-38-410d0707eb7b>\u001b[0m in \u001b[0;36mgenerate_index\u001b[0;34m(dat, k)\u001b[0m\n\u001b[1;32m     11\u001b[0m              'val_index':[]}\n\u001b[1;32m     12\u001b[0m \u001b[0;34m\u001b[0m\u001b[0m\n\u001b[0;32m---> 13\u001b[0;31m     \u001b[0;32mfor\u001b[0m \u001b[0mtrain_index\u001b[0m\u001b[0;34m,\u001b[0m \u001b[0mval_index\u001b[0m \u001b[0;32min\u001b[0m \u001b[0mkf\u001b[0m\u001b[0;34m.\u001b[0m\u001b[0msplit\u001b[0m\u001b[0;34m(\u001b[0m\u001b[0mnp\u001b[0m\u001b[0;34m.\u001b[0m\u001b[0mzeros\u001b[0m\u001b[0;34m(\u001b[0m\u001b[0mn\u001b[0m\u001b[0;34m)\u001b[0m\u001b[0;34m,\u001b[0m \u001b[0mY\u001b[0m\u001b[0;34m,\u001b[0m \u001b[0mgroups\u001b[0m\u001b[0;34m=\u001b[0m\u001b[0mgroup\u001b[0m\u001b[0;34m)\u001b[0m\u001b[0;34m:\u001b[0m\u001b[0;34m\u001b[0m\u001b[0;34m\u001b[0m\u001b[0m\n\u001b[0m\u001b[1;32m     14\u001b[0m         \u001b[0mindex\u001b[0m\u001b[0;34m[\u001b[0m\u001b[0;34m'train_index'\u001b[0m\u001b[0;34m]\u001b[0m\u001b[0;34m.\u001b[0m\u001b[0mappend\u001b[0m\u001b[0;34m(\u001b[0m\u001b[0mtrain_index\u001b[0m\u001b[0;34m)\u001b[0m\u001b[0;34m\u001b[0m\u001b[0;34m\u001b[0m\u001b[0m\n\u001b[1;32m     15\u001b[0m         \u001b[0mindex\u001b[0m\u001b[0;34m[\u001b[0m\u001b[0;34m'val_index'\u001b[0m\u001b[0;34m]\u001b[0m\u001b[0;34m.\u001b[0m\u001b[0mappend\u001b[0m\u001b[0;34m(\u001b[0m\u001b[0mval_index\u001b[0m\u001b[0;34m)\u001b[0m\u001b[0;34m\u001b[0m\u001b[0;34m\u001b[0m\u001b[0m\n",
            "\u001b[0;32m/usr/local/lib/python3.7/dist-packages/sklearn/model_selection/_split.py\u001b[0m in \u001b[0;36msplit\u001b[0;34m(self, X, y, groups)\u001b[0m\n\u001b[1;32m    328\u001b[0m             \u001b[0mThe\u001b[0m \u001b[0mtesting\u001b[0m \u001b[0mset\u001b[0m \u001b[0mindices\u001b[0m \u001b[0;32mfor\u001b[0m \u001b[0mthat\u001b[0m \u001b[0msplit\u001b[0m\u001b[0;34m.\u001b[0m\u001b[0;34m\u001b[0m\u001b[0;34m\u001b[0m\u001b[0m\n\u001b[1;32m    329\u001b[0m         \"\"\"\n\u001b[0;32m--> 330\u001b[0;31m         \u001b[0mX\u001b[0m\u001b[0;34m,\u001b[0m \u001b[0my\u001b[0m\u001b[0;34m,\u001b[0m \u001b[0mgroups\u001b[0m \u001b[0;34m=\u001b[0m \u001b[0mindexable\u001b[0m\u001b[0;34m(\u001b[0m\u001b[0mX\u001b[0m\u001b[0;34m,\u001b[0m \u001b[0my\u001b[0m\u001b[0;34m,\u001b[0m \u001b[0mgroups\u001b[0m\u001b[0;34m)\u001b[0m\u001b[0;34m\u001b[0m\u001b[0;34m\u001b[0m\u001b[0m\n\u001b[0m\u001b[1;32m    331\u001b[0m         \u001b[0mn_samples\u001b[0m \u001b[0;34m=\u001b[0m \u001b[0m_num_samples\u001b[0m\u001b[0;34m(\u001b[0m\u001b[0mX\u001b[0m\u001b[0;34m)\u001b[0m\u001b[0;34m\u001b[0m\u001b[0;34m\u001b[0m\u001b[0m\n\u001b[1;32m    332\u001b[0m         \u001b[0;32mif\u001b[0m \u001b[0mself\u001b[0m\u001b[0;34m.\u001b[0m\u001b[0mn_splits\u001b[0m \u001b[0;34m>\u001b[0m \u001b[0mn_samples\u001b[0m\u001b[0;34m:\u001b[0m\u001b[0;34m\u001b[0m\u001b[0;34m\u001b[0m\u001b[0m\n",
            "\u001b[0;32m/usr/local/lib/python3.7/dist-packages/sklearn/utils/validation.py\u001b[0m in \u001b[0;36mindexable\u001b[0;34m(*iterables)\u001b[0m\n\u001b[1;32m    376\u001b[0m \u001b[0;34m\u001b[0m\u001b[0m\n\u001b[1;32m    377\u001b[0m     \u001b[0mresult\u001b[0m \u001b[0;34m=\u001b[0m \u001b[0;34m[\u001b[0m\u001b[0m_make_indexable\u001b[0m\u001b[0;34m(\u001b[0m\u001b[0mX\u001b[0m\u001b[0;34m)\u001b[0m \u001b[0;32mfor\u001b[0m \u001b[0mX\u001b[0m \u001b[0;32min\u001b[0m \u001b[0miterables\u001b[0m\u001b[0;34m]\u001b[0m\u001b[0;34m\u001b[0m\u001b[0;34m\u001b[0m\u001b[0m\n\u001b[0;32m--> 378\u001b[0;31m     \u001b[0mcheck_consistent_length\u001b[0m\u001b[0;34m(\u001b[0m\u001b[0;34m*\u001b[0m\u001b[0mresult\u001b[0m\u001b[0;34m)\u001b[0m\u001b[0;34m\u001b[0m\u001b[0;34m\u001b[0m\u001b[0m\n\u001b[0m\u001b[1;32m    379\u001b[0m     \u001b[0;32mreturn\u001b[0m \u001b[0mresult\u001b[0m\u001b[0;34m\u001b[0m\u001b[0;34m\u001b[0m\u001b[0m\n\u001b[1;32m    380\u001b[0m \u001b[0;34m\u001b[0m\u001b[0m\n",
            "\u001b[0;32m/usr/local/lib/python3.7/dist-packages/sklearn/utils/validation.py\u001b[0m in \u001b[0;36mcheck_consistent_length\u001b[0;34m(*arrays)\u001b[0m\n\u001b[1;32m    332\u001b[0m         raise ValueError(\n\u001b[1;32m    333\u001b[0m             \u001b[0;34m\"Found input variables with inconsistent numbers of samples: %r\"\u001b[0m\u001b[0;34m\u001b[0m\u001b[0;34m\u001b[0m\u001b[0m\n\u001b[0;32m--> 334\u001b[0;31m             \u001b[0;34m%\u001b[0m \u001b[0;34m[\u001b[0m\u001b[0mint\u001b[0m\u001b[0;34m(\u001b[0m\u001b[0ml\u001b[0m\u001b[0;34m)\u001b[0m \u001b[0;32mfor\u001b[0m \u001b[0ml\u001b[0m \u001b[0;32min\u001b[0m \u001b[0mlengths\u001b[0m\u001b[0;34m]\u001b[0m\u001b[0;34m\u001b[0m\u001b[0;34m\u001b[0m\u001b[0m\n\u001b[0m\u001b[1;32m    335\u001b[0m         )\n\u001b[1;32m    336\u001b[0m \u001b[0;34m\u001b[0m\u001b[0m\n",
            "\u001b[0;31mValueError\u001b[0m: Found input variables with inconsistent numbers of samples: [132, 132, 3053]"
          ]
        }
      ],
      "source": [
        "#Setting model and moving to device\n",
        "model_CNN = CNN1(True).to(device)\n",
        "\n",
        "criterion = nn.SmoothL1Loss()\n",
        "#optimizer = optim.SGD(model_CNN.parameters(), lr=0.001, momentum=0.9)\n",
        "optimizer = optim.Adam(model_CNN.parameters(), lr=0.0005)\n",
        "\n",
        "## training model\n",
        "model_conv1,valid_loss_min1=cv_train(k=4)"
      ]
    },
    {
      "cell_type": "code",
      "execution_count": null,
      "metadata": {
        "colab": {
          "base_uri": "https://localhost:8080/",
          "height": 1000,
          "referenced_widgets": [
            "661d9d1b11894dbd98ddad952e7ec2db",
            "e1660f5e755b4806aae88416788eac16",
            "c914c2847f0a48a6b9c62333b44f4f5b",
            "cf50c8c99ad84493bc8e3fab0e03e09f",
            "ee52f13df6794edb82309fc823105d33",
            "e170e4f8325647a7a4c8baa73521e489",
            "137209566cb74b059ad382754a47a701",
            "5faf3b346fa44c75aded558eb391118d",
            "2f7d61cd7f7c4f458ae4f3e33c02f648",
            "830b1d5682c94b96b1551345f2e7e7bd",
            "3caab6801e204676a38d022d3e6d0661"
          ]
        },
        "id": "Zc79TS-FGhmH",
        "outputId": "b4878ea3-7e72-474f-9602-d3c499654240"
      },
      "outputs": [
        {
          "name": "stderr",
          "output_type": "stream",
          "text": [
            "Downloading: \"https://download.pytorch.org/models/resnet34-333f7ec4.pth\" to /root/.cache/torch/hub/checkpoints/resnet34-333f7ec4.pth\n"
          ]
        },
        {
          "data": {
            "application/vnd.jupyter.widget-view+json": {
              "model_id": "661d9d1b11894dbd98ddad952e7ec2db",
              "version_major": 2,
              "version_minor": 0
            },
            "text/plain": [
              "  0%|          | 0.00/83.3M [00:00<?, ?B/s]"
            ]
          },
          "metadata": {},
          "output_type": "display_data"
        },
        {
          "name": "stdout",
          "output_type": "stream",
          "text": [
            "0\n",
            "Epoch 1, Batch 1 loss: 947.663025\n",
            "Epoch: 1 \tTraining Loss: 277.514343 \tValidation Loss: 156.115585\n",
            "Validation loss decreased (inf --> 156.115585).  Saving model ...\n",
            "Epoch 2, Batch 1 loss: 289.343201\n",
            "Epoch: 2 \tTraining Loss: 125.729805 \tValidation Loss: 157.570801\n",
            "Epoch 3, Batch 1 loss: 29.608173\n",
            "Epoch: 3 \tTraining Loss: 81.448135 \tValidation Loss: 103.794708\n",
            "Validation loss decreased (156.115585 --> 103.794708).  Saving model ...\n",
            "Epoch 4, Batch 1 loss: 54.609699\n",
            "Epoch: 4 \tTraining Loss: 70.998604 \tValidation Loss: 73.816879\n",
            "Validation loss decreased (103.794708 --> 73.816879).  Saving model ...\n",
            "Epoch 5, Batch 1 loss: 24.446907\n",
            "Epoch: 5 \tTraining Loss: 53.192715 \tValidation Loss: 81.044930\n",
            "Epoch 6, Batch 1 loss: 20.399981\n",
            "Epoch: 6 \tTraining Loss: 40.874634 \tValidation Loss: 193.283600\n",
            "Epoch 7, Batch 1 loss: 39.604458\n",
            "Epoch: 7 \tTraining Loss: 34.152679 \tValidation Loss: 88.972496\n",
            "Epoch 8, Batch 1 loss: 7.292533\n",
            "Epoch: 8 \tTraining Loss: 28.627386 \tValidation Loss: 82.835793\n",
            "Epoch 9, Batch 1 loss: 25.668018\n",
            "Epoch: 9 \tTraining Loss: 24.020102 \tValidation Loss: 79.477509\n",
            "Epoch 10, Batch 1 loss: 21.664167\n",
            "Epoch: 10 \tTraining Loss: 26.127373 \tValidation Loss: 92.244377\n",
            "Epoch 11, Batch 1 loss: 15.831478\n",
            "Epoch: 11 \tTraining Loss: 23.362446 \tValidation Loss: 77.616295\n",
            "Epoch 12, Batch 1 loss: 12.551205\n",
            "Epoch: 12 \tTraining Loss: 17.851219 \tValidation Loss: 116.088036\n",
            "Epoch 13, Batch 1 loss: 25.942698\n",
            "Epoch: 13 \tTraining Loss: 22.539726 \tValidation Loss: 114.118568\n",
            "Epoch 14, Batch 1 loss: 7.075692\n",
            "Epoch: 14 \tTraining Loss: 21.411942 \tValidation Loss: 85.617996\n",
            "1\n",
            "Epoch 1, Batch 1 loss: 84.024078\n",
            "Epoch: 1 \tTraining Loss: 39.435623 \tValidation Loss: 161.755661\n",
            "Validation loss decreased (inf --> 161.755661).  Saving model ...\n",
            "Epoch 2, Batch 1 loss: 57.847633\n",
            "Epoch: 2 \tTraining Loss: 101.790184 \tValidation Loss: 147.935287\n",
            "Validation loss decreased (161.755661 --> 147.935287).  Saving model ...\n",
            "Epoch 3, Batch 1 loss: 165.436142\n",
            "Epoch: 3 \tTraining Loss: 82.470650 \tValidation Loss: 98.331772\n",
            "Validation loss decreased (147.935287 --> 98.331772).  Saving model ...\n",
            "Epoch 4, Batch 1 loss: 73.692429\n",
            "Epoch: 4 \tTraining Loss: 35.474304 \tValidation Loss: 35.250645\n",
            "Validation loss decreased (98.331772 --> 35.250645).  Saving model ...\n",
            "Epoch 5, Batch 1 loss: 19.508533\n",
            "Epoch: 5 \tTraining Loss: 27.493336 \tValidation Loss: 37.307041\n",
            "Epoch 6, Batch 1 loss: 5.460844\n",
            "Epoch: 6 \tTraining Loss: 22.593527 \tValidation Loss: 51.231647\n",
            "Epoch 7, Batch 1 loss: 18.508167\n",
            "Epoch: 7 \tTraining Loss: 25.403748 \tValidation Loss: 70.248428\n",
            "Epoch 8, Batch 1 loss: 28.740086\n",
            "Epoch: 8 \tTraining Loss: 16.465799 \tValidation Loss: 50.824104\n",
            "Epoch 9, Batch 1 loss: 3.050517\n",
            "Epoch: 9 \tTraining Loss: 15.643981 \tValidation Loss: 55.173508\n",
            "Epoch 10, Batch 1 loss: 17.527489\n",
            "Epoch: 10 \tTraining Loss: 14.997330 \tValidation Loss: 48.564339\n",
            "Epoch 11, Batch 1 loss: 16.077358\n",
            "Epoch: 11 \tTraining Loss: 10.986092 \tValidation Loss: 30.549347\n",
            "Validation loss decreased (35.250645 --> 30.549347).  Saving model ...\n",
            "Epoch 12, Batch 1 loss: 9.002106\n",
            "Epoch: 12 \tTraining Loss: 9.113070 \tValidation Loss: 41.550163\n",
            "Epoch 13, Batch 1 loss: 4.442794\n",
            "Epoch: 13 \tTraining Loss: 9.576401 \tValidation Loss: 47.958096\n",
            "Epoch 14, Batch 1 loss: 16.996746\n",
            "Epoch: 14 \tTraining Loss: 9.777955 \tValidation Loss: 47.401035\n",
            "2\n",
            "Epoch 1, Batch 1 loss: 16.406677\n",
            "Epoch: 1 \tTraining Loss: 19.839848 \tValidation Loss: 8.994790\n",
            "Validation loss decreased (inf --> 8.994790).  Saving model ...\n",
            "Epoch 2, Batch 1 loss: 25.091719\n",
            "Epoch: 2 \tTraining Loss: 18.722012 \tValidation Loss: 6.584730\n",
            "Validation loss decreased (8.994790 --> 6.584730).  Saving model ...\n",
            "Epoch 3, Batch 1 loss: 11.319361\n",
            "Epoch: 3 \tTraining Loss: 15.156802 \tValidation Loss: 8.002102\n",
            "Epoch 4, Batch 1 loss: 28.724539\n",
            "Epoch: 4 \tTraining Loss: 12.591393 \tValidation Loss: 6.163071\n",
            "Validation loss decreased (6.584730 --> 6.163071).  Saving model ...\n",
            "Epoch 5, Batch 1 loss: 4.187112\n",
            "Epoch: 5 \tTraining Loss: 13.434288 \tValidation Loss: 4.991982\n",
            "Validation loss decreased (6.163071 --> 4.991982).  Saving model ...\n",
            "Epoch 6, Batch 1 loss: 10.633739\n",
            "Epoch: 6 \tTraining Loss: 17.807734 \tValidation Loss: 9.852637\n",
            "Epoch 7, Batch 1 loss: 5.273367\n",
            "Epoch: 7 \tTraining Loss: 14.519198 \tValidation Loss: 4.796011\n",
            "Validation loss decreased (4.991982 --> 4.796011).  Saving model ...\n",
            "Epoch 8, Batch 1 loss: 4.733130\n",
            "Epoch: 8 \tTraining Loss: 11.393393 \tValidation Loss: 11.540211\n",
            "Epoch 9, Batch 1 loss: 14.923515\n",
            "Epoch: 9 \tTraining Loss: 10.761868 \tValidation Loss: 7.903353\n",
            "Epoch 10, Batch 1 loss: 10.062361\n",
            "Epoch: 10 \tTraining Loss: 10.816447 \tValidation Loss: 5.040545\n",
            "Epoch 11, Batch 1 loss: 10.477837\n",
            "Epoch: 11 \tTraining Loss: 9.339100 \tValidation Loss: 5.939199\n",
            "Epoch 12, Batch 1 loss: 4.860453\n",
            "Epoch: 12 \tTraining Loss: 8.588276 \tValidation Loss: 5.371150\n",
            "Epoch 13, Batch 1 loss: 3.858064\n",
            "Epoch: 13 \tTraining Loss: 7.667947 \tValidation Loss: 7.119717\n",
            "Epoch 14, Batch 1 loss: 7.367826\n",
            "Epoch: 14 \tTraining Loss: 8.779711 \tValidation Loss: 12.318471\n",
            "3\n",
            "Epoch 1, Batch 1 loss: 21.140696\n",
            "Epoch: 1 \tTraining Loss: 12.431154 \tValidation Loss: 5.478555\n",
            "Validation loss decreased (inf --> 5.478555).  Saving model ...\n",
            "Epoch 2, Batch 1 loss: 8.183376\n",
            "Epoch: 2 \tTraining Loss: 7.825760 \tValidation Loss: 4.197027\n",
            "Validation loss decreased (5.478555 --> 4.197027).  Saving model ...\n",
            "Epoch 3, Batch 1 loss: 4.453186\n",
            "Epoch: 3 \tTraining Loss: 12.412145 \tValidation Loss: 4.187009\n",
            "Validation loss decreased (4.197027 --> 4.187009).  Saving model ...\n",
            "Epoch 4, Batch 1 loss: 3.872917\n",
            "Epoch: 4 \tTraining Loss: 10.458120 \tValidation Loss: 11.772754\n",
            "Epoch 5, Batch 1 loss: 7.888569\n",
            "Epoch: 5 \tTraining Loss: 8.703466 \tValidation Loss: 4.778265\n",
            "Epoch 6, Batch 1 loss: 10.773360\n",
            "Epoch: 6 \tTraining Loss: 8.830089 \tValidation Loss: 5.838366\n",
            "Epoch 7, Batch 1 loss: 6.106362\n",
            "Epoch: 7 \tTraining Loss: 19.586206 \tValidation Loss: 35.243271\n",
            "Epoch 8, Batch 1 loss: 17.028467\n",
            "Epoch: 8 \tTraining Loss: 11.602269 \tValidation Loss: 28.454428\n",
            "Epoch 9, Batch 1 loss: 8.684587\n",
            "Epoch: 9 \tTraining Loss: 8.600023 \tValidation Loss: 15.336770\n",
            "Epoch 10, Batch 1 loss: 8.153193\n",
            "Epoch: 10 \tTraining Loss: 9.947354 \tValidation Loss: 14.463114\n",
            "Epoch 11, Batch 1 loss: 4.905182\n",
            "Epoch: 11 \tTraining Loss: 8.637819 \tValidation Loss: 17.222212\n",
            "Epoch 12, Batch 1 loss: 4.963948\n",
            "Epoch: 12 \tTraining Loss: 7.317616 \tValidation Loss: 21.039330\n",
            "Epoch 13, Batch 1 loss: 6.705432\n",
            "Epoch: 13 \tTraining Loss: 9.350425 \tValidation Loss: 15.524716\n",
            "Epoch 14, Batch 1 loss: 6.108454\n",
            "Epoch: 14 \tTraining Loss: 8.638796 \tValidation Loss: 38.950119\n"
          ]
        }
      ],
      "source": [
        "#Setting model and moving to device\n",
        "model_CNN = CNN1(True).to(device)\n",
        "\n",
        "criterion = nn.MSELoss()\n",
        "# optimizer = optim.SGD(model_CNN.parameters(), lr=0.001, momentum=0.9)\n",
        "optimizer = optim.Adam(model_CNN.parameters(), lr=0.0005)\n",
        "\n",
        "## training model\n",
        "model_conv2,valid_loss_min2=cv_train(k=4)"
      ]
    },
    {
      "cell_type": "code",
      "execution_count": null,
      "metadata": {
        "colab": {
          "background_save": true,
          "base_uri": "https://localhost:8080/",
          "height": 1000,
          "referenced_widgets": [
            "cae8a1bbb2d34649b736aa710183f415",
            "75fe158b2b034aea9725757d6eba1743",
            "4c0a784a29b84361aa6e22ad749595f0",
            "feb6a1d7dea1432587c8dfd6189dc11b",
            "63da08f537714100914f9295f9be0b93",
            "5b30ad828fd14dc697da34f537b7daa6",
            "9065f2dc94d3461988c2dc1311aafd87",
            "5a180283f5304aef82b844e5e20f917a",
            "0ab7725bb68f47648e5b5df6ae5c048a",
            "4b995773b6eb4d8a83e22ecf106d084b",
            "1e6eabeca776498e9d5260198c80d40c"
          ]
        },
        "id": "sLK8ZcARszoM",
        "outputId": "891aabde-1cd8-4ac9-a61b-834f3ae598ac"
      },
      "outputs": [
        {
          "name": "stderr",
          "output_type": "stream",
          "text": [
            "Downloading: \"https://download.pytorch.org/models/resnet18-5c106cde.pth\" to /root/.cache/torch/hub/checkpoints/resnet18-5c106cde.pth\n"
          ]
        },
        {
          "data": {
            "application/vnd.jupyter.widget-view+json": {
              "model_id": "cae8a1bbb2d34649b736aa710183f415",
              "version_major": 2,
              "version_minor": 0
            },
            "text/plain": [
              "  0%|          | 0.00/44.7M [00:00<?, ?B/s]"
            ]
          },
          "metadata": {},
          "output_type": "display_data"
        },
        {
          "name": "stdout",
          "output_type": "stream",
          "text": [
            "0\n",
            "Epoch 1, Batch 1 loss: 17.204060\n",
            "Epoch: 1 \tTraining Loss: 8.288336 \tValidation Loss: 13.703668\n",
            "Validation loss decreased (inf --> 13.703668).  Saving model ...\n",
            "Epoch 2, Batch 1 loss: 6.245621\n",
            "Epoch: 2 \tTraining Loss: 6.670979 \tValidation Loss: 5.823530\n",
            "Validation loss decreased (13.703668 --> 5.823530).  Saving model ...\n",
            "Epoch 3, Batch 1 loss: 7.547464\n",
            "Epoch: 3 \tTraining Loss: 5.507205 \tValidation Loss: 7.046657\n",
            "Epoch 4, Batch 1 loss: 6.282132\n",
            "Epoch: 4 \tTraining Loss: 4.679069 \tValidation Loss: 7.005981\n",
            "Epoch 5, Batch 1 loss: 5.298170\n",
            "Epoch: 5 \tTraining Loss: 3.832575 \tValidation Loss: 6.864169\n",
            "Epoch 6, Batch 1 loss: 6.661264\n",
            "Epoch: 6 \tTraining Loss: 3.622874 \tValidation Loss: 6.235278\n",
            "Epoch 7, Batch 1 loss: 3.185163\n",
            "Epoch: 7 \tTraining Loss: 3.414101 \tValidation Loss: 5.902202\n",
            "Epoch 8, Batch 1 loss: 1.990951\n",
            "Epoch: 8 \tTraining Loss: 3.054630 \tValidation Loss: 4.911829\n",
            "Validation loss decreased (5.823530 --> 4.911829).  Saving model ...\n",
            "Epoch 9, Batch 1 loss: 2.107827\n",
            "Epoch: 9 \tTraining Loss: 2.832856 \tValidation Loss: 5.419910\n",
            "Epoch 10, Batch 1 loss: 2.554662\n",
            "Epoch: 10 \tTraining Loss: 3.107054 \tValidation Loss: 5.996853\n",
            "Epoch 11, Batch 1 loss: 1.568995\n",
            "Epoch: 11 \tTraining Loss: 2.953341 \tValidation Loss: 8.793843\n",
            "Epoch 12, Batch 1 loss: 4.238340\n",
            "Epoch: 12 \tTraining Loss: 2.510683 \tValidation Loss: 7.502400\n",
            "Epoch 13, Batch 1 loss: 3.799630\n",
            "Epoch: 13 \tTraining Loss: 2.090297 \tValidation Loss: 4.612908\n",
            "Validation loss decreased (4.911829 --> 4.612908).  Saving model ...\n",
            "Epoch 14, Batch 1 loss: 1.089250\n",
            "Epoch: 14 \tTraining Loss: 2.016332 \tValidation Loss: 5.080099\n",
            "1\n",
            "Epoch 1, Batch 1 loss: 5.736974\n",
            "Epoch: 1 \tTraining Loss: 3.405793 \tValidation Loss: 1.974317\n",
            "Validation loss decreased (inf --> 1.974317).  Saving model ...\n",
            "Epoch 2, Batch 1 loss: 2.181343\n",
            "Epoch: 2 \tTraining Loss: 2.903369 \tValidation Loss: 2.404805\n",
            "Epoch 3, Batch 1 loss: 2.883870\n",
            "Epoch: 3 \tTraining Loss: 3.330401 \tValidation Loss: 1.932156\n",
            "Validation loss decreased (1.974317 --> 1.932156).  Saving model ...\n",
            "Epoch 4, Batch 1 loss: 3.308275\n",
            "Epoch: 4 \tTraining Loss: 2.846864 \tValidation Loss: 2.346931\n",
            "Epoch 5, Batch 1 loss: 2.149835\n",
            "Epoch: 5 \tTraining Loss: 2.646996 \tValidation Loss: 1.904823\n",
            "Validation loss decreased (1.932156 --> 1.904823).  Saving model ...\n",
            "Epoch 6, Batch 1 loss: 1.572678\n",
            "Epoch: 6 \tTraining Loss: 2.561386 \tValidation Loss: 2.973689\n",
            "Epoch 7, Batch 1 loss: 3.537059\n",
            "Epoch: 7 \tTraining Loss: 3.027661 \tValidation Loss: 2.887442\n",
            "Epoch 8, Batch 1 loss: 1.620565\n",
            "Epoch: 8 \tTraining Loss: 2.616120 \tValidation Loss: 2.301606\n",
            "Epoch 9, Batch 1 loss: 2.986407\n",
            "Epoch: 9 \tTraining Loss: 2.187126 \tValidation Loss: 2.163004\n",
            "Epoch 10, Batch 1 loss: 2.224707\n",
            "Epoch: 10 \tTraining Loss: 2.327252 \tValidation Loss: 2.221138\n",
            "Epoch 11, Batch 1 loss: 1.661642\n",
            "Epoch: 11 \tTraining Loss: 2.062736 \tValidation Loss: 2.598844\n",
            "Epoch 12, Batch 1 loss: 2.311083\n",
            "Epoch: 12 \tTraining Loss: 1.832040 \tValidation Loss: 2.551920\n",
            "Epoch 13, Batch 1 loss: 2.757876\n",
            "Epoch: 13 \tTraining Loss: 1.922981 \tValidation Loss: 2.506984\n",
            "Epoch 14, Batch 1 loss: 0.984694\n",
            "Epoch: 14 \tTraining Loss: 2.084733 \tValidation Loss: 2.907162\n",
            "2\n",
            "Epoch 1, Batch 1 loss: 2.182214\n",
            "Epoch: 1 \tTraining Loss: 1.970824 \tValidation Loss: 2.412300\n",
            "Validation loss decreased (inf --> 2.412300).  Saving model ...\n",
            "Epoch 2, Batch 1 loss: 1.732289\n",
            "Epoch: 2 \tTraining Loss: 1.843290 \tValidation Loss: 1.395450\n",
            "Validation loss decreased (2.412300 --> 1.395450).  Saving model ...\n",
            "Epoch 3, Batch 1 loss: 1.540417\n",
            "Epoch: 3 \tTraining Loss: 1.588142 \tValidation Loss: 1.751777\n",
            "Epoch 4, Batch 1 loss: 1.689764\n",
            "Epoch: 4 \tTraining Loss: 1.552286 \tValidation Loss: 1.157177\n",
            "Validation loss decreased (1.395450 --> 1.157177).  Saving model ...\n",
            "Epoch 5, Batch 1 loss: 1.597130\n",
            "Epoch: 5 \tTraining Loss: 1.666893 \tValidation Loss: 2.705154\n",
            "Epoch 6, Batch 1 loss: 1.743423\n",
            "Epoch: 6 \tTraining Loss: 1.592149 \tValidation Loss: 1.508525\n",
            "Epoch 7, Batch 1 loss: 1.532709\n",
            "Epoch: 7 \tTraining Loss: 1.410820 \tValidation Loss: 2.090617\n",
            "Epoch 8, Batch 1 loss: 0.946224\n",
            "Epoch: 8 \tTraining Loss: 1.601006 \tValidation Loss: 1.692830\n",
            "Epoch 9, Batch 1 loss: 1.529642\n",
            "Epoch: 9 \tTraining Loss: 1.405690 \tValidation Loss: 1.362613\n",
            "Epoch 10, Batch 1 loss: 1.677657\n",
            "Epoch: 10 \tTraining Loss: 1.809523 \tValidation Loss: 1.627933\n",
            "Epoch 11, Batch 1 loss: 1.927765\n",
            "Epoch: 11 \tTraining Loss: 1.474320 \tValidation Loss: 1.632981\n",
            "Epoch 12, Batch 1 loss: 1.709230\n",
            "Epoch: 12 \tTraining Loss: 1.441942 \tValidation Loss: 1.555114\n",
            "Epoch 13, Batch 1 loss: 2.084473\n",
            "Epoch: 13 \tTraining Loss: 1.539559 \tValidation Loss: 1.857084\n",
            "Epoch 14, Batch 1 loss: 0.888029\n",
            "Epoch: 14 \tTraining Loss: 1.299866 \tValidation Loss: 2.643337\n",
            "3\n",
            "Epoch 1, Batch 1 loss: 2.437686\n",
            "Epoch: 1 \tTraining Loss: 1.968420 \tValidation Loss: 0.967203\n",
            "Validation loss decreased (inf --> 0.967203).  Saving model ...\n",
            "Epoch 2, Batch 1 loss: 1.022048\n",
            "Epoch: 2 \tTraining Loss: 1.800980 \tValidation Loss: 0.776697\n",
            "Validation loss decreased (0.967203 --> 0.776697).  Saving model ...\n",
            "Epoch 3, Batch 1 loss: 1.649864\n",
            "Epoch: 3 \tTraining Loss: 1.844160 \tValidation Loss: 1.000825\n",
            "Epoch 4, Batch 1 loss: 1.058605\n",
            "Epoch: 4 \tTraining Loss: 1.342328 \tValidation Loss: 1.108706\n",
            "Epoch 5, Batch 1 loss: 1.724117\n",
            "Epoch: 5 \tTraining Loss: 1.574903 \tValidation Loss: 1.128333\n",
            "Epoch 6, Batch 1 loss: 1.875562\n",
            "Epoch: 6 \tTraining Loss: 1.714503 \tValidation Loss: 0.862990\n",
            "Epoch 7, Batch 1 loss: 0.466186\n",
            "Epoch: 7 \tTraining Loss: 1.366086 \tValidation Loss: 1.237704\n",
            "Epoch 8, Batch 1 loss: 1.102798\n",
            "Epoch: 8 \tTraining Loss: 1.400415 \tValidation Loss: 0.884098\n",
            "Epoch 9, Batch 1 loss: 0.893127\n",
            "Epoch: 9 \tTraining Loss: 1.389801 \tValidation Loss: 1.091711\n",
            "Epoch 10, Batch 1 loss: 1.836817\n",
            "Epoch: 10 \tTraining Loss: 1.356625 \tValidation Loss: 0.940827\n",
            "Epoch 11, Batch 1 loss: 1.458233\n",
            "Epoch: 11 \tTraining Loss: 1.230986 \tValidation Loss: 0.847114\n",
            "Epoch 12, Batch 1 loss: 0.985363\n",
            "Epoch: 12 \tTraining Loss: 1.143862 \tValidation Loss: 1.070495\n",
            "Epoch 13, Batch 1 loss: 1.478799\n",
            "Epoch: 13 \tTraining Loss: 1.175735 \tValidation Loss: 1.202122\n",
            "Epoch 14, Batch 1 loss: 0.773960\n",
            "Epoch: 14 \tTraining Loss: 1.330857 \tValidation Loss: 1.197345\n"
          ]
        }
      ],
      "source": [
        "#Setting model and moving to device\n",
        "model_CNN = CNN2(True).to(device)\n",
        "\n",
        "criterion = nn.SmoothL1Loss()\n",
        "#optimizer = optim.SGD(model_CNN.parameters(), lr=0.001, momentum=0.9)\n",
        "optimizer = optim.Adam(model_CNN.parameters(), lr=0.0005)\n",
        "\n",
        "## training model\n",
        "model_conv3,valid_loss_min3=cv_train(k=4)"
      ]
    },
    {
      "cell_type": "code",
      "execution_count": null,
      "metadata": {
        "colab": {
          "base_uri": "https://localhost:8080/"
        },
        "id": "YRBr3rQc6nDm",
        "outputId": "549218e4-ce37-4786-feb0-1ceba415e0c3"
      },
      "outputs": [
        {
          "data": {
            "text/plain": [
              "<module 'torch.cuda' from '/usr/local/lib/python3.7/dist-packages/torch/cuda/__init__.py'>"
            ]
          },
          "execution_count": 28,
          "metadata": {},
          "output_type": "execute_result"
        }
      ],
      "source": [
        ""
      ]
    },
    {
      "cell_type": "code",
      "execution_count": null,
      "metadata": {
        "id": "kYcvuy9XuSs2"
      },
      "outputs": [],
      "source": [
        "#Setting model and moving to device\n",
        "model_CNN = CNN3(True).to(device)\n",
        "\n",
        "criterion = nn.SmoothL1Loss()\n",
        "#optimizer = optim.SGD(model_CNN.parameters(), lr=0.001, momentum=0.9)\n",
        "optimizer = optim.Adam(model_CNN.parameters(), lr=0.0005)\n",
        "\n",
        "## training model\n",
        "model_conv3,valid_loss_min3=cv_train(k=4)"
      ]
    },
    {
      "cell_type": "code",
      "execution_count": null,
      "metadata": {
        "colab": {
          "base_uri": "https://localhost:8080/"
        },
        "id": "yBVmmy1muclK",
        "outputId": "0a1e55e7-2303-4b24-9fe2-b2f12b457e13"
      },
      "outputs": [
        {
          "name": "stdout",
          "output_type": "stream",
          "text": [
            "0\n",
            "Epoch 1, Batch 1 loss: 26.393410\n",
            "Epoch: 1 \tTraining Loss: 10.704541 \tValidation Loss: 8.541584\n",
            "Validation loss decreased (inf --> 8.541584).  Saving model ...\n",
            "Epoch 2, Batch 1 loss: 18.721191\n",
            "Epoch: 2 \tTraining Loss: 6.624544 \tValidation Loss: 6.062243\n",
            "Validation loss decreased (8.541584 --> 6.062243).  Saving model ...\n",
            "Epoch 3, Batch 1 loss: 6.440409\n",
            "Epoch: 3 \tTraining Loss: 6.225703 \tValidation Loss: 6.342294\n",
            "Epoch 4, Batch 1 loss: 4.825891\n",
            "Epoch: 4 \tTraining Loss: 5.340618 \tValidation Loss: 6.578068\n",
            "Epoch 5, Batch 1 loss: 7.345747\n",
            "Epoch: 5 \tTraining Loss: 4.805613 \tValidation Loss: 5.368511\n",
            "Validation loss decreased (6.062243 --> 5.368511).  Saving model ...\n",
            "Epoch 6, Batch 1 loss: 2.951734\n",
            "Epoch: 6 \tTraining Loss: 4.795612 \tValidation Loss: 7.648978\n",
            "Epoch 7, Batch 1 loss: 4.023851\n",
            "Epoch: 7 \tTraining Loss: 4.254448 \tValidation Loss: 5.551319\n",
            "Epoch 8, Batch 1 loss: 7.179605\n",
            "Epoch: 8 \tTraining Loss: 4.944319 \tValidation Loss: 4.787115\n",
            "Validation loss decreased (5.368511 --> 4.787115).  Saving model ...\n",
            "Epoch 9, Batch 1 loss: 2.720835\n",
            "Epoch: 9 \tTraining Loss: 4.169171 \tValidation Loss: 5.272889\n",
            "Epoch 10, Batch 1 loss: 3.629121\n",
            "Epoch: 10 \tTraining Loss: 3.195107 \tValidation Loss: 6.145646\n",
            "Epoch 11, Batch 1 loss: 2.803900\n",
            "Epoch: 11 \tTraining Loss: 3.285473 \tValidation Loss: 5.766869\n",
            "Epoch 12, Batch 1 loss: 3.813545\n",
            "Epoch: 12 \tTraining Loss: 3.343019 \tValidation Loss: 5.958863\n",
            "Epoch 13, Batch 1 loss: 3.724773\n",
            "Epoch: 13 \tTraining Loss: 2.998682 \tValidation Loss: 6.956916\n",
            "Epoch 14, Batch 1 loss: 4.100685\n",
            "Epoch: 14 \tTraining Loss: 3.002846 \tValidation Loss: 6.418864\n",
            "1\n",
            "Epoch 1, Batch 1 loss: 2.751076\n",
            "Epoch: 1 \tTraining Loss: 3.445366 \tValidation Loss: 2.552567\n",
            "Validation loss decreased (inf --> 2.552567).  Saving model ...\n",
            "Epoch 2, Batch 1 loss: 3.363415\n",
            "Epoch: 2 \tTraining Loss: 3.084492 \tValidation Loss: 3.943426\n",
            "Epoch 3, Batch 1 loss: 2.431679\n",
            "Epoch: 3 \tTraining Loss: 2.743841 \tValidation Loss: 3.185412\n",
            "Epoch 4, Batch 1 loss: 2.846439\n",
            "Epoch: 4 \tTraining Loss: 2.652272 \tValidation Loss: 3.089136\n",
            "Epoch 5, Batch 1 loss: 1.487981\n",
            "Epoch: 5 \tTraining Loss: 2.492269 \tValidation Loss: 2.943902\n",
            "Epoch 6, Batch 1 loss: 1.560173\n",
            "Epoch: 6 \tTraining Loss: 2.487900 \tValidation Loss: 6.119244\n",
            "Epoch 7, Batch 1 loss: 5.037970\n",
            "Epoch: 7 \tTraining Loss: 2.343847 \tValidation Loss: 3.516815\n",
            "Epoch 8, Batch 1 loss: 1.318261\n",
            "Epoch: 8 \tTraining Loss: 2.171670 \tValidation Loss: 3.024740\n",
            "Epoch 9, Batch 1 loss: 1.791992\n",
            "Epoch: 9 \tTraining Loss: 2.312456 \tValidation Loss: 4.362578\n",
            "Epoch 10, Batch 1 loss: 3.811621\n",
            "Epoch: 10 \tTraining Loss: 2.171836 \tValidation Loss: 4.483524\n",
            "Epoch 11, Batch 1 loss: 3.293169\n",
            "Epoch: 11 \tTraining Loss: 2.164979 \tValidation Loss: 3.298889\n",
            "Epoch 12, Batch 1 loss: 2.332764\n",
            "Epoch: 12 \tTraining Loss: 1.933282 \tValidation Loss: 2.808948\n",
            "Epoch 13, Batch 1 loss: 1.609431\n",
            "Epoch: 13 \tTraining Loss: 1.728840 \tValidation Loss: 3.357959\n",
            "Epoch 14, Batch 1 loss: 1.210796\n",
            "Epoch: 14 \tTraining Loss: 2.167637 \tValidation Loss: 3.429233\n",
            "2\n",
            "Epoch 1, Batch 1 loss: 3.261141\n",
            "Epoch: 1 \tTraining Loss: 2.580327 \tValidation Loss: 3.548683\n",
            "Validation loss decreased (inf --> 3.548683).  Saving model ...\n",
            "Epoch 2, Batch 1 loss: 1.937978\n",
            "Epoch: 2 \tTraining Loss: 2.809040 \tValidation Loss: 1.296348\n",
            "Validation loss decreased (3.548683 --> 1.296348).  Saving model ...\n",
            "Epoch 3, Batch 1 loss: 3.559692\n",
            "Epoch: 3 \tTraining Loss: 2.232631 \tValidation Loss: 1.493937\n",
            "Epoch 4, Batch 1 loss: 1.930159\n",
            "Epoch: 4 \tTraining Loss: 2.219546 \tValidation Loss: 1.390850\n",
            "Epoch 5, Batch 1 loss: 1.874236\n",
            "Epoch: 5 \tTraining Loss: 2.031519 \tValidation Loss: 1.248226\n",
            "Validation loss decreased (1.296348 --> 1.248226).  Saving model ...\n",
            "Epoch 6, Batch 1 loss: 2.316832\n",
            "Epoch: 6 \tTraining Loss: 2.165668 \tValidation Loss: 1.352754\n",
            "Epoch 7, Batch 1 loss: 3.856695\n",
            "Epoch: 7 \tTraining Loss: 2.000010 \tValidation Loss: 1.825675\n",
            "Epoch 8, Batch 1 loss: 1.612749\n",
            "Epoch: 8 \tTraining Loss: 1.852759 \tValidation Loss: 1.984029\n",
            "Epoch 9, Batch 1 loss: 1.179146\n",
            "Epoch: 9 \tTraining Loss: 1.941442 \tValidation Loss: 1.924146\n",
            "Epoch 10, Batch 1 loss: 1.498281\n",
            "Epoch: 10 \tTraining Loss: 2.141470 \tValidation Loss: 1.689799\n",
            "Epoch 11, Batch 1 loss: 1.327950\n",
            "Epoch: 11 \tTraining Loss: 1.910533 \tValidation Loss: 2.334144\n",
            "Epoch 12, Batch 1 loss: 1.956792\n",
            "Epoch: 12 \tTraining Loss: 2.004815 \tValidation Loss: 1.350683\n",
            "Epoch 13, Batch 1 loss: 1.275437\n",
            "Epoch: 13 \tTraining Loss: 1.975666 \tValidation Loss: 1.393790\n",
            "Epoch 14, Batch 1 loss: 3.776517\n",
            "Epoch: 14 \tTraining Loss: 1.986747 \tValidation Loss: 1.836097\n",
            "3\n",
            "Epoch 1, Batch 1 loss: 2.268735\n",
            "Epoch: 1 \tTraining Loss: 1.771253 \tValidation Loss: 1.096131\n",
            "Validation loss decreased (inf --> 1.096131).  Saving model ...\n",
            "Epoch 2, Batch 1 loss: 1.081677\n",
            "Epoch: 2 \tTraining Loss: 1.875242 \tValidation Loss: 0.930786\n",
            "Validation loss decreased (1.096131 --> 0.930786).  Saving model ...\n",
            "Epoch 3, Batch 1 loss: 1.170198\n",
            "Epoch: 3 \tTraining Loss: 1.814905 \tValidation Loss: 1.023490\n",
            "Epoch 4, Batch 1 loss: 1.224455\n",
            "Epoch: 4 \tTraining Loss: 1.728519 \tValidation Loss: 1.583263\n",
            "Epoch 5, Batch 1 loss: 2.352843\n",
            "Epoch: 5 \tTraining Loss: 1.660437 \tValidation Loss: 0.989466\n",
            "Epoch 6, Batch 1 loss: 2.569325\n",
            "Epoch: 6 \tTraining Loss: 1.660324 \tValidation Loss: 1.423295\n",
            "Epoch 7, Batch 1 loss: 1.593301\n",
            "Epoch: 7 \tTraining Loss: 1.676461 \tValidation Loss: 1.202206\n",
            "Epoch 8, Batch 1 loss: 1.880923\n",
            "Epoch: 8 \tTraining Loss: 1.736173 \tValidation Loss: 1.017153\n",
            "Epoch 9, Batch 1 loss: 1.329840\n",
            "Epoch: 9 \tTraining Loss: 1.616120 \tValidation Loss: 1.058836\n",
            "Epoch 10, Batch 1 loss: 1.349606\n",
            "Epoch: 10 \tTraining Loss: 1.438676 \tValidation Loss: 1.132954\n",
            "Epoch 11, Batch 1 loss: 1.068774\n",
            "Epoch: 11 \tTraining Loss: 1.506087 \tValidation Loss: 1.640239\n",
            "Epoch 12, Batch 1 loss: 2.920017\n",
            "Epoch: 12 \tTraining Loss: 1.758475 \tValidation Loss: 1.813938\n",
            "Epoch 13, Batch 1 loss: 1.683419\n",
            "Epoch: 13 \tTraining Loss: 1.807595 \tValidation Loss: 1.514521\n",
            "Epoch 14, Batch 1 loss: 1.988578\n",
            "Epoch: 14 \tTraining Loss: 1.610194 \tValidation Loss: 2.432391\n"
          ]
        }
      ],
      "source": [
        "#Setting model and moving to device\n",
        "model_CNN = CNN4(True).to(device)\n",
        "\n",
        "criterion = nn.SmoothL1Loss()\n",
        "#optimizer = optim.SGD(model_CNN.parameters(), lr=0.001, momentum=0.9)\n",
        "optimizer = optim.Adam(model_CNN.parameters(), lr=0.0005)\n",
        "\n",
        "## training model\n",
        "model_conv4,valid_loss_min4=cv_train(k=4)"
      ]
    },
    {
      "cell_type": "code",
      "execution_count": null,
      "metadata": {
        "id": "mNGjcjWMGrNk"
      },
      "outputs": [],
      "source": [
        "cri_set = [nn.L1Loss(),\n",
        "           nn.CrossEntropyLoss(),\n",
        "           nn.CrossEntropyLoss(label_smoothing=0.1)]\n",
        "optim_set = [optim.Adam(model_CNN.parameters(), lr=0.0005)]"
      ]
    },
    {
      "cell_type": "code",
      "execution_count": null,
      "metadata": {
        "id": "d5SofOm8Nrej"
      },
      "outputs": [],
      "source": [
        "from itertools import product, chain\n",
        "\n",
        "comp_model = []\n",
        "comp_valid_loss = []\n",
        "for n, (cri,optim) in enumerate(product(cri_set, optim_set)):\n",
        "    print(n,cri,optim)\n",
        "    criterion = cri\n",
        "    optimizer = optim\n",
        "\n",
        "    model_conv,valid_loss_min=cv_train(k=4)\n",
        "    comp_model.append(model_conv)\n",
        "    comp_valid_loss.append(valid_loss_min)\n"
      ]
    },
    {
      "cell_type": "code",
      "source": [
        ""
      ],
      "metadata": {
        "id": "ewvENjMYYI3O"
      },
      "execution_count": null,
      "outputs": []
    },
    {
      "cell_type": "markdown",
      "source": [
        "#### view distribution"
      ],
      "metadata": {
        "id": "q7bWS52qYKLD"
      }
    },
    {
      "cell_type": "code",
      "source": [
        "import pandas as pd\n",
        "import matplotlib.pyplot as plt\n",
        "\n",
        "idx = pd.read_csv('drive/MyDrive/DL_Project/Train.csv',header=None)\n",
        "idx.iloc[:,2].plot.density(color='green')\n",
        "plt.show()"
      ],
      "metadata": {
        "colab": {
          "base_uri": "https://localhost:8080/",
          "height": 265
        },
        "id": "MxwYKyOTYNrH",
        "outputId": "7accfb72-d825-497c-bf72-ed38ba230eed"
      },
      "execution_count": 15,
      "outputs": [
        {
          "output_type": "display_data",
          "data": {
            "text/plain": [
              "<Figure size 432x288 with 1 Axes>"
            ],
            "image/png": "[encoded data removed]"
          },
          "metadata": {
            "needs_background": "light"
          }
        }
      ]
    },
    {
      "cell_type": "code",
      "source": [
        ""
      ],
      "metadata": {
        "id": "A1YgmKV-Y6JY"
      },
      "execution_count": null,
      "outputs": []
    }
  ],
  "metadata": {
    "colab": {
      "collapsed_sections": [],
      "name": "Competition_decoder.ipynb",
      "provenance": [],
      "include_colab_link": true
    },
    "kernelspec": {
      "display_name": "Python 3",
      "name": "python3"
    },
    "language_info": {
      "name": "python"
    },
    "widgets": {
      "application/vnd.jupyter.widget-state+json": {
        "0ab7725bb68f47648e5b5df6ae5c048a": {
          "model_module": "@jupyter-widgets/controls",
          "model_module_version": "1.5.0",
          "model_name": "ProgressStyleModel",
          "state": {
            "_model_module": "@jupyter-widgets/controls",
            "_model_module_version": "1.5.0",
            "_model_name": "ProgressStyleModel",
            "_view_count": null,
            "_view_module": "@jupyter-widgets/base",
            "_view_module_version": "1.2.0",
            "_view_name": "StyleView",
            "bar_color": null,
            "description_width": ""
          }
        },
        "137209566cb74b059ad382754a47a701": {
          "model_module": "@jupyter-widgets/controls",
          "model_module_version": "1.5.0",
          "model_name": "DescriptionStyleModel",
          "state": {
            "_model_module": "@jupyter-widgets/controls",
            "_model_module_version": "1.5.0",
            "_model_name": "DescriptionStyleModel",
            "_view_count": null,
            "_view_module": "@jupyter-widgets/base",
            "_view_module_version": "1.2.0",
            "_view_name": "StyleView",
            "description_width": ""
          }
        },
        "1e6eabeca776498e9d5260198c80d40c": {
          "model_module": "@jupyter-widgets/controls",
          "model_module_version": "1.5.0",
          "model_name": "DescriptionStyleModel",
          "state": {
            "_model_module": "@jupyter-widgets/controls",
            "_model_module_version": "1.5.0",
            "_model_name": "DescriptionStyleModel",
            "_view_count": null,
            "_view_module": "@jupyter-widgets/base",
            "_view_module_version": "1.2.0",
            "_view_name": "StyleView",
            "description_width": ""
          }
        },
        "2f7d61cd7f7c4f458ae4f3e33c02f648": {
          "model_module": "@jupyter-widgets/controls",
          "model_module_version": "1.5.0",
          "model_name": "ProgressStyleModel",
          "state": {
            "_model_module": "@jupyter-widgets/controls",
            "_model_module_version": "1.5.0",
            "_model_name": "ProgressStyleModel",
            "_view_count": null,
            "_view_module": "@jupyter-widgets/base",
            "_view_module_version": "1.2.0",
            "_view_name": "StyleView",
            "bar_color": null,
            "description_width": ""
          }
        },
        "3caab6801e204676a38d022d3e6d0661": {
          "model_module": "@jupyter-widgets/controls",
          "model_module_version": "1.5.0",
          "model_name": "DescriptionStyleModel",
          "state": {
            "_model_module": "@jupyter-widgets/controls",
            "_model_module_version": "1.5.0",
            "_model_name": "DescriptionStyleModel",
            "_view_count": null,
            "_view_module": "@jupyter-widgets/base",
            "_view_module_version": "1.2.0",
            "_view_name": "StyleView",
            "description_width": ""
          }
        },
        "4b995773b6eb4d8a83e22ecf106d084b": {
          "model_module": "@jupyter-widgets/base",
          "model_module_version": "1.2.0",
          "model_name": "LayoutModel",
          "state": {
            "_model_module": "@jupyter-widgets/base",
            "_model_module_version": "1.2.0",
            "_model_name": "LayoutModel",
            "_view_count": null,
            "_view_module": "@jupyter-widgets/base",
            "_view_module_version": "1.2.0",
            "_view_name": "LayoutView",
            "align_content": null,
            "align_items": null,
            "align_self": null,
            "border": null,
            "bottom": null,
            "display": null,
            "flex": null,
            "flex_flow": null,
            "grid_area": null,
            "grid_auto_columns": null,
            "grid_auto_flow": null,
            "grid_auto_rows": null,
            "grid_column": null,
            "grid_gap": null,
            "grid_row": null,
            "grid_template_areas": null,
            "grid_template_columns": null,
            "grid_template_rows": null,
            "height": null,
            "justify_content": null,
            "justify_items": null,
            "left": null,
            "margin": null,
            "max_height": null,
            "max_width": null,
            "min_height": null,
            "min_width": null,
            "object_fit": null,
            "object_position": null,
            "order": null,
            "overflow": null,
            "overflow_x": null,
            "overflow_y": null,
            "padding": null,
            "right": null,
            "top": null,
            "visibility": null,
            "width": null
          }
        },
        "4c0a784a29b84361aa6e22ad749595f0": {
          "model_module": "@jupyter-widgets/controls",
          "model_module_version": "1.5.0",
          "model_name": "FloatProgressModel",
          "state": {
            "_dom_classes": [],
            "_model_module": "@jupyter-widgets/controls",
            "_model_module_version": "1.5.0",
            "_model_name": "FloatProgressModel",
            "_view_count": null,
            "_view_module": "@jupyter-widgets/controls",
            "_view_module_version": "1.5.0",
            "_view_name": "ProgressView",
            "bar_style": "success",
            "description": "",
            "description_tooltip": null,
            "layout": "IPY_MODEL_5a180283f5304aef82b844e5e20f917a",
            "max": 46827520,
            "min": 0,
            "orientation": "horizontal",
            "style": "IPY_MODEL_0ab7725bb68f47648e5b5df6ae5c048a",
            "value": 46827520
          }
        },
        "5a180283f5304aef82b844e5e20f917a": {
          "model_module": "@jupyter-widgets/base",
          "model_module_version": "1.2.0",
          "model_name": "LayoutModel",
          "state": {
            "_model_module": "@jupyter-widgets/base",
            "_model_module_version": "1.2.0",
            "_model_name": "LayoutModel",
            "_view_count": null,
            "_view_module": "@jupyter-widgets/base",
            "_view_module_version": "1.2.0",
            "_view_name": "LayoutView",
            "align_content": null,
            "align_items": null,
            "align_self": null,
            "border": null,
            "bottom": null,
            "display": null,
            "flex": null,
            "flex_flow": null,
            "grid_area": null,
            "grid_auto_columns": null,
            "grid_auto_flow": null,
            "grid_auto_rows": null,
            "grid_column": null,
            "grid_gap": null,
            "grid_row": null,
            "grid_template_areas": null,
            "grid_template_columns": null,
            "grid_template_rows": null,
            "height": null,
            "justify_content": null,
            "justify_items": null,
            "left": null,
            "margin": null,
            "max_height": null,
            "max_width": null,
            "min_height": null,
            "min_width": null,
            "object_fit": null,
            "object_position": null,
            "order": null,
            "overflow": null,
            "overflow_x": null,
            "overflow_y": null,
            "padding": null,
            "right": null,
            "top": null,
            "visibility": null,
            "width": null
          }
        },
        "5b30ad828fd14dc697da34f537b7daa6": {
          "model_module": "@jupyter-widgets/base",
          "model_module_version": "1.2.0",
          "model_name": "LayoutModel",
          "state": {
            "_model_module": "@jupyter-widgets/base",
            "_model_module_version": "1.2.0",
            "_model_name": "LayoutModel",
            "_view_count": null,
            "_view_module": "@jupyter-widgets/base",
            "_view_module_version": "1.2.0",
            "_view_name": "LayoutView",
            "align_content": null,
            "align_items": null,
            "align_self": null,
            "border": null,
            "bottom": null,
            "display": null,
            "flex": null,
            "flex_flow": null,
            "grid_area": null,
            "grid_auto_columns": null,
            "grid_auto_flow": null,
            "grid_auto_rows": null,
            "grid_column": null,
            "grid_gap": null,
            "grid_row": null,
            "grid_template_areas": null,
            "grid_template_columns": null,
            "grid_template_rows": null,
            "height": null,
            "justify_content": null,
            "justify_items": null,
            "left": null,
            "margin": null,
            "max_height": null,
            "max_width": null,
            "min_height": null,
            "min_width": null,
            "object_fit": null,
            "object_position": null,
            "order": null,
            "overflow": null,
            "overflow_x": null,
            "overflow_y": null,
            "padding": null,
            "right": null,
            "top": null,
            "visibility": null,
            "width": null
          }
        },
        "5faf3b346fa44c75aded558eb391118d": {
          "model_module": "@jupyter-widgets/base",
          "model_module_version": "1.2.0",
          "model_name": "LayoutModel",
          "state": {
            "_model_module": "@jupyter-widgets/base",
            "_model_module_version": "1.2.0",
            "_model_name": "LayoutModel",
            "_view_count": null,
            "_view_module": "@jupyter-widgets/base",
            "_view_module_version": "1.2.0",
            "_view_name": "LayoutView",
            "align_content": null,
            "align_items": null,
            "align_self": null,
            "border": null,
            "bottom": null,
            "display": null,
            "flex": null,
            "flex_flow": null,
            "grid_area": null,
            "grid_auto_columns": null,
            "grid_auto_flow": null,
            "grid_auto_rows": null,
            "grid_column": null,
            "grid_gap": null,
            "grid_row": null,
            "grid_template_areas": null,
            "grid_template_columns": null,
            "grid_template_rows": null,
            "height": null,
            "justify_content": null,
            "justify_items": null,
            "left": null,
            "margin": null,
            "max_height": null,
            "max_width": null,
            "min_height": null,
            "min_width": null,
            "object_fit": null,
            "object_position": null,
            "order": null,
            "overflow": null,
            "overflow_x": null,
            "overflow_y": null,
            "padding": null,
            "right": null,
            "top": null,
            "visibility": null,
            "width": null
          }
        },
        "63da08f537714100914f9295f9be0b93": {
          "model_module": "@jupyter-widgets/base",
          "model_module_version": "1.2.0",
          "model_name": "LayoutModel",
          "state": {
            "_model_module": "@jupyter-widgets/base",
            "_model_module_version": "1.2.0",
            "_model_name": "LayoutModel",
            "_view_count": null,
            "_view_module": "@jupyter-widgets/base",
            "_view_module_version": "1.2.0",
            "_view_name": "LayoutView",
            "align_content": null,
            "align_items": null,
            "align_self": null,
            "border": null,
            "bottom": null,
            "display": null,
            "flex": null,
            "flex_flow": null,
            "grid_area": null,
            "grid_auto_columns": null,
            "grid_auto_flow": null,
            "grid_auto_rows": null,
            "grid_column": null,
            "grid_gap": null,
            "grid_row": null,
            "grid_template_areas": null,
            "grid_template_columns": null,
            "grid_template_rows": null,
            "height": null,
            "justify_content": null,
            "justify_items": null,
            "left": null,
            "margin": null,
            "max_height": null,
            "max_width": null,
            "min_height": null,
            "min_width": null,
            "object_fit": null,
            "object_position": null,
            "order": null,
            "overflow": null,
            "overflow_x": null,
            "overflow_y": null,
            "padding": null,
            "right": null,
            "top": null,
            "visibility": null,
            "width": null
          }
        },
        "661d9d1b11894dbd98ddad952e7ec2db": {
          "model_module": "@jupyter-widgets/controls",
          "model_module_version": "1.5.0",
          "model_name": "HBoxModel",
          "state": {
            "_dom_classes": [],
            "_model_module": "@jupyter-widgets/controls",
            "_model_module_version": "1.5.0",
            "_model_name": "HBoxModel",
            "_view_count": null,
            "_view_module": "@jupyter-widgets/controls",
            "_view_module_version": "1.5.0",
            "_view_name": "HBoxView",
            "box_style": "",
            "children": [
              "IPY_MODEL_e1660f5e755b4806aae88416788eac16",
              "IPY_MODEL_c914c2847f0a48a6b9c62333b44f4f5b",
              "IPY_MODEL_cf50c8c99ad84493bc8e3fab0e03e09f"
            ],
            "layout": "IPY_MODEL_ee52f13df6794edb82309fc823105d33"
          }
        },
        "75fe158b2b034aea9725757d6eba1743": {
          "model_module": "@jupyter-widgets/controls",
          "model_module_version": "1.5.0",
          "model_name": "HTMLModel",
          "state": {
            "_dom_classes": [],
            "_model_module": "@jupyter-widgets/controls",
            "_model_module_version": "1.5.0",
            "_model_name": "HTMLModel",
            "_view_count": null,
            "_view_module": "@jupyter-widgets/controls",
            "_view_module_version": "1.5.0",
            "_view_name": "HTMLView",
            "description": "",
            "description_tooltip": null,
            "layout": "IPY_MODEL_5b30ad828fd14dc697da34f537b7daa6",
            "placeholder": "​",
            "style": "IPY_MODEL_9065f2dc94d3461988c2dc1311aafd87",
            "value": "100%"
          }
        },
        "830b1d5682c94b96b1551345f2e7e7bd": {
          "model_module": "@jupyter-widgets/base",
          "model_module_version": "1.2.0",
          "model_name": "LayoutModel",
          "state": {
            "_model_module": "@jupyter-widgets/base",
            "_model_module_version": "1.2.0",
            "_model_name": "LayoutModel",
            "_view_count": null,
            "_view_module": "@jupyter-widgets/base",
            "_view_module_version": "1.2.0",
            "_view_name": "LayoutView",
            "align_content": null,
            "align_items": null,
            "align_self": null,
            "border": null,
            "bottom": null,
            "display": null,
            "flex": null,
            "flex_flow": null,
            "grid_area": null,
            "grid_auto_columns": null,
            "grid_auto_flow": null,
            "grid_auto_rows": null,
            "grid_column": null,
            "grid_gap": null,
            "grid_row": null,
            "grid_template_areas": null,
            "grid_template_columns": null,
            "grid_template_rows": null,
            "height": null,
            "justify_content": null,
            "justify_items": null,
            "left": null,
            "margin": null,
            "max_height": null,
            "max_width": null,
            "min_height": null,
            "min_width": null,
            "object_fit": null,
            "object_position": null,
            "order": null,
            "overflow": null,
            "overflow_x": null,
            "overflow_y": null,
            "padding": null,
            "right": null,
            "top": null,
            "visibility": null,
            "width": null
          }
        },
        "9065f2dc94d3461988c2dc1311aafd87": {
          "model_module": "@jupyter-widgets/controls",
          "model_module_version": "1.5.0",
          "model_name": "DescriptionStyleModel",
          "state": {
            "_model_module": "@jupyter-widgets/controls",
            "_model_module_version": "1.5.0",
            "_model_name": "DescriptionStyleModel",
            "_view_count": null,
            "_view_module": "@jupyter-widgets/base",
            "_view_module_version": "1.2.0",
            "_view_name": "StyleView",
            "description_width": ""
          }
        },
        "c914c2847f0a48a6b9c62333b44f4f5b": {
          "model_module": "@jupyter-widgets/controls",
          "model_module_version": "1.5.0",
          "model_name": "FloatProgressModel",
          "state": {
            "_dom_classes": [],
            "_model_module": "@jupyter-widgets/controls",
            "_model_module_version": "1.5.0",
            "_model_name": "FloatProgressModel",
            "_view_count": null,
            "_view_module": "@jupyter-widgets/controls",
            "_view_module_version": "1.5.0",
            "_view_name": "ProgressView",
            "bar_style": "success",
            "description": "",
            "description_tooltip": null,
            "layout": "IPY_MODEL_5faf3b346fa44c75aded558eb391118d",
            "max": 87306240,
            "min": 0,
            "orientation": "horizontal",
            "style": "IPY_MODEL_2f7d61cd7f7c4f458ae4f3e33c02f648",
            "value": 87306240
          }
        },
        "cae8a1bbb2d34649b736aa710183f415": {
          "model_module": "@jupyter-widgets/controls",
          "model_module_version": "1.5.0",
          "model_name": "HBoxModel",
          "state": {
            "_dom_classes": [],
            "_model_module": "@jupyter-widgets/controls",
            "_model_module_version": "1.5.0",
            "_model_name": "HBoxModel",
            "_view_count": null,
            "_view_module": "@jupyter-widgets/controls",
            "_view_module_version": "1.5.0",
            "_view_name": "HBoxView",
            "box_style": "",
            "children": [
              "IPY_MODEL_75fe158b2b034aea9725757d6eba1743",
              "IPY_MODEL_4c0a784a29b84361aa6e22ad749595f0",
              "IPY_MODEL_feb6a1d7dea1432587c8dfd6189dc11b"
            ],
            "layout": "IPY_MODEL_63da08f537714100914f9295f9be0b93"
          }
        },
        "cf50c8c99ad84493bc8e3fab0e03e09f": {
          "model_module": "@jupyter-widgets/controls",
          "model_module_version": "1.5.0",
          "model_name": "HTMLModel",
          "state": {
            "_dom_classes": [],
            "_model_module": "@jupyter-widgets/controls",
            "_model_module_version": "1.5.0",
            "_model_name": "HTMLModel",
            "_view_count": null,
            "_view_module": "@jupyter-widgets/controls",
            "_view_module_version": "1.5.0",
            "_view_name": "HTMLView",
            "description": "",
            "description_tooltip": null,
            "layout": "IPY_MODEL_830b1d5682c94b96b1551345f2e7e7bd",
            "placeholder": "​",
            "style": "IPY_MODEL_3caab6801e204676a38d022d3e6d0661",
            "value": " 83.3M/83.3M [00:02&lt;00:00, 66.9MB/s]"
          }
        },
        "e1660f5e755b4806aae88416788eac16": {
          "model_module": "@jupyter-widgets/controls",
          "model_module_version": "1.5.0",
          "model_name": "HTMLModel",
          "state": {
            "_dom_classes": [],
            "_model_module": "@jupyter-widgets/controls",
            "_model_module_version": "1.5.0",
            "_model_name": "HTMLModel",
            "_view_count": null,
            "_view_module": "@jupyter-widgets/controls",
            "_view_module_version": "1.5.0",
            "_view_name": "HTMLView",
            "description": "",
            "description_tooltip": null,
            "layout": "IPY_MODEL_e170e4f8325647a7a4c8baa73521e489",
            "placeholder": "​",
            "style": "IPY_MODEL_137209566cb74b059ad382754a47a701",
            "value": "100%"
          }
        },
        "e170e4f8325647a7a4c8baa73521e489": {
          "model_module": "@jupyter-widgets/base",
          "model_module_version": "1.2.0",
          "model_name": "LayoutModel",
          "state": {
            "_model_module": "@jupyter-widgets/base",
            "_model_module_version": "1.2.0",
            "_model_name": "LayoutModel",
            "_view_count": null,
            "_view_module": "@jupyter-widgets/base",
            "_view_module_version": "1.2.0",
            "_view_name": "LayoutView",
            "align_content": null,
            "align_items": null,
            "align_self": null,
            "border": null,
            "bottom": null,
            "display": null,
            "flex": null,
            "flex_flow": null,
            "grid_area": null,
            "grid_auto_columns": null,
            "grid_auto_flow": null,
            "grid_auto_rows": null,
            "grid_column": null,
            "grid_gap": null,
            "grid_row": null,
            "grid_template_areas": null,
            "grid_template_columns": null,
            "grid_template_rows": null,
            "height": null,
            "justify_content": null,
            "justify_items": null,
            "left": null,
            "margin": null,
            "max_height": null,
            "max_width": null,
            "min_height": null,
            "min_width": null,
            "object_fit": null,
            "object_position": null,
            "order": null,
            "overflow": null,
            "overflow_x": null,
            "overflow_y": null,
            "padding": null,
            "right": null,
            "top": null,
            "visibility": null,
            "width": null
          }
        },
        "ee52f13df6794edb82309fc823105d33": {
          "model_module": "@jupyter-widgets/base",
          "model_module_version": "1.2.0",
          "model_name": "LayoutModel",
          "state": {
            "_model_module": "@jupyter-widgets/base",
            "_model_module_version": "1.2.0",
            "_model_name": "LayoutModel",
            "_view_count": null,
            "_view_module": "@jupyter-widgets/base",
            "_view_module_version": "1.2.0",
            "_view_name": "LayoutView",
            "align_content": null,
            "align_items": null,
            "align_self": null,
            "border": null,
            "bottom": null,
            "display": null,
            "flex": null,
            "flex_flow": null,
            "grid_area": null,
            "grid_auto_columns": null,
            "grid_auto_flow": null,
            "grid_auto_rows": null,
            "grid_column": null,
            "grid_gap": null,
            "grid_row": null,
            "grid_template_areas": null,
            "grid_template_columns": null,
            "grid_template_rows": null,
            "height": null,
            "justify_content": null,
            "justify_items": null,
            "left": null,
            "margin": null,
            "max_height": null,
            "max_width": null,
            "min_height": null,
            "min_width": null,
            "object_fit": null,
            "object_position": null,
            "order": null,
            "overflow": null,
            "overflow_x": null,
            "overflow_y": null,
            "padding": null,
            "right": null,
            "top": null,
            "visibility": null,
            "width": null
          }
        },
        "feb6a1d7dea1432587c8dfd6189dc11b": {
          "model_module": "@jupyter-widgets/controls",
          "model_module_version": "1.5.0",
          "model_name": "HTMLModel",
          "state": {
            "_dom_classes": [],
            "_model_module": "@jupyter-widgets/controls",
            "_model_module_version": "1.5.0",
            "_model_name": "HTMLModel",
            "_view_count": null,
            "_view_module": "@jupyter-widgets/controls",
            "_view_module_version": "1.5.0",
            "_view_name": "HTMLView",
            "description": "",
            "description_tooltip": null,
            "layout": "IPY_MODEL_4b995773b6eb4d8a83e22ecf106d084b",
            "placeholder": "​",
            "style": "IPY_MODEL_1e6eabeca776498e9d5260198c80d40c",
            "value": " 44.7M/44.7M [00:00&lt;00:00, 72.3MB/s]"
          }
        },
        "ffda023e33ca45bfb72bd87bc878e847": {
          "model_module": "@jupyter-widgets/controls",
          "model_name": "HBoxModel",
          "model_module_version": "1.5.0",
          "state": {
            "_dom_classes": [],
            "_model_module": "@jupyter-widgets/controls",
            "_model_module_version": "1.5.0",
            "_model_name": "HBoxModel",
            "_view_count": null,
            "_view_module": "@jupyter-widgets/controls",
            "_view_module_version": "1.5.0",
            "_view_name": "HBoxView",
            "box_style": "",
            "children": [
              "IPY_MODEL_0b98173bafa145d6b4177980dbcc8e28",
              "IPY_MODEL_f74ca6a37b2146799c5fcb5b152fb607",
              "IPY_MODEL_ef461751c81746a0beb9254782b89ad5"
            ],
            "layout": "IPY_MODEL_0896d0cd9c4748bcb97a2d62ddbbb4b1"
          }
        },
        "0b98173bafa145d6b4177980dbcc8e28": {
          "model_module": "@jupyter-widgets/controls",
          "model_name": "HTMLModel",
          "model_module_version": "1.5.0",
          "state": {
            "_dom_classes": [],
            "_model_module": "@jupyter-widgets/controls",
            "_model_module_version": "1.5.0",
            "_model_name": "HTMLModel",
            "_view_count": null,
            "_view_module": "@jupyter-widgets/controls",
            "_view_module_version": "1.5.0",
            "_view_name": "HTMLView",
            "description": "",
            "description_tooltip": null,
            "layout": "IPY_MODEL_fc64b23ee7e347b88c382f04ed060ecf",
            "placeholder": "​",
            "style": "IPY_MODEL_bd7f5b63ebd5454ea06d65a56c7494a3",
            "value": "100%"
          }
        },
        "f74ca6a37b2146799c5fcb5b152fb607": {
          "model_module": "@jupyter-widgets/controls",
          "model_name": "FloatProgressModel",
          "model_module_version": "1.5.0",
          "state": {
            "_dom_classes": [],
            "_model_module": "@jupyter-widgets/controls",
            "_model_module_version": "1.5.0",
            "_model_name": "FloatProgressModel",
            "_view_count": null,
            "_view_module": "@jupyter-widgets/controls",
            "_view_module_version": "1.5.0",
            "_view_name": "ProgressView",
            "bar_style": "success",
            "description": "",
            "description_tooltip": null,
            "layout": "IPY_MODEL_7bc572e934ba405bbe39a2fd44c02d2c",
            "max": 87306240,
            "min": 0,
            "orientation": "horizontal",
            "style": "IPY_MODEL_e84546b433f1415ea6287656adf1703b",
            "value": 87306240
          }
        },
        "ef461751c81746a0beb9254782b89ad5": {
          "model_module": "@jupyter-widgets/controls",
          "model_name": "HTMLModel",
          "model_module_version": "1.5.0",
          "state": {
            "_dom_classes": [],
            "_model_module": "@jupyter-widgets/controls",
            "_model_module_version": "1.5.0",
            "_model_name": "HTMLModel",
            "_view_count": null,
            "_view_module": "@jupyter-widgets/controls",
            "_view_module_version": "1.5.0",
            "_view_name": "HTMLView",
            "description": "",
            "description_tooltip": null,
            "layout": "IPY_MODEL_cc6d157f800f4c96b8da64a32a1298ec",
            "placeholder": "​",
            "style": "IPY_MODEL_bf3333241e054d0fa2a46657cdacbed6",
            "value": " 83.3M/83.3M [00:02&lt;00:00, 36.4MB/s]"
          }
        },
        "0896d0cd9c4748bcb97a2d62ddbbb4b1": {
          "model_module": "@jupyter-widgets/base",
          "model_name": "LayoutModel",
          "model_module_version": "1.2.0",
          "state": {
            "_model_module": "@jupyter-widgets/base",
            "_model_module_version": "1.2.0",
            "_model_name": "LayoutModel",
            "_view_count": null,
            "_view_module": "@jupyter-widgets/base",
            "_view_module_version": "1.2.0",
            "_view_name": "LayoutView",
            "align_content": null,
            "align_items": null,
            "align_self": null,
            "border": null,
            "bottom": null,
            "display": null,
            "flex": null,
            "flex_flow": null,
            "grid_area": null,
            "grid_auto_columns": null,
            "grid_auto_flow": null,
            "grid_auto_rows": null,
            "grid_column": null,
            "grid_gap": null,
            "grid_row": null,
            "grid_template_areas": null,
            "grid_template_columns": null,
            "grid_template_rows": null,
            "height": null,
            "justify_content": null,
            "justify_items": null,
            "left": null,
            "margin": null,
            "max_height": null,
            "max_width": null,
            "min_height": null,
            "min_width": null,
            "object_fit": null,
            "object_position": null,
            "order": null,
            "overflow": null,
            "overflow_x": null,
            "overflow_y": null,
            "padding": null,
            "right": null,
            "top": null,
            "visibility": null,
            "width": null
          }
        },
        "fc64b23ee7e347b88c382f04ed060ecf": {
          "model_module": "@jupyter-widgets/base",
          "model_name": "LayoutModel",
          "model_module_version": "1.2.0",
          "state": {
            "_model_module": "@jupyter-widgets/base",
            "_model_module_version": "1.2.0",
            "_model_name": "LayoutModel",
            "_view_count": null,
            "_view_module": "@jupyter-widgets/base",
            "_view_module_version": "1.2.0",
            "_view_name": "LayoutView",
            "align_content": null,
            "align_items": null,
            "align_self": null,
            "border": null,
            "bottom": null,
            "display": null,
            "flex": null,
            "flex_flow": null,
            "grid_area": null,
            "grid_auto_columns": null,
            "grid_auto_flow": null,
            "grid_auto_rows": null,
            "grid_column": null,
            "grid_gap": null,
            "grid_row": null,
            "grid_template_areas": null,
            "grid_template_columns": null,
            "grid_template_rows": null,
            "height": null,
            "justify_content": null,
            "justify_items": null,
            "left": null,
            "margin": null,
            "max_height": null,
            "max_width": null,
            "min_height": null,
            "min_width": null,
            "object_fit": null,
            "object_position": null,
            "order": null,
            "overflow": null,
            "overflow_x": null,
            "overflow_y": null,
            "padding": null,
            "right": null,
            "top": null,
            "visibility": null,
            "width": null
          }
        },
        "bd7f5b63ebd5454ea06d65a56c7494a3": {
          "model_module": "@jupyter-widgets/controls",
          "model_name": "DescriptionStyleModel",
          "model_module_version": "1.5.0",
          "state": {
            "_model_module": "@jupyter-widgets/controls",
            "_model_module_version": "1.5.0",
            "_model_name": "DescriptionStyleModel",
            "_view_count": null,
            "_view_module": "@jupyter-widgets/base",
            "_view_module_version": "1.2.0",
            "_view_name": "StyleView",
            "description_width": ""
          }
        },
        "7bc572e934ba405bbe39a2fd44c02d2c": {
          "model_module": "@jupyter-widgets/base",
          "model_name": "LayoutModel",
          "model_module_version": "1.2.0",
          "state": {
            "_model_module": "@jupyter-widgets/base",
            "_model_module_version": "1.2.0",
            "_model_name": "LayoutModel",
            "_view_count": null,
            "_view_module": "@jupyter-widgets/base",
            "_view_module_version": "1.2.0",
            "_view_name": "LayoutView",
            "align_content": null,
            "align_items": null,
            "align_self": null,
            "border": null,
            "bottom": null,
            "display": null,
            "flex": null,
            "flex_flow": null,
            "grid_area": null,
            "grid_auto_columns": null,
            "grid_auto_flow": null,
            "grid_auto_rows": null,
            "grid_column": null,
            "grid_gap": null,
            "grid_row": null,
            "grid_template_areas": null,
            "grid_template_columns": null,
            "grid_template_rows": null,
            "height": null,
            "justify_content": null,
            "justify_items": null,
            "left": null,
            "margin": null,
            "max_height": null,
            "max_width": null,
            "min_height": null,
            "min_width": null,
            "object_fit": null,
            "object_position": null,
            "order": null,
            "overflow": null,
            "overflow_x": null,
            "overflow_y": null,
            "padding": null,
            "right": null,
            "top": null,
            "visibility": null,
            "width": null
          }
        },
        "e84546b433f1415ea6287656adf1703b": {
          "model_module": "@jupyter-widgets/controls",
          "model_name": "ProgressStyleModel",
          "model_module_version": "1.5.0",
          "state": {
            "_model_module": "@jupyter-widgets/controls",
            "_model_module_version": "1.5.0",
            "_model_name": "ProgressStyleModel",
            "_view_count": null,
            "_view_module": "@jupyter-widgets/base",
            "_view_module_version": "1.2.0",
            "_view_name": "StyleView",
            "bar_color": null,
            "description_width": ""
          }
        },
        "cc6d157f800f4c96b8da64a32a1298ec": {
          "model_module": "@jupyter-widgets/base",
          "model_name": "LayoutModel",
          "model_module_version": "1.2.0",
          "state": {
            "_model_module": "@jupyter-widgets/base",
            "_model_module_version": "1.2.0",
            "_model_name": "LayoutModel",
            "_view_count": null,
            "_view_module": "@jupyter-widgets/base",
            "_view_module_version": "1.2.0",
            "_view_name": "LayoutView",
            "align_content": null,
            "align_items": null,
            "align_self": null,
            "border": null,
            "bottom": null,
            "display": null,
            "flex": null,
            "flex_flow": null,
            "grid_area": null,
            "grid_auto_columns": null,
            "grid_auto_flow": null,
            "grid_auto_rows": null,
            "grid_column": null,
            "grid_gap": null,
            "grid_row": null,
            "grid_template_areas": null,
            "grid_template_columns": null,
            "grid_template_rows": null,
            "height": null,
            "justify_content": null,
            "justify_items": null,
            "left": null,
            "margin": null,
            "max_height": null,
            "max_width": null,
            "min_height": null,
            "min_width": null,
            "object_fit": null,
            "object_position": null,
            "order": null,
            "overflow": null,
            "overflow_x": null,
            "overflow_y": null,
            "padding": null,
            "right": null,
            "top": null,
            "visibility": null,
            "width": null
          }
        },
        "bf3333241e054d0fa2a46657cdacbed6": {
          "model_module": "@jupyter-widgets/controls",
          "model_name": "DescriptionStyleModel",
          "model_module_version": "1.5.0",
          "state": {
            "_model_module": "@jupyter-widgets/controls",
            "_model_module_version": "1.5.0",
            "_model_name": "DescriptionStyleModel",
            "_view_count": null,
            "_view_module": "@jupyter-widgets/base",
            "_view_module_version": "1.2.0",
            "_view_name": "StyleView",
            "description_width": ""
          }
        }
      }
    }
  },
  "nbformat": 4,
  "nbformat_minor": 0
}